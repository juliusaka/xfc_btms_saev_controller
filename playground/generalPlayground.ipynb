{
 "cells": [
  {
   "cell_type": "code",
   "execution_count": 17,
   "metadata": {},
   "outputs": [
    {
     "name": "stdout",
     "output_type": "stream",
     "text": [
      "Status:  optimal\n",
      "solver name:  SCIP\n",
      "setup time:  None\n",
      "solve time:  0.029960155487060547\n",
      "The optimal value is 1.832982011811452\n",
      "A solution x is\n",
      "[ 0.          1.          0.          0.44360765 -0.70212029 -1.74685724]\n"
     ]
    }
   ],
   "source": [
    "import cvxpy as cp\n",
    "import numpy as np\n",
    "import time\n",
    "\n",
    "# Generate a random problem\n",
    "np.random.seed(0)\n",
    "m, n= 10,6\n",
    "\n",
    "A = np.random.rand(m, n)\n",
    "b = np.random.randn(m)\n",
    "\n",
    "# Construct a CVXPY problem\n",
    "x1 = cp.Variable(3, boolean=True)\n",
    "x2 = cp.Variable(3)\n",
    "x = cp.hstack([x1,x2])\n",
    "objective = cp.Minimize(cp.sum_squares(A @ x - b))\n",
    "prob = cp.Problem(objective)\n",
    "start_time = time.time()\n",
    "prob.solve()\n",
    "end_time = time.time()\n",
    "print(\"Status: \", prob.status)\n",
    "print('solver name: ',prob.solver_stats.solver_name)\n",
    "print('setup time: ',prob.solver_stats.setup_time)\n",
    "print('solve time: ',end_time - start_time)\n",
    "print(\"The optimal value is\", prob.value)\n",
    "print(\"A solution x is\")\n",
    "print(x.value)"
   ]
  },
  {
   "cell_type": "code",
   "execution_count": 6,
   "metadata": {},
   "outputs": [
    {
     "name": "stdout",
     "output_type": "stream",
     "text": [
      "None\n"
     ]
    }
   ],
   "source": [
    "print(prob.solver_stats.solve_time)"
   ]
  },
  {
   "cell_type": "code",
   "execution_count": null,
   "metadata": {},
   "outputs": [],
   "source": [
    "# Generate data for control problem.\n",
    "import numpy as np\n",
    "np.random.seed(1)\n",
    "n = 8\n",
    "m = 2\n",
    "T = 50\n",
    "alpha = 0.2\n",
    "beta = 5\n",
    "A = np.eye(n) + alpha*np.random.randn(n,n)\n",
    "B = np.random.randn(n,m)\n",
    "x_0 = beta*np.random.randn(n)\n",
    "\n",
    "# Form and solve control problem.\n",
    "import cvxpy as cp\n",
    "\n",
    "\n",
    "x = cp.Variable((n, T+1))\n",
    "u = cp.Variable((m, T))\n",
    "\n",
    "cost = 0\n",
    "constr = []\n",
    "for t in range(T):\n",
    "    cost += cp.sum_squares(x[:,t+1]) + cp.sum_squares(u[:,t])\n",
    "    constr += [x[:,t+1] == A@x[:,t] + B@u[:,t],\n",
    "               cp.norm(u[:,t], 'inf') <= 1]\n",
    "# sums problem objectives and concatenates constraints.\n",
    "constr += [x[:,T] == 0, x[:,0] == x_0]\n",
    "problem = cp.Problem(cp.Minimize(cost), constr)\n",
    "problem.solve(solver=cp.ECOS)"
   ]
  },
  {
   "cell_type": "code",
   "execution_count": 15,
   "metadata": {},
   "outputs": [
    {
     "name": "stdout",
     "output_type": "stream",
     "text": [
      "[3]\n"
     ]
    }
   ],
   "source": [
    "import numpy as np\n",
    "arr = [1,2,3,4]\n",
    "arr = np.array(arr)\n",
    "idx = np.logical_and(arr > 2, arr < 4)\n",
    "print(arr[idx])"
   ]
  },
  {
   "cell_type": "code",
   "execution_count": 16,
   "metadata": {},
   "outputs": [
    {
     "name": "stdout",
     "output_type": "stream",
     "text": [
      "0\n",
      "1\n",
      "2\n"
     ]
    }
   ],
   "source": [
    "for i in range(3):\n",
    "    print(i)"
   ]
  },
  {
   "cell_type": "code",
   "execution_count": 109,
   "metadata": {},
   "outputs": [
    {
     "name": "stdout",
     "output_type": "stream",
     "text": [
      "[0, 5, 2, 3]\n",
      "[1, 4, 6]\n",
      "[0 3 5 2 4 6 1]\n",
      "[ True False  True  True]\n",
      "['v0', 'v5', 'v2', 'v3']\n",
      "['v1', 'v4', 'v6']\n"
     ]
    }
   ],
   "source": [
    "import numpy as np\n",
    "CD_Bays = [20,9,12,15]\n",
    "#          0,1, 2, 3\n",
    "CD_Queue = [12,13,12]\n",
    "#            4, 5, 6\n",
    "ChBaNum = 4\n",
    "\n",
    "CD_merged = CD_Bays + CD_Queue\n",
    "if len(CD_merged) > ChBaNum: # we only need to sort, if we have more cars then plugs.\n",
    "    for i in range(0,len(CD_merged)):# change sign to make list descending\n",
    "        CD_merged[i] = -1* CD_merged[i] \n",
    "    idx_sorted = np.argsort(CD_merged, kind= 'stable')\n",
    "    n = ChBaNum\n",
    "    idx_Bay_new = idx_sorted[:n]    #this are the vehicles, which should be plugged in\n",
    "    idx_Bay_newStable = []          #this is a stable indice list of vehicles which are plugged in\n",
    "    idx_Bay_old = range(0,n)        #this is a indice list of vehicles which have been charging before\n",
    "    idx = np.isin(element = idx_Bay_old, test_elements=idx_Bay_new) # if true, the vehicle in the old list of vehicles in charging bays is also in the new\n",
    "    idx_inv = np.isin(element = idx_Bay_new, test_elements=idx_Bay_old) # if false, the vehicle of the new list of vehicles in the charging bays have not been in the old (and should be added)\n",
    "    j = 0   # variable, read index in idx_inv\n",
    "    for i in range(0, n):\n",
    "        if idx[i]:\n",
    "            idx_Bay_newStable.append(i)\n",
    "        else:\n",
    "            while idx_inv[j] == True:\n",
    "                j+=1\n",
    "            idx_inv[j] = True\n",
    "            idx_Bay_newStable.append(idx_Bay_new[j])\n",
    "    idx_Queue_new_bool = np.isin(element = range(0,len(CD_merged)), test_elements = idx_Bay_newStable, invert=True)\n",
    "    idx_Queue_new = []\n",
    "    for i in range(0, len(idx_Queue_new_bool)):\n",
    "        if idx_Queue_new_bool[i]:\n",
    "            idx_Queue_new.append(i)\n",
    "    allVehicles = ['v0', 'v1', 'v2', 'v3', 'v4', 'v5', 'v6']\n",
    "    ChBaVehicles = []\n",
    "    Queue = []\n",
    "    for i in idx_Bay_newStable:\n",
    "        ChBaVehicles.append(allVehicles[i])\n",
    "    for i in idx_Queue_new:\n",
    "        Queue.append(allVehicles[i])\n",
    "\n",
    "print(idx_Bay_newStable)\n",
    "print(idx_Queue_new)\n",
    "print(idx_sorted)\n",
    "print(idx)\n",
    "print(ChBaVehicles)\n",
    "print(Queue)"
   ]
  },
  {
   "cell_type": "code",
   "execution_count": 118,
   "metadata": {},
   "outputs": [
    {
     "data": {
      "text/plain": [
       "-inf"
      ]
     },
     "execution_count": 118,
     "metadata": {},
     "output_type": "execute_result"
    }
   ],
   "source": [
    "-1* float('inf')"
   ]
  },
  {
   "cell_type": "code",
   "execution_count": 12,
   "metadata": {},
   "outputs": [
    {
     "data": {
      "text/plain": [
       "True"
      ]
     },
     "execution_count": 12,
     "metadata": {},
     "output_type": "execute_result"
    }
   ],
   "source": [
    "True != 2"
   ]
  },
  {
   "cell_type": "code",
   "execution_count": 39,
   "metadata": {},
   "outputs": [
    {
     "name": "stdout",
     "output_type": "stream",
     "text": [
      "1\n",
      "nan\n",
      "nan\n",
      "\n",
      "now see if connection works:\n",
      "2\n",
      "nan\n",
      "2\n"
     ]
    }
   ],
   "source": [
    "class mytest:\n",
    "\n",
    "    def __init__(self):\n",
    "        self.var1 = []\n",
    "        self.t_act = 1\n",
    "    def step(self):\n",
    "        self.t_act += 1\n",
    "\n",
    "class mytest2:\n",
    "    def __init__(self, t_act):\n",
    "        self.t_act = float(\"NaN\")\n",
    "    def initialize(self, SimBroker):\n",
    "        self.SimBroker = SimBroker\n",
    "\n",
    "SimBroker = mytest()\n",
    "ChargingStation = mytest2(10)\n",
    "\n",
    "print(SimBroker.t_act)\n",
    "print(ChargingStation.t_act)\n",
    "ChargingStation.initialize(SimBroker)\n",
    "print(ChargingStation.t_act)\n",
    "print(\"\\nnow see if connection works:\")\n",
    "SimBroker.step()\n",
    "print(SimBroker.t_act)\n",
    "print(ChargingStation.t_act)\n",
    "print(ChargingStation.SimBroker.t_act)"
   ]
  },
  {
   "cell_type": "code",
   "execution_count": 48,
   "metadata": {},
   "outputs": [
    {
     "name": "stdout",
     "output_type": "stream",
     "text": [
      "0.96631086208434\n",
      "0.9695817435026071\n",
      "0.9850232123197592\n",
      "1.3286863113401595\n",
      "1.1363181318356548\n",
      "1.223841739858886\n",
      "1.153431269037153\n",
      "0.9594981037988259\n",
      "1.0985144892961272\n",
      "1.1195379149030187\n",
      "1.0482692599878953\n",
      "0.9639715209822047\n",
      "0.9560420305335983\n",
      "0.9041712359818795\n",
      "0.9184446094348142\n",
      "0.9986415664737921\n",
      "0.9700613705684082\n",
      "1.0434256409368048\n",
      "0.9125147714708108\n",
      "0.9752597089527479\n"
     ]
    }
   ],
   "source": [
    "import numpy.random as npr\n",
    "for i in range(0,20):\n",
    "    print( 1 + (0.1 * npr.randn()) ) "
   ]
  },
  {
   "cell_type": "code",
   "execution_count": 17,
   "metadata": {},
   "outputs": [
    {
     "ename": "SyntaxError",
     "evalue": "invalid syntax (3652697480.py, line 1)",
     "output_type": "error",
     "traceback": [
      "\u001b[1;36m  File \u001b[1;32m\"C:\\Users\\akaju\\AppData\\Local\\Temp\\ipykernel_24892\\3652697480.py\"\u001b[1;36m, line \u001b[1;32m1\u001b[0m\n\u001b[1;33m    from \"../components\" import Vehicle\u001b[0m\n\u001b[1;37m                       ^\u001b[0m\n\u001b[1;31mSyntaxError\u001b[0m\u001b[1;31m:\u001b[0m invalid syntax\n"
     ]
    }
   ],
   "source": [
    "\n",
    "tesla1 = Vehicle('xys45', 'Tesla Model 3', 12000, 18000, 20, 20, 60)"
   ]
  },
  {
   "cell_type": "code",
   "execution_count": 27,
   "metadata": {},
   "outputs": [
    {
     "name": "stdout",
     "output_type": "stream",
     "text": [
      "0\n",
      "1\n",
      "2\n"
     ]
    }
   ],
   "source": [
    "for i in range(0,3):\n",
    "    print(i)"
   ]
  },
  {
   "cell_type": "code",
   "execution_count": 70,
   "metadata": {},
   "outputs": [
    {
     "data": {
      "text/html": [
       "<div>\n",
       "<style scoped>\n",
       "    .dataframe tbody tr th:only-of-type {\n",
       "        vertical-align: middle;\n",
       "    }\n",
       "\n",
       "    .dataframe tbody tr th {\n",
       "        vertical-align: top;\n",
       "    }\n",
       "\n",
       "    .dataframe thead th {\n",
       "        text-align: right;\n",
       "    }\n",
       "</style>\n",
       "<table border=\"1\" class=\"dataframe\">\n",
       "  <thead>\n",
       "    <tr style=\"text-align: right;\">\n",
       "      <th></th>\n",
       "      <th>col1</th>\n",
       "      <th>col2</th>\n",
       "      <th>col3</th>\n",
       "    </tr>\n",
       "  </thead>\n",
       "  <tbody>\n",
       "    <tr>\n",
       "      <th>0</th>\n",
       "      <td>1</td>\n",
       "      <td>4</td>\n",
       "      <td>8</td>\n",
       "    </tr>\n",
       "    <tr>\n",
       "      <th>1</th>\n",
       "      <td>2</td>\n",
       "      <td>5</td>\n",
       "      <td>9</td>\n",
       "    </tr>\n",
       "    <tr>\n",
       "      <th>2</th>\n",
       "      <td>3</td>\n",
       "      <td>6</td>\n",
       "      <td>10</td>\n",
       "    </tr>\n",
       "  </tbody>\n",
       "</table>\n",
       "</div>"
      ],
      "text/plain": [
       "   col1  col2  col3\n",
       "0     1     4     8\n",
       "1     2     5     9\n",
       "2     3     6    10"
      ]
     },
     "execution_count": 70,
     "metadata": {},
     "output_type": "execute_result"
    }
   ],
   "source": [
    "import pandas as pd\n",
    "test = pd.DataFrame(data={\n",
    "    'col1': [1,2,3],\n",
    "    'col2': [4,5,6],\n",
    "    'col3': [8,9,10]\n",
    "})\n",
    "test.iloc[0:4]"
   ]
  },
  {
   "cell_type": "code",
   "execution_count": 77,
   "metadata": {},
   "outputs": [
    {
     "data": {
      "text/html": [
       "<div>\n",
       "<style scoped>\n",
       "    .dataframe tbody tr th:only-of-type {\n",
       "        vertical-align: middle;\n",
       "    }\n",
       "\n",
       "    .dataframe tbody tr th {\n",
       "        vertical-align: top;\n",
       "    }\n",
       "\n",
       "    .dataframe thead th {\n",
       "        text-align: right;\n",
       "    }\n",
       "</style>\n",
       "<table border=\"1\" class=\"dataframe\">\n",
       "  <thead>\n",
       "    <tr style=\"text-align: right;\">\n",
       "      <th></th>\n",
       "      <th>col1</th>\n",
       "      <th>col2</th>\n",
       "    </tr>\n",
       "  </thead>\n",
       "  <tbody>\n",
       "    <tr>\n",
       "      <th>0</th>\n",
       "      <td>1</td>\n",
       "      <td>2</td>\n",
       "    </tr>\n",
       "  </tbody>\n",
       "</table>\n",
       "</div>"
      ],
      "text/plain": [
       "  col1 col2\n",
       "0    1    2"
      ]
     },
     "execution_count": 77,
     "metadata": {},
     "output_type": "execute_result"
    }
   ],
   "source": [
    "import pandas as pd\n",
    "\n",
    "test = pd.DataFrame(columns=[\"col1\", \"col2\"])\n",
    "test = test.append({\n",
    "    \"col1\": 1, \"col2\": 2\n",
    "}, ignore_index=True)\n",
    "test"
   ]
  }
 ],
 "metadata": {
  "interpreter": {
   "hash": "85c0dbb8a8370b12144789c1d52a926d4fc5a933acd5ac3a4d5d32d721e57c89"
  },
  "kernelspec": {
   "display_name": "Python 3.7.11 ('py_btms_controller')",
   "language": "python",
   "name": "python3"
  },
  "language_info": {
   "codemirror_mode": {
    "name": "ipython",
    "version": 3
   },
   "file_extension": ".py",
   "mimetype": "text/x-python",
   "name": "python",
   "nbconvert_exporter": "python",
   "pygments_lexer": "ipython3",
   "version": "3.7.12"
  },
  "orig_nbformat": 4
 },
 "nbformat": 4,
 "nbformat_minor": 2
}
