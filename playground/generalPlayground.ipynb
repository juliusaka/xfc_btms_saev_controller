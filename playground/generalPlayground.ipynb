{
 "cells": [
  {
   "cell_type": "code",
   "execution_count": 1,
   "metadata": {},
   "outputs": [
    {
     "data": {
      "text/plain": [
       "700"
      ]
     },
     "execution_count": 1,
     "metadata": {},
     "output_type": "execute_result"
    }
   ],
   "source": [
    "powers = [200, 200, 300]\n",
    "sum(powers)"
   ]
  },
  {
   "cell_type": "code",
   "execution_count": 39,
   "metadata": {},
   "outputs": [
    {
     "name": "stdout",
     "output_type": "stream",
     "text": [
      "1\n",
      "nan\n",
      "nan\n",
      "\n",
      "now see if connection works:\n",
      "2\n",
      "nan\n",
      "2\n"
     ]
    }
   ],
   "source": [
    "class mytest:\n",
    "\n",
    "    def __init__(self):\n",
    "        self.var1 = []\n",
    "        self.t_act = 1\n",
    "    def step(self):\n",
    "        self.t_act += 1\n",
    "\n",
    "class mytest2:\n",
    "    def __init__(self, t_act):\n",
    "        self.t_act = float(\"NaN\")\n",
    "    def initialize(self, SimBroker):\n",
    "        self.SimBroker = SimBroker\n",
    "\n",
    "SimBroker = mytest()\n",
    "ChargingStation = mytest2(10)\n",
    "\n",
    "print(SimBroker.t_act)\n",
    "print(ChargingStation.t_act)\n",
    "ChargingStation.initialize(SimBroker)\n",
    "print(ChargingStation.t_act)\n",
    "print(\"\\nnow see if connection works:\")\n",
    "SimBroker.step()\n",
    "print(SimBroker.t_act)\n",
    "print(ChargingStation.t_act)\n",
    "print(ChargingStation.SimBroker.t_act)"
   ]
  },
  {
   "cell_type": "code",
   "execution_count": 48,
   "metadata": {},
   "outputs": [
    {
     "name": "stdout",
     "output_type": "stream",
     "text": [
      "0.96631086208434\n",
      "0.9695817435026071\n",
      "0.9850232123197592\n",
      "1.3286863113401595\n",
      "1.1363181318356548\n",
      "1.223841739858886\n",
      "1.153431269037153\n",
      "0.9594981037988259\n",
      "1.0985144892961272\n",
      "1.1195379149030187\n",
      "1.0482692599878953\n",
      "0.9639715209822047\n",
      "0.9560420305335983\n",
      "0.9041712359818795\n",
      "0.9184446094348142\n",
      "0.9986415664737921\n",
      "0.9700613705684082\n",
      "1.0434256409368048\n",
      "0.9125147714708108\n",
      "0.9752597089527479\n"
     ]
    }
   ],
   "source": [
    "import numpy.random as npr\n",
    "for i in range(0,20):\n",
    "    print( 1 + (0.1 * npr.randn()) ) "
   ]
  },
  {
   "cell_type": "code",
   "execution_count": 17,
   "metadata": {},
   "outputs": [
    {
     "ename": "SyntaxError",
     "evalue": "invalid syntax (3652697480.py, line 1)",
     "output_type": "error",
     "traceback": [
      "\u001b[1;36m  File \u001b[1;32m\"C:\\Users\\akaju\\AppData\\Local\\Temp\\ipykernel_24892\\3652697480.py\"\u001b[1;36m, line \u001b[1;32m1\u001b[0m\n\u001b[1;33m    from \"../components\" import Vehicle\u001b[0m\n\u001b[1;37m                       ^\u001b[0m\n\u001b[1;31mSyntaxError\u001b[0m\u001b[1;31m:\u001b[0m invalid syntax\n"
     ]
    }
   ],
   "source": [
    "\n",
    "tesla1 = Vehicle('xys45', 'Tesla Model 3', 12000, 18000, 20, 20, 60)"
   ]
  },
  {
   "cell_type": "code",
   "execution_count": 27,
   "metadata": {},
   "outputs": [
    {
     "name": "stdout",
     "output_type": "stream",
     "text": [
      "0\n",
      "1\n",
      "2\n"
     ]
    }
   ],
   "source": [
    "for i in range(0,3):\n",
    "    print(i)"
   ]
  },
  {
   "cell_type": "code",
   "execution_count": 70,
   "metadata": {},
   "outputs": [
    {
     "data": {
      "text/html": [
       "<div>\n",
       "<style scoped>\n",
       "    .dataframe tbody tr th:only-of-type {\n",
       "        vertical-align: middle;\n",
       "    }\n",
       "\n",
       "    .dataframe tbody tr th {\n",
       "        vertical-align: top;\n",
       "    }\n",
       "\n",
       "    .dataframe thead th {\n",
       "        text-align: right;\n",
       "    }\n",
       "</style>\n",
       "<table border=\"1\" class=\"dataframe\">\n",
       "  <thead>\n",
       "    <tr style=\"text-align: right;\">\n",
       "      <th></th>\n",
       "      <th>col1</th>\n",
       "      <th>col2</th>\n",
       "      <th>col3</th>\n",
       "    </tr>\n",
       "  </thead>\n",
       "  <tbody>\n",
       "    <tr>\n",
       "      <th>0</th>\n",
       "      <td>1</td>\n",
       "      <td>4</td>\n",
       "      <td>8</td>\n",
       "    </tr>\n",
       "    <tr>\n",
       "      <th>1</th>\n",
       "      <td>2</td>\n",
       "      <td>5</td>\n",
       "      <td>9</td>\n",
       "    </tr>\n",
       "    <tr>\n",
       "      <th>2</th>\n",
       "      <td>3</td>\n",
       "      <td>6</td>\n",
       "      <td>10</td>\n",
       "    </tr>\n",
       "  </tbody>\n",
       "</table>\n",
       "</div>"
      ],
      "text/plain": [
       "   col1  col2  col3\n",
       "0     1     4     8\n",
       "1     2     5     9\n",
       "2     3     6    10"
      ]
     },
     "execution_count": 70,
     "metadata": {},
     "output_type": "execute_result"
    }
   ],
   "source": [
    "import pandas as pd\n",
    "test = pd.DataFrame(data={\n",
    "    'col1': [1,2,3],\n",
    "    'col2': [4,5,6],\n",
    "    'col3': [8,9,10]\n",
    "})\n",
    "test.iloc[0:4]"
   ]
  },
  {
   "cell_type": "code",
   "execution_count": 66,
   "metadata": {},
   "outputs": [
    {
     "name": "stdout",
     "output_type": "stream",
     "text": [
      "0\n",
      "1\n",
      "2\n",
      "3\n",
      "4\n"
     ]
    }
   ],
   "source": [
    "i = 0\n",
    "while i < 10:\n",
    "    print(i)\n",
    "    i +=1\n",
    "    if i >= 5:\n",
    "        break\n",
    "    "
   ]
  }
 ],
 "metadata": {
  "interpreter": {
   "hash": "85c0dbb8a8370b12144789c1d52a926d4fc5a933acd5ac3a4d5d32d721e57c89"
  },
  "kernelspec": {
   "display_name": "Python 3.7.11 ('py_btms_controller')",
   "language": "python",
   "name": "python3"
  },
  "language_info": {
   "codemirror_mode": {
    "name": "ipython",
    "version": 3
   },
   "file_extension": ".py",
   "mimetype": "text/x-python",
   "name": "python",
   "nbconvert_exporter": "python",
   "pygments_lexer": "ipython3",
   "version": "3.7.11"
  },
  "orig_nbformat": 4
 },
 "nbformat": 4,
 "nbformat_minor": 2
}
