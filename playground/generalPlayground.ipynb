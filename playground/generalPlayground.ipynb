{
 "cells": [
  {
   "cell_type": "code",
   "execution_count": 1,
   "metadata": {},
   "outputs": [
    {
     "data": {
      "text/plain": [
       "700"
      ]
     },
     "execution_count": 1,
     "metadata": {},
     "output_type": "execute_result"
    }
   ],
   "source": [
    "powers = [200, 200, 300]\n",
    "sum(powers)"
   ]
  },
  {
   "cell_type": "code",
   "execution_count": 9,
   "metadata": {},
   "outputs": [
    {
     "name": "stdout",
     "output_type": "stream",
     "text": [
      "[14, 12]\n",
      "14\n",
      "[12]\n"
     ]
    }
   ],
   "source": [
    "class mytest:\n",
    "\n",
    "    def __init__(self):\n",
    "        self.var1 = []\n",
    "\n",
    "test_inst = mytest()\n",
    "\n",
    "test_inst.var1.append(14)\n",
    "test_inst.var1.append(12)\n",
    "print(test_inst.var1)\n",
    "print(test_inst.var1.pop(0))\n",
    "print(test_inst.var1)\n"
   ]
  },
  {
   "cell_type": "code",
   "execution_count": 22,
   "metadata": {},
   "outputs": [
    {
     "ename": "ModuleNotFoundError",
     "evalue": "No module named 'components'",
     "output_type": "error",
     "traceback": [
      "\u001b[1;31m---------------------------------------------------------------------------\u001b[0m",
      "\u001b[1;31mModuleNotFoundError\u001b[0m                       Traceback (most recent call last)",
      "\u001b[1;32m~\\AppData\\Local\\Temp\\ipykernel_40300\\3780133322.py\u001b[0m in \u001b[0;36m<module>\u001b[1;34m\u001b[0m\n\u001b[1;32m----> 1\u001b[1;33m \u001b[1;32mimport\u001b[0m \u001b[0mcomponents\u001b[0m\u001b[1;33m\u001b[0m\u001b[1;33m\u001b[0m\u001b[0m\n\u001b[0m\u001b[0;32m      2\u001b[0m \u001b[1;33m\u001b[0m\u001b[0m\n\u001b[0;32m      3\u001b[0m \u001b[0mtesla1\u001b[0m \u001b[1;33m=\u001b[0m \u001b[0mcomponents\u001b[0m\u001b[1;33m.\u001b[0m\u001b[0mVehicle\u001b[0m\u001b[1;33m(\u001b[0m\u001b[1;34m'xys45'\u001b[0m\u001b[1;33m,\u001b[0m \u001b[1;34m'Tesla Model 3'\u001b[0m\u001b[1;33m,\u001b[0m \u001b[1;36m12000\u001b[0m\u001b[1;33m,\u001b[0m \u001b[1;36m18000\u001b[0m\u001b[1;33m,\u001b[0m \u001b[1;36m20\u001b[0m\u001b[1;33m,\u001b[0m \u001b[1;36m20\u001b[0m\u001b[1;33m,\u001b[0m \u001b[1;36m60\u001b[0m\u001b[1;33m)\u001b[0m\u001b[1;33m\u001b[0m\u001b[1;33m\u001b[0m\u001b[0m\n",
      "\u001b[1;31mModuleNotFoundError\u001b[0m: No module named 'components'"
     ]
    }
   ],
   "source": [
    "import components\n",
    "\n",
    "tesla1 = components.Vehicle('xys45', 'Tesla Model 3', 12000, 18000, 20, 20, 60)"
   ]
  },
  {
   "cell_type": "code",
   "execution_count": 45,
   "metadata": {},
   "outputs": [
    {
     "name": "stdout",
     "output_type": "stream",
     "text": [
      "required mass: 51428.57142857143kg\n",
      "required Volume: 25.714285714285715m^3\n",
      "required sphere diameter: 3.6620585271090436m\n",
      "required cube length: 2.951604440418591m\n",
      "\n",
      " heat_flow Sphere to outside: 1323.4029620665635\n",
      " heat_flow Cube to outside: 676.9199736386925\n",
      " heat_flow Cube to outside with vacuum panel: 27076.798945547696\n",
      "\n",
      " annual heat loss of Cube: 5929.818969074946 [kWh]\n"
     ]
    }
   ],
   "source": [
    "import numpy as np\n",
    "\n",
    "\n",
    "## heat storage\n",
    "\n",
    "# determine size\n",
    "Q_demand_kWh = 10e3 #[kWh]\n",
    "rho = 2000      # kg/m^3\n",
    "yamda = 0.05    # W/(m K) Wärmeleithfähgikeit rockwool\n",
    "U     = 1       # W/(m^2 K) Vakuumplatte\n",
    "c_s = 1         # kJ/kgK\n",
    "T_up = 800      # °C\n",
    "T_down = 100    # °C\n",
    "# Q = m*c_s*delta_t = rho*V*c_s*(T_up-T_down)\n",
    "Q_demand_kJ = Q_demand_kWh * 3600 # one kWh is 3600kJ (one kW = 1 kJ/s / for an hour: 3600kJ)\n",
    "m = Q_demand_kJ/(c_s * (T_up-T_down))\n",
    "V = m/rho \n",
    "# V = 4/3 pi r^3\n",
    "r = pow(V*3/4/np.pi , 1/3)\n",
    "l = pow(V, 1/3)\n",
    "\n",
    "print(\"required mass: \" + str(m) + \"kg\")\n",
    "print(\"required Volume: \" + str(V) + \"m^3\")\n",
    "print(\"required sphere diameter: \" + str(2*r) + \"m\")\n",
    "print(\"required cube length: \" + str(l) + \"m\")\n",
    "\n",
    "# assume that the core can be overheated to 1200 °C, and the bouandary has only 400. what heatflow would that result in?\n",
    "# take herefore a sphere\n",
    "T_i = 0.66*T_up\n",
    "T_a = 10\n",
    "r_i = r\n",
    "r_a = r+1.5\n",
    "s   = 2 # thickness of cube insulation\n",
    "kAS = 4*np.pi / (1/yamda * (1/r_i - 1/r_a ))\n",
    "kAQ = yamda/s * (6 * pow(l,2) )\n",
    "kAQ_vacc = U * (6 * pow(l,2) )\n",
    "Q_loss1 = kAS * (T_i - T_a)\n",
    "Q_loss2 = kAQ * (T_i - T_a)\n",
    "Q_loss3 = kAQ_vacc * (T_i - T_a)\n",
    "print(\"\\n heat_flow Sphere to outside: \" +str(Q_loss1))\n",
    "print(\" heat_flow Cube to outside: \" +str(Q_loss2))\n",
    "print(\" heat_flow Cube to outside with vacuum panel: \" +str(Q_loss3))\n",
    "\n",
    "Q_loss2_annual = Q_loss2/1000*24*365\n",
    "print(\"\\n annual heat loss of Cube: \" + str(Q_loss2_annual) +\" [kWh]\")"
   ]
  }
 ],
 "metadata": {
  "interpreter": {
   "hash": "85c0dbb8a8370b12144789c1d52a926d4fc5a933acd5ac3a4d5d32d721e57c89"
  },
  "kernelspec": {
   "display_name": "Python 3.7.11 ('py_btms_controller')",
   "language": "python",
   "name": "python3"
  },
  "language_info": {
   "codemirror_mode": {
    "name": "ipython",
    "version": 3
   },
   "file_extension": ".py",
   "mimetype": "text/x-python",
   "name": "python",
   "nbconvert_exporter": "python",
   "pygments_lexer": "ipython3",
   "version": "3.7.11"
  },
  "orig_nbformat": 4
 },
 "nbformat": 4,
 "nbformat_minor": 2
}
