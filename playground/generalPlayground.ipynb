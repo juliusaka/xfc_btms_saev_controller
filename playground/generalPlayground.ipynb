{
 "cells": [
  {
   "cell_type": "code",
   "execution_count": 1,
   "metadata": {},
   "outputs": [
    {
     "data": {
      "text/plain": [
       "700"
      ]
     },
     "execution_count": 1,
     "metadata": {},
     "output_type": "execute_result"
    }
   ],
   "source": [
    "powers = [200, 200, 300]\n",
    "sum(powers)"
   ]
  },
  {
   "cell_type": "code",
   "execution_count": 39,
   "metadata": {},
   "outputs": [
    {
     "name": "stdout",
     "output_type": "stream",
     "text": [
      "1\n",
      "nan\n",
      "nan\n",
      "\n",
      "now see if connection works:\n",
      "2\n",
      "nan\n",
      "2\n"
     ]
    }
   ],
   "source": [
    "class mytest:\n",
    "\n",
    "    def __init__(self):\n",
    "        self.var1 = []\n",
    "        self.t_act = 1\n",
    "    def step(self):\n",
    "        self.t_act += 1\n",
    "\n",
    "class mytest2:\n",
    "    def __init__(self, t_act):\n",
    "        self.t_act = float(\"NaN\")\n",
    "    def initialize(self, SimBroker):\n",
    "        self.SimBroker = SimBroker\n",
    "\n",
    "SimBroker = mytest()\n",
    "ChargingStation = mytest2(10)\n",
    "\n",
    "print(SimBroker.t_act)\n",
    "print(ChargingStation.t_act)\n",
    "ChargingStation.initialize(SimBroker)\n",
    "print(ChargingStation.t_act)\n",
    "print(\"\\nnow see if connection works:\")\n",
    "SimBroker.step()\n",
    "print(SimBroker.t_act)\n",
    "print(ChargingStation.t_act)\n",
    "print(ChargingStation.SimBroker.t_act)"
   ]
  },
  {
   "cell_type": "code",
   "execution_count": 48,
   "metadata": {},
   "outputs": [
    {
     "name": "stdout",
     "output_type": "stream",
     "text": [
      "0.96631086208434\n",
      "0.9695817435026071\n",
      "0.9850232123197592\n",
      "1.3286863113401595\n",
      "1.1363181318356548\n",
      "1.223841739858886\n",
      "1.153431269037153\n",
      "0.9594981037988259\n",
      "1.0985144892961272\n",
      "1.1195379149030187\n",
      "1.0482692599878953\n",
      "0.9639715209822047\n",
      "0.9560420305335983\n",
      "0.9041712359818795\n",
      "0.9184446094348142\n",
      "0.9986415664737921\n",
      "0.9700613705684082\n",
      "1.0434256409368048\n",
      "0.9125147714708108\n",
      "0.9752597089527479\n"
     ]
    }
   ],
   "source": [
    "import numpy.random as npr\n",
    "for i in range(0,20):\n",
    "    print( 1 + (0.1 * npr.randn()) ) "
   ]
  },
  {
   "cell_type": "code",
   "execution_count": 17,
   "metadata": {},
   "outputs": [
    {
     "ename": "SyntaxError",
     "evalue": "invalid syntax (3652697480.py, line 1)",
     "output_type": "error",
     "traceback": [
      "\u001b[1;36m  File \u001b[1;32m\"C:\\Users\\akaju\\AppData\\Local\\Temp\\ipykernel_24892\\3652697480.py\"\u001b[1;36m, line \u001b[1;32m1\u001b[0m\n\u001b[1;33m    from \"../components\" import Vehicle\u001b[0m\n\u001b[1;37m                       ^\u001b[0m\n\u001b[1;31mSyntaxError\u001b[0m\u001b[1;31m:\u001b[0m invalid syntax\n"
     ]
    }
   ],
   "source": [
    "\n",
    "tesla1 = Vehicle('xys45', 'Tesla Model 3', 12000, 18000, 20, 20, 60)"
   ]
  },
  {
   "cell_type": "code",
   "execution_count": 27,
   "metadata": {},
   "outputs": [
    {
     "name": "stdout",
     "output_type": "stream",
     "text": [
      "0\n",
      "1\n",
      "2\n"
     ]
    }
   ],
   "source": [
    "for i in range(0,3):\n",
    "    print(i)"
   ]
  },
  {
   "cell_type": "code",
   "execution_count": 28,
   "metadata": {},
   "outputs": [
    {
     "ename": "ModuleNotFoundError",
     "evalue": "No module named 'components'",
     "output_type": "error",
     "traceback": [
      "\u001b[1;31m---------------------------------------------------------------------------\u001b[0m",
      "\u001b[1;31mModuleNotFoundError\u001b[0m                       Traceback (most recent call last)",
      "\u001b[1;32m~\\AppData\\Local\\Temp\\ipykernel_24892\\4233818112.py\u001b[0m in \u001b[0;36m<module>\u001b[1;34m\u001b[0m\n\u001b[1;32m----> 1\u001b[1;33m \u001b[1;32mfrom\u001b[0m \u001b[0mcomponents\u001b[0m \u001b[1;32mimport\u001b[0m \u001b[0mResultWriter\u001b[0m\u001b[1;33m\u001b[0m\u001b[1;33m\u001b[0m\u001b[0m\n\u001b[0m\u001b[0;32m      2\u001b[0m \u001b[1;33m\u001b[0m\u001b[0m\n\u001b[0;32m      3\u001b[0m \u001b[0mx\u001b[0m \u001b[1;33m=\u001b[0m \u001b[0mResultWriter\u001b[0m\u001b[1;33m(\u001b[0m\u001b[1;34m\"myTest1\"\u001b[0m\u001b[1;33m,\u001b[0m \u001b[1;36m1000\u001b[0m\u001b[1;33m,\u001b[0m \u001b[1;36m5\u001b[0m\u001b[1;33m)\u001b[0m\u001b[1;33m\u001b[0m\u001b[1;33m\u001b[0m\u001b[0m\n",
      "\u001b[1;31mModuleNotFoundError\u001b[0m: No module named 'components'"
     ]
    }
   ],
   "source": [
    "\n"
   ]
  }
 ],
 "metadata": {
  "interpreter": {
   "hash": "85c0dbb8a8370b12144789c1d52a926d4fc5a933acd5ac3a4d5d32d721e57c89"
  },
  "kernelspec": {
   "display_name": "Python 3.7.11 ('py_btms_controller')",
   "language": "python",
   "name": "python3"
  },
  "language_info": {
   "codemirror_mode": {
    "name": "ipython",
    "version": 3
   },
   "file_extension": ".py",
   "mimetype": "text/x-python",
   "name": "python",
   "nbconvert_exporter": "python",
   "pygments_lexer": "ipython3",
   "version": "3.7.11"
  },
  "orig_nbformat": 4
 },
 "nbformat": 4,
 "nbformat_minor": 2
}
