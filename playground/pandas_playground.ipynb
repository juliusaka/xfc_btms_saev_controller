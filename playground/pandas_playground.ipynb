{
 "cells": [
  {
   "cell_type": "markdown",
   "metadata": {},
   "source": [
    "## pandas series (one-dimensional with index)"
   ]
  },
  {
   "cell_type": "code",
   "execution_count": 2,
   "metadata": {},
   "outputs": [],
   "source": [
    "import numpy as np\n",
    "import pandas as pd"
   ]
  },
  {
   "cell_type": "code",
   "execution_count": 2,
   "metadata": {},
   "outputs": [
    {
     "name": "stdout",
     "output_type": "stream",
     "text": [
      "a    1.974814\n",
      "b   -0.850200\n",
      "c    0.762709\n",
      "d    0.710383\n",
      "e   -1.472628\n",
      "dtype: float64\n"
     ]
    }
   ],
   "source": [
    "s = pd.Series(np.random.randn(5), index = [\"a\", \"b\", \"c\", \"d\", \"e\"])\n",
    "s\n",
    "#t = pd.Series(np.random.randn(5))\n",
    "# t\n",
    "print(s)"
   ]
  },
  {
   "cell_type": "code",
   "execution_count": 8,
   "metadata": {},
   "outputs": [
    {
     "data": {
      "text/html": [
       "<div>\n",
       "<style scoped>\n",
       "    .dataframe tbody tr th:only-of-type {\n",
       "        vertical-align: middle;\n",
       "    }\n",
       "\n",
       "    .dataframe tbody tr th {\n",
       "        vertical-align: top;\n",
       "    }\n",
       "\n",
       "    .dataframe thead th {\n",
       "        text-align: right;\n",
       "    }\n",
       "</style>\n",
       "<table border=\"1\" class=\"dataframe\">\n",
       "  <thead>\n",
       "    <tr style=\"text-align: right;\">\n",
       "      <th></th>\n",
       "      <th>0</th>\n",
       "    </tr>\n",
       "  </thead>\n",
       "  <tbody>\n",
       "    <tr>\n",
       "      <th>a</th>\n",
       "      <td>-1.232186</td>\n",
       "    </tr>\n",
       "    <tr>\n",
       "      <th>a</th>\n",
       "      <td>0.061882</td>\n",
       "    </tr>\n",
       "    <tr>\n",
       "      <th>a</th>\n",
       "      <td>-0.541260</td>\n",
       "    </tr>\n",
       "    <tr>\n",
       "      <th>a</th>\n",
       "      <td>-0.583567</td>\n",
       "    </tr>\n",
       "  </tbody>\n",
       "</table>\n",
       "</div>"
      ],
      "text/plain": [
       "          0\n",
       "a -1.232186\n",
       "a  0.061882\n",
       "a -0.541260\n",
       "a -0.583567"
      ]
     },
     "execution_count": 8,
     "metadata": {},
     "output_type": "execute_result"
    }
   ],
   "source": [
    "#with same index names\n",
    "s10 = pd.DataFrame(np.random.randn(5), index = [\"a\",\"a\", \"a\", \"a\",\"b\"])\n",
    "s10.head()\n",
    "s10.loc[\"a\"]"
   ]
  },
  {
   "cell_type": "code",
   "execution_count": 3,
   "metadata": {},
   "outputs": [
    {
     "data": {
      "text/plain": [
       "t    1\n",
       "o    2\n",
       "c    3\n",
       "dtype: int64"
      ]
     },
     "execution_count": 3,
     "metadata": {},
     "output_type": "execute_result"
    }
   ],
   "source": [
    "# from dict\n",
    "d = {\"t\": 1,\n",
    "    \"o\": 2,\n",
    "    \"c\": 3}\n",
    "u = pd.Series(d)\n",
    "u"
   ]
  },
  {
   "cell_type": "code",
   "execution_count": 4,
   "metadata": {},
   "outputs": [
    {
     "data": {
      "text/plain": [
       "array([0, 1, 2, 3, 4, 5, 6, 7, 8, 9])"
      ]
     },
     "execution_count": 4,
     "metadata": {},
     "output_type": "execute_result"
    }
   ],
   "source": [
    "c = np.multiply(s,2)\n",
    "c.dtype\n",
    "c.array[0:3]\n",
    "np.arange(0,10)"
   ]
  },
  {
   "cell_type": "markdown",
   "metadata": {},
   "source": [
    "## pandas data-frame\n",
    "2-dimensional with index (rows) and columns"
   ]
  },
  {
   "cell_type": "code",
   "execution_count": 5,
   "metadata": {},
   "outputs": [
    {
     "data": {
      "text/html": [
       "<div>\n",
       "<style scoped>\n",
       "    .dataframe tbody tr th:only-of-type {\n",
       "        vertical-align: middle;\n",
       "    }\n",
       "\n",
       "    .dataframe tbody tr th {\n",
       "        vertical-align: top;\n",
       "    }\n",
       "\n",
       "    .dataframe thead th {\n",
       "        text-align: right;\n",
       "    }\n",
       "</style>\n",
       "<table border=\"1\" class=\"dataframe\">\n",
       "  <thead>\n",
       "    <tr style=\"text-align: right;\">\n",
       "      <th></th>\n",
       "      <th>one</th>\n",
       "      <th>two</th>\n",
       "    </tr>\n",
       "  </thead>\n",
       "  <tbody>\n",
       "    <tr>\n",
       "      <th>a</th>\n",
       "      <td>-0.699358</td>\n",
       "      <td>-0.367836</td>\n",
       "    </tr>\n",
       "    <tr>\n",
       "      <th>b</th>\n",
       "      <td>0.343071</td>\n",
       "      <td>-0.468591</td>\n",
       "    </tr>\n",
       "    <tr>\n",
       "      <th>c</th>\n",
       "      <td>0.036996</td>\n",
       "      <td>0.393168</td>\n",
       "    </tr>\n",
       "    <tr>\n",
       "      <th>d</th>\n",
       "      <td>-0.259997</td>\n",
       "      <td>-0.169496</td>\n",
       "    </tr>\n",
       "    <tr>\n",
       "      <th>e</th>\n",
       "      <td>0.251682</td>\n",
       "      <td>0.976648</td>\n",
       "    </tr>\n",
       "  </tbody>\n",
       "</table>\n",
       "</div>"
      ],
      "text/plain": [
       "        one       two\n",
       "a -0.699358 -0.367836\n",
       "b  0.343071 -0.468591\n",
       "c  0.036996  0.393168\n",
       "d -0.259997 -0.169496\n",
       "e  0.251682  0.976648"
      ]
     },
     "execution_count": 5,
     "metadata": {},
     "output_type": "execute_result"
    }
   ],
   "source": [
    "# lets create a dict\n",
    "d = {\n",
    "    \"one\": pd.Series(np.random.randn(5), index =[\"a\", \"b\", \"c\", \"d\", \"e\"]),\n",
    "    \"two\": pd.Series(np.random.randn(5), index =[\"a\", \"b\", \"c\", \"d\", \"e\"])\n",
    "}\n",
    "d[\"one\"]\n",
    "df = pd.DataFrame(d) #, index = [\"c\", \"d\"])\n",
    "df"
   ]
  },
  {
   "cell_type": "code",
   "execution_count": 6,
   "metadata": {},
   "outputs": [
    {
     "name": "stdout",
     "output_type": "stream",
     "text": [
      "row 0\n",
      "this row is smaller than 0\n",
      "row 1\n",
      "this row is greater than 0\n",
      "row 2\n",
      "this row is greater than 0\n",
      "row 3\n",
      "this row is smaller than 0\n",
      "row 4\n",
      "this row is greater than 0\n"
     ]
    }
   ],
   "source": [
    "df[\"three\"] = df[\"one\"] * df[\"two\"]\n",
    "df[\"flag\"] = df[\"one\"] > 0 \n",
    "df\n",
    "for i in range(0,df.index.size):\n",
    "    print(\"row \" +str(i))\n",
    "    if df[\"one\"][i] > 0:\n",
    "        print(\"this row is greater than 0\")\n",
    "    else: \n",
    "        print(\"this row is smaller than 0\")"
   ]
  },
  {
   "cell_type": "code",
   "execution_count": 7,
   "metadata": {},
   "outputs": [
    {
     "data": {
      "text/html": [
       "<div>\n",
       "<style scoped>\n",
       "    .dataframe tbody tr th:only-of-type {\n",
       "        vertical-align: middle;\n",
       "    }\n",
       "\n",
       "    .dataframe tbody tr th {\n",
       "        vertical-align: top;\n",
       "    }\n",
       "\n",
       "    .dataframe thead th {\n",
       "        text-align: right;\n",
       "    }\n",
       "</style>\n",
       "<table border=\"1\" class=\"dataframe\">\n",
       "  <thead>\n",
       "    <tr style=\"text-align: right;\">\n",
       "      <th></th>\n",
       "      <th>one</th>\n",
       "      <th>two</th>\n",
       "      <th>three</th>\n",
       "      <th>flag</th>\n",
       "      <th>four</th>\n",
       "    </tr>\n",
       "  </thead>\n",
       "  <tbody>\n",
       "    <tr>\n",
       "      <th>a</th>\n",
       "      <td>-0.699358</td>\n",
       "      <td>-0.367836</td>\n",
       "      <td>0.257249</td>\n",
       "      <td>False</td>\n",
       "      <td>-0.710606</td>\n",
       "    </tr>\n",
       "    <tr>\n",
       "      <th>b</th>\n",
       "      <td>0.343071</td>\n",
       "      <td>-0.468591</td>\n",
       "      <td>-0.160760</td>\n",
       "      <td>True</td>\n",
       "      <td>0.483543</td>\n",
       "    </tr>\n",
       "    <tr>\n",
       "      <th>c</th>\n",
       "      <td>0.036996</td>\n",
       "      <td>0.393168</td>\n",
       "      <td>0.014546</td>\n",
       "      <td>True</td>\n",
       "      <td>0.348631</td>\n",
       "    </tr>\n",
       "    <tr>\n",
       "      <th>d</th>\n",
       "      <td>-0.259997</td>\n",
       "      <td>-0.169496</td>\n",
       "      <td>0.044069</td>\n",
       "      <td>False</td>\n",
       "      <td>0.666415</td>\n",
       "    </tr>\n",
       "    <tr>\n",
       "      <th>e</th>\n",
       "      <td>0.251682</td>\n",
       "      <td>0.976648</td>\n",
       "      <td>0.245805</td>\n",
       "      <td>True</td>\n",
       "      <td>1.093861</td>\n",
       "    </tr>\n",
       "  </tbody>\n",
       "</table>\n",
       "</div>"
      ],
      "text/plain": [
       "        one       two     three   flag      four\n",
       "a -0.699358 -0.367836  0.257249  False -0.710606\n",
       "b  0.343071 -0.468591 -0.160760   True  0.483543\n",
       "c  0.036996  0.393168  0.014546   True  0.348631\n",
       "d -0.259997 -0.169496  0.044069  False  0.666415\n",
       "e  0.251682  0.976648  0.245805   True  1.093861"
      ]
     },
     "execution_count": 7,
     "metadata": {},
     "output_type": "execute_result"
    }
   ],
   "source": [
    "df[\"four\"] = np.random.randn(5)\n",
    "df"
   ]
  },
  {
   "cell_type": "code",
   "execution_count": 8,
   "metadata": {},
   "outputs": [
    {
     "data": {
      "text/html": [
       "<div>\n",
       "<style scoped>\n",
       "    .dataframe tbody tr th:only-of-type {\n",
       "        vertical-align: middle;\n",
       "    }\n",
       "\n",
       "    .dataframe tbody tr th {\n",
       "        vertical-align: top;\n",
       "    }\n",
       "\n",
       "    .dataframe thead th {\n",
       "        text-align: right;\n",
       "    }\n",
       "</style>\n",
       "<table border=\"1\" class=\"dataframe\">\n",
       "  <thead>\n",
       "    <tr style=\"text-align: right;\">\n",
       "      <th></th>\n",
       "      <th>one</th>\n",
       "      <th>two</th>\n",
       "      <th>three</th>\n",
       "      <th>flag</th>\n",
       "      <th>four</th>\n",
       "    </tr>\n",
       "  </thead>\n",
       "  <tbody>\n",
       "    <tr>\n",
       "      <th>a</th>\n",
       "      <td>-0.699358</td>\n",
       "      <td>-0.367836</td>\n",
       "      <td>0.257249</td>\n",
       "      <td>False</td>\n",
       "      <td>-0.710606</td>\n",
       "    </tr>\n",
       "    <tr>\n",
       "      <th>b</th>\n",
       "      <td>0.343071</td>\n",
       "      <td>-0.468591</td>\n",
       "      <td>-0.160760</td>\n",
       "      <td>True</td>\n",
       "      <td>0.483543</td>\n",
       "    </tr>\n",
       "    <tr>\n",
       "      <th>c</th>\n",
       "      <td>0.036996</td>\n",
       "      <td>0.393168</td>\n",
       "      <td>0.014546</td>\n",
       "      <td>True</td>\n",
       "      <td>0.348631</td>\n",
       "    </tr>\n",
       "    <tr>\n",
       "      <th>e</th>\n",
       "      <td>0.251682</td>\n",
       "      <td>0.976648</td>\n",
       "      <td>0.245805</td>\n",
       "      <td>True</td>\n",
       "      <td>1.093861</td>\n",
       "    </tr>\n",
       "  </tbody>\n",
       "</table>\n",
       "</div>"
      ],
      "text/plain": [
       "        one       two     three   flag      four\n",
       "a -0.699358 -0.367836  0.257249  False -0.710606\n",
       "b  0.343071 -0.468591 -0.160760   True  0.483543\n",
       "c  0.036996  0.393168  0.014546   True  0.348631\n",
       "e  0.251682  0.976648  0.245805   True  1.093861"
      ]
     },
     "execution_count": 8,
     "metadata": {},
     "output_type": "execute_result"
    }
   ],
   "source": [
    "df.query(\"one > 0 or one <-0.4\")"
   ]
  },
  {
   "cell_type": "code",
   "execution_count": 9,
   "metadata": {},
   "outputs": [
    {
     "data": {
      "text/html": [
       "<div>\n",
       "<style scoped>\n",
       "    .dataframe tbody tr th:only-of-type {\n",
       "        vertical-align: middle;\n",
       "    }\n",
       "\n",
       "    .dataframe tbody tr th {\n",
       "        vertical-align: top;\n",
       "    }\n",
       "\n",
       "    .dataframe thead th {\n",
       "        text-align: right;\n",
       "    }\n",
       "</style>\n",
       "<table border=\"1\" class=\"dataframe\">\n",
       "  <thead>\n",
       "    <tr style=\"text-align: right;\">\n",
       "      <th></th>\n",
       "      <th>one</th>\n",
       "      <th>two</th>\n",
       "      <th>three</th>\n",
       "      <th>flag</th>\n",
       "      <th>four</th>\n",
       "    </tr>\n",
       "  </thead>\n",
       "  <tbody>\n",
       "    <tr>\n",
       "      <th>a</th>\n",
       "      <td>-0.699358</td>\n",
       "      <td>-0.367836</td>\n",
       "      <td>0.257249</td>\n",
       "      <td>False</td>\n",
       "      <td>-0.710606</td>\n",
       "    </tr>\n",
       "    <tr>\n",
       "      <th>c</th>\n",
       "      <td>0.036996</td>\n",
       "      <td>0.393168</td>\n",
       "      <td>0.014546</td>\n",
       "      <td>True</td>\n",
       "      <td>0.348631</td>\n",
       "    </tr>\n",
       "    <tr>\n",
       "      <th>d</th>\n",
       "      <td>-0.259997</td>\n",
       "      <td>-0.169496</td>\n",
       "      <td>0.044069</td>\n",
       "      <td>False</td>\n",
       "      <td>0.666415</td>\n",
       "    </tr>\n",
       "  </tbody>\n",
       "</table>\n",
       "</div>"
      ],
      "text/plain": [
       "        one       two     three   flag      four\n",
       "a -0.699358 -0.367836  0.257249  False -0.710606\n",
       "c  0.036996  0.393168  0.014546   True  0.348631\n",
       "d -0.259997 -0.169496  0.044069  False  0.666415"
      ]
     },
     "execution_count": 9,
     "metadata": {},
     "output_type": "execute_result"
    }
   ],
   "source": [
    "bool_vec = [True, False, True, True, False]\n",
    "df.loc[bool_vec]"
   ]
  },
  {
   "cell_type": "code",
   "execution_count": 10,
   "metadata": {},
   "outputs": [
    {
     "name": "stdout",
     "output_type": "stream",
     "text": [
      "-0.6993582765421072\n",
      "0.3430705701496483\n",
      "0.03699641371599945\n",
      "-0.25999729233767366\n",
      "0.25168193158859964\n"
     ]
    }
   ],
   "source": [
    "for i in df.one:\n",
    "    print(i)"
   ]
  },
  {
   "cell_type": "code",
   "execution_count": 11,
   "metadata": {},
   "outputs": [
    {
     "data": {
      "text/plain": [
       "<bound method NDFrame.describe of           0         1         2         3\n",
       "0  0.056450 -0.561981  0.292224 -1.032540\n",
       "1 -0.097605  0.685053 -1.038240 -2.280225\n",
       "2  1.080143 -0.945918  0.256258 -1.120186\n",
       "3  0.384395 -0.227083 -0.014253 -0.035224\n",
       "4 -1.007753  0.032334  0.290712 -1.712079\n",
       "5  0.166599  0.637564 -0.400357  0.241914\n",
       "6  0.106774  2.129668  0.790257  0.327099\n",
       "7 -1.333696  0.841235  0.778157  0.915879\n",
       "8 -0.404011  0.409247  2.119009  1.265528\n",
       "9  0.353628 -0.305148  1.827461  2.644363>"
      ]
     },
     "execution_count": 11,
     "metadata": {},
     "output_type": "execute_result"
    }
   ],
   "source": [
    "df2 = pd.DataFrame(np.random.randn(10,4))\n",
    "df2.describe"
   ]
  },
  {
   "cell_type": "code",
   "execution_count": 12,
   "metadata": {},
   "outputs": [
    {
     "data": {
      "text/html": [
       "<div>\n",
       "<style scoped>\n",
       "    .dataframe tbody tr th:only-of-type {\n",
       "        vertical-align: middle;\n",
       "    }\n",
       "\n",
       "    .dataframe tbody tr th {\n",
       "        vertical-align: top;\n",
       "    }\n",
       "\n",
       "    .dataframe thead th {\n",
       "        text-align: right;\n",
       "    }\n",
       "</style>\n",
       "<table border=\"1\" class=\"dataframe\">\n",
       "  <thead>\n",
       "    <tr style=\"text-align: right;\">\n",
       "      <th></th>\n",
       "      <th>0</th>\n",
       "      <th>1</th>\n",
       "      <th>2</th>\n",
       "      <th>3</th>\n",
       "    </tr>\n",
       "  </thead>\n",
       "  <tbody>\n",
       "    <tr>\n",
       "      <th>0</th>\n",
       "      <td>0.056450</td>\n",
       "      <td>-0.561981</td>\n",
       "      <td>0.292224</td>\n",
       "      <td>-1.032540</td>\n",
       "    </tr>\n",
       "    <tr>\n",
       "      <th>1</th>\n",
       "      <td>-0.097605</td>\n",
       "      <td>0.685053</td>\n",
       "      <td>-1.038240</td>\n",
       "      <td>-2.280225</td>\n",
       "    </tr>\n",
       "    <tr>\n",
       "      <th>2</th>\n",
       "      <td>1.080143</td>\n",
       "      <td>-0.945918</td>\n",
       "      <td>0.256258</td>\n",
       "      <td>-1.120186</td>\n",
       "    </tr>\n",
       "    <tr>\n",
       "      <th>3</th>\n",
       "      <td>0.384395</td>\n",
       "      <td>-0.227083</td>\n",
       "      <td>-0.014253</td>\n",
       "      <td>-0.035224</td>\n",
       "    </tr>\n",
       "    <tr>\n",
       "      <th>4</th>\n",
       "      <td>-1.007753</td>\n",
       "      <td>0.032334</td>\n",
       "      <td>0.290712</td>\n",
       "      <td>-1.712079</td>\n",
       "    </tr>\n",
       "    <tr>\n",
       "      <th>5</th>\n",
       "      <td>0.166599</td>\n",
       "      <td>0.637564</td>\n",
       "      <td>-0.400357</td>\n",
       "      <td>0.241914</td>\n",
       "    </tr>\n",
       "    <tr>\n",
       "      <th>6</th>\n",
       "      <td>0.106774</td>\n",
       "      <td>2.129668</td>\n",
       "      <td>0.790257</td>\n",
       "      <td>0.327099</td>\n",
       "    </tr>\n",
       "    <tr>\n",
       "      <th>7</th>\n",
       "      <td>-1.333696</td>\n",
       "      <td>0.841235</td>\n",
       "      <td>0.778157</td>\n",
       "      <td>0.915879</td>\n",
       "    </tr>\n",
       "    <tr>\n",
       "      <th>8</th>\n",
       "      <td>-0.404011</td>\n",
       "      <td>0.409247</td>\n",
       "      <td>2.119009</td>\n",
       "      <td>1.265528</td>\n",
       "    </tr>\n",
       "    <tr>\n",
       "      <th>9</th>\n",
       "      <td>0.353628</td>\n",
       "      <td>-0.305148</td>\n",
       "      <td>1.827461</td>\n",
       "      <td>2.644363</td>\n",
       "    </tr>\n",
       "  </tbody>\n",
       "</table>\n",
       "</div>"
      ],
      "text/plain": [
       "          0         1         2         3\n",
       "0  0.056450 -0.561981  0.292224 -1.032540\n",
       "1 -0.097605  0.685053 -1.038240 -2.280225\n",
       "2  1.080143 -0.945918  0.256258 -1.120186\n",
       "3  0.384395 -0.227083 -0.014253 -0.035224\n",
       "4 -1.007753  0.032334  0.290712 -1.712079\n",
       "5  0.166599  0.637564 -0.400357  0.241914\n",
       "6  0.106774  2.129668  0.790257  0.327099\n",
       "7 -1.333696  0.841235  0.778157  0.915879\n",
       "8 -0.404011  0.409247  2.119009  1.265528\n",
       "9  0.353628 -0.305148  1.827461  2.644363"
      ]
     },
     "execution_count": 12,
     "metadata": {},
     "output_type": "execute_result"
    }
   ],
   "source": [
    "df2"
   ]
  },
  {
   "cell_type": "code",
   "execution_count": 13,
   "metadata": {},
   "outputs": [
    {
     "data": {
      "text/html": [
       "<div>\n",
       "<style scoped>\n",
       "    .dataframe tbody tr th:only-of-type {\n",
       "        vertical-align: middle;\n",
       "    }\n",
       "\n",
       "    .dataframe tbody tr th {\n",
       "        vertical-align: top;\n",
       "    }\n",
       "\n",
       "    .dataframe thead th {\n",
       "        text-align: right;\n",
       "    }\n",
       "</style>\n",
       "<table border=\"1\" class=\"dataframe\">\n",
       "  <thead>\n",
       "    <tr style=\"text-align: right;\">\n",
       "      <th></th>\n",
       "      <th>0</th>\n",
       "      <th>1</th>\n",
       "      <th>2</th>\n",
       "      <th>3</th>\n",
       "    </tr>\n",
       "  </thead>\n",
       "  <tbody>\n",
       "    <tr>\n",
       "      <th>0</th>\n",
       "      <td>0.056450</td>\n",
       "      <td>-0.561981</td>\n",
       "      <td>0.292224</td>\n",
       "      <td>-1.032540</td>\n",
       "    </tr>\n",
       "    <tr>\n",
       "      <th>1</th>\n",
       "      <td>-0.097605</td>\n",
       "      <td>0.685053</td>\n",
       "      <td>-1.038240</td>\n",
       "      <td>-2.280225</td>\n",
       "    </tr>\n",
       "    <tr>\n",
       "      <th>2</th>\n",
       "      <td>1.080143</td>\n",
       "      <td>-0.945918</td>\n",
       "      <td>0.256258</td>\n",
       "      <td>-1.120186</td>\n",
       "    </tr>\n",
       "    <tr>\n",
       "      <th>3</th>\n",
       "      <td>0.384395</td>\n",
       "      <td>-0.227083</td>\n",
       "      <td>-0.014253</td>\n",
       "      <td>-0.035224</td>\n",
       "    </tr>\n",
       "    <tr>\n",
       "      <th>4</th>\n",
       "      <td>-1.007753</td>\n",
       "      <td>0.032334</td>\n",
       "      <td>0.290712</td>\n",
       "      <td>-1.712079</td>\n",
       "    </tr>\n",
       "    <tr>\n",
       "      <th>5</th>\n",
       "      <td>0.166599</td>\n",
       "      <td>0.637564</td>\n",
       "      <td>-0.400357</td>\n",
       "      <td>0.241914</td>\n",
       "    </tr>\n",
       "    <tr>\n",
       "      <th>6</th>\n",
       "      <td>0.106774</td>\n",
       "      <td>2.129668</td>\n",
       "      <td>0.790257</td>\n",
       "      <td>0.327099</td>\n",
       "    </tr>\n",
       "    <tr>\n",
       "      <th>7</th>\n",
       "      <td>-1.333696</td>\n",
       "      <td>0.841235</td>\n",
       "      <td>0.778157</td>\n",
       "      <td>0.915879</td>\n",
       "    </tr>\n",
       "    <tr>\n",
       "      <th>8</th>\n",
       "      <td>-0.404011</td>\n",
       "      <td>0.409247</td>\n",
       "      <td>2.119009</td>\n",
       "      <td>1.265528</td>\n",
       "    </tr>\n",
       "    <tr>\n",
       "      <th>9</th>\n",
       "      <td>0.353628</td>\n",
       "      <td>-0.305148</td>\n",
       "      <td>1.827461</td>\n",
       "      <td>2.644363</td>\n",
       "    </tr>\n",
       "  </tbody>\n",
       "</table>\n",
       "</div>"
      ],
      "text/plain": [
       "          0         1         2         3\n",
       "0  0.056450 -0.561981  0.292224 -1.032540\n",
       "1 -0.097605  0.685053 -1.038240 -2.280225\n",
       "2  1.080143 -0.945918  0.256258 -1.120186\n",
       "3  0.384395 -0.227083 -0.014253 -0.035224\n",
       "4 -1.007753  0.032334  0.290712 -1.712079\n",
       "5  0.166599  0.637564 -0.400357  0.241914\n",
       "6  0.106774  2.129668  0.790257  0.327099\n",
       "7 -1.333696  0.841235  0.778157  0.915879\n",
       "8 -0.404011  0.409247  2.119009  1.265528\n",
       "9  0.353628 -0.305148  1.827461  2.644363"
      ]
     },
     "execution_count": 13,
     "metadata": {},
     "output_type": "execute_result"
    }
   ],
   "source": [
    "df3 = df2.sort_values(by=0)\n",
    "df4 = df3.sort_index()\n",
    "df4"
   ]
  },
  {
   "cell_type": "code",
   "execution_count": 14,
   "metadata": {},
   "outputs": [
    {
     "data": {
      "text/html": [
       "<div>\n",
       "<style scoped>\n",
       "    .dataframe tbody tr th:only-of-type {\n",
       "        vertical-align: middle;\n",
       "    }\n",
       "\n",
       "    .dataframe tbody tr th {\n",
       "        vertical-align: top;\n",
       "    }\n",
       "\n",
       "    .dataframe thead th {\n",
       "        text-align: right;\n",
       "    }\n",
       "</style>\n",
       "<table border=\"1\" class=\"dataframe\">\n",
       "  <thead>\n",
       "    <tr style=\"text-align: right;\">\n",
       "      <th></th>\n",
       "      <th>one</th>\n",
       "      <th>two</th>\n",
       "      <th>three</th>\n",
       "      <th>flag</th>\n",
       "      <th>four</th>\n",
       "    </tr>\n",
       "  </thead>\n",
       "  <tbody>\n",
       "    <tr>\n",
       "      <th>a</th>\n",
       "      <td>-0.699358</td>\n",
       "      <td>-0.367836</td>\n",
       "      <td>0.257249</td>\n",
       "      <td>False</td>\n",
       "      <td>-0.710606</td>\n",
       "    </tr>\n",
       "    <tr>\n",
       "      <th>b</th>\n",
       "      <td>0.343071</td>\n",
       "      <td>-0.468591</td>\n",
       "      <td>-0.160760</td>\n",
       "      <td>True</td>\n",
       "      <td>0.483543</td>\n",
       "    </tr>\n",
       "    <tr>\n",
       "      <th>c</th>\n",
       "      <td>0.036996</td>\n",
       "      <td>0.393168</td>\n",
       "      <td>0.014546</td>\n",
       "      <td>True</td>\n",
       "      <td>0.348631</td>\n",
       "    </tr>\n",
       "    <tr>\n",
       "      <th>d</th>\n",
       "      <td>-0.259997</td>\n",
       "      <td>-0.169496</td>\n",
       "      <td>0.044069</td>\n",
       "      <td>False</td>\n",
       "      <td>0.666415</td>\n",
       "    </tr>\n",
       "    <tr>\n",
       "      <th>e</th>\n",
       "      <td>0.251682</td>\n",
       "      <td>0.976648</td>\n",
       "      <td>0.245805</td>\n",
       "      <td>True</td>\n",
       "      <td>1.093861</td>\n",
       "    </tr>\n",
       "  </tbody>\n",
       "</table>\n",
       "</div>"
      ],
      "text/plain": [
       "        one       two     three   flag      four\n",
       "a -0.699358 -0.367836  0.257249  False -0.710606\n",
       "b  0.343071 -0.468591 -0.160760   True  0.483543\n",
       "c  0.036996  0.393168  0.014546   True  0.348631\n",
       "d -0.259997 -0.169496  0.044069  False  0.666415\n",
       "e  0.251682  0.976648  0.245805   True  1.093861"
      ]
     },
     "execution_count": 14,
     "metadata": {},
     "output_type": "execute_result"
    }
   ],
   "source": [
    "df"
   ]
  },
  {
   "cell_type": "code",
   "execution_count": 15,
   "metadata": {},
   "outputs": [
    {
     "data": {
      "text/html": [
       "<div>\n",
       "<style scoped>\n",
       "    .dataframe tbody tr th:only-of-type {\n",
       "        vertical-align: middle;\n",
       "    }\n",
       "\n",
       "    .dataframe tbody tr th {\n",
       "        vertical-align: top;\n",
       "    }\n",
       "\n",
       "    .dataframe thead th {\n",
       "        text-align: right;\n",
       "    }\n",
       "</style>\n",
       "<table border=\"1\" class=\"dataframe\">\n",
       "  <thead>\n",
       "    <tr style=\"text-align: right;\">\n",
       "      <th></th>\n",
       "      <th>one</th>\n",
       "      <th>two</th>\n",
       "    </tr>\n",
       "  </thead>\n",
       "  <tbody>\n",
       "    <tr>\n",
       "      <th>a</th>\n",
       "      <td>-0.699358</td>\n",
       "      <td>-0.367836</td>\n",
       "    </tr>\n",
       "    <tr>\n",
       "      <th>b</th>\n",
       "      <td>0.343071</td>\n",
       "      <td>-0.468591</td>\n",
       "    </tr>\n",
       "  </tbody>\n",
       "</table>\n",
       "</div>"
      ],
      "text/plain": [
       "        one       two\n",
       "a -0.699358 -0.367836\n",
       "b  0.343071 -0.468591"
      ]
     },
     "execution_count": 15,
     "metadata": {},
     "output_type": "execute_result"
    }
   ],
   "source": [
    "df.loc[[\"a\", \"b\"], [\"one\", \"two\"]]"
   ]
  },
  {
   "cell_type": "code",
   "execution_count": 16,
   "metadata": {},
   "outputs": [
    {
     "data": {
      "text/html": [
       "<div>\n",
       "<style scoped>\n",
       "    .dataframe tbody tr th:only-of-type {\n",
       "        vertical-align: middle;\n",
       "    }\n",
       "\n",
       "    .dataframe tbody tr th {\n",
       "        vertical-align: top;\n",
       "    }\n",
       "\n",
       "    .dataframe thead th {\n",
       "        text-align: right;\n",
       "    }\n",
       "</style>\n",
       "<table border=\"1\" class=\"dataframe\">\n",
       "  <thead>\n",
       "    <tr style=\"text-align: right;\">\n",
       "      <th></th>\n",
       "      <th>one</th>\n",
       "      <th>two</th>\n",
       "    </tr>\n",
       "  </thead>\n",
       "  <tbody>\n",
       "    <tr>\n",
       "      <th>a</th>\n",
       "      <td>-0.699358</td>\n",
       "      <td>-0.367836</td>\n",
       "    </tr>\n",
       "    <tr>\n",
       "      <th>c</th>\n",
       "      <td>0.036996</td>\n",
       "      <td>0.393168</td>\n",
       "    </tr>\n",
       "  </tbody>\n",
       "</table>\n",
       "</div>"
      ],
      "text/plain": [
       "        one       two\n",
       "a -0.699358 -0.367836\n",
       "c  0.036996  0.393168"
      ]
     },
     "execution_count": 16,
     "metadata": {},
     "output_type": "execute_result"
    }
   ],
   "source": [
    "df.iloc[[0,2], 0:2]"
   ]
  },
  {
   "cell_type": "code",
   "execution_count": 17,
   "metadata": {},
   "outputs": [
    {
     "data": {
      "text/html": [
       "<div>\n",
       "<style scoped>\n",
       "    .dataframe tbody tr th:only-of-type {\n",
       "        vertical-align: middle;\n",
       "    }\n",
       "\n",
       "    .dataframe tbody tr th {\n",
       "        vertical-align: top;\n",
       "    }\n",
       "\n",
       "    .dataframe thead th {\n",
       "        text-align: right;\n",
       "    }\n",
       "</style>\n",
       "<table border=\"1\" class=\"dataframe\">\n",
       "  <thead>\n",
       "    <tr style=\"text-align: right;\">\n",
       "      <th></th>\n",
       "      <th>one</th>\n",
       "      <th>two</th>\n",
       "      <th>three</th>\n",
       "      <th>flag</th>\n",
       "      <th>four</th>\n",
       "    </tr>\n",
       "  </thead>\n",
       "  <tbody>\n",
       "    <tr>\n",
       "      <th>b</th>\n",
       "      <td>0.343071</td>\n",
       "      <td>-0.468591</td>\n",
       "      <td>-0.160760</td>\n",
       "      <td>True</td>\n",
       "      <td>0.483543</td>\n",
       "    </tr>\n",
       "    <tr>\n",
       "      <th>c</th>\n",
       "      <td>0.036996</td>\n",
       "      <td>0.393168</td>\n",
       "      <td>0.014546</td>\n",
       "      <td>True</td>\n",
       "      <td>0.348631</td>\n",
       "    </tr>\n",
       "    <tr>\n",
       "      <th>e</th>\n",
       "      <td>0.251682</td>\n",
       "      <td>0.976648</td>\n",
       "      <td>0.245805</td>\n",
       "      <td>True</td>\n",
       "      <td>1.093861</td>\n",
       "    </tr>\n",
       "  </tbody>\n",
       "</table>\n",
       "</div>"
      ],
      "text/plain": [
       "        one       two     three  flag      four\n",
       "b  0.343071 -0.468591 -0.160760  True  0.483543\n",
       "c  0.036996  0.393168  0.014546  True  0.348631\n",
       "e  0.251682  0.976648  0.245805  True  1.093861"
      ]
     },
     "execution_count": 17,
     "metadata": {},
     "output_type": "execute_result"
    }
   ],
   "source": [
    "df[df[\"flag\"].isin([True])]"
   ]
  },
  {
   "cell_type": "code",
   "execution_count": 18,
   "metadata": {},
   "outputs": [
    {
     "data": {
      "text/plain": [
       "DatetimeIndex(['2021-03-01 00:00:00', '2021-03-01 12:00:00',\n",
       "               '2021-03-02 00:00:00', '2021-03-02 12:00:00',\n",
       "               '2021-03-03 00:00:00', '2021-03-03 12:00:00',\n",
       "               '2021-03-04 00:00:00'],\n",
       "              dtype='datetime64[ns]', freq='12H')"
      ]
     },
     "execution_count": 18,
     "metadata": {},
     "output_type": "execute_result"
    }
   ],
   "source": [
    "pd.date_range(start= \"20210301\", end=\"20210304\", freq=\"12H\")"
   ]
  },
  {
   "cell_type": "code",
   "execution_count": 19,
   "metadata": {},
   "outputs": [
    {
     "data": {
      "text/plain": [
       "one        two        three      flag   four     \n",
       "-0.699358  -0.367836   0.257249  False  -0.710606    1\n",
       "-0.259997  -0.169496   0.044069  False   0.666415    1\n",
       " 0.036996   0.393168   0.014546  True    0.348631    1\n",
       " 0.251682   0.976648   0.245805  True    1.093861    1\n",
       " 0.343071  -0.468591  -0.160760  True    0.483543    1\n",
       "dtype: int64"
      ]
     },
     "execution_count": 19,
     "metadata": {},
     "output_type": "execute_result"
    }
   ],
   "source": [
    "df.value_counts()"
   ]
  },
  {
   "cell_type": "code",
   "execution_count": 20,
   "metadata": {},
   "outputs": [
    {
     "data": {
      "text/html": [
       "<div>\n",
       "<style scoped>\n",
       "    .dataframe tbody tr th:only-of-type {\n",
       "        vertical-align: middle;\n",
       "    }\n",
       "\n",
       "    .dataframe tbody tr th {\n",
       "        vertical-align: top;\n",
       "    }\n",
       "\n",
       "    .dataframe thead th {\n",
       "        text-align: right;\n",
       "    }\n",
       "</style>\n",
       "<table border=\"1\" class=\"dataframe\">\n",
       "  <thead>\n",
       "    <tr style=\"text-align: right;\">\n",
       "      <th></th>\n",
       "      <th>A</th>\n",
       "      <th>B</th>\n",
       "      <th>C</th>\n",
       "      <th>D</th>\n",
       "    </tr>\n",
       "  </thead>\n",
       "  <tbody>\n",
       "    <tr>\n",
       "      <th>0</th>\n",
       "      <td>foo</td>\n",
       "      <td>one</td>\n",
       "      <td>-0.320026</td>\n",
       "      <td>-1.820391</td>\n",
       "    </tr>\n",
       "    <tr>\n",
       "      <th>1</th>\n",
       "      <td>bar</td>\n",
       "      <td>one</td>\n",
       "      <td>-1.542178</td>\n",
       "      <td>0.708306</td>\n",
       "    </tr>\n",
       "    <tr>\n",
       "      <th>2</th>\n",
       "      <td>foo</td>\n",
       "      <td>two</td>\n",
       "      <td>-1.368014</td>\n",
       "      <td>-1.217263</td>\n",
       "    </tr>\n",
       "    <tr>\n",
       "      <th>3</th>\n",
       "      <td>bar</td>\n",
       "      <td>three</td>\n",
       "      <td>-0.830467</td>\n",
       "      <td>-1.115671</td>\n",
       "    </tr>\n",
       "    <tr>\n",
       "      <th>4</th>\n",
       "      <td>foo</td>\n",
       "      <td>two</td>\n",
       "      <td>0.159063</td>\n",
       "      <td>-1.089411</td>\n",
       "    </tr>\n",
       "    <tr>\n",
       "      <th>5</th>\n",
       "      <td>bar</td>\n",
       "      <td>two</td>\n",
       "      <td>0.767486</td>\n",
       "      <td>1.691530</td>\n",
       "    </tr>\n",
       "    <tr>\n",
       "      <th>6</th>\n",
       "      <td>foo</td>\n",
       "      <td>one</td>\n",
       "      <td>-1.794855</td>\n",
       "      <td>1.284288</td>\n",
       "    </tr>\n",
       "    <tr>\n",
       "      <th>7</th>\n",
       "      <td>foo</td>\n",
       "      <td>three</td>\n",
       "      <td>0.384774</td>\n",
       "      <td>-0.201920</td>\n",
       "    </tr>\n",
       "  </tbody>\n",
       "</table>\n",
       "</div>"
      ],
      "text/plain": [
       "     A      B         C         D\n",
       "0  foo    one -0.320026 -1.820391\n",
       "1  bar    one -1.542178  0.708306\n",
       "2  foo    two -1.368014 -1.217263\n",
       "3  bar  three -0.830467 -1.115671\n",
       "4  foo    two  0.159063 -1.089411\n",
       "5  bar    two  0.767486  1.691530\n",
       "6  foo    one -1.794855  1.284288\n",
       "7  foo  three  0.384774 -0.201920"
      ]
     },
     "execution_count": 20,
     "metadata": {},
     "output_type": "execute_result"
    }
   ],
   "source": [
    "df5 = pd.DataFrame(\n",
    "\n",
    "    {\n",
    "\n",
    "        \"A\": [\"foo\", \"bar\", \"foo\", \"bar\", \"foo\", \"bar\", \"foo\", \"foo\"],\n",
    "\n",
    "        \"B\": [\"one\", \"one\", \"two\", \"three\", \"two\", \"two\", \"one\", \"three\"],\n",
    "\n",
    "        \"C\": np.random.randn(8),\n",
    "\n",
    "        \"D\": np.random.randn(8),\n",
    "\n",
    "    }\n",
    "\n",
    ")\n",
    "df5"
   ]
  },
  {
   "cell_type": "code",
   "execution_count": 21,
   "metadata": {},
   "outputs": [
    {
     "data": {
      "text/html": [
       "<div>\n",
       "<style scoped>\n",
       "    .dataframe tbody tr th:only-of-type {\n",
       "        vertical-align: middle;\n",
       "    }\n",
       "\n",
       "    .dataframe tbody tr th {\n",
       "        vertical-align: top;\n",
       "    }\n",
       "\n",
       "    .dataframe thead th {\n",
       "        text-align: right;\n",
       "    }\n",
       "</style>\n",
       "<table border=\"1\" class=\"dataframe\">\n",
       "  <thead>\n",
       "    <tr style=\"text-align: right;\">\n",
       "      <th></th>\n",
       "      <th></th>\n",
       "      <th>C</th>\n",
       "      <th>D</th>\n",
       "    </tr>\n",
       "    <tr>\n",
       "      <th>A</th>\n",
       "      <th>B</th>\n",
       "      <th></th>\n",
       "      <th></th>\n",
       "    </tr>\n",
       "  </thead>\n",
       "  <tbody>\n",
       "    <tr>\n",
       "      <th rowspan=\"3\" valign=\"top\">bar</th>\n",
       "      <th>one</th>\n",
       "      <td>-1.542178</td>\n",
       "      <td>0.708306</td>\n",
       "    </tr>\n",
       "    <tr>\n",
       "      <th>three</th>\n",
       "      <td>-0.830467</td>\n",
       "      <td>-1.115671</td>\n",
       "    </tr>\n",
       "    <tr>\n",
       "      <th>two</th>\n",
       "      <td>0.767486</td>\n",
       "      <td>1.691530</td>\n",
       "    </tr>\n",
       "    <tr>\n",
       "      <th rowspan=\"3\" valign=\"top\">foo</th>\n",
       "      <th>one</th>\n",
       "      <td>-1.057441</td>\n",
       "      <td>-0.268051</td>\n",
       "    </tr>\n",
       "    <tr>\n",
       "      <th>three</th>\n",
       "      <td>0.384774</td>\n",
       "      <td>-0.201920</td>\n",
       "    </tr>\n",
       "    <tr>\n",
       "      <th>two</th>\n",
       "      <td>-0.604475</td>\n",
       "      <td>-1.153337</td>\n",
       "    </tr>\n",
       "  </tbody>\n",
       "</table>\n",
       "</div>"
      ],
      "text/plain": [
       "                  C         D\n",
       "A   B                        \n",
       "bar one   -1.542178  0.708306\n",
       "    three -0.830467 -1.115671\n",
       "    two    0.767486  1.691530\n",
       "foo one   -1.057441 -0.268051\n",
       "    three  0.384774 -0.201920\n",
       "    two   -0.604475 -1.153337"
      ]
     },
     "execution_count": 21,
     "metadata": {},
     "output_type": "execute_result"
    }
   ],
   "source": [
    "df6 = df5.groupby([\"A\", \"B\"]).mean()\n",
    "df6"
   ]
  },
  {
   "cell_type": "code",
   "execution_count": 22,
   "metadata": {},
   "outputs": [
    {
     "data": {
      "text/plain": [
       "pandas.core.series.Series"
      ]
     },
     "execution_count": 22,
     "metadata": {},
     "output_type": "execute_result"
    }
   ],
   "source": [
    "type(df6[\"C\"])"
   ]
  }
 ],
 "metadata": {
  "interpreter": {
   "hash": "85c0dbb8a8370b12144789c1d52a926d4fc5a933acd5ac3a4d5d32d721e57c89"
  },
  "kernelspec": {
   "display_name": "Python 3.7.11 ('py_btms_controller')",
   "language": "python",
   "name": "python3"
  },
  "language_info": {
   "codemirror_mode": {
    "name": "ipython",
    "version": 3
   },
   "file_extension": ".py",
   "mimetype": "text/x-python",
   "name": "python",
   "nbconvert_exporter": "python",
   "pygments_lexer": "ipython3",
   "version": "3.7.11"
  },
  "orig_nbformat": 4
 },
 "nbformat": 4,
 "nbformat_minor": 2
}
