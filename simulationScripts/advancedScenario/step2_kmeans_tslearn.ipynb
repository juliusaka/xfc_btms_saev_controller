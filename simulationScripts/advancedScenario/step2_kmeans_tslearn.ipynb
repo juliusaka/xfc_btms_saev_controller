{
 "cells": [
  {
   "cell_type": "code",
   "execution_count": 4,
   "metadata": {},
   "outputs": [],
   "source": [
    "import numpy\n",
    "import matplotlib.pyplot as plt\n",
    "from tslearn.clustering import TimeSeriesKMeans\n",
    "from tslearn.preprocessing import TimeSeriesScalerMeanVariance, TimeSeriesResampler\n",
    "import numpy as np\n",
    "from config import *\n"
   ]
  },
  {
   "attachments": {},
   "cell_type": "markdown",
   "metadata": {},
   "source": [
    "## load data"
   ]
  },
  {
   "cell_type": "code",
   "execution_count": 5,
   "metadata": {},
   "outputs": [],
   "source": [
    "from config import *\n",
    "import pandas as pd\n",
    "import numpy as np\n",
    "import matplotlib.pyplot as plt\n",
    "import os\n",
    "\n",
    "# import all charging power predictions from directory\n",
    "df_list = []\n",
    "for file in os.listdir(result_directory + os.sep + \"generatePredictions\"):\n",
    "    if file.endswith(\".csv\"):\n",
    "        df_loaded = pd.read_csv(result_directory + os.sep + \"generatePredictions\" + os.sep + file, index_col = 0)\n",
    "        # append one column to the dataframe\n",
    "        df_list.append(df_loaded)\n",
    "\n",
    "choose_column = \"Power_original\""
   ]
  },
  {
   "cell_type": "code",
   "execution_count": 6,
   "metadata": {},
   "outputs": [],
   "source": [
    "# get taz number of each charging station\n",
    "taz_list = []\n",
    "for file in os.listdir(result_directory + os.sep + \"generatePredictions\"):\n",
    "    if file.endswith(\".csv\"):\n",
    "        taz_list.append(file.split(\".\")[0])"
   ]
  },
  {
   "cell_type": "code",
   "execution_count": 7,
   "metadata": {},
   "outputs": [],
   "source": [
    "def construct_numpy_array(df_list, choose_column):\n",
    "    # construct numpy array\n",
    "    array = np.zeros((len(df_list), len(df_list[0]))) # vector of shape (number of charging stations, number of time steps)\n",
    "    timevector = df_list[0][\"time\"].to_numpy()\n",
    "    for i in range(len(df_list)):\n",
    "        array[i] = df_list[i][choose_column]\n",
    "    return array, timevector\n",
    "\n",
    "array, timevector = construct_numpy_array(df_list, \"Power_original\")"
   ]
  },
  {
   "attachments": {},
   "cell_type": "markdown",
   "metadata": {},
   "source": [
    "#### plot all predictions"
   ]
  },
  {
   "cell_type": "code",
   "execution_count": 8,
   "metadata": {},
   "outputs": [
    {
     "data": {
      "image/png": "[encoded data removed]",
      "text/plain": [
       "<Figure size 259.92x120.96 with 1 Axes>"
      ]
     },
     "metadata": {
      "needs_background": "light"
     },
     "output_type": "display_data"
    }
   ],
   "source": [
    "# plot all charging power predictions in one figure\n",
    "plt.figure()\n",
    "pltSettings()\n",
    "# set the color of the lines\n",
    "colors = plt.cm.jet(np.linspace(0,1,array.shape[0]))\n",
    "for i in range(array.shape[0]):\n",
    "    plt.plot(timevector/3600, array[i], color = 'dimgrey', alpha = 0.15, linewidth = 0.2)\n",
    "plt.xlabel(\"time [h]\")\n",
    "plt.ylabel(\"charging power [kW]\")\n",
    "#plt.title(\"Charging power predictions\")\n",
    "ax = plt.gca()\n",
    "ax.set_xlim([0,24])\n",
    "ax.set_xticks(np.arange(0,25,2))\n",
    "# set minor ticks inbetween\n",
    "ax.set_xticks(np.arange(0,25,1), minor = True)\n",
    "ax.set_yticks(np.arange(0, array.max(), 300))\n",
    "fig = plt.gcf()\n",
    "fig.set_size_inches(plotSizeX, 1.4* plotSizeY) #6.6, 2.7)\n",
    "\n",
    "# save figure as pdf\n",
    "fig.savefig(directory_figures + os.sep + \"chargingPowerPredictions.pdf\", bbox_inches='tight')"
   ]
  },
  {
   "attachments": {},
   "cell_type": "markdown",
   "metadata": {},
   "source": [
    "## k means dtw"
   ]
  },
  {
   "cell_type": "code",
   "execution_count": 96,
   "metadata": {},
   "outputs": [],
   "source": [
    "timestep_in_min_new = 180\n",
    "timestep_new = timestep_in_min_new*60 # 15 minutes\n",
    "timevector_new = np.arange(1, 24*3600, timestep_new)\n",
    "array_new = np.zeros((array.shape[0], len(timevector_new)))\n",
    "for i in range(array.shape[0]):# loop through charging station\n",
    "    j0 = 0\n",
    "    for j in range(len(timevector_new)):# loop through time steps\n",
    "        array_new[i,j] = sum(array[i, j0:j0+timestep_in_min_new]*timestep/3.6e3) # to calculate energy, multiply with timestep/3.6e3 in kWh\n",
    "        j0 = j0 + timestep_in_min_new"
   ]
  },
  {
   "cell_type": "code",
   "execution_count": 101,
   "metadata": {},
   "outputs": [
    {
     "name": "stderr",
     "output_type": "stream",
     "text": [
      "100%|██████████| 18/18 [00:06<00:00,  2.89it/s]\n"
     ]
    }
   ],
   "source": [
    "import tqdm\n",
    "n_clusters_list = np.arange(2, 20, 1)\n",
    "dba_km_list = []\n",
    "cluster_found_list=[]\n",
    "silhouette_scores = []\n",
    "\n",
    "X = TimeSeriesScalerMeanVariance().fit_transform(array_new)\n",
    "\n",
    "for n_clusters in tqdm.tqdm(n_clusters_list):\n",
    "    dba_km = TimeSeriesKMeans(n_clusters=n_clusters, metric=\"euclidean\", verbose=False, n_jobs = -1)\n",
    "    cluster_found = dba_km.fit_predict(X)\n",
    "    cluster_found_list.append(cluster_found)\n",
    "    silhouette_scores.append(dba_km.inertia_)\n",
    "    dba_km_list.append(dba_km)"
   ]
  },
  {
   "cell_type": "code",
   "execution_count": 102,
   "metadata": {},
   "outputs": [
    {
     "data": {
      "text/plain": [
       "Text(0.5, 1.0, 'Silhouette scores')"
      ]
     },
     "execution_count": 102,
     "metadata": {},
     "output_type": "execute_result"
    },
    {
     "data": {
      "image/png": "[encoded data removed]",
      "text/plain": [
       "<Figure size 432x288 with 1 Axes>"
      ]
     },
     "metadata": {
      "needs_background": "light"
     },
     "output_type": "display_data"
    }
   ],
   "source": [
    "%matplotlib inline\n",
    "plt.figure\n",
    "plt.plot(n_clusters_list, silhouette_scores, color = 'dimgrey', linewidth = 0.5)\n",
    "plt.xlabel(\"number of clusters\")\n",
    "plt.ylabel(\"inertia score\")\n",
    "plt.title(\"Silhouette scores\")"
   ]
  },
  {
   "cell_type": "code",
   "execution_count": 105,
   "metadata": {},
   "outputs": [],
   "source": [
    "# plot clusters\n",
    "%matplotlib qt\n",
    "n_clusters = 10\n",
    "n_clusters_real = n_clusters-2\n",
    "dba_km = dba_km_list[n_clusters_real]\n",
    "cluster_found = cluster_found_list[n_clusters_real]\n",
    "cluster_found = pd.Series(cluster_found, name = \"cluster\")\n",
    "\n",
    "fig, ax = plt. subplots(1,n_clusters)\n",
    "color_list = plt.cm.hsv(np.linspace(0,1,n_clusters))\n",
    "df_array = pd.DataFrame(array_new)\n",
    "\n",
    "for i in range(n_clusters):\n",
    "    cluster = cluster_found[cluster_found == i]\n",
    "    for j in cluster.index:\n",
    "        ax[i].step(timevector_new/3600, array_new[j], color = color_list[i], alpha = 0.30, linewidth = 1)\n",
    "    cluster = cluster_found[cluster_found == i]\n",
    "    #ax[i].plot(timevector_new/3600, array_new[cluster.index].median(axis = 0), color = color_list[i], linewidth = 4)\n",
    "    ax[i].plot(timevector_new/3600, dba_km.cluster_centers_[i].ravel(), color = color_list[i], linewidth = 4)\n",
    "    # make color a bit darker\n",
    "\n",
    "fig.set_size_inches(15,4)"
   ]
  }
 ],
 "metadata": {
  "kernelspec": {
   "display_name": "py_btms_controller",
   "language": "python",
   "name": "python3"
  },
  "language_info": {
   "codemirror_mode": {
    "name": "ipython",
    "version": 3
   },
   "file_extension": ".py",
   "mimetype": "text/x-python",
   "name": "python",
   "nbconvert_exporter": "python",
   "pygments_lexer": "ipython3",
   "version": "3.7.12 | packaged by conda-forge | (default, Oct 26 2021, 05:37:49) [MSC v.1916 64 bit (AMD64)]"
  },
  "orig_nbformat": 4,
  "vscode": {
   "interpreter": {
    "hash": "9478aa59fb21f09a65f1f155627aebe0f290791ff3152ffe0eaa81705a6b9515"
   }
  }
 },
 "nbformat": 4,
 "nbformat_minor": 2
}
