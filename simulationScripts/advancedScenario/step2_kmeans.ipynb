{
 "cells": [
  {
   "cell_type": "code",
   "execution_count": 1,
   "metadata": {},
   "outputs": [],
   "source": [
    "from config import *\n",
    "import pandas as pd\n",
    "import numpy as np\n",
    "import matplotlib.pyplot as plt\n",
    "import os\n",
    "\n",
    "# import all charging power predictions from directory\n",
    "df_list = []\n",
    "for file in os.listdir(result_directory + os.sep + \"generatePredictions\"):\n",
    "    if file.endswith(\".csv\"):\n",
    "        df_loaded = pd.read_csv(result_directory + os.sep + \"generatePredictions\" + os.sep + file, index_col = 0)\n",
    "        # append one column to the dataframe\n",
    "        df_list.append(df_loaded)\n",
    "\n",
    "choose_column = \"Power_original\""
   ]
  },
  {
   "cell_type": "code",
   "execution_count": 2,
   "metadata": {},
   "outputs": [],
   "source": [
    "# get taz number of each charging station\n",
    "taz_list = []\n",
    "for file in os.listdir(result_directory + os.sep + \"generatePredictions\"):\n",
    "    if file.endswith(\".csv\"):\n",
    "        taz_list.append(file.split(\".\")[0])"
   ]
  },
  {
   "cell_type": "code",
   "execution_count": 3,
   "metadata": {},
   "outputs": [],
   "source": [
    "def construct_numpy_array(df_list, choose_column):\n",
    "    # construct numpy array\n",
    "    array = np.zeros((len(df_list), len(df_list[0]))) # vector of shape (number of charging stations, number of time steps)\n",
    "    timevector = df_list[0][\"time\"].to_numpy()\n",
    "    for i in range(len(df_list)):\n",
    "        array[i] = df_list[i][choose_column]\n",
    "    return array, timevector\n",
    "\n",
    "array, timevector = construct_numpy_array(df_list, \"Power_original\")"
   ]
  },
  {
   "cell_type": "code",
   "execution_count": 4,
   "metadata": {},
   "outputs": [
    {
     "data": {
      "text/plain": [
       "array([ 660,  720,  780,  840,  900,  960, 1020, 1080, 1140, 1200],\n",
       "      dtype=int64)"
      ]
     },
     "execution_count": 4,
     "metadata": {},
     "output_type": "execute_result"
    }
   ],
   "source": [
    "timevector[10:20]"
   ]
  },
  {
   "cell_type": "code",
   "execution_count": 32,
   "metadata": {},
   "outputs": [
    {
     "data": {
      "image/png": "[encoded data removed]",
      "text/plain": [
       "<Figure size 475.2x194.4 with 1 Axes>"
      ]
     },
     "metadata": {
      "needs_background": "light"
     },
     "output_type": "display_data"
    }
   ],
   "source": [
    "'''I only use this graphic in the paper'''\n",
    "# plot all charging power predictions in one figure\n",
    "%matplotlib inline\n",
    "plt.figure()\n",
    "pltSettings()\n",
    "# set the color of the lines\n",
    "for i in range(array.shape[0]):\n",
    "    #plt.step(timevector/3600, array[i], color = 'dimgrey', alpha = 0.15, linewidth = 0.2)\n",
    "    # fill area between lines\n",
    "    plt.fill_between(timevector/3600, array[i], color= 'dimgrey', alpha = 0.05)\n",
    "plot_index = [20,100, 58]\n",
    "#color_list = plt.cm.Set1(np.linspace(0,1,len(plot_index)))\n",
    "for i in range(len(plot_index)):\n",
    "    plt.plot(timevector/3600, array[plot_index[i]], linewidth = 1)\n",
    "plt.xlabel(\"time [h]\")\n",
    "plt.ylabel(\"charging power [kW]\")\n",
    "#plt.title(\"Charging power predictions\")\n",
    "ax = plt.gca()\n",
    "ax.set_xlim([0,24])\n",
    "ax.set_xticks(np.arange(0,25,2))\n",
    "# set minor ticks inbetween\n",
    "ax.set_xticks(np.arange(0,25,1), minor = True)\n",
    "ax.set_yticks(np.arange(0, array.max(), 300))\n",
    "fig = plt.gcf()\n",
    "fig.set_size_inches(6.6, 2.7) #6.6, 2.7)\n",
    "\n",
    "# save figure as pdf\n",
    "fig.savefig(directory_figures + os.sep + \"chargingPowerPredictions.pdf\", bbox_inches='tight')"
   ]
  },
  {
   "cell_type": "code",
   "execution_count": 15,
   "metadata": {},
   "outputs": [
    {
     "data": {
      "text/plain": [
       "23122.5"
      ]
     },
     "execution_count": 15,
     "metadata": {},
     "output_type": "execute_result"
    }
   ],
   "source": [
    "sum(array[10])"
   ]
  },
  {
   "cell_type": "code",
   "execution_count": 13,
   "metadata": {},
   "outputs": [
    {
     "data": {
      "text/plain": [
       "(159, 1440)"
      ]
     },
     "execution_count": 13,
     "metadata": {},
     "output_type": "execute_result"
    }
   ],
   "source": [
    "array.shape"
   ]
  },
  {
   "cell_type": "code",
   "execution_count": null,
   "metadata": {},
   "outputs": [],
   "source": [
    "# perform k-means clustering\n",
    "from sklearn.cluster import KMeans\n",
    "from sklearn.preprocessing import MinMaxScaler\n",
    "from sklearn.metrics import silhouette_score\n",
    "\n",
    "silhouette_scores = []\n",
    "n_cluster_list = np.arange(2, 31, 1).astype(int)\n",
    "\n",
    "X = array # X of shape (n_samples, n_features), n_samples are charging stations, n_features power prediction at time t\n",
    "scaler = MinMaxScaler()\n",
    "X_scaled = X #scaler.fit_transform(X)\n",
    "\n",
    "for n_clusters in n_cluster_list:\n",
    "    clusterer = KMeans(n_clusters=n_clusters, random_state=10)\n",
    "    cluster_labels = clusterer.fit_predict(X_scaled)\n",
    "    silhouette_avg = silhouette_score(X_scaled, cluster_labels)\n",
    "    silhouette_scores.append(silhouette_avg)\n"
   ]
  },
  {
   "cell_type": "code",
   "execution_count": null,
   "metadata": {},
   "outputs": [],
   "source": [
    "max_index = np.argmax(silhouette_scores)\n",
    "n_clusters = n_cluster_list[max_index]\n",
    "print(\"The optimal number of clusters is: \", n_clusters)"
   ]
  },
  {
   "cell_type": "code",
   "execution_count": null,
   "metadata": {},
   "outputs": [],
   "source": [
    "# plot silhouette scores\n",
    "plt.figure()\n",
    "pltSettings()\n",
    "plt.plot(n_cluster_list, silhouette_scores, color = 'dimgrey', linewidth = 0.5)\n",
    "plt.xlabel(\"number of clusters\")\n",
    "plt.ylabel(\"silhouette score\")\n",
    "plt.title(\"Silhouette scores\")"
   ]
  },
  {
   "attachments": {},
   "cell_type": "markdown",
   "metadata": {},
   "source": [
    "### try with three hour energy demands"
   ]
  },
  {
   "cell_type": "code",
   "execution_count": 11,
   "metadata": {},
   "outputs": [],
   "source": [
    "timestep_in_min_new = 180\n",
    "timestep_new = timestep_in_min_new*60 # 15 minutes\n",
    "timevector_new = np.arange(1, 24*3600, timestep_new)\n",
    "array_new = np.zeros((array.shape[0], len(timevector_new)))\n",
    "for i in range(array.shape[0]):# loop through charging station\n",
    "    j0 = 0\n",
    "    for j in range(len(timevector_new)):# loop through time steps\n",
    "        array_new[i,j] = sum(array[i, j0:j0+timestep_in_min_new]*timestep/3.6e3) # to calculate energy, multiply with timestep/3.6e3 in kWh\n",
    "        j0 = j0 + timestep_in_min_new"
   ]
  },
  {
   "cell_type": "code",
   "execution_count": 12,
   "metadata": {},
   "outputs": [
    {
     "data": {
      "text/plain": [
       "[<matplotlib.lines.Line2D at 0x1b92c3cbf08>]"
      ]
     },
     "execution_count": 12,
     "metadata": {},
     "output_type": "execute_result"
    },
    {
     "data": {
      "image/png": "[encoded data removed]",
      "text/plain": [
       "<Figure size 432x288 with 1 Axes>"
      ]
     },
     "metadata": {
      "needs_background": "light"
     },
     "output_type": "display_data"
    }
   ],
   "source": [
    "# plot for one charging station\n",
    "%matplotlib inline\n",
    "plt.figure()\n",
    "pltSettings()\n",
    "plt.step(timevector_new/3600, array_new[100], color = 'dimgrey', linewidth = 0.5)"
   ]
  },
  {
   "cell_type": "code",
   "execution_count": 10,
   "metadata": {},
   "outputs": [],
   "source": [
    "# plot all charging power predictions in one figure\n",
    "%matplotlib qt\n",
    "plt.figure()\n",
    "pltSettings()\n",
    "# set the color of the lines\n",
    "colors = plt.cm.jet(np.linspace(0,1,array.shape[0]))\n",
    "for i in range(array_new.shape[0]):\n",
    "    plt.plot(timevector_new/3600, array_new[i], color = 'dimgrey', alpha = 0.4, linewidth = 1)\n",
    "plt.xlabel(\"time [h]\")\n",
    "plt.ylabel(\"charging power [kW]\")\n",
    "#plt.title(\"Charging power predictions\")\n",
    "ax = plt.gca()\n",
    "ax.set_xlim([0,24])\n",
    "ax.set_xticks(np.arange(0,25,2))\n",
    "# set minor ticks inbetween\n",
    "ax.set_xticks(np.arange(0,25,1), minor = True)\n",
    "ax.set_yticks(np.arange(0, array_new.max(), 300))\n",
    "fig = plt.gcf()\n",
    "fig.set_size_inches(plotSizeX, 1.4* plotSizeY) #\n",
    "fig.set_size_inches(6.6, 2.7)\n",
    "\n",
    "# save figure as pdf\n",
    "fig.savefig(directory_figures + os.sep + \"chargingPowerPredictions.pdf\", bbox_inches='tight')"
   ]
  },
  {
   "cell_type": "code",
   "execution_count": null,
   "metadata": {},
   "outputs": [],
   "source": [
    "silhouette_scores = []\n",
    "n_cluster_list = np.arange(2, 20, 1).astype(int)\n",
    "\n",
    "X = array_new # X of shape (n_samples, n_features), n_samples are charging stations, n_features power prediction at time t\n",
    "scaler = MinMaxScaler()\n",
    "X_scaled = scaler.fit_transform(X)\n",
    "\n",
    "for n_clusters in n_cluster_list:\n",
    "    clusterer = KMeans(n_clusters=n_clusters, random_state=10)\n",
    "    cluster_labels = clusterer.fit_predict(X_scaled)\n",
    "    silhouette_avg = silhouette_score(X_scaled, cluster_labels)\n",
    "    silhouette_scores.append(silhouette_avg)\n",
    "max_index = np.argmax(silhouette_scores)\n",
    "n_clusters = n_cluster_list[max_index]\n",
    "print(\"The optimal number of clusters is: \", n_clusters)"
   ]
  },
  {
   "cell_type": "code",
   "execution_count": null,
   "metadata": {},
   "outputs": [],
   "source": [
    "# get the second highest silhouette score\n",
    "silhouette_scores_sorted = np.sort(silhouette_scores)\n",
    "silhouette_scores_sorted[-2]\n",
    "# get the number of clusters corresponding to the second highest silhouette score\n",
    "n2 = n_cluster_list[np.where(silhouette_scores == silhouette_scores_sorted[-2])]\n",
    "print(\"The second optimal number of clusters is: \" + str(n2))"
   ]
  },
  {
   "cell_type": "code",
   "execution_count": null,
   "metadata": {},
   "outputs": [],
   "source": [
    "# plot silhouette scores\n",
    "%matplotlib inline\n",
    "plt.figure\n",
    "pltSettings()\n",
    "plt.plot(n_cluster_list, silhouette_scores, color = 'dimgrey', linewidth = 0.5)\n",
    "plt.xlabel(\"number of clusters\")\n",
    "plt.ylabel(\"silhouette score\")\n",
    "plt.title(\"Silhouette scores\")"
   ]
  },
  {
   "cell_type": "code",
   "execution_count": null,
   "metadata": {},
   "outputs": [],
   "source": [
    "# print stats of clusters\n",
    "n_clusters = 5\n",
    "\n",
    "clusterer = KMeans(n_clusters=n_clusters, random_state=10)\n",
    "cluster_labels = clusterer.fit_predict(X_scaled)\n",
    "cluster_found = pd.Series(cluster_labels, name = \"cluster\")\n",
    "\n",
    "for i in range(n_clusters):\n",
    "    cluster = cluster_found[cluster_found == i]\n",
    "    print(\"Cluster \", i, \" has \", len(cluster), \" charging stations.\")"
   ]
  },
  {
   "attachments": {},
   "cell_type": "markdown",
   "metadata": {},
   "source": [
    "### plot clusters"
   ]
  },
  {
   "cell_type": "code",
   "execution_count": null,
   "metadata": {},
   "outputs": [],
   "source": [
    "# let see how the clusters look\n",
    "%matplotlib qt\n",
    "clusterer = KMeans(n_clusters=n_clusters, random_state=10)\n",
    "cluster_labels = clusterer.fit_predict(X_scaled)\n",
    "cluster_found = pd.Series(cluster_labels, name = \"cluster\")\n",
    "\n",
    "# plot all charging power predictions in one figure\n",
    "fig, ax = plt.subplots(1,1, figsize = (6.6, 3.6))\n",
    "pltSettings()\n",
    "# choose colormap set1\n",
    "color_list = plt.cm.hsv(np.linspace(0,1,n_clusters))\n",
    "df_array = pd.DataFrame(array)\n",
    "df_array = df_array.set_index(cluster_found, append = True)\n",
    "\n",
    "# sort by number of occurences of cluster\n",
    "value_count = cluster_found.value_counts(ascending=True)\n",
    "plot_order = value_count.index.tolist()\n",
    "\n",
    "for i in plot_order:\n",
    "    cluster = cluster_found[cluster_found == i]\n",
    "    for j in cluster.index:\n",
    "        ax.plot(timevector/3600, array[j], color = color_list[i], alpha = 0.30, linewidth = 1)\n",
    "    cluster = cluster_found[cluster_found == i]\n",
    "    ax.plot(timevector/3600, array[cluster.index].mean(axis = 0), color = color_list[i], linewidth = 0.8)\n",
    "    # make color a bit darker\n",
    "    color_list[i] = [x*0.8 for x in color_list[i]]\n",
    "    #ax.plot(timevector/3600, array[j], color = color_list[i], linewidth = 0.5, alpha = 1) #ls = 'dotted')\n",
    "ax.set_xlabel(\"time [h]\")\n",
    "ax.set_ylabel(\"charging power [kW]\")\n",
    "ax.set_xlim([0,24])\n",
    "ax.set_xticks(np.arange(0,25,4))\n",
    "# set minor ticks inbetween\n",
    "ax.set_xticks(np.arange(0,25,1), minor = True)\n",
    "ax.set_yticks(np.arange(0, array.max(), 300))\n",
    "fig.set_size_inches(6.6, 2.8) #6.6, 2.7)\n",
    "#fig.set_size_inches(plotSizeX, 1.7* plotSizeY) #6.6, 2.7)\n",
    "plt.show()\n",
    "fig.savefig(directory_figures + os.sep + \"chargingPowerPredictions_clustered.pdf\", bbox_inches='tight')\n",
    "# show plot on other screen"
   ]
  },
  {
   "cell_type": "code",
   "execution_count": null,
   "metadata": {},
   "outputs": [],
   "source": [
    "# print stats of clusters\n",
    "for i in range(n_clusters):\n",
    "    cluster = cluster_found[cluster_found == i]\n",
    "    print(\"Cluster \", i, \" has \", len(cluster), \" charging stations.\")"
   ]
  },
  {
   "cell_type": "code",
   "execution_count": null,
   "metadata": {},
   "outputs": [],
   "source": [
    "151/159"
   ]
  },
  {
   "cell_type": "code",
   "execution_count": null,
   "metadata": {},
   "outputs": [],
   "source": [
    "# plot one example of each cluster\n",
    "fig, ax = plt.subplots(1,1, figsize = (6.6, 3.6))\n",
    "pltSettings()\n",
    "# choose colormap set1\n",
    "color_list = plt.cm.hsv(np.linspace(0,1,n_clusters))\n",
    "\n",
    "df_array = pd.DataFrame(array)\n",
    "df_array = df_array.set_index(cluster_found, append = True)\n",
    "\n",
    "# sort by number of occurences of cluster\n",
    "value_count = cluster_found.value_counts(ascending=True)\n",
    "plot_order = value_count.index.tolist()\n",
    "\n",
    "# plot only for cluster type 3 some trajectories\n",
    "cluster = cluster_found[cluster_found == 3]\n",
    "for j in np.random.randint(0, len(cluster), 3):\n",
    "    ax.plot(timevector/3600, array[cluster.index[j]], linewidth = 1)\n",
    "ax.set_xlabel(\"time [h]\")\n",
    "ax.set_ylabel(\"charging power [kW]\")\n",
    "ax.set_xlim([0,24])\n",
    "ax.set_xticks(np.arange(0,25,4))\n",
    "# set minor ticks inbetween\n",
    "ax.set_xticks(np.arange(0,25,1), minor = True)\n",
    "ax.set_yticks(np.arange(0, array.max(), 300))\n",
    "fig.set_size_inches(6.6, 2.8) #6.6, 2.7)\n",
    "#fig.set_size_inches(plotSizeX, 1.7* plotSizeY) #6.6, 2.7)\n",
    "plt.show()\n",
    "fig.savefig(directory_figures + os.sep + \"chargingPowerPredictions_examples.pdf\", bbox_inches='tight')"
   ]
  },
  {
   "cell_type": "code",
   "execution_count": null,
   "metadata": {},
   "outputs": [],
   "source": [
    "# make plot from every charging station and save as png\n",
    "\n",
    "for i in range(array.shape[0]):\n",
    "    fig, ax = plt.subplots(1,1, figsize = (6.6, 3.6))\n",
    "    pltSettings()\n",
    "    # set font size to 18\n",
    "    plt.rcParams.update({'font.size': 18})\n",
    "    ax.plot(timevector/3600, array[i], linewidth = 1)\n",
    "    ax.set_xlabel(\"time [h]\")\n",
    "    ax.set_ylabel(\"charging power [kW]\")\n",
    "    ax.set_xlim([0,24])\n",
    "    ax.set_xticks(np.arange(0,25,4))\n",
    "    # set minor ticks inbetween\n",
    "    ax.set_xticks(np.arange(0,25,1), minor = True)\n",
    "    ax.set_yticks(np.arange(0, array.max(), 300))\n",
    "    fig.set_size_inches(4*6.6, 4*2.8) #6.6, 2.7)\n",
    "    #fig.set_size_inches(plotSizeX, 1.7* plotSizeY) #6.6, 2.7)\n",
    "    fig.savefig(directory_figures + os.sep + \"all_predictions\" + os.sep + \"chargingPowerPredictions_\" + taz_list[i] + \".jpg\", bbox_inches='tight')\n",
    "    plt.close(fig)"
   ]
  }
 ],
 "metadata": {
  "kernelspec": {
   "display_name": "py_btms_controller",
   "language": "python",
   "name": "python3"
  },
  "language_info": {
   "codemirror_mode": {
    "name": "ipython",
    "version": 3
   },
   "file_extension": ".py",
   "mimetype": "text/x-python",
   "name": "python",
   "nbconvert_exporter": "python",
   "pygments_lexer": "ipython3",
   "version": "3.7.12"
  },
  "orig_nbformat": 4,
  "vscode": {
   "interpreter": {
    "hash": "9478aa59fb21f09a65f1f155627aebe0f290791ff3152ffe0eaa81705a6b9515"
   }
  }
 },
 "nbformat": 4,
 "nbformat_minor": 2
}
