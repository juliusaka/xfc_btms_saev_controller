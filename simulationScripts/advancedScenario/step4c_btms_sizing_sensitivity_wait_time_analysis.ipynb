{
 "cells": [
  {
   "cell_type": "code",
   "execution_count": 1,
   "metadata": {},
   "outputs": [
    {
     "name": "stdout",
     "output_type": "stream",
     "text": [
      "Loading results from results\\advancedScenario7\\step4c_btms_sizing_sensitivity_wait_time\\sizing_results\n",
      "Loading no wait results from results\\advancedScenario7\\step4_btms_sizing_sensitivity\n",
      "result_directory: results\\advancedScenario7\\step4c_btms_sizing_sensitivity_wait_time\\analysis\n",
      "figure_directory: results\\advancedScenario7\\step4c_btms_sizing_sensitivity_wait_time\\figures\n"
     ]
    }
   ],
   "source": [
    "import numpy as np\n",
    "import pandas as pd\n",
    "import matplotlib.pyplot as plt\n",
    "import os\n",
    "import shutil\n",
    "import sys\n",
    "import tqdm\n",
    "import multiprocessing as mp\n",
    "from config import *\n",
    "\n",
    "path = result_parent_directory + os.sep + 'step4c_btms_sizing_sensitivity_wait_time'\n",
    "path_no_wait = result_parent_directory + os.sep + 'step4_btms_sizing_sensitivity'\n",
    "\n",
    "result_directory = path + os.sep + 'analysis'\n",
    "os.makedirs(result_directory, exist_ok=True)\n",
    "figure_directory = path + os.sep + 'figures'\n",
    "os.makedirs(figure_directory, exist_ok=True)\n",
    "\n",
    "sizing_results_path = os.path.join(path, 'sizing_results')\n",
    "\n",
    "print('Loading results from {}'.format(sizing_results_path))\n",
    "print('Loading no wait results from {}'.format(path_no_wait))\n",
    "print('result_directory: {}'.format(result_directory))\n",
    "print('figure_directory: {}'.format(figure_directory))"
   ]
  },
  {
   "cell_type": "code",
   "execution_count": 2,
   "metadata": {},
   "outputs": [],
   "source": [
    "# sort files into folders with a_cost_sizing and d_wait_cost as folder names\n",
    "# a_cost_sizing is top folder, d_wait_cost is subfolder\n",
    "\n",
    "folder_sorted_sizing_begin = 'sorted_sizing'\n",
    "for folder1 in os.listdir(sizing_results_path):\n",
    "    if not folder1.startswith(folder_sorted_sizing_begin):\n",
    "        path_folder = os.path.join(sizing_results_path, folder1)\n",
    "        # load a_cost_sizing and d_wait_cost from first file in dir\n",
    "        file = os.listdir(path_folder)[0]\n",
    "        path_file = os.path.join(path_folder, file)\n",
    "        df = pd.read_csv(path_file)\n",
    "        a = df['param: btms size, a,b_sys,b_cap,b_loan,c,d_wait_cost'][1] * (365/12)\n",
    "        d = df['param: btms size, a,b_sys,b_cap,b_loan,c,d_wait_cost'][6]\n",
    "        # create folder structure\n",
    "        # round a \n",
    "        path_folder_new = os.path.join(sizing_results_path, folder_sorted_sizing_begin, 'a_' + str(round(a)))\n",
    "        os.makedirs(path_folder_new, exist_ok=True)\n",
    "        path_folder_new = os.path.join(path_folder_new, 'd_' + str(int(d)))\n",
    "        os.makedirs(path_folder_new, exist_ok=True)\n",
    "        # move files\n",
    "        for file in os.listdir(path_folder):\n",
    "            path_file = os.path.join(path_folder, file)\n",
    "            shutil.move(path_file, path_folder_new)\n",
    "        # remove empty folder\n",
    "        os.rmdir(path_folder)"
   ]
  },
  {
   "cell_type": "code",
   "execution_count": null,
   "metadata": {},
   "outputs": [],
   "source": [
    "from functions.stats_sizing_function import stats_sizing_function_wait_time\n",
    "# calculate stats for each charging station and save them in dict: top-level: a_cost_sizing, second-level: d_wait_cost\n",
    "stats_dict = {}\n",
    "\n",
    "for folder1 in os.listdir(sizing_results_path):\n",
    "    if folder1.startswith(folder_sorted_sizing_begin):\n",
    "        path_folder1 = os.path.join(sizing_results_path, folder1)\n",
    "        # read a value from folder name\n",
    "        a_value = float(folder1.split('_')[1])\n",
    "        for folder2 in os.listdir(path_folder1):\n",
    "            # read d value from folder name\n",
    "            d_value = float(folder2.split('_')[1])\n",
    "            path_folder2 = os.path.join(path_folder1, folder2)\n",
    "            stats_i = []\n",
    "            for file in os.listdir(path_folder2):\n",
    "                stats_i.append(stats_sizing_function_wait_time(pd.read_csv(os.path.join(path_folder2, file)), timestep))\n",
    "            "
   ]
  }
 ],
 "metadata": {
  "kernelspec": {
   "display_name": "py_btms_controller",
   "language": "python",
   "name": "python3"
  },
  "language_info": {
   "codemirror_mode": {
    "name": "ipython",
    "version": 3
   },
   "file_extension": ".py",
   "mimetype": "text/x-python",
   "name": "python",
   "nbconvert_exporter": "python",
   "pygments_lexer": "ipython3",
   "version": "3.7.12"
  },
  "orig_nbformat": 4
 },
 "nbformat": 4,
 "nbformat_minor": 2
}
