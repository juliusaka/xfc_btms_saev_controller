{
 "cells": [
  {
   "cell_type": "code",
   "execution_count": 1,
   "metadata": {},
   "outputs": [
    {
     "name": "stdout",
     "output_type": "stream",
     "text": [
      "Loading results from results\\advancedScenario7\\step4c_btms_sizing_sensitivity_wait_time\\sizing_results\n",
      "Loading no wait results from results\\advancedScenario7\\step4_btms_sizing_sensitivity\n",
      "result_directory: results\\advancedScenario7\\step4c_btms_sizing_sensitivity_wait_time\\analysis\n",
      "figure_directory: results\\advancedScenario7\\step4c_btms_sizing_sensitivity_wait_time\\figures\n"
     ]
    }
   ],
   "source": [
    "import numpy as np\n",
    "import pandas as pd\n",
    "import matplotlib.pyplot as plt\n",
    "import os\n",
    "import shutil\n",
    "import sys\n",
    "import tqdm\n",
    "import multiprocessing as mp\n",
    "from config import *\n",
    "\n",
    "path = result_parent_directory + os.sep + 'step4c_btms_sizing_sensitivity_wait_time'\n",
    "path_no_wait = result_parent_directory + os.sep + 'step4_btms_sizing_sensitivity'\n",
    "\n",
    "result_directory = path + os.sep + 'analysis'\n",
    "os.makedirs(result_directory, exist_ok=True)\n",
    "figure_directory = path + os.sep + 'figures'\n",
    "os.makedirs(figure_directory, exist_ok=True)\n",
    "\n",
    "sizing_results_path = os.path.join(path, 'sizing_results')\n",
    "\n",
    "print('Loading results from {}'.format(sizing_results_path))\n",
    "print('Loading no wait results from {}'.format(path_no_wait))\n",
    "print('result_directory: {}'.format(result_directory))\n",
    "print('figure_directory: {}'.format(figure_directory))"
   ]
  },
  {
   "cell_type": "code",
   "execution_count": 4,
   "metadata": {},
   "outputs": [],
   "source": [
    "# sort files into folders with a_cost_sizing and d_wait_cost as folder names\n",
    "# a_cost_sizing is top folder, d_wait_cost is subfolder\n",
    "\n",
    "folder_sorted_sizing = 'sorted_sizing'\n",
    "for folder1 in os.listdir(sizing_results_path):\n",
    "    if not folder1.startswith(folder_sorted_sizing):\n",
    "        path_folder = os.path.join(sizing_results_path, folder1)\n",
    "        # load a_cost_sizing and d_wait_cost from first file in dir\n",
    "        file = os.listdir(path_folder)[0]\n",
    "        path_file = os.path.join(path_folder, file)\n",
    "        df = pd.read_csv(path_file)\n",
    "        a = df['param: btms size, a,b_sys,b_cap,b_loan,c,d_wait_cost'][1] * (365/12)\n",
    "        d = df['param: btms size, a,b_sys,b_cap,b_loan,c,d_wait_cost'][6]\n",
    "        # create folder structure\n",
    "        # round a \n",
    "        path_folder_new = os.path.join(sizing_results_path, folder_sorted_sizing, 'a_' + str(round(a)))\n",
    "        os.makedirs(path_folder_new, exist_ok=True)\n",
    "        path_folder_new = os.path.join(path_folder_new, 'd_' + str(int(d)))\n",
    "        os.makedirs(path_folder_new, exist_ok=True)\n",
    "        # move files\n",
    "        for file in os.listdir(path_folder):\n",
    "            path_file = os.path.join(path_folder, file)\n",
    "            shutil.move(path_file, path_folder_new)\n",
    "        # remove empty folder\n",
    "        os.rmdir(path_folder)"
   ]
  },
  {
   "cell_type": "code",
   "execution_count": 5,
   "metadata": {},
   "outputs": [],
   "source": [
    "from functions.stats_sizing_function import stats_sizing_function_wait_time\n",
    "# calculate stats for each charging station and save them in list and add multiindex: top-level: a_cost_sizing, second-level: d_wait_cost\n",
    "stats_list = []\n",
    "\n",
    "sizing_results_sorted = os.path.join(sizing_results_path, folder_sorted_sizing)\n",
    "for folder1 in os.listdir(sizing_results_sorted):\n",
    "    path_folder1 = os.path.join(sizing_results_sorted, folder1)\n",
    "    # read a value from folder name\n",
    "    a_value = float(folder1.split('_')[1])\n",
    "    for folder2 in os.listdir(path_folder1):\n",
    "        # read d value from folder name\n",
    "        d_value = float(folder2.split('_')[1])\n",
    "        path_folder2 = os.path.join(path_folder1, folder2)\n",
    "        stats_i = []\n",
    "        station_ids = []\n",
    "        for file in os.listdir(path_folder2):\n",
    "            station_id = int(file.split('.')[0].split('_')[2])\n",
    "            station_ids.append(station_id)\n",
    "            stats_i.append(stats_sizing_function_wait_time(pd.read_csv(os.path.join(path_folder2, file)), timestep))\n",
    "        stats_i = pd.DataFrame(stats_i, index=station_ids)\n",
    "        # make multiindex with a and d values\n",
    "        stats_i.index = pd.MultiIndex.from_product([[a_value], [d_value], stats_i.index], names=['a', 'd', 'station_id'])\n",
    "        # save stats in list\n",
    "        stats_list.append(stats_i)\n",
    "# concatenate all stats in one dataframe\n",
    "stats_sizing = pd.concat(stats_list)\n",
    "stats_sizing.sort_index(inplace=True)"
   ]
  },
  {
   "cell_type": "code",
   "execution_count": 6,
   "metadata": {},
   "outputs": [
    {
     "name": "stdout",
     "output_type": "stream",
     "text": [
      "a_values:  Float64Index([2.0, 5.0, 8.0, 10.0, 15.0], dtype='float64', name='a')\n",
      "d_values:  Float64Index([1.0, 5.0, 10.0, 15.0, 20.0], dtype='float64', name='d')\n",
      "Index(['btms_size', 'cost_a', 'cost_b_sys', 'cost_b_cap', 'cost_b_loan',\n",
      "       'cost_b', 'cost_c', 'cost_total', 'share_cost_a', 'share_cost_b_sys',\n",
      "       'share_cost_b_cap', 'share_cost_b_loan', 'share_cost_b', 'share_cost_c',\n",
      "       'E_Charge', 'c_rate', 'cycles_day', 'btms_ratio', 'load_factor',\n",
      "       'btms_peak_to_grid_ratio', 'grid_peak_to_charge_peak_ratio'],\n",
      "      dtype='object')\n"
     ]
    }
   ],
   "source": [
    "index = stats_sizing.index\n",
    "print('a_values: ', index.get_level_values(0).unique())\n",
    "print('d_values: ', index.get_level_values(1).unique())\n",
    "columns = stats_sizing.columns\n",
    "print(columns)"
   ]
  },
  {
   "cell_type": "markdown",
   "metadata": {},
   "source": [
    "this is how indexing works:\n",
    "stats_sizing.loc[('a', 'd', 'station_id')]"
   ]
  },
  {
   "cell_type": "code",
   "execution_count": 47,
   "metadata": {},
   "outputs": [
    {
     "data": {
      "text/plain": [
       "d     station_id\n",
       "1.0   18            305.241823\n",
       "      21            207.339620\n",
       "      42            187.025407\n",
       "      56            246.378631\n",
       "      60            113.035121\n",
       "                       ...    \n",
       "20.0  1424          333.987431\n",
       "      1430          257.948124\n",
       "      1440          187.299128\n",
       "      1442          222.452217\n",
       "      1443          160.671719\n",
       "Name: btms_size, Length: 785, dtype: float64"
      ]
     },
     "execution_count": 47,
     "metadata": {},
     "output_type": "execute_result"
    }
   ],
   "source": [
    "stats_sizing.loc[(10.0), 'btms_size']"
   ]
  },
  {
   "cell_type": "code",
   "execution_count": 7,
   "metadata": {},
   "outputs": [
    {
     "data": {
      "text/plain": [
       "Float64Index([1.0, 5.0, 10.0, 15.0, 20.0], dtype='float64', name='d')"
      ]
     },
     "execution_count": 7,
     "metadata": {},
     "output_type": "execute_result"
    }
   ],
   "source": [
    "stats_sizing.xs(10.0, level='d')\n",
    "stats_sizing.index.get_level_values('d').unique()"
   ]
  },
  {
   "cell_type": "code",
   "execution_count": 13,
   "metadata": {},
   "outputs": [
    {
     "data": {
      "text/plain": [
       "<matplotlib.legend.Legend at 0x207f218d748>"
      ]
     },
     "execution_count": 13,
     "metadata": {},
     "output_type": "execute_result"
    },
    {
     "data": {
      "image/png": "[encoded data removed]",
      "text/plain": [
       "<Figure size 720x432 with 1 Axes>"
      ]
     },
     "metadata": {
      "needs_background": "light"
     },
     "output_type": "display_data"
    }
   ],
   "source": [
    "import matplotlib.pyplot as plt\n",
    "\n",
    "stat_selected = 'grid_peak_to_charge_peak_ratio'\n",
    "\n",
    "# plot results for all demand charges at every wait time cost\n",
    "\n",
    "fig, ax = plt.subplots(figsize=(10, 6))\n",
    "a = stats_sizing.index.get_level_values('a').unique()\n",
    "for d in stats_sizing.index.get_level_values('d').unique():\n",
    "    # plot mean for each demand charge\n",
    "    y = stats_sizing.xs(d, level='d')[stat_selected].groupby('a').mean()\n",
    "    ax.plot(a, y, label='wait cost ' + str(d))\n",
    "    ax.set_title('mean of ' + stat_selected )\n",
    "    ax.set_xlabel('demand charge')\n",
    "    ax.set_ylabel(stat_selected)\n",
    "fig.legend()"
   ]
  }
 ],
 "metadata": {
  "kernelspec": {
   "display_name": "py_btms_controller",
   "language": "python",
   "name": "python3"
  },
  "language_info": {
   "codemirror_mode": {
    "name": "ipython",
    "version": 3
   },
   "file_extension": ".py",
   "mimetype": "text/x-python",
   "name": "python",
   "nbconvert_exporter": "python",
   "pygments_lexer": "ipython3",
   "version": "3.7.12"
  },
  "orig_nbformat": 4
 },
 "nbformat": 4,
 "nbformat_minor": 2
}
