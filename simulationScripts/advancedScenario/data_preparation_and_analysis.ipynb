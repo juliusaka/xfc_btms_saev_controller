{
 "cells": [
  {
   "cell_type": "code",
   "execution_count": 1,
   "metadata": {},
   "outputs": [],
   "source": [
    "from config import *\n",
    "import pandas as pd\n",
    "\n",
    "# load data\n",
    "df = pd.read_csv(path_Sim_original_data, dtype = dtype_Sim, index_col= \"time\") #, usecols= [\"time\", \"vehicle\", \"parkingTaz\", \"arrivalTime\", \"departureTime\", \"duration\", \"fuel\", \"chargingPointType\", \"vehicleType\"])"
   ]
  },
  {
   "cell_type": "code",
   "execution_count": 2,
   "metadata": {},
   "outputs": [
    {
     "name": "stdout",
     "output_type": "stream",
     "text": [
      "126705\n",
      "2255\n",
      "2055\n"
     ]
    }
   ],
   "source": [
    "# delete all rows which are not RefuelSessionEvents\n",
    "print(len(df))\n",
    "df = df[df[\"type\"] == \"RefuelSessionEvent\"]\n",
    "print(len(df))\n",
    "# delete all rows with time higher than 24 hours\n",
    "df = df[df.index <= 24*60*60]\n",
    "print(len(df))\n",
    "# save new file\n",
    "df.to_csv(path_Sim)"
   ]
  },
  {
   "cell_type": "code",
   "execution_count": 3,
   "metadata": {},
   "outputs": [
    {
     "data": {
      "text/plain": [
       "['290', '421', '777', '928', '299', ..., '697', '1440', '851', '90', '700']\n",
       "Length: 228\n",
       "Categories (229, object): ['1008', '1013', '1049', '1060', ..., '851', '90', '700', '1028']"
      ]
     },
     "execution_count": 3,
     "metadata": {},
     "output_type": "execute_result"
    }
   ],
   "source": [
    "df[\"parkingTaz\"].unique()"
   ]
  },
  {
   "cell_type": "code",
   "execution_count": 4,
   "metadata": {},
   "outputs": [
    {
     "name": "stderr",
     "output_type": "stream",
     "text": [
      "c:\\Users\\akaju\\anaconda3\\envs\\py_btms_controller\\lib\\site-packages\\ipykernel_launcher.py:5: SettingWithCopyWarning: \n",
      "A value is trying to be set on a copy of a slice from a DataFrame.\n",
      "Try using .loc[row_indexer,col_indexer] = value instead\n",
      "\n",
      "See the caveats in the documentation: https://pandas.pydata.org/pandas-docs/stable/user_guide/indexing.html#returning-a-view-versus-a-copy\n",
      "  \"\"\"\n",
      "c:\\Users\\akaju\\anaconda3\\envs\\py_btms_controller\\lib\\site-packages\\ipykernel_launcher.py:7: SettingWithCopyWarning: \n",
      "A value is trying to be set on a copy of a slice from a DataFrame.\n",
      "Try using .loc[row_indexer,col_indexer] = value instead\n",
      "\n",
      "See the caveats in the documentation: https://pandas.pydata.org/pandas-docs/stable/user_guide/indexing.html#returning-a-view-versus-a-copy\n",
      "  import sys\n"
     ]
    },
    {
     "data": {
      "text/html": [
       "<div>\n",
       "<style scoped>\n",
       "    .dataframe tbody tr th:only-of-type {\n",
       "        vertical-align: middle;\n",
       "    }\n",
       "\n",
       "    .dataframe tbody tr th {\n",
       "        vertical-align: top;\n",
       "    }\n",
       "\n",
       "    .dataframe thead th {\n",
       "        text-align: right;\n",
       "    }\n",
       "</style>\n",
       "<table border=\"1\" class=\"dataframe\">\n",
       "  <thead>\n",
       "    <tr style=\"text-align: right;\">\n",
       "      <th></th>\n",
       "      <th>fuel</th>\n",
       "      <th>duration</th>\n",
       "    </tr>\n",
       "  </thead>\n",
       "  <tbody>\n",
       "    <tr>\n",
       "      <th>count</th>\n",
       "      <td>2055.000000</td>\n",
       "      <td>2055.000000</td>\n",
       "    </tr>\n",
       "    <tr>\n",
       "      <th>mean</th>\n",
       "      <td>54.513679</td>\n",
       "      <td>13.658418</td>\n",
       "    </tr>\n",
       "    <tr>\n",
       "      <th>std</th>\n",
       "      <td>6.457495</td>\n",
       "      <td>4.977741</td>\n",
       "    </tr>\n",
       "    <tr>\n",
       "      <th>min</th>\n",
       "      <td>39.916667</td>\n",
       "      <td>7.116667</td>\n",
       "    </tr>\n",
       "    <tr>\n",
       "      <th>25%</th>\n",
       "      <td>49.666667</td>\n",
       "      <td>10.250000</td>\n",
       "    </tr>\n",
       "    <tr>\n",
       "      <th>50%</th>\n",
       "      <td>53.833333</td>\n",
       "      <td>11.483333</td>\n",
       "    </tr>\n",
       "    <tr>\n",
       "      <th>75%</th>\n",
       "      <td>58.833333</td>\n",
       "      <td>16.583333</td>\n",
       "    </tr>\n",
       "    <tr>\n",
       "      <th>max</th>\n",
       "      <td>84.166667</td>\n",
       "      <td>33.666667</td>\n",
       "    </tr>\n",
       "  </tbody>\n",
       "</table>\n",
       "</div>"
      ],
      "text/plain": [
       "              fuel     duration\n",
       "count  2055.000000  2055.000000\n",
       "mean     54.513679    13.658418\n",
       "std       6.457495     4.977741\n",
       "min      39.916667     7.116667\n",
       "25%      49.666667    10.250000\n",
       "50%      53.833333    11.483333\n",
       "75%      58.833333    16.583333\n",
       "max      84.166667    33.666667"
      ]
     },
     "execution_count": 4,
     "metadata": {},
     "output_type": "execute_result"
    }
   ],
   "source": [
    "df_new = df\n",
    "# select columns fuel and duration\n",
    "df_new = df_new[[\"fuel\", \"duration\"]]\n",
    "# convert fuel from Joule to kWh\n",
    "df_new[\"fuel\"] = df_new[\"fuel\"] / 3.6e6\n",
    "# convert duration from seconds to minutes\n",
    "df_new[\"duration\"] = df_new[\"duration\"] / 60\n",
    "# get statisitics\n",
    "df_new.describe()\n",
    "# # calculate sum of fuel with ignoring nan values\n",
    "# df_new[\"fuel\"].sum(skipna = True)"
   ]
  },
  {
   "cell_type": "code",
   "execution_count": 5,
   "metadata": {},
   "outputs": [],
   "source": [
    "# convert statistics to latex table with booktabs\n",
    "df_new.describe().to_latex(buf = \"statistics_refuelSessionEvents.tex\", float_format=\"%.2f\", caption=\"Statistics of parkingTaz 1049\", label=\"tab:statistics\", column_format=\"lrrrrrr\", position=\"htbp\", escape=False)"
   ]
  },
  {
   "cell_type": "code",
   "execution_count": 6,
   "metadata": {},
   "outputs": [
    {
     "name": "stdout",
     "output_type": "stream",
     "text": [
      "number of depots: 159\n"
     ]
    },
    {
     "data": {
      "text/html": [
       "<div>\n",
       "<style scoped>\n",
       "    .dataframe tbody tr th:only-of-type {\n",
       "        vertical-align: middle;\n",
       "    }\n",
       "\n",
       "    .dataframe tbody tr th {\n",
       "        vertical-align: top;\n",
       "    }\n",
       "\n",
       "    .dataframe thead th {\n",
       "        text-align: right;\n",
       "    }\n",
       "</style>\n",
       "<table border=\"1\" class=\"dataframe\">\n",
       "  <thead>\n",
       "    <tr style=\"text-align: right;\">\n",
       "      <th></th>\n",
       "      <th>parkingType</th>\n",
       "      <th>pricingModel</th>\n",
       "      <th>chargingPointType</th>\n",
       "      <th>numStalls</th>\n",
       "      <th>feeInCents</th>\n",
       "      <th>reservedFor</th>\n",
       "      <th>parkingZoneId</th>\n",
       "      <th>locationX</th>\n",
       "      <th>locationY</th>\n",
       "    </tr>\n",
       "    <tr>\n",
       "      <th>taz</th>\n",
       "      <th></th>\n",
       "      <th></th>\n",
       "      <th></th>\n",
       "      <th></th>\n",
       "      <th></th>\n",
       "      <th></th>\n",
       "      <th></th>\n",
       "      <th></th>\n",
       "      <th></th>\n",
       "    </tr>\n",
       "  </thead>\n",
       "  <tbody>\n",
       "    <tr>\n",
       "      <th>519</th>\n",
       "      <td>Workplace</td>\n",
       "      <td>FlatFee</td>\n",
       "      <td>DepotXFC(300.0|DC)</td>\n",
       "      <td>6</td>\n",
       "      <td>0</td>\n",
       "      <td>ridehail(GlobalRHM)</td>\n",
       "      <td>depot-519-1</td>\n",
       "      <td>615674.118137</td>\n",
       "      <td>4.200071e+06</td>\n",
       "    </tr>\n",
       "    <tr>\n",
       "      <th>64</th>\n",
       "      <td>Workplace</td>\n",
       "      <td>FlatFee</td>\n",
       "      <td>DepotXFC(300.0|DC)</td>\n",
       "      <td>7</td>\n",
       "      <td>0</td>\n",
       "      <td>ridehail(GlobalRHM)</td>\n",
       "      <td>depot-64-2</td>\n",
       "      <td>588385.283722</td>\n",
       "      <td>4.155801e+06</td>\n",
       "    </tr>\n",
       "    <tr>\n",
       "      <th>1201</th>\n",
       "      <td>Workplace</td>\n",
       "      <td>FlatFee</td>\n",
       "      <td>DepotXFC(300.0|DC)</td>\n",
       "      <td>10</td>\n",
       "      <td>0</td>\n",
       "      <td>ridehail(GlobalRHM)</td>\n",
       "      <td>depot-1201-3</td>\n",
       "      <td>552182.141567</td>\n",
       "      <td>4.182212e+06</td>\n",
       "    </tr>\n",
       "    <tr>\n",
       "      <th>328</th>\n",
       "      <td>Workplace</td>\n",
       "      <td>FlatFee</td>\n",
       "      <td>DepotXFC(300.0|DC)</td>\n",
       "      <td>4</td>\n",
       "      <td>0</td>\n",
       "      <td>ridehail(GlobalRHM)</td>\n",
       "      <td>depot-328-4</td>\n",
       "      <td>562064.608759</td>\n",
       "      <td>4.238279e+06</td>\n",
       "    </tr>\n",
       "    <tr>\n",
       "      <th>884</th>\n",
       "      <td>Workplace</td>\n",
       "      <td>FlatFee</td>\n",
       "      <td>DepotXFC(300.0|DC)</td>\n",
       "      <td>5</td>\n",
       "      <td>0</td>\n",
       "      <td>ridehail(GlobalRHM)</td>\n",
       "      <td>depot-884-5</td>\n",
       "      <td>585560.733910</td>\n",
       "      <td>4.133864e+06</td>\n",
       "    </tr>\n",
       "  </tbody>\n",
       "</table>\n",
       "</div>"
      ],
      "text/plain": [
       "     parkingType pricingModel   chargingPointType  numStalls  feeInCents  \\\n",
       "taz                                                                        \n",
       "519    Workplace      FlatFee  DepotXFC(300.0|DC)          6           0   \n",
       "64     Workplace      FlatFee  DepotXFC(300.0|DC)          7           0   \n",
       "1201   Workplace      FlatFee  DepotXFC(300.0|DC)         10           0   \n",
       "328    Workplace      FlatFee  DepotXFC(300.0|DC)          4           0   \n",
       "884    Workplace      FlatFee  DepotXFC(300.0|DC)          5           0   \n",
       "\n",
       "              reservedFor parkingZoneId      locationX     locationY  \n",
       "taz                                                                   \n",
       "519   ridehail(GlobalRHM)   depot-519-1  615674.118137  4.200071e+06  \n",
       "64    ridehail(GlobalRHM)    depot-64-2  588385.283722  4.155801e+06  \n",
       "1201  ridehail(GlobalRHM)  depot-1201-3  552182.141567  4.182212e+06  \n",
       "328   ridehail(GlobalRHM)   depot-328-4  562064.608759  4.238279e+06  \n",
       "884   ridehail(GlobalRHM)   depot-884-5  585560.733910  4.133864e+06  "
      ]
     },
     "execution_count": 6,
     "metadata": {},
     "output_type": "execute_result"
    }
   ],
   "source": [
    "'''find out if there are differences how charging stations are used'''\n",
    "# load the infrastructure file\n",
    "df_infrastructure = pd.read_csv(path_infrastructure, index_col= \"taz\")\n",
    "print('number of depots: ' + str(len(df_infrastructure)))\n",
    "df_infrastructure.head()"
   ]
  },
  {
   "cell_type": "code",
   "execution_count": 7,
   "metadata": {},
   "outputs": [
    {
     "name": "stdout",
     "output_type": "stream",
     "text": [
      "[ 6  7 10  4  5  1  3  2  9  8]\n"
     ]
    }
   ],
   "source": [
    "print(df_infrastructure[\"numStalls\"].unique())"
   ]
  },
  {
   "cell_type": "code",
   "execution_count": 13,
   "metadata": {},
   "outputs": [
    {
     "data": {
      "image/png": "[encoded data removed]",
      "text/plain": [
       "<Figure size 259.92x86.4 with 1 Axes>"
      ]
     },
     "metadata": {
      "needs_background": "light"
     },
     "output_type": "display_data"
    }
   ],
   "source": [
    "# make histogram about the distribution of numStalls\n",
    "import matplotlib\n",
    "import matplotlib.pyplot as plt\n",
    "import os\n",
    "plt.rcParams.update({'font.size': 7})\n",
    "plt.rcParams['mathtext.fontset'] = 'cm'\n",
    "df_infrastructure[\"numStalls\"].hist(bins = range(1, max(df_infrastructure[\"numStalls\"])+2, 1), histtype='bar', rwidth=0.7, color='dimgrey', align='left', grid=False)\n",
    "# draw line around bars\n",
    "plt.gca().spines['top'].set_visible(False)\n",
    "plt.gca().spines['right'].set_visible(False)\n",
    "#make x ticks every 1\n",
    "plt.xticks(range(1, 11, 1))\n",
    "plt.xlabel(\"number of plugs\")\n",
    "plt.ylabel(\"number of depots\")\n",
    "fig = plt.gcf()\n",
    "fig.set_size_inches(plotSizeX, plotSizeY)\n",
    "fig.savefig(directory_figures + os.sep + \"histogram_numStalls.pdf\", bbox_inches='tight', pad_inches=0.05)"
   ]
  }
 ],
 "metadata": {
  "kernelspec": {
   "display_name": "py_btms_controller",
   "language": "python",
   "name": "python3"
  },
  "language_info": {
   "codemirror_mode": {
    "name": "ipython",
    "version": 3
   },
   "file_extension": ".py",
   "mimetype": "text/x-python",
   "name": "python",
   "nbconvert_exporter": "python",
   "pygments_lexer": "ipython3",
   "version": "3.7.12"
  },
  "orig_nbformat": 4,
  "vscode": {
   "interpreter": {
    "hash": "9478aa59fb21f09a65f1f155627aebe0f290791ff3152ffe0eaa81705a6b9515"
   }
  }
 },
 "nbformat": 4,
 "nbformat_minor": 2
}
