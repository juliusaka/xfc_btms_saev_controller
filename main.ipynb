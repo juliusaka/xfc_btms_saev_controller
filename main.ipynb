{
 "cells": [
  {
   "cell_type": "code",
   "execution_count": null,
   "metadata": {},
   "outputs": [],
   "source": [
    "import components\n",
    "import pandas as pd\n",
    "import numpy as np\n",
    "import matplotlib.pyplot as plt\n",
    "%matplotlib inline\n",
    "from tqdm import tqdm\n",
    "import logging\n",
    "\n",
    "# initialize logger with function\n",
    "streamHandler = components.loggerConfig()"
   ]
  },
  {
   "cell_type": "markdown",
   "metadata": {},
   "source": [
    "change fastly between different options:"
   ]
  },
  {
   "cell_type": "code",
   "execution_count": null,
   "metadata": {},
   "outputs": [],
   "source": [
    "case = 0\n",
    "\n",
    "if case == 0:\n",
    "    import components.ChaDepLimCon as chargingStationClass\n",
    "    useOnlyOneChargingStation = True\n",
    "    useChargingStation = 0\n",
    "elif case ==1:\n",
    "    import components.ChaDepMpcBase as chargingStationClass\n",
    "    useOnlyOneChargingStation = False\n",
    "    useChargingStation = 0\n",
    "elif case ==2:\n",
    "    import components.ChaDepMpcBase as chargingStationClass\n",
    "    useOnlyOneChargingStation = True\n",
    "    useChargingStation = 0"
   ]
  },
  {
   "cell_type": "markdown",
   "metadata": {},
   "source": [
    "### simulation"
   ]
  },
  {
   "cell_type": "markdown",
   "metadata": {},
   "source": [
    "#### initialize helper objects for simulation\n",
    "- SimulationBroker\n",
    "- VehicleGenerator\n",
    "- ResultWriter"
   ]
  },
  {
   "cell_type": "code",
   "execution_count": null,
   "metadata": {},
   "outputs": [],
   "source": [
    "# simulation broker\n",
    "path_Sim = \"test_data/beam1/beam1-0.csv\"\n",
    "dtype_Sim = {\n",
    "       'time': 'int64', 'type': 'category', 'vehicle': 'int64', 'parkingTaz': 'category','chargingPointType': 'category', \n",
    "       'primaryFuelLevel': 'float64', 'mode': 'category', 'currentTourMode': 'category', 'vehicleType': 'category', \n",
    "       'arrivalTime': 'float64', 'departureTime': 'float64', 'linkTravelTime': 'string', 'primaryFuelType': 'category', \n",
    "       'parkingZoneId': 'category','duration': 'float64' \n",
    "        }\n",
    "SimBroker = components.SimBroker(path_Sim, dtype_Sim)\n",
    "logging.info(\"SimBroker initialized\")\n",
    "\n",
    "# vehicle generator\n",
    "path_DataBase = \"test_data/vehicleFiles/vehicletypes-Base_2035_20210204_updated.csv\"\n",
    "VehicleGenerator = components.VehicleGenerator(path_Sim, dtype_Sim, path_DataBase)\n",
    "logging.info(\"VehicleGenerator initialized\")\n",
    "\n",
    "sim_name = \"sim1\"\n",
    "result_directory = \"results\"\n",
    "ResultWriter = components.ResultWriter(result_directory, sim_name)\n",
    "logging.info(\"ResultWriter initialized\")"
   ]
  },
  {
   "cell_type": "code",
   "execution_count": null,
   "metadata": {},
   "outputs": [],
   "source": [
    "# show head of vehicles dataframe\n",
    "VehicleGenerator.vehicles.head(3)"
   ]
  },
  {
   "cell_type": "markdown",
   "metadata": {},
   "source": [
    "#### create charging stations\n",
    "1) map parkingZoneIds to charging stations with a dictionary\n",
    "2) create charging Stations"
   ]
  },
  {
   "cell_type": "code",
   "execution_count": null,
   "metadata": {},
   "outputs": [],
   "source": [
    "# load infrastructure file into dataframe\n",
    "\n",
    "path_infrastructure = \"test_data/beam1/gemini-base-scenario-3-charging-no-household-infra16.csv\"\n",
    "usecols_infrastructure = [\"taz\", \"parkingType\",\n",
    "                          \"chargingPointType\", \"parkingZoneId\"]\n",
    "dtype_infrastructure = {\"taz\": \"int64\", \"parkingType\": \"category\",\n",
    "                        \"chargingPointType\": \"category\", \"parkingZoneId\": \"string\"}\n",
    "infrastructure = pd.read_csv(\n",
    "    path_infrastructure, dtype=dtype_infrastructure, usecols=usecols_infrastructure)\n",
    "infrastructure = infrastructure.set_index(\"parkingZoneId\")\n",
    "# filter infrastructure for only public fast and extreme fast charging\n",
    "infrastructure = infrastructure.loc[infrastructure[\"parkingType\"] == \"Public\"]\n",
    "infrastructure = infrastructure.loc[infrastructure[\"chargingPointType\"].str.contains(\n",
    "    \"publicfc|publicxfc\")]\n",
    "infrastructure = infrastructure.sort_values(by=[\"taz\", \"parkingZoneId\"])\n",
    "\n",
    "# now, make a dict of every parkingZoneId that belongs to a charging station\n",
    "# here, we will split the chargingstation\n",
    "chargingStationMappedToParkingZoneId = {}\n",
    "chargingStationMappedToTaz = {}\n",
    "stepsize = 200\n",
    "i = 0\n",
    "j = 1\n",
    "stop = False\n",
    "while i < len(infrastructure) - 1:\n",
    "    name = \"chargingStation-\" + str(j)\n",
    "    # we want to make sure, that all the chargingBays of one TAZ are in one chargingStation\n",
    "    if i + stepsize < len(infrastructure):\n",
    "        i_end = i+stepsize\n",
    "        while infrastructure.iloc[i_end][\"taz\"] == infrastructure.iloc[i_end+1][\"taz\"]:\n",
    "            i_end += 1  # if the taz is the same, we should increase reading to that taz\n",
    "            # make sure, that we don't try to read in the next step something that doesnt exist\n",
    "            if i_end + 1 >= len(infrastructure) - 1:\n",
    "                stop = True\n",
    "                break\n",
    "    else:\n",
    "        i_end = len(infrastructure)-1\n",
    "    if not stop:\n",
    "        i_end += 1  # to also catch the last element\n",
    "    slice = infrastructure.iloc[i:i_end]\n",
    "    chargingStationMappedToParkingZoneId[name] = slice.index.to_list()\n",
    "    chargingStationMappedToTaz[name] = list(\n",
    "        set(slice[\"taz\"].to_list()))  # this removes duplicates\n",
    "    i = i_end  # start reading next cycle at i\n",
    "    j += 1\n",
    "\n",
    "# we convert chargingStationMappedToTaz to a dataframe to use search methods\n",
    "chargingStationMappedToTaz = pd.DataFrame.from_dict(\n",
    "    chargingStationMappedToTaz, orient='index')\n",
    "chargingStationMappedToTaz = chargingStationMappedToTaz.transpose()\n",
    "\n",
    "logging.info(\"charging stations mapped to parkingZoneId\")\n",
    "\n",
    "# #here, we will make chargingStation depending on TAZ. Therefore, get a list of the different TAZ and sort it:\n",
    "# taz = infrastructure.taz.drop_duplicates().to_list()\n",
    "# taz = sorted(taz)\n",
    "# while i < len(taz):\n",
    "#     name = \"chargingStation-\" + str(j)\n",
    "#     # slice = infrastructure.loc[infrastructure[\"taz\"].isin(taz[i:i+stepsize])]\n",
    "#     chargingStationMappedToParkingZoneId[name] = slice.index.to_list()\n",
    "#     i += stepsize\n",
    "#     j += 1\n"
   ]
  },
  {
   "cell_type": "code",
   "execution_count": null,
   "metadata": {},
   "outputs": [],
   "source": [
    "infrastructure.head(3)"
   ]
  },
  {
   "cell_type": "code",
   "execution_count": null,
   "metadata": {},
   "outputs": [],
   "source": [
    "chargingStationMappedToTaz.head(3)"
   ]
  },
  {
   "cell_type": "markdown",
   "metadata": {},
   "source": [
    "here, charging stations are created. please specifiy the type of charging station you want to use"
   ]
  },
  {
   "cell_type": "code",
   "execution_count": null,
   "metadata": {},
   "outputs": [],
   "source": [
    "#create chargingStations\n",
    "logging.info(\"creating charging stations of type \" + str(chargingStationClass))\n",
    "\n",
    "chargingStations = []  # list of charging stations\n",
    "for i in chargingStationMappedToParkingZoneId:\n",
    "    #chargingStations.append(i)\n",
    "\n",
    "    ChargingStationId = i\n",
    "    # make a list with the power of each charging bay:\n",
    "    ChBaMaxPower = []\n",
    "    for j in chargingStationMappedToParkingZoneId[i]:\n",
    "        power_string = infrastructure.loc[j, \"chargingPointType\"]\n",
    "        ChBaMaxPower.append(components.chargingCapFromString(power_string))\n",
    "\n",
    "    # for now, we assume that all charging bays have the same charging power\n",
    "    PowerMax = max(ChBaMaxPower)\n",
    "    len_power = len(ChBaMaxPower)\n",
    "    ChBaMaxPower = []\n",
    "    # make charging limit for each bay the same (for testing and simplicity)\n",
    "    for j in range(0, len_power):\n",
    "        ChBaMaxPower.append(PowerMax)\n",
    "    del PowerMax, len_power\n",
    "\n",
    "    ChBaParkingZoneId = chargingStationMappedToParkingZoneId[i]\n",
    "    calcBtmsGridProp = True\n",
    "\n",
    "    '''reduce number of charging bays to test controller'''\n",
    "    # numStations = 30\n",
    "    # ChBaMaxPower = ChBaMaxPower[0:numStations]\n",
    "    ChBaNum = len(ChBaMaxPower)\n",
    "\n",
    "    # create charging station\n",
    "    container = chargingStationClass(ChargingStationId=ChargingStationId, ResultWriter=ResultWriter, SimBroker=SimBroker,\n",
    "                                     ChBaMaxPower=ChBaMaxPower, ChBaParkingZoneId=ChBaParkingZoneId, ChBaNum=ChBaNum, calcBtmsGridProp=True)\n",
    "    chargingStations.append(container)\n",
    "    logging.info(ChargingStationId + \" was created with \" + str(container.ChBaNum) +\n",
    "          \" charging bays and \" + str(container.BtmsSize) + \"kWh BTM-Storage\")"
   ]
  },
  {
   "cell_type": "markdown",
   "metadata": {},
   "source": [
    "- initialize helper objects for simulation input"
   ]
  },
  {
   "cell_type": "code",
   "execution_count": null,
   "metadata": {},
   "outputs": [],
   "source": [
    "PhySimDummy = components.PhySimDummy(chargingStations)\n",
    "logging.info(\"PhySimDummy initialized\")\n",
    "DermsDummy  = components.DermsDummy(chargingStations)\n",
    "logging.info(\"DermsDummy initialized\")"
   ]
  },
  {
   "cell_type": "markdown",
   "metadata": {},
   "source": [
    "#### initialize simulation\n",
    "initialize Grid Constraints and actual time of charging Station"
   ]
  },
  {
   "cell_type": "code",
   "execution_count": null,
   "metadata": {},
   "outputs": [],
   "source": [
    "#reduce number of chargingStation for testing\n",
    "if useOnlyOneChargingStation:\n",
    "    chargingStations = [chargingStations[useChargingStation]]\n",
    "    logging.info('we reduced the number of charging stations to 1')"
   ]
  },
  {
   "cell_type": "code",
   "execution_count": null,
   "metadata": {},
   "outputs": [],
   "source": [
    "'''Simulation settings:'''\n",
    "timestep = 5 * 60  # in seconds\n",
    "logging.info(\"timestep is set to \" + str(timestep) + \" seconds\")"
   ]
  },
  {
   "cell_type": "markdown",
   "metadata": {},
   "source": [
    "generate predictions for power use of charging station"
   ]
  },
  {
   "cell_type": "code",
   "execution_count": null,
   "metadata": {},
   "outputs": [],
   "source": [
    "if chargingStationClass == components.ChaDepMpcBase:\n",
    "    # TODO: for testing we dont add noise\n",
    "    for x in chargingStations:\n",
    "        x.generatePredictions(path_BeamPredictionFile = path_Sim, dtype = dtype_Sim, path_DataBase = path_DataBase, timestep = timestep, addNoise = True)\n",
    "        logging.info(\"generated predictions for \" + str(x.ChargingStationId))"
   ]
  },
  {
   "cell_type": "markdown",
   "metadata": {},
   "source": [
    "plot prediction "
   ]
  },
  {
   "cell_type": "code",
   "execution_count": null,
   "metadata": {},
   "outputs": [],
   "source": [
    "if chargingStationClass == components.ChaDepMpcBase:\n",
    "    x = chargingStations[0]\n",
    "    time = x.PredictionTime\n",
    "    power = x.PredictionPower\n",
    "\n",
    "    ax = plt.subplot()\n",
    "    ax.plot(time,power, label = 'with noise')\n",
    "    ax.plot(time,x.power_sum_original, label = 'without noise')\n",
    "    ax.legend()\n",
    "plt.show()"
   ]
  },
  {
   "cell_type": "markdown",
   "metadata": {},
   "source": [
    "BTMS size optimization\n",
    "\n",
    "see mpcBase.md for explanations"
   ]
  },
  {
   "cell_type": "code",
   "execution_count": null,
   "metadata": {},
   "outputs": [],
   "source": [
    "if chargingStationClass == components.ChaDepMpcBase:\n",
    "    logging.info(\"starting btms size optimization\")\n",
    "    a = 20/30 * ((SimBroker.t_max - SimBroker.t_act)/3.6e3) / 24 # demand charge per day\n",
    "    # free power, after which demand charge is applied, as ratio to avg power\n",
    "    P_free_Ratio = 0\n",
    "    # btms cost per cycle per kWh (price per kWh/ possible cycles)\n",
    "    b = 300/5000\n",
    "    c = 0.15      # electricity cost per kWh\n",
    "\n",
    "    Print = False\n",
    "    Graph = True\n",
    "    for i in range(0, len(chargingStations)):\n",
    "        logging.info(\"optimizing btms size for \" + str(chargingStations[i].ChargingStationId))\n",
    "        x = chargingStations[i]\n",
    "        # determine P_free\n",
    "        avgPower = sum(x.PredictionPower*timestep) / \\\n",
    "            (max(x.PredictionTime) + timestep - min(x.PredictionTime))\n",
    "        P_free = P_free_Ratio * avgPower\n",
    "\n",
    "        # btms size optimization\n",
    "        time, time_x, btms_size, P_Grid, P_BTMS, P_BTMS_Ch, P_BTMS_DCh, E_BTMS, P_Charge, cost = x.determineBtmsSize(\n",
    "            SimBroker.t_act, SimBroker.t_max, timestep, a, b, c, P_free)\n",
    "\n",
    "        # we set the max and min soc to 1 and 0\n",
    "        x.BtmsMaxSoc = 1.0\n",
    "        x.BtmsMinSoc = 0.0\n",
    "\n",
    "        time = time/3.6e3  # conversion to hours\n",
    "        time_x = time_x/3.6e3\n",
    "\n",
    "        #print('\\n', x.ChargingStationId)\n",
    "        str1 = 'Optimization with free power level of {:.2f} kW'.format(P_free)\n",
    "        str2 = ' and a demand charge of {:.2f} €/day*kW'.format(a)\n",
    "        str3 = ' and a BTMS cost of {:.5f} €/kWh'.format(b)\n",
    "        str4 = ' and an electricity cost of {:.3f} €/kWh'.format(c)\n",
    "        #print(str1, str2, str3, str4)\n",
    "        logging.info(str1 + str2 + str3 + str4)\n",
    "        str1 = 'The determined effective BTMS size is {:.2f} kWh.'.format(btms_size)\n",
    "        str2 = ' The total cost is {:.2f} €.'.format(cost)\n",
    "        cRating = max(abs(P_BTMS))/btms_size\n",
    "        str3 = 'The associated C-Rating is {:.2f}'.format(cRating)\n",
    "        #print(str1, str2, str3)\n",
    "        logging.info(str1 + str2 + str3)\n",
    "        # btmsDCh is always negative\n",
    "        costLoss = c*(sum(P_BTMS_Ch*timestep/3.6e3) +\n",
    "                        sum(P_BTMS_DCh*timestep/3.6e3))\n",
    "        costCycle = b*sum(P_BTMS_Ch*timestep/3.6e3)\n",
    "        # convert the upper code in the new format\n",
    "        str1 = 'The cost-value is ${:.2f}'.format(cost) + ' from which ${:.2f}'.format(a*(max(P_Grid)-P_free)) + ' is associated with demand charge, ${:.2f}'.format(costCycle) + ' is associated with BTMS degradation and ${:.2f}'.format(costLoss) + ' is associated with energy losses'\n",
    "        print(str1)\n",
    "        logging.info(str1)\n",
    "        E_total = sum(timestep/3.6e3*P_Charge)\n",
    "        str1 = 'The total delivered energy to the vehicles is {:.2f} kWh, which results in an average power of {:.2f} kW'.format(E_total, E_total/(max(time)-min(time) + timestep/3.6e3))\n",
    "        str2 = '{:.2f} kWh were delivered by the BTMS and charging losses of {:.2f} kWh occured.'.format(-sum(P_BTMS_DCh*timestep/3.6e3), sum(P_BTMS_DCh*timestep/3.6e3) + sum(P_BTMS_Ch*timestep/3.6e3))\n",
    "        str3 = 'The maximal grid power is {:.2f} kW'.format(max(P_Grid))\n",
    "        #print(str1, str2, str3)\n",
    "        logging.info(str1 + str2 + str3)\n",
    "\n",
    "        if Graph:\n",
    "            cRating = max(abs(P_BTMS))/btms_size\n",
    "            E_total = sum(timestep/3.6e3*P_Charge)\n",
    "            avgPower = int(E_total/(max(time)-min(time) + timestep/3.6e3))\n",
    "            # usage factor, how many cycles btms is discharged\n",
    "            useFactor = -sum(P_BTMS_DCh*timestep/3.6e3) / btms_size\n",
    "            # we also define a usage factor as fraction of energy by btms and compare to the total charged energy\n",
    "            btmsSupport = btms_size / sum(P_Charge*timestep/3.6e3)\n",
    "            # btmsDCh is always negative\n",
    "            costLoss = c*(sum(P_BTMS_Ch*timestep/3.6e3) +\n",
    "                          sum(P_BTMS_DCh*timestep/3.6e3))\n",
    "            costCycle = b*sum(P_BTMS_Ch*timestep/3.6e3)\n",
    "            costDemand = a*(max(P_Grid)-P_free)\n",
    "            info_string1 = 'free power: ' + str(int(P_free)) + 'kW \\navg power: ' + str(int(avgPower)) + 'kW \\nmax power: ' + str(int(max(P_Grid))) + 'kW \\nBTMS-size: ' + str(int(btms_size)) + 'kWh \\nC-Rating: ' + \"{:.2f}\".format(\n",
    "                cRating) + ' \\nuseFactor: ' + \"{:.2f}\".format(useFactor) + ' \\nbtmsSupport: ' + \"{:.2f}\".format(btmsSupport) + ' \\n\\ncost: $' + str(int(cost)) + ' \\ndemand: $' + str(int(costDemand)) + '\\ncycle: $' + str(int(costCycle)) + '\\nloss: $' + str(int(costLoss))\n",
    "\n",
    "            fig, ax = plt.subplots(2, 1, sharex=True)\n",
    "\n",
    "            ax[0].plot(time_x, E_BTMS, label=\"Energy_BTMS [kWh]\")\n",
    "            ax[0].legend(loc='center left', bbox_to_anchor=(1, 0.5))\n",
    "            fig.text(-0.12, 0, info_string1, horizontalalignment='right', verticalalignment='center',\n",
    "                     multialignment='left', transform=ax[0].transAxes, bbox=dict(facecolor='none', edgecolor='grey', pad=5.0))\n",
    "            #ax[0].text(0.5, 1, info_string2, horizontalalignment='right', verticalalignment='top', transform=ax[0].transAxes)\n",
    "\n",
    "            ax[1].step(time, P_BTMS, label=\"P_BTMS [kW]\")\n",
    "            ax[1].step(time, P_Grid, label=\"P_Grid [kW]\")\n",
    "            ax[1].step(time, P_Charge, label=\"P_Charge [kW]\")\n",
    "            ax[1].axhline(0, color='black')\n",
    "            ax[1].legend(loc='center left', bbox_to_anchor=(1, 0.5))\n",
    "            ax[1].set_xlabel(\"time in [h]\")\n",
    "\n",
    "            print(cost)\n"
   ]
  },
  {
   "cell_type": "markdown",
   "metadata": {},
   "source": [
    "further reduce btms size with a factor"
   ]
  },
  {
   "cell_type": "code",
   "execution_count": null,
   "metadata": {},
   "outputs": [],
   "source": [
    "if chargingStationClass == components.ChaDepMpcBase:\n",
    "    factor = 1.0\n",
    "    for x in chargingStations:\n",
    "        x.BtmsSize = factor * x.determinedBtmsSize\n",
    "        x.BtmsMaxPower= factor * x.determinedMaxPower\n",
    "        if factor != 1.0:\n",
    "            logging.info(x.ChargingStationId + ' btms size was changed to {:.2f} kWh and max power to {:.2f} kW with a factor of {:.2f}'.format(x.BtmsSize, x.BtmsMaxPower, factor))"
   ]
  },
  {
   "cell_type": "code",
   "execution_count": null,
   "metadata": {},
   "outputs": [],
   "source": [
    "# save charging Station properties\n",
    "'''write charging station properties to ResultWriter'''\n",
    "ResultWriter.saveChargingStationProperties(chargingStations)\n",
    "logging.info('Charging station properties saved')"
   ]
  },
  {
   "cell_type": "markdown",
   "metadata": {},
   "source": [
    "create optimal day-ahead plan\n",
    "\n",
    "planning() (MPC Base - convex)"
   ]
  },
  {
   "cell_type": "code",
   "execution_count": null,
   "metadata": {},
   "outputs": [],
   "source": [
    "if chargingStationClass == components.ChaDepMpcBase:\n",
    "    logging.info('creating day ahead plan')\n",
    "    a = 50/30 * ((SimBroker.t_max - SimBroker.t_act)/3.6e3) / 24  # demand charge cost\n",
    "    # free power, after which demand charge is applied, as ratio to avg power\n",
    "    P_free_Ratio = 0\n",
    "    b = 300/5000                    # btms degradation cost\n",
    "    c = 0.15                        # electricity cost\n",
    "    d_param = 10                    # waiting time cost of a vehicle in $/h\n",
    "    P_chAvg = 100                   # average charging speed in kW of an vehicle\n",
    "    beta = 0.15                     # bandwith for energy level curve\n",
    "    # if choosen different from None, constraints to enforce c rate are applied\n",
    "    cRating = None\n",
    "    Graph = True\n",
    "    if cRating == None:\n",
    "        cPrint = ', cRating not enforced'\n",
    "    else:\n",
    "        cPrint = \", cRating = {:.2f}\".format(cRating)\n",
    "\n",
    "    logging.info(\"parameters for creating day ahead plan: demand charge cost = {:.2f}, free power ratio = {:.2f}, btms degradation cost = {:.2f}, electricity cost = {:.2f}, waiting time cost = {:.2f}, average charging speed = {:.2f}, beta = {:.2f}\".format(a, P_free_Ratio, b, c, d_param, P_chAvg, beta) + cPrint)\n",
    "\n",
    "    if False:  # make a time varying d-vector\n",
    "        x = chargingStations[0]\n",
    "        time = np.array(x.PredictionTime)\n",
    "        power = np.array(x.PredictionPower)\n",
    "        idx = np.logical_and(time >= SimBroker.t_act, time <= SimBroker.t_max)\n",
    "        time_new = time[idx]\n",
    "        #d = []\n",
    "        # for i in range(0,sum(idx)):\n",
    "        # for time varying vector\n",
    "        # if time_new[i]< 21800:\n",
    "        #     d.append(1)\n",
    "        # elif time_new[i] < 26000:\n",
    "        #     d.append(10)\n",
    "        # elif time_new[i] < 28000:\n",
    "        #     d.append(1)\n",
    "        # elif time_new[i] < 29500:\n",
    "        #     d.append(10)\n",
    "        # else:\n",
    "        #     d.append(2)\n",
    "        # d.append(d_param)\n",
    "        #logging.info('added time varying d-vector: ' + str(d))\n",
    "    else: \n",
    "        d = d_param # transformed to list by .planning() function\n",
    "\n",
    "    for x in chargingStations:\n",
    "        logging.info(\"Creating Day Ahead plan for \" + x.ChargingStationId)\n",
    "        avgPower = sum(x.PredictionPower*timestep) / \\\n",
    "            (max(x.PredictionTime) + timestep - min(x.PredictionTime))\n",
    "        P_free = P_free_Ratio * avgPower\n",
    "\n",
    "        time, time_x, P_Grid, P_BTMS, P_BTMS_Ch, P_BTMS_DCh, E_BTMS, E_Shift, P_Charge, P_Shift, t_wait_val, cost_t_wait, cost = x.planning(\n",
    "            SimBroker.t_act, SimBroker.t_max, timestep, a, b, c, d, P_free, P_chAvg, beta, cRating)\n",
    "\n",
    "        if Graph:\n",
    "            cRating = max(abs(P_BTMS))/x.BtmsSize\n",
    "            E_total = sum(timestep/3.6e3*P_Charge)\n",
    "            avgPower = int(E_total/(max(time)-min(time) + timestep/3.6e3))\n",
    "            useFactor = -sum(P_BTMS_DCh*timestep/3.6e3) / x.BtmsSize\n",
    "            btmsSupport = x.BtmsSize / E_total\n",
    "            # btmsDCh is always negative\n",
    "            costLoss = c*(sum(P_BTMS_Ch*timestep/3.6e3) +\n",
    "                          sum(P_BTMS_DCh*timestep/3.6e3))\n",
    "            costCycle = b*sum(P_BTMS_Ch*timestep/3.6e3)\n",
    "            costDemand = a*(max(P_Grid)-P_free)\n",
    "\n",
    "            info_string1 = 'free power: ' + str(int(P_free)) + 'kW \\navg power: ' + str(int(avgPower)) + 'kW \\nmax power: ' + str(int(max(P_Grid))) + 'kW \\nBTMS-size: ' + str(int(x.BtmsSize)) + 'kWh \\nC-Rating: ' + \"{:.2f}\".format(cRating) + ' \\nuseFactor: ' + \"{:.2f}\".format(\n",
    "                useFactor) + ' \\nbtmsSupport: ' + \"{:.2f}\".format(btmsSupport) + ' \\n\\ncost: $' + str(int(cost)) + ' \\ndemand: $' + str(int(costDemand)) + '\\ncycle: $' + str(int(costCycle)) + '\\nloss: $' + str(int(costLoss)) + '\\nwait: $' + str(int(cost_t_wait))\n",
    "            logging.info(info_string1)\n",
    "\n",
    "            fig, ax = plt.subplots(3, 1, sharex=True)\n",
    "            ax[0].plot(time_x, E_BTMS, label=\"Energy_BTMS [kWh]\")\n",
    "            ax[0].plot(time_x, E_Shift, label=\"shifted Energy [kWh]\")\n",
    "            ax[0].axhline(x.BtmsSize, label=\"BTMS size[kWh]\",\n",
    "                          color=\"black\", linestyle=\"--\")\n",
    "            ax[0].legend(loc='center left', bbox_to_anchor=(1, 0.5))\n",
    "            fig.text(-0.12, 0, info_string1, horizontalalignment='right', verticalalignment='center',\n",
    "                     multialignment='left', transform=ax[0].transAxes, bbox=dict(facecolor='none', edgecolor='grey', pad=5.0))\n",
    "            #ax[0].text(0.5, 1, info_string2, horizontalalignment='right', verticalalignment='top', transform=ax[0].transAxes)\n",
    "\n",
    "            ax[1].step(time, P_BTMS, label=\"P_BTMS [kW]\")\n",
    "            ax[1].step(time, P_Grid, label=\"P_Grid [kW]\")\n",
    "            ax[1].step(time, P_Charge-P_Shift, label=\"P_Charge [kW]\")\n",
    "            ax[1].step(time, P_Charge, label=\"P_Charge optimal [kW]\")\n",
    "            ax[1].step(time, P_Shift, label=\"P_Shift [kW]\")\n",
    "            ax[1].axhline(0, color='black')\n",
    "            ax[1].legend(loc='center left', bbox_to_anchor=(1, 0.5))\n",
    "\n",
    "            if sum(t_wait_val) < 0.0005:\n",
    "                t_wait_val = np.zeros_like(t_wait_val)\n",
    "            ax[2].step(time, t_wait_val*60, label=\"waiting time [min]\")\n",
    "            ax[2].legend(loc='center left', bbox_to_anchor=(1, 0.5))\n",
    "\n",
    "            ax[2].set_xlabel(\"time in [h]\")\n",
    "\n",
    "            fig.set_size_inches(7, 6*3/3)\n",
    "\n",
    "            #TODO: add flexible electricity prices - what happens then?\n"
   ]
  },
  {
   "cell_type": "markdown",
   "metadata": {},
   "source": [
    "#### run simulation"
   ]
  },
  {
   "cell_type": "code",
   "execution_count": 41,
   "metadata": {},
   "outputs": [
    {
     "name": "stdout",
     "output_type": "stream",
     "text": [
      "2022-09-19 18:33:44,765 : root  : <module> : INFO : \n",
      "-------\n",
      "starting simulation.\n",
      "-------\n",
      " maximum iterations: 42.0\n"
     ]
    },
    {
     "name": "stderr",
     "output_type": "stream",
     "text": [
      "MPC simulation:  52%|█████▏    | 22/42.0 [01:40<08:49, 26.46s/it]"
     ]
    },
    {
     "name": "stdout",
     "output_type": "stream",
     "text": [
      "VehicleGenerator: did not find associated RefuelSession Event. Set Energy to 0\n"
     ]
    },
    {
     "name": "stderr",
     "output_type": "stream",
     "text": [
      "MPC simulation: 100%|██████████| 42/42.0 [01:47<00:00,  2.57s/it]"
     ]
    },
    {
     "name": "stdout",
     "output_type": "stream",
     "text": [
      "2022-09-19 18:35:32,720 : root  : <module> : INFO : Simulation terminated. final number of iterations: 41, final time: 30763s\n"
     ]
    },
    {
     "name": "stderr",
     "output_type": "stream",
     "text": [
      "\n"
     ]
    }
   ],
   "source": [
    "SimBroker.reset()\n",
    "ResultWriter.reset()\n",
    "# charging station is not resetted\n",
    "\n",
    "# charging station BtmsEn and P_GridLast was initialized in planning()-function\n",
    "\n",
    "# determine iterations for progress bar\n",
    "max_iter = np.ceil((SimBroker.SimRes.index[-1] - SimBroker.SimRes.index[0])/timestep)\n",
    "# print maximum iterations\n",
    "logging.info(\"\\n-------\\nstarting simulation.\\n-------\\n maximum iterations: \" + str(max_iter))\n",
    "\n",
    "# change logging level to WARNING\n",
    "streamHandler.setLevel(logging.WARNING)\n",
    "\n",
    "#initialize progress bar\n",
    "progress_bar = tqdm(desc = \"MPC simulation\", total=max_iter)\n",
    "\n",
    "while not SimBroker.eol():\n",
    "    # update progress bar\n",
    "    progress_bar.update(1)\n",
    "    \n",
    "    # Sim Broker Step\n",
    "    slice = SimBroker.step(timestep)\n",
    "    logging.info(\"\\n-|-|-|-|-|\\ntimestep to {:.0f}s / {:.0f}s | iteration: {:.0f}\".format(SimBroker.t_act, SimBroker.t_max, SimBroker.iteration))\n",
    "\n",
    "    #update values from DERMS and PhysicalSimulation\n",
    "    for x in chargingStations:\n",
    "        # update SiteNet Power Limits from Derms\n",
    "        GridPowerLower, GridPowerUpper = DermsDummy.output(x.ChargingStationId)\n",
    "        x.updateFromDerms(GridPowerLower, GridPowerUpper)\n",
    "        logging.info(\"update GridPowerLimits from Derms: {:.0f}kW - {:.0f}kW\".format(GridPowerLower, GridPowerUpper))\n",
    "        # update CES SOC from PhysicalSimulation\n",
    "        x.updateFromPhySim(PhySimDummy.output(x.ChargingStationId))\n",
    "        logging.info(\"update CES SOC from PhySim: {:.0f}kWh\".format(PhySimDummy.output(x.ChargingStationId)))\n",
    "\n",
    "    # generate Vehicles if charging Plug in event\n",
    "    logging.info(\"adding vehicles of slice to charging stations\")\n",
    "    for i in range(0, len(slice)):\n",
    "        if slice.iloc[i][\"type\"] == \"ChargingPlugInEvent\":\n",
    "            # generate vehicle\n",
    "            vehicle = VehicleGenerator.generateVehicleSO(slice.iloc[i])\n",
    "            # let vehicle arrive at a charging station - here depending on taz\n",
    "            taz = int(slice.iloc[i][\"parkingTaz\"]) # this is a str\n",
    "            #find out which chargingStation belongs to the taz\n",
    "            res = chargingStationMappedToTaz.isin([taz]).any().values\n",
    "            index = np.where(res == True)[0][0]\n",
    "\n",
    "            #let vehicles arrive at designated chargingStation\n",
    "            if useOnlyOneChargingStation:\n",
    "                if index == useChargingStation:\n",
    "                    chargingStations[index].arrival(vehicle, SimBroker.t_act)\n",
    "            else: \n",
    "                chargingStations[index].arrival(vehicle, SimBroker.t_act)\n",
    "\n",
    "    ## control action and simulation\n",
    "    \n",
    "    # call step function\n",
    "    for x in chargingStations:\n",
    "        logging.info(\"--- calling .step() charging station %s | iteration %s | connected vehicles %s  ---\" % (x.ChargingStationId, str(SimBroker.iteration), str(len(x.ChBaVehicles) - x.ChBaVehicles.count(False))))\n",
    "        if isinstance(x, components.ChaDepMpcBase):\n",
    "            x.step(timestep)\n",
    "        else:\n",
    "            x.step(timestep)\n",
    "        logging.info(\"--- finished .step() charging station %s | iteration %s | connected vehicles %s---\" % (x.ChargingStationId, str(SimBroker.iteration), str(len(x.ChBaVehicles) - x.ChBaVehicles.count(False))))\n",
    "    \n",
    "    # provide outputs\n",
    "    for x in chargingStations:\n",
    "        PhySimDummy.input(x.ChargingStationId, sum(x.ChBaPower), x.P_BTMS, timestep)\n",
    "        DermsDummy.input(x.ChargingStationId, x.PowerDesire)\n",
    "\n",
    "progress_bar.close()\n",
    "\n",
    "# change logging level back to INFO\n",
    "streamHandler.setLevel(logging.INFO)\n",
    "\n",
    "logging.info(\"Simulation terminated. final number of iterations: {:.0f}, final time: {:.0f}s\".format(SimBroker.iteration, SimBroker.t_act))\n",
    "    "
   ]
  },
  {
   "cell_type": "code",
   "execution_count": null,
   "metadata": {},
   "outputs": [],
   "source": [
    "print(\"actual Iteration: \" + str(SimBroker.iteration))\n",
    "print(\"actual time: \" + str(SimBroker.t_act))"
   ]
  },
  {
   "cell_type": "code",
   "execution_count": null,
   "metadata": {},
   "outputs": [],
   "source": [
    "showVehicle = 0"
   ]
  },
  {
   "cell_type": "code",
   "execution_count": null,
   "metadata": {},
   "outputs": [],
   "source": [
    "\n",
    "print(\"current time: \", SimBroker.t_act)\n",
    "print(chargingStations[0].ChBaVehicles[showVehicle])\n",
    "print(\"\\nVehicle Number in ChBa: \", showVehicle)\n",
    "if chargingStations[0].ChBaVehicles[showVehicle] != False:\n",
    "    lower, upper = chargingStations[0].ChBaVehicles[showVehicle].getChargingTrajectories(SimBroker.t_act, timestep, 10)\n",
    "    fig, ax = plt.subplots(1,1)\n",
    "    plt.plot(lower, label=\"lower bound\")\n",
    "    plt.plot(upper, label= \"upper bound\")\n",
    "    plt.legend()\n",
    "    ax.set_xlabel(\"control steps\")\n",
    "    ax.set_ylabel(\"energy [kWh]\")\n",
    "\n",
    "showVehicle += 1"
   ]
  },
  {
   "cell_type": "markdown",
   "metadata": {},
   "source": [
    "#### sneak peak into results"
   ]
  },
  {
   "cell_type": "code",
   "execution_count": null,
   "metadata": {},
   "outputs": [],
   "source": [
    "df3 = ResultWriter.ChargingStationStates\n",
    "df3.head(3)"
   ]
  },
  {
   "cell_type": "code",
   "execution_count": null,
   "metadata": {},
   "outputs": [],
   "source": [
    "# plot charging and btms power\n",
    "Station = \"chargingStation-1\"\n",
    "df4 = ResultWriter.ChargingStationStates.loc[ResultWriter.ChargingStationStates.ChargingStationID==Station]\n",
    "fig, ax = plt.subplots(2,1)\n",
    "ax[0].step(df4[\"time\"], df4[\"BtmsPower\"], label=\"P_BTMS [kW]\")\n",
    "ax[0].step(df4[\"time\"], df4[\"TotalChargingPower\"], label=\"P_Charge [kW]\")\n",
    "ax[0].step(df4[\"time\"], df4[\"GridPower\"], label=\"P_Grid [kW]\")\n",
    "ax[0].legend()\n",
    "if isinstance(chargingStationClass, components.ChaDepMpcBase):\n",
    "    ax[0].axhline(chargingStations[0].P_GridMaxPlanning, color = 'black')\n",
    "ax[0].set_xlabel(\"time in [h]\")\n",
    "ax[0].set_ylabel(\"power in [kW]\")\n",
    "\n",
    "ax[1].step(df4[\"time\"], df4[\"BtmsEnergy\"], label=\"BtmsEnergy [kWh]\")\n",
    "ax[1].axhline(ResultWriter.chargingStationProperties.loc[ResultWriter.chargingStationProperties.ChargingStationId == Station].BtmsSize.values[0], color='black')\n",
    "ax[1].axhline(0, color='black')\n",
    "ax[1].set_xlabel(\"time in [h]\")\n",
    "ax[1].set_ylabel(\"energy in [kWh]\")\n",
    "ax[1].legend()\n",
    "\n",
    "fig.set_size_inches(10,8)"
   ]
  },
  {
   "cell_type": "code",
   "execution_count": null,
   "metadata": {},
   "outputs": [],
   "source": [
    "VehicleStates = ResultWriter.VehicleStates.loc[ResultWriter.VehicleStates.VehicleId == 6506887.0]\n",
    "VehicleStates.head(40)"
   ]
  },
  {
   "cell_type": "code",
   "execution_count": null,
   "metadata": {},
   "outputs": [],
   "source": [
    "VehicleEvents = ResultWriter.Events.loc[ResultWriter.Events.VehicleId == 6506887.0]\n",
    "VehicleEvents.head(40)"
   ]
  },
  {
   "cell_type": "code",
   "execution_count": null,
   "metadata": {},
   "outputs": [],
   "source": [
    "checkIteration = 7\n",
    "newDf = pd.DataFrame([df3.loc[checkIteration].BaysChargingPower, df3.loc[checkIteration].BaysChargingDesire, df3.loc[checkIteration].BaysVehicleIds]).T\n",
    "newDf.columns = [\"BaysChargingPower\", \"BaysChargingDesire\", \"BaysVehicleIds\"]\n",
    "newDf.head(25)"
   ]
  },
  {
   "cell_type": "code",
   "execution_count": null,
   "metadata": {},
   "outputs": [],
   "source": [
    "ResultWriter.chargingStationProperties"
   ]
  },
  {
   "cell_type": "code",
   "execution_count": null,
   "metadata": {},
   "outputs": [],
   "source": [
    "ResultWriter.MpcStats.head(6)"
   ]
  },
  {
   "cell_type": "markdown",
   "metadata": {},
   "source": [
    "#### save results"
   ]
  },
  {
   "cell_type": "code",
   "execution_count": null,
   "metadata": {},
   "outputs": [],
   "source": [
    "ResultWriter.save()"
   ]
  },
  {
   "cell_type": "markdown",
   "metadata": {},
   "source": [
    "#### plot results"
   ]
  },
  {
   "cell_type": "code",
   "execution_count": null,
   "metadata": {},
   "outputs": [],
   "source": [
    "import matplotlib.pyplot as plt\n",
    "loadDataFromFile = False\n",
    "plotChargingStation = 0\n",
    "\n",
    "if loadDataFromFile == True:\n",
    "    # need to add code to load this from file\n",
    "    pass\n",
    "else:\n",
    "    ChSt = ResultWriter.ChargingStationStates.loc[ResultWriter.ChargingStationStates.ChargingStationID ==\n",
    "                                                  chargingStations[plotChargingStation].ChargingStationId]\n",
    "\n",
    "fig, ax = plt.subplots(4, 1, sharex=True)\n",
    "fig.suptitle(chargingStations[plotChargingStation].ChargingStationId)\n",
    "ax[0].step(ChSt.time/3600, ChSt.BaysNumberOfVehicles,\n",
    "           label=\"#Vehicles in Charging Bays\")\n",
    "ax[0].step(ChSt.time/3600, ChSt.QueueNumberOfVehicles,\n",
    "           label=\"#Vehicles in Queue\")\n",
    "ax[0].legend(loc='center left', bbox_to_anchor=(1, 0.5))\n",
    "# ax[0].grid()\n",
    "\n",
    "#ax[1].step(ChSt.time/3600, ChSt.GridPowerUpper, label = \"Upper Power Limit [kW]\")\n",
    "ax[1].step(ChSt.time/3600, ChSt.TotalChargingPower,\n",
    "           label=\"Total Charging Power [kW]\")\n",
    "\n",
    "ax[1].step(ChSt.time/3600, ChSt.TotalChargingPower +\n",
    "           ChSt.BtmsPower, label=\"Net Power [kW]\")\n",
    "if isinstance(chargingStationClass, components.ChaDepMpcBase):\n",
    "    ax[1].axhline(chargingStations[0].P_GridMaxPlanning, color = 'black', label = 'P_Max_Planning [kW]') # TODO need to save P Grid Max Planning\n",
    "#ax[1].step(ChSt.time/3600, ChSt.BtmsPower, label = \"Net Power [kW]\")\n",
    "if isinstance(chargingStationClass, components.ChaDepMpcBase):\n",
    "    ax[1].step(np.array(chargingStations[0].PredictionTime)/3600, chargingStations[0].PredictionPower , label=\"unconstrained Power [kW]\")\n",
    "ax[1].legend(loc='center left', bbox_to_anchor=(1, 0.5))\n",
    "# ax[1].grid()\n",
    "\n",
    "ax[2].plot(ChSt.time/3600, ChSt.BtmsEnergy,\n",
    "           label=\"BTMS Energy [kWh]\", color=\"blue\")\n",
    "ax[2].set_ylabel(\"BTMS Energy [kWh]\", color=\"blue\")\n",
    "if case == 2 or case == 3:\n",
    "    ax[2].plot(ChSt.time/3600, chargingStations[plotChargingStation].E_BtmsLower[0:np.shape(\n",
    "        ChSt.time)[0]], color='grey', label=\"lower bound planning\")\n",
    "    ax[2].plot(ChSt.time/3600, chargingStations[plotChargingStation].E_BtmsUpper[0:np.shape(\n",
    "        ChSt.time)[0]], color='grey', label=\"upper bound planning\")\n",
    "\n",
    "y1 = chargingStations[plotChargingStation].BtmsSize * \\\n",
    "    chargingStations[plotChargingStation].BtmsMaxSoc\n",
    "ax[2].axhline(y=y1, linestyle=\"--\", color=\"black\")\n",
    "\n",
    "y2 = chargingStations[plotChargingStation].BtmsSize * \\\n",
    "    chargingStations[plotChargingStation].BtmsMinSoc\n",
    "ax[2].axhline(y=y2, linestyle=\"--\", color=\"black\")\n",
    "# ax[2].grid()\n",
    "\n",
    "ylim = ax[2].get_ylim()\n",
    "ax[2].set_ylim([ylim[0], 1.07*ylim[1]])\n",
    "ylim = ax[2].get_ylim()\n",
    "print(ylim)\n",
    "dy = ylim[1]-ylim[0]\n",
    "xlim = ax[2].get_xlim()\n",
    "x = xlim[0]\n",
    "dx = xlim[1]-xlim[0]\n",
    "ax[2].text(x+0.02*dx, y1+0.03*dy, \"max. SOC\")\n",
    "ax[2].text(x+0.02*dx, y2+0.03*dy, \"min. SOC\")\n",
    "\n",
    "ax1 = ax[2].twinx()\n",
    "ax1.step(ChSt.time/3600, ChSt.BtmsPower, label=\"BTMS Power [kW]\", color=\"red\")\n",
    "ax1.set_ylabel(\"BTMS Power [kW]\", color=\"red\")\n",
    "#ax1.set_ylim([-chargingStations[plotChargingStation].GridPowerMax_Nom,chargingStations[plotChargingStation].GridPowerMax_Nom])\n",
    "ax[2].legend(loc='center left', bbox_to_anchor=(1, 0.5))\n",
    "\n",
    "ax[3].plot(ChSt.time/3600, ChSt.EnergyLagSum,\n",
    "           label=\"Sum of Energy Lags [kWh]\", color=\"blue\")\n",
    "if isinstance(chargingStationClass, components.ChaDepMpcBase):\n",
    "    ax[3].plot(ChSt.time/3600, chargingStations[0].PredictionEnergyLag, label=\"Prediction Energy Lags [kWh]\", color=\"mediumslateblue\")\n",
    "ax[3].axhline(y=0, color=\"black\")\n",
    "ax[3].set_ylabel(\"Sum of Energy Lags [kWh]\", color=\"blue\")\n",
    "#ax[3].legend(loc= 'center left', bbox_to_anchor=(1, 0.5))\n",
    "\n",
    "ax2 = ax[3].twinx()\n",
    "ax2.plot(ChSt.time/3600, ChSt.TimeLagSum/60,\n",
    "         label=\"Sum of Time Lags [min]\", color=\"red\")\n",
    "if isinstance(chargingStationClass, components.ChaDepMpcBase):\n",
    "    ax2.plot(ChSt.time/3600, np.array(chargingStations[0].PredictionTimeLag)/60, label=\"Prediction Time Lags [min]\", color=\"orangered\")\n",
    "ax2.set_ylabel(\"Sum of Time Lags [min]\", color=\"red\")\n",
    "\n",
    "ax[3].set_xlabel(\"time [h]\")\n",
    "ax[3].legend(loc = 'center left', bbox_to_anchor=(1, 1))\n",
    "ax2.legend(loc = 'center left', bbox_to_anchor=(1, 0))\n",
    "\n",
    "fig.set_size_inches(7, 10)\n",
    "logging.info(\"figure printed\")\n"
   ]
  }
 ],
 "metadata": {
  "interpreter": {
   "hash": "9478aa59fb21f09a65f1f155627aebe0f290791ff3152ffe0eaa81705a6b9515"
  },
  "kernelspec": {
   "display_name": "Python 3.7.12 ('py_btms_controller')",
   "language": "python",
   "name": "python3"
  },
  "language_info": {
   "codemirror_mode": {
    "name": "ipython",
    "version": 3
   },
   "file_extension": ".py",
   "mimetype": "text/x-python",
   "name": "python",
   "nbconvert_exporter": "python",
   "pygments_lexer": "ipython3",
   "version": "3.7.12"
  },
  "orig_nbformat": 4
 },
 "nbformat": 4,
 "nbformat_minor": 2
}
