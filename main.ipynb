{
 "cells": [
  {
   "cell_type": "code",
   "execution_count": 14,
   "metadata": {},
   "outputs": [],
   "source": [
    "import components\n",
    "import pandas as pd\n",
    "path_results = \"results/\""
   ]
  },
  {
   "cell_type": "markdown",
   "metadata": {},
   "source": [
    "### simulation"
   ]
  },
  {
   "cell_type": "markdown",
   "metadata": {},
   "source": [
    "#### initialize helper objects for simulation\n",
    "- SimulationBroker\n",
    "- VehicleGenerator\n",
    "- ResultWriter"
   ]
  },
  {
   "cell_type": "code",
   "execution_count": 15,
   "metadata": {},
   "outputs": [],
   "source": [
    "# simulation broker\n",
    "path_Sim = \"test_data/beam1/beam1-0.csv\"\n",
    "dtype_Sim = {\n",
    "       'time': 'int64', 'type': 'category', 'vehicle': 'int64', 'parkingTaz': 'category','chargingPointType': 'category', \n",
    "       'primaryFuelLevel': 'float64', 'mode': 'category', 'currentTourMode': 'category', 'vehicleType': 'category', \n",
    "       'arrivalTime': 'float64', 'departureTime': 'float64', 'linkTravelTime': 'string', 'primaryFuelType': 'category', \n",
    "       'parkingZoneId': 'category','duration': 'float64' \n",
    "        }\n",
    "SimBroker = components.SimBroker(path_Sim, dtype_Sim)\n",
    "\n",
    "# vehicle generator\n",
    "path_DataBase = \"test_data/vehicleFiles/vehicletypes-Base_2035_20210204_updated.csv\"\n",
    "VehicleGenerator = components.VehicleGenerator(path_Sim, dtype_Sim, path_DataBase)\n",
    "\n",
    "path_save = path_results+\"sim1\"\n",
    "ResultWriter = components.ResultWriter(path_save)"
   ]
  },
  {
   "cell_type": "code",
   "execution_count": 16,
   "metadata": {},
   "outputs": [
    {
     "data": {
      "text/html": [
       "<div>\n",
       "<style scoped>\n",
       "    .dataframe tbody tr th:only-of-type {\n",
       "        vertical-align: middle;\n",
       "    }\n",
       "\n",
       "    .dataframe tbody tr th {\n",
       "        vertical-align: top;\n",
       "    }\n",
       "\n",
       "    .dataframe thead th {\n",
       "        text-align: right;\n",
       "    }\n",
       "</style>\n",
       "<table border=\"1\" class=\"dataframe\">\n",
       "  <thead>\n",
       "    <tr style=\"text-align: right;\">\n",
       "      <th></th>\n",
       "      <th>vehicleType</th>\n",
       "    </tr>\n",
       "    <tr>\n",
       "      <th>vehicle</th>\n",
       "      <th></th>\n",
       "    </tr>\n",
       "  </thead>\n",
       "  <tbody>\n",
       "    <tr>\n",
       "      <th>2517</th>\n",
       "      <td>ev-L1-0-to-50000-LowTech-2035-Midsize-BEV_300_XFC</td>\n",
       "    </tr>\n",
       "    <tr>\n",
       "      <th>9368</th>\n",
       "      <td>ev-L1-0-to-50000-LowTech-2035-Midsize-BEV_300_XFC</td>\n",
       "    </tr>\n",
       "    <tr>\n",
       "      <th>11104</th>\n",
       "      <td>ev-L1-0-to-50000-LowTech-2035-Car-BEV_300_XFC</td>\n",
       "    </tr>\n",
       "  </tbody>\n",
       "</table>\n",
       "</div>"
      ],
      "text/plain": [
       "                                               vehicleType\n",
       "vehicle                                                   \n",
       "2517     ev-L1-0-to-50000-LowTech-2035-Midsize-BEV_300_XFC\n",
       "9368     ev-L1-0-to-50000-LowTech-2035-Midsize-BEV_300_XFC\n",
       "11104        ev-L1-0-to-50000-LowTech-2035-Car-BEV_300_XFC"
      ]
     },
     "execution_count": 16,
     "metadata": {},
     "output_type": "execute_result"
    }
   ],
   "source": [
    "# show head of vehicles dataframe\n",
    "VehicleGenerator.vehicles.head(3)"
   ]
  },
  {
   "cell_type": "markdown",
   "metadata": {},
   "source": [
    "#### create charging stations\n",
    "1) map parkingZoneIds to charging stations with a dictionary\n",
    "2) create charging Stations"
   ]
  },
  {
   "cell_type": "code",
   "execution_count": 17,
   "metadata": {},
   "outputs": [],
   "source": [
    "# load infrastructure file into dataframe\n",
    "path_infrastructure = \"test_data/beam1/gemini-base-scenario-3-charging-no-household-infra16.csv\"\n",
    "usecols_infrastructure = [\"taz\", \"parkingType\", \"chargingPointType\", \"parkingZoneId\"]\n",
    "dtype_infrastructure = {\"taz\": \"int64\", \"parkingType\": \"category\", \"chargingPointType\": \"category\", \"parkingZoneId\": \"string\"}\n",
    "infrastructure = pd.read_csv(path_infrastructure, dtype=dtype_infrastructure, usecols=usecols_infrastructure)\n",
    "infrastructure = infrastructure.set_index(\"parkingZoneId\")\n",
    "# filter infrastructure for only public fast and extreme fast charging\n",
    "infrastructure = infrastructure.loc[infrastructure[\"parkingType\"] == \"Public\"]\n",
    "infrastructure = infrastructure.loc[infrastructure[\"chargingPointType\"].str.contains(\"publicfc|publicxfc\")]\n",
    "infrastructure = infrastructure.sort_values(by = [\"taz\", \"parkingZoneId\"])\n",
    "\n",
    "#now, make a dict of every parkingZoneId that belongs to a charging station\n",
    "# here, we will split the chargingstation\n",
    "chargingStationMappedToParkingZoneId = {}\n",
    "stepsize = 200\n",
    "i = 0 \n",
    "j = 1\n",
    "while i < len(infrastructure):\n",
    "    name = \"chargingStation-\" + str(j)\n",
    "    slice = infrastructure.iloc[i:i+stepsize]\n",
    "    chargingStationMappedToParkingZoneId[name] = slice.index.to_list()\n",
    "    i += stepsize\n",
    "    j += 1\n",
    "\n",
    "# #here, we will make chargingStation depending on TAZ. Therefore, get a list of the different TAZ and sort it:\n",
    "# taz = infrastructure.taz.drop_duplicates().to_list()\n",
    "# taz = sorted(taz)\n",
    "# while i < len(taz):\n",
    "#     name = \"chargingStation-\" + str(j)\n",
    "#     # slice = infrastructure.loc[infrastructure[\"taz\"].isin(taz[i:i+stepsize])]\n",
    "#     chargingStationMappedToParkingZoneId[name] = slice.index.to_list()\n",
    "#     i += stepsize\n",
    "#     j += 1"
   ]
  },
  {
   "cell_type": "code",
   "execution_count": 18,
   "metadata": {},
   "outputs": [
    {
     "data": {
      "text/html": [
       "<div>\n",
       "<style scoped>\n",
       "    .dataframe tbody tr th:only-of-type {\n",
       "        vertical-align: middle;\n",
       "    }\n",
       "\n",
       "    .dataframe tbody tr th {\n",
       "        vertical-align: top;\n",
       "    }\n",
       "\n",
       "    .dataframe thead th {\n",
       "        text-align: right;\n",
       "    }\n",
       "</style>\n",
       "<table border=\"1\" class=\"dataframe\">\n",
       "  <thead>\n",
       "    <tr style=\"text-align: right;\">\n",
       "      <th></th>\n",
       "      <th>taz</th>\n",
       "      <th>parkingType</th>\n",
       "      <th>chargingPointType</th>\n",
       "    </tr>\n",
       "    <tr>\n",
       "      <th>parkingZoneId</th>\n",
       "      <th></th>\n",
       "      <th></th>\n",
       "      <th></th>\n",
       "    </tr>\n",
       "  </thead>\n",
       "  <tbody>\n",
       "    <tr>\n",
       "      <th>X-PEV-9-1</th>\n",
       "      <td>9</td>\n",
       "      <td>Public</td>\n",
       "      <td>publicfc(150.0|DC)</td>\n",
       "    </tr>\n",
       "    <tr>\n",
       "      <th>X-PEV-11-1</th>\n",
       "      <td>11</td>\n",
       "      <td>Public</td>\n",
       "      <td>publicfc(150.0|DC)</td>\n",
       "    </tr>\n",
       "    <tr>\n",
       "      <th>X-PEV-12-1</th>\n",
       "      <td>12</td>\n",
       "      <td>Public</td>\n",
       "      <td>publicfc(150.0|DC)</td>\n",
       "    </tr>\n",
       "  </tbody>\n",
       "</table>\n",
       "</div>"
      ],
      "text/plain": [
       "               taz parkingType   chargingPointType\n",
       "parkingZoneId                                     \n",
       "X-PEV-9-1        9      Public  publicfc(150.0|DC)\n",
       "X-PEV-11-1      11      Public  publicfc(150.0|DC)\n",
       "X-PEV-12-1      12      Public  publicfc(150.0|DC)"
      ]
     },
     "execution_count": 18,
     "metadata": {},
     "output_type": "execute_result"
    }
   ],
   "source": [
    "infrastructure.head(3)"
   ]
  },
  {
   "cell_type": "code",
   "execution_count": 19,
   "metadata": {},
   "outputs": [
    {
     "name": "stdout",
     "output_type": "stream",
     "text": [
      "dict_keys(['chargingStation-1', 'chargingStation-2', 'chargingStation-3'])\n"
     ]
    }
   ],
   "source": [
    "print(chargingStationMappedToParkingZoneId.keys())"
   ]
  },
  {
   "cell_type": "code",
   "execution_count": 20,
   "metadata": {},
   "outputs": [
    {
     "name": "stdout",
     "output_type": "stream",
     "text": [
      "chargingStation-1 was created with 200 charging bays and 16600.0kWh BTM-Storage\n",
      "chargingStation-2 was created with 200 charging bays and 18300.0kWh BTM-Storage\n",
      "chargingStation-3 was created with 108 charging bays and 9300.0kWh BTM-Storage\n"
     ]
    }
   ],
   "source": [
    "#create chargingStations\n",
    "chargingStations = [] # list of charging stations\n",
    "for i in chargingStationMappedToParkingZoneId:\n",
    "    #chargingStations.append(i)\n",
    "\n",
    "    ChargingStationId = i\n",
    "    ChBaNum = len(chargingStationMappedToParkingZoneId[i])\n",
    "    # make a list with the powers of the bays:\n",
    "    ChBaMaxPower = []\n",
    "    for j in chargingStationMappedToParkingZoneId[i]:\n",
    "        power_string = infrastructure.loc[j, \"chargingPointType\"]\n",
    "        ChBaMaxPower.append(components.chargingCapFromString(power_string))\n",
    "    ChBaParkingZoneId = chargingStationMappedToParkingZoneId[i]\n",
    "    calcBtmsGridProp = True\n",
    "\n",
    "    # think about variable power limits\n",
    "    # include interfaces like in diagram\n",
    "\n",
    "    \n",
    "    container = components.ChaDepLimCon(ChargingStationId=ChargingStationId, ResultWriter=ResultWriter, SimBroker = SimBroker, ChBaMaxPower=ChBaMaxPower, ChBaParkingZoneId=ChBaParkingZoneId, calcBtmsGridProp = True)\n",
    "    chargingStations.append(container)\n",
    "    print(ChargingStationId + \" was created with \" + str(container.ChBaNum) + \" charging bays and \" + str(container.BtmsSize) + \"kWh BTM-Storage\")"
   ]
  },
  {
   "cell_type": "markdown",
   "metadata": {},
   "source": [
    "- initialize helper objects for simulation input"
   ]
  },
  {
   "cell_type": "code",
   "execution_count": 21,
   "metadata": {},
   "outputs": [],
   "source": [
    "PhySimDummy = components.PhySimDummy(chargingStations)\n",
    "DermsDummy  = components.DermsDummy(chargingStations)"
   ]
  },
  {
   "cell_type": "code",
   "execution_count": 12,
   "metadata": {},
   "outputs": [
    {
     "name": "stdout",
     "output_type": "stream",
     "text": [
      "[1000, -300, 0.4984644996205449, 16600.0]\n"
     ]
    }
   ],
   "source": [
    "print(PhySimDummy.data['chargingStation-1'])"
   ]
  },
  {
   "cell_type": "markdown",
   "metadata": {},
   "source": [
    "#### initialize simulation\n",
    "initialize Grid Constraints and actual time of charging Station"
   ]
  },
  {
   "cell_type": "code",
   "execution_count": 23,
   "metadata": {},
   "outputs": [],
   "source": [
    "for x in chargingStations:\n",
    "    GridPowerLower, GridPowerUpper = DermsDummy.output(x.ChargingStationId)\n",
    "    x.initialize(t_start = SimBroker.t_act, GridPowerLower = GridPowerLower, GridPowerUpper = GridPowerUpper)"
   ]
  },
  {
   "cell_type": "markdown",
   "metadata": {},
   "source": [
    "#### run simulation"
   ]
  },
  {
   "cell_type": "code",
   "execution_count": null,
   "metadata": {},
   "outputs": [],
   "source": [
    "while not SimBroker.eol():\n",
    "    pass\n",
    "    # Sim Broker Step\n",
    "    # generate Vehicles if charging Plug in event\n",
    "    # let vehicles arrive at charging station\n",
    "    # call step function\n",
    "        # specify step function of controller\n",
    "        # add vehicle releases\n",
    "        # add ResultWriter Routines\n"
   ]
  },
  {
   "cell_type": "markdown",
   "metadata": {},
   "source": [
    "#### save results"
   ]
  },
  {
   "cell_type": "code",
   "execution_count": null,
   "metadata": {},
   "outputs": [],
   "source": [
    "ResultWriter.save()"
   ]
  }
 ],
 "metadata": {
  "interpreter": {
   "hash": "85c0dbb8a8370b12144789c1d52a926d4fc5a933acd5ac3a4d5d32d721e57c89"
  },
  "kernelspec": {
   "display_name": "Python 3.7.11 ('py_btms_controller')",
   "language": "python",
   "name": "python3"
  },
  "language_info": {
   "codemirror_mode": {
    "name": "ipython",
    "version": 3
   },
   "file_extension": ".py",
   "mimetype": "text/x-python",
   "name": "python",
   "nbconvert_exporter": "python",
   "pygments_lexer": "ipython3",
   "version": "3.7.11"
  },
  "orig_nbformat": 4
 },
 "nbformat": 4,
 "nbformat_minor": 2
}
