{
 "cells": [
  {
   "cell_type": "code",
   "execution_count": 1,
   "metadata": {},
   "outputs": [],
   "source": [
    "import components\n",
    "import pandas as pd\n",
    "import numpy as np\n",
    "path_results = \"results/\""
   ]
  },
  {
   "cell_type": "markdown",
   "metadata": {},
   "source": [
    "### simulation"
   ]
  },
  {
   "cell_type": "markdown",
   "metadata": {},
   "source": [
    "#### initialize helper objects for simulation\n",
    "- SimulationBroker\n",
    "- VehicleGenerator\n",
    "- ResultWriter"
   ]
  },
  {
   "cell_type": "code",
   "execution_count": 2,
   "metadata": {},
   "outputs": [],
   "source": [
    "# simulation broker\n",
    "path_Sim = \"test_data/beam1/beam1-0.csv\"\n",
    "dtype_Sim = {\n",
    "       'time': 'int64', 'type': 'category', 'vehicle': 'int64', 'parkingTaz': 'category','chargingPointType': 'category', \n",
    "       'primaryFuelLevel': 'float64', 'mode': 'category', 'currentTourMode': 'category', 'vehicleType': 'category', \n",
    "       'arrivalTime': 'float64', 'departureTime': 'float64', 'linkTravelTime': 'string', 'primaryFuelType': 'category', \n",
    "       'parkingZoneId': 'category','duration': 'float64' \n",
    "        }\n",
    "SimBroker = components.SimBroker(path_Sim, dtype_Sim)\n",
    "\n",
    "# vehicle generator\n",
    "path_DataBase = \"test_data/vehicleFiles/vehicletypes-Base_2035_20210204_updated.csv\"\n",
    "VehicleGenerator = components.VehicleGenerator(path_Sim, dtype_Sim, path_DataBase)\n",
    "\n",
    "path_save = path_results+\"sim1\"\n",
    "ResultWriter = components.ResultWriter(path_save)"
   ]
  },
  {
   "cell_type": "code",
   "execution_count": 3,
   "metadata": {},
   "outputs": [
    {
     "data": {
      "text/html": [
       "<div>\n",
       "<style scoped>\n",
       "    .dataframe tbody tr th:only-of-type {\n",
       "        vertical-align: middle;\n",
       "    }\n",
       "\n",
       "    .dataframe tbody tr th {\n",
       "        vertical-align: top;\n",
       "    }\n",
       "\n",
       "    .dataframe thead th {\n",
       "        text-align: right;\n",
       "    }\n",
       "</style>\n",
       "<table border=\"1\" class=\"dataframe\">\n",
       "  <thead>\n",
       "    <tr style=\"text-align: right;\">\n",
       "      <th></th>\n",
       "      <th>vehicleType</th>\n",
       "    </tr>\n",
       "    <tr>\n",
       "      <th>vehicle</th>\n",
       "      <th></th>\n",
       "    </tr>\n",
       "  </thead>\n",
       "  <tbody>\n",
       "    <tr>\n",
       "      <th>2517</th>\n",
       "      <td>ev-L1-0-to-50000-LowTech-2035-Midsize-BEV_300_XFC</td>\n",
       "    </tr>\n",
       "    <tr>\n",
       "      <th>9368</th>\n",
       "      <td>ev-L1-0-to-50000-LowTech-2035-Midsize-BEV_300_XFC</td>\n",
       "    </tr>\n",
       "    <tr>\n",
       "      <th>11104</th>\n",
       "      <td>ev-L1-0-to-50000-LowTech-2035-Car-BEV_300_XFC</td>\n",
       "    </tr>\n",
       "  </tbody>\n",
       "</table>\n",
       "</div>"
      ],
      "text/plain": [
       "                                               vehicleType\n",
       "vehicle                                                   \n",
       "2517     ev-L1-0-to-50000-LowTech-2035-Midsize-BEV_300_XFC\n",
       "9368     ev-L1-0-to-50000-LowTech-2035-Midsize-BEV_300_XFC\n",
       "11104        ev-L1-0-to-50000-LowTech-2035-Car-BEV_300_XFC"
      ]
     },
     "execution_count": 3,
     "metadata": {},
     "output_type": "execute_result"
    }
   ],
   "source": [
    "# show head of vehicles dataframe\n",
    "VehicleGenerator.vehicles.head(3)"
   ]
  },
  {
   "cell_type": "markdown",
   "metadata": {},
   "source": [
    "#### create charging stations\n",
    "1) map parkingZoneIds to charging stations with a dictionary\n",
    "2) create charging Stations"
   ]
  },
  {
   "cell_type": "code",
   "execution_count": 4,
   "metadata": {},
   "outputs": [],
   "source": [
    "# load infrastructure file into dataframe\n",
    "path_infrastructure = \"test_data/beam1/gemini-base-scenario-3-charging-no-household-infra16.csv\"\n",
    "usecols_infrastructure = [\"taz\", \"parkingType\", \"chargingPointType\", \"parkingZoneId\"]\n",
    "dtype_infrastructure = {\"taz\": \"int64\", \"parkingType\": \"category\", \"chargingPointType\": \"category\", \"parkingZoneId\": \"string\"}\n",
    "infrastructure = pd.read_csv(path_infrastructure, dtype=dtype_infrastructure, usecols=usecols_infrastructure)\n",
    "infrastructure = infrastructure.set_index(\"parkingZoneId\")\n",
    "# filter infrastructure for only public fast and extreme fast charging\n",
    "infrastructure = infrastructure.loc[infrastructure[\"parkingType\"] == \"Public\"]\n",
    "infrastructure = infrastructure.loc[infrastructure[\"chargingPointType\"].str.contains(\"publicfc|publicxfc\")]\n",
    "infrastructure = infrastructure.sort_values(by = [\"taz\", \"parkingZoneId\"])\n",
    "\n",
    "#now, make a dict of every parkingZoneId that belongs to a charging station\n",
    "# here, we will split the chargingstation\n",
    "chargingStationMappedToParkingZoneId = {}\n",
    "chargingStationMappedToTaz = {}\n",
    "stepsize = 200\n",
    "i = 0 \n",
    "j = 1\n",
    "stop = False\n",
    "while i < len(infrastructure) -1 :\n",
    "    name = \"chargingStation-\" + str(j)\n",
    "    # we want to make sure, that all the chargingBays of one TAZ are in one chargingStation\n",
    "    if i + stepsize < len(infrastructure) :\n",
    "        i_end = i+stepsize\n",
    "        while infrastructure.iloc[i_end][\"taz\"] == infrastructure.iloc[i_end+1][\"taz\"]:\n",
    "            i_end +=1 # if the taz is the same, we should increase reading to that taz\n",
    "            if i_end +1 >= len(infrastructure) - 1 : # make sure, that we don't try to read in the next step something that doesnt exist\n",
    "                stop = True\n",
    "                break\n",
    "    else: \n",
    "        i_end = len(infrastructure)-1\n",
    "    if not stop:\n",
    "        i_end += 1 # to also catch the last element\n",
    "    slice = infrastructure.iloc[i:i_end]\n",
    "    chargingStationMappedToParkingZoneId[name] = slice.index.to_list()\n",
    "    chargingStationMappedToTaz[name] = list(set(slice[\"taz\"].to_list())) # this removes duplicates\n",
    "    i = i_end # start reading next cycle at i\n",
    "    j += 1\n",
    "\n",
    "# we convert chargingStationMappedToTaz to a dataframe to use search methods\n",
    "chargingStationMappedToTaz = pd.DataFrame.from_dict(chargingStationMappedToTaz, orient='index')\n",
    "chargingStationMappedToTaz = chargingStationMappedToTaz.transpose()\n",
    "\n",
    "# #here, we will make chargingStation depending on TAZ. Therefore, get a list of the different TAZ and sort it:\n",
    "# taz = infrastructure.taz.drop_duplicates().to_list()\n",
    "# taz = sorted(taz)\n",
    "# while i < len(taz):\n",
    "#     name = \"chargingStation-\" + str(j)\n",
    "#     # slice = infrastructure.loc[infrastructure[\"taz\"].isin(taz[i:i+stepsize])]\n",
    "#     chargingStationMappedToParkingZoneId[name] = slice.index.to_list()\n",
    "#     i += stepsize\n",
    "#     j += 1"
   ]
  },
  {
   "cell_type": "code",
   "execution_count": 5,
   "metadata": {},
   "outputs": [
    {
     "data": {
      "text/html": [
       "<div>\n",
       "<style scoped>\n",
       "    .dataframe tbody tr th:only-of-type {\n",
       "        vertical-align: middle;\n",
       "    }\n",
       "\n",
       "    .dataframe tbody tr th {\n",
       "        vertical-align: top;\n",
       "    }\n",
       "\n",
       "    .dataframe thead th {\n",
       "        text-align: right;\n",
       "    }\n",
       "</style>\n",
       "<table border=\"1\" class=\"dataframe\">\n",
       "  <thead>\n",
       "    <tr style=\"text-align: right;\">\n",
       "      <th></th>\n",
       "      <th>taz</th>\n",
       "      <th>parkingType</th>\n",
       "      <th>chargingPointType</th>\n",
       "    </tr>\n",
       "    <tr>\n",
       "      <th>parkingZoneId</th>\n",
       "      <th></th>\n",
       "      <th></th>\n",
       "      <th></th>\n",
       "    </tr>\n",
       "  </thead>\n",
       "  <tbody>\n",
       "    <tr>\n",
       "      <th>X-PEV-9-1</th>\n",
       "      <td>9</td>\n",
       "      <td>Public</td>\n",
       "      <td>publicfc(150.0|DC)</td>\n",
       "    </tr>\n",
       "    <tr>\n",
       "      <th>X-PEV-11-1</th>\n",
       "      <td>11</td>\n",
       "      <td>Public</td>\n",
       "      <td>publicfc(150.0|DC)</td>\n",
       "    </tr>\n",
       "    <tr>\n",
       "      <th>X-PEV-12-1</th>\n",
       "      <td>12</td>\n",
       "      <td>Public</td>\n",
       "      <td>publicfc(150.0|DC)</td>\n",
       "    </tr>\n",
       "  </tbody>\n",
       "</table>\n",
       "</div>"
      ],
      "text/plain": [
       "               taz parkingType   chargingPointType\n",
       "parkingZoneId                                     \n",
       "X-PEV-9-1        9      Public  publicfc(150.0|DC)\n",
       "X-PEV-11-1      11      Public  publicfc(150.0|DC)\n",
       "X-PEV-12-1      12      Public  publicfc(150.0|DC)"
      ]
     },
     "execution_count": 5,
     "metadata": {},
     "output_type": "execute_result"
    }
   ],
   "source": [
    "infrastructure.head(3)"
   ]
  },
  {
   "cell_type": "code",
   "execution_count": 6,
   "metadata": {},
   "outputs": [
    {
     "name": "stdout",
     "output_type": "stream",
     "text": [
      "dict_keys(['chargingStation-1', 'chargingStation-2', 'chargingStation-3'])\n"
     ]
    }
   ],
   "source": [
    "print(chargingStationMappedToParkingZoneId.keys())"
   ]
  },
  {
   "cell_type": "code",
   "execution_count": 7,
   "metadata": {},
   "outputs": [
    {
     "name": "stdout",
     "output_type": "stream",
     "text": [
      "chargingStation-1 was created with 208 charging bays and 26000.0kWh BTM-Storage\n",
      "chargingStation-2 was created with 207 charging bays and 25875.0kWh BTM-Storage\n",
      "chargingStation-3 was created with 93 charging bays and 11625.0kWh BTM-Storage\n"
     ]
    }
   ],
   "source": [
    "#create chargingStations\n",
    "chargingStations = [] # list of charging stations\n",
    "for i in chargingStationMappedToParkingZoneId:\n",
    "    #chargingStations.append(i)\n",
    "\n",
    "    ChargingStationId = i\n",
    "    ChBaNum = len(chargingStationMappedToParkingZoneId[i])\n",
    "    # make a list with the powers of the bays:\n",
    "    ChBaMaxPower = []\n",
    "    for j in chargingStationMappedToParkingZoneId[i]:\n",
    "        power_string = infrastructure.loc[j, \"chargingPointType\"]\n",
    "        ChBaMaxPower.append(components.chargingCapFromString(power_string))\n",
    "    # for now, we assume that all charging bays have the same charging power\n",
    "    PowerMax = max(ChBaMaxPower)\n",
    "    len_power = len(ChBaMaxPower)\n",
    "    ChBaMaxPower = []\n",
    "    for j in range(0, len_power):\n",
    "        ChBaMaxPower.append(PowerMax)\n",
    "    del PowerMax, len_power\n",
    "    \n",
    "    ChBaParkingZoneId = chargingStationMappedToParkingZoneId[i]\n",
    "    calcBtmsGridProp = True\n",
    "\n",
    "    # think about variable power limits\n",
    "    # include interfaces like in diagram\n",
    "\n",
    "    \n",
    "    container = components.ChaDepLimCon(ChargingStationId=ChargingStationId, ResultWriter=ResultWriter, SimBroker = SimBroker, ChBaMaxPower=ChBaMaxPower, ChBaParkingZoneId=ChBaParkingZoneId, calcBtmsGridProp = True)\n",
    "    chargingStations.append(container)\n",
    "    print(ChargingStationId + \" was created with \" + str(container.ChBaNum) + \" charging bays and \" + str(container.BtmsSize) + \"kWh BTM-Storage\")"
   ]
  },
  {
   "cell_type": "markdown",
   "metadata": {},
   "source": [
    "- initialize helper objects for simulation input"
   ]
  },
  {
   "cell_type": "code",
   "execution_count": 8,
   "metadata": {},
   "outputs": [],
   "source": [
    "PhySimDummy = components.PhySimDummy(chargingStations)\n",
    "DermsDummy  = components.DermsDummy(chargingStations)"
   ]
  },
  {
   "cell_type": "markdown",
   "metadata": {},
   "source": [
    "#### initialize simulation\n",
    "initialize Grid Constraints and actual time of charging Station"
   ]
  },
  {
   "cell_type": "code",
   "execution_count": 9,
   "metadata": {},
   "outputs": [],
   "source": [
    "for x in chargingStations:\n",
    "    GridPowerLower, GridPowerUpper = DermsDummy.output(x.ChargingStationId)\n",
    "    x.initialize(GridPowerLower = GridPowerLower, GridPowerUpper = GridPowerUpper)"
   ]
  },
  {
   "cell_type": "markdown",
   "metadata": {},
   "source": [
    "#### run simulation"
   ]
  },
  {
   "cell_type": "code",
   "execution_count": 10,
   "metadata": {},
   "outputs": [],
   "source": [
    "'''Simulation settings:'''\n",
    "timestep = 5 * 60"
   ]
  },
  {
   "cell_type": "code",
   "execution_count": 11,
   "metadata": {},
   "outputs": [
    {
     "ename": "TypeError",
     "evalue": "'<' not supported between instances of 'Vehicle' and 'float'",
     "output_type": "error",
     "traceback": [
      "\u001b[1;31m---------------------------------------------------------------------------\u001b[0m",
      "\u001b[1;31mTypeError\u001b[0m                                 Traceback (most recent call last)",
      "\u001b[1;32m~\\AppData\\Local\\Temp\\ipykernel_28952\\2959495979.py\u001b[0m in \u001b[0;36m<module>\u001b[1;34m\u001b[0m\n\u001b[0;32m     35\u001b[0m     \u001b[1;31m# call step function\u001b[0m\u001b[1;33m\u001b[0m\u001b[1;33m\u001b[0m\u001b[1;33m\u001b[0m\u001b[0m\n\u001b[0;32m     36\u001b[0m     \u001b[1;32mfor\u001b[0m \u001b[0mx\u001b[0m \u001b[1;32min\u001b[0m \u001b[0mchargingStations\u001b[0m\u001b[1;33m:\u001b[0m\u001b[1;33m\u001b[0m\u001b[1;33m\u001b[0m\u001b[0m\n\u001b[1;32m---> 37\u001b[1;33m         \u001b[0mx\u001b[0m\u001b[1;33m.\u001b[0m\u001b[0mstep\u001b[0m\u001b[1;33m(\u001b[0m\u001b[0mtimestep\u001b[0m\u001b[1;33m)\u001b[0m\u001b[1;33m\u001b[0m\u001b[1;33m\u001b[0m\u001b[0m\n\u001b[0m\u001b[0;32m     38\u001b[0m \u001b[1;33m\u001b[0m\u001b[0m\n\u001b[0;32m     39\u001b[0m     \u001b[1;31m# provide outputs\u001b[0m\u001b[1;33m\u001b[0m\u001b[1;33m\u001b[0m\u001b[1;33m\u001b[0m\u001b[0m\n",
      "\u001b[1;32mc:\\Users\\akaju\\Documents\\GitHub\\xfc-btms-saev-controller\\components\\ChaDepLimCon.py\u001b[0m in \u001b[0;36mstep\u001b[1;34m(self, timestep)\u001b[0m\n\u001b[0;32m     37\u001b[0m             \u001b[0mj\u001b[0m \u001b[1;33m=\u001b[0m \u001b[0midx_Bays\u001b[0m\u001b[1;33m[\u001b[0m\u001b[0mi\u001b[0m\u001b[1;33m]\u001b[0m \u001b[1;31m# save index of current charging bay in j\u001b[0m\u001b[1;33m\u001b[0m\u001b[1;33m\u001b[0m\u001b[0m\n\u001b[0;32m     38\u001b[0m             \u001b[1;32mif\u001b[0m \u001b[0mtype\u001b[0m\u001b[1;33m(\u001b[0m\u001b[0mself\u001b[0m\u001b[1;33m.\u001b[0m\u001b[0mChBaVehicles\u001b[0m\u001b[1;33m[\u001b[0m\u001b[0mj\u001b[0m\u001b[1;33m]\u001b[0m\u001b[1;33m)\u001b[0m \u001b[1;33m==\u001b[0m \u001b[0mVehicle\u001b[0m\u001b[1;33m:\u001b[0m \u001b[1;31m# only assign charging power, if a vehicle is in the bay\u001b[0m\u001b[1;33m\u001b[0m\u001b[1;33m\u001b[0m\u001b[0m\n\u001b[1;32m---> 39\u001b[1;33m                 \u001b[0mmaxPower\u001b[0m \u001b[1;33m=\u001b[0m \u001b[0mmin\u001b[0m\u001b[1;33m(\u001b[0m\u001b[1;33m[\u001b[0m\u001b[0mself\u001b[0m\u001b[1;33m.\u001b[0m\u001b[0mChBaMaxPower\u001b[0m\u001b[1;33m[\u001b[0m\u001b[0mj\u001b[0m\u001b[1;33m]\u001b[0m\u001b[1;33m,\u001b[0m \u001b[0mself\u001b[0m\u001b[1;33m.\u001b[0m\u001b[0mChBaVehicles\u001b[0m\u001b[1;33m[\u001b[0m\u001b[0mj\u001b[0m\u001b[1;33m]\u001b[0m\u001b[1;33m]\u001b[0m\u001b[1;33m)\u001b[0m \u001b[1;31m# the maximum power of the current bay is the minimum of the chargingbay max power and the vehicle max power\u001b[0m\u001b[1;33m\u001b[0m\u001b[1;33m\u001b[0m\u001b[0m\n\u001b[0m\u001b[0;32m     40\u001b[0m                 \u001b[0msumPowers\u001b[0m \u001b[1;33m=\u001b[0m \u001b[0msum\u001b[0m\u001b[1;33m(\u001b[0m\u001b[0mself\u001b[0m\u001b[1;33m.\u001b[0m\u001b[0mChBaPower\u001b[0m\u001b[1;33m)\u001b[0m\u001b[1;33m\u001b[0m\u001b[1;33m\u001b[0m\u001b[0m\n\u001b[0;32m     41\u001b[0m                 \u001b[1;32mif\u001b[0m  \u001b[0msumPowers\u001b[0m \u001b[1;33m+\u001b[0m \u001b[0mmaxPower\u001b[0m \u001b[1;33m<=\u001b[0m \u001b[0mP_max\u001b[0m\u001b[1;33m:\u001b[0m \u001b[1;31m# test if maxPower of current bay can be fully added\u001b[0m\u001b[1;33m\u001b[0m\u001b[1;33m\u001b[0m\u001b[0m\n",
      "\u001b[1;31mTypeError\u001b[0m: '<' not supported between instances of 'Vehicle' and 'float'"
     ]
    }
   ],
   "source": [
    "SimBroker.reset()\n",
    "ResultWriter.reset()\n",
    "\n",
    "iteration = 0\n",
    "\n",
    "while not SimBroker.eol():\n",
    "\n",
    "    # Sim Broker Step\n",
    "    slice = SimBroker.step(timestep)\n",
    "\n",
    "    #update values from DERMS and PhysicalSimulation\n",
    "    for x in chargingStations:\n",
    "        # update SiteNet Power Limits from Derms\n",
    "        GridPowerLower, GridPowerUpper = DermsDummy.output(x.ChargingStationId)\n",
    "        x.updateFromDerms(GridPowerLower, GridPowerUpper)\n",
    "        # update CES SOC from PhysicalSimulation\n",
    "        x.updateFromPhySim(PhySimDummy.output(x.ChargingStationId))\n",
    "\n",
    "    # generate Vehicles if charging Plug in event\n",
    "    for i in range(0, len(slice)):\n",
    "        if slice.iloc[i][\"type\"] == \"ChargingPlugInEvent\":\n",
    "            # generate vehicle\n",
    "            vehicle = VehicleGenerator.generateVehicleSO(slice.iloc[i])\n",
    "            # let vehicle arrive at a charging station - here depending on taz\n",
    "            taz = int(slice.iloc[i][\"parkingTaz\"]) # this is a str\n",
    "            #find out which chargingStation belongs to the taz\n",
    "            res = chargingStationMappedToTaz.isin([taz]).any().values\n",
    "            index = np.where(res == True)[0][0]\n",
    "\n",
    "            #let vehicles arrive at designated chargingStation\n",
    "            chargingStations[index].arrival(vehicle)\n",
    "\n",
    "    #control action and simulation\n",
    "    \n",
    "    # call step function\n",
    "    for x in chargingStations:\n",
    "        x.step(timestep)\n",
    "\n",
    "    # provide outputs\n",
    "    for x in chargingStations:\n",
    "        PhySimDummy.input(x.ChargingStationId, sum(x.ChBaPower), x.BtmsPower, timestep)\n",
    "        DermsDummy.input(x.ChargingStationId, x.PowerDesire)\n",
    "\n",
    "    '''for testing'''\n",
    "    if iteration>10:\n",
    "        break\n",
    "    iteration +=1\n",
    "    "
   ]
  },
  {
   "cell_type": "code",
   "execution_count": 13,
   "metadata": {},
   "outputs": [
    {
     "data": {
      "text/plain": [
       "[]"
      ]
     },
     "execution_count": 13,
     "metadata": {},
     "output_type": "execute_result"
    }
   ],
   "source": [
    "chargingStations[0].ChBaVehicles"
   ]
  },
  {
   "cell_type": "markdown",
   "metadata": {},
   "source": [
    "#### save results"
   ]
  },
  {
   "cell_type": "code",
   "execution_count": null,
   "metadata": {},
   "outputs": [],
   "source": [
    "ResultWriter.save()"
   ]
  }
 ],
 "metadata": {
  "interpreter": {
   "hash": "85c0dbb8a8370b12144789c1d52a926d4fc5a933acd5ac3a4d5d32d721e57c89"
  },
  "kernelspec": {
   "display_name": "Python 3.7.11 ('py_btms_controller')",
   "language": "python",
   "name": "python3"
  },
  "language_info": {
   "codemirror_mode": {
    "name": "ipython",
    "version": 3
   },
   "file_extension": ".py",
   "mimetype": "text/x-python",
   "name": "python",
   "nbconvert_exporter": "python",
   "pygments_lexer": "ipython3",
   "version": "3.7.11"
  },
  "orig_nbformat": 4
 },
 "nbformat": 4,
 "nbformat_minor": 2
}
