{
 "cells": [
  {
   "cell_type": "code",
   "execution_count": 1,
   "metadata": {},
   "outputs": [
    {
     "name": "stdout",
     "output_type": "stream",
     "text": [
      "2022-09-15 12:11:14,905 : root  : loggerConfig : INFO : Logger configured\n"
     ]
    }
   ],
   "source": [
    "import components\n",
    "import pandas as pd\n",
    "import numpy as np\n",
    "import matplotlib.pyplot as plt\n",
    "%matplotlib inline\n",
    "from tqdm import tqdm\n",
    "import logging\n",
    "\n",
    "# initialize logger with function\n",
    "streamHandler = components.loggerConfig()"
   ]
  },
  {
   "cell_type": "markdown",
   "metadata": {},
   "source": [
    "change fastly between different options:"
   ]
  },
  {
   "cell_type": "code",
   "execution_count": 2,
   "metadata": {},
   "outputs": [],
   "source": [
    "case = 2\n",
    "\n",
    "if case == 0:\n",
    "    import components.ChaDepLimCon as chargingStationClass\n",
    "    useOnlyOneChargingStation = False\n",
    "elif case ==1:\n",
    "    import components.ChaDepMpcBase as chargingStationClass\n",
    "    useOnlyOneChargingStation = False\n",
    "elif case ==2:\n",
    "    import components.ChaDepMpcBase as chargingStationClass\n",
    "    useOnlyOneChargingStation = True\n",
    "    useChargingStation = 0"
   ]
  },
  {
   "cell_type": "markdown",
   "metadata": {},
   "source": [
    "### simulation"
   ]
  },
  {
   "cell_type": "markdown",
   "metadata": {},
   "source": [
    "#### initialize helper objects for simulation\n",
    "- SimulationBroker\n",
    "- VehicleGenerator\n",
    "- ResultWriter"
   ]
  },
  {
   "cell_type": "code",
   "execution_count": 3,
   "metadata": {},
   "outputs": [
    {
     "name": "stdout",
     "output_type": "stream",
     "text": [
      "2022-09-15 12:11:15,021 : root  : <module> : INFO : SimBroker initialized\n",
      "2022-09-15 12:11:17,151 : root  : <module> : INFO : VehicleGenerator initialized\n",
      "2022-09-15 12:11:17,161 : root  : <module> : INFO : ResultWriter initialized\n"
     ]
    }
   ],
   "source": [
    "# simulation broker\n",
    "path_Sim = \"test_data/beam1/beam1-0.csv\"\n",
    "dtype_Sim = {\n",
    "       'time': 'int64', 'type': 'category', 'vehicle': 'int64', 'parkingTaz': 'category','chargingPointType': 'category', \n",
    "       'primaryFuelLevel': 'float64', 'mode': 'category', 'currentTourMode': 'category', 'vehicleType': 'category', \n",
    "       'arrivalTime': 'float64', 'departureTime': 'float64', 'linkTravelTime': 'string', 'primaryFuelType': 'category', \n",
    "       'parkingZoneId': 'category','duration': 'float64' \n",
    "        }\n",
    "SimBroker = components.SimBroker(path_Sim, dtype_Sim)\n",
    "logging.info(\"SimBroker initialized\")\n",
    "\n",
    "# vehicle generator\n",
    "path_DataBase = \"test_data/vehicleFiles/vehicletypes-Base_2035_20210204_updated.csv\"\n",
    "VehicleGenerator = components.VehicleGenerator(path_Sim, dtype_Sim, path_DataBase)\n",
    "logging.info(\"VehicleGenerator initialized\")\n",
    "\n",
    "sim_name = \"sim1\"\n",
    "result_directory = \"results\"\n",
    "ResultWriter = components.ResultWriter(result_directory, sim_name)\n",
    "logging.info(\"ResultWriter initialized\")"
   ]
  },
  {
   "cell_type": "code",
   "execution_count": 4,
   "metadata": {},
   "outputs": [
    {
     "data": {
      "text/html": [
       "<div>\n",
       "<style scoped>\n",
       "    .dataframe tbody tr th:only-of-type {\n",
       "        vertical-align: middle;\n",
       "    }\n",
       "\n",
       "    .dataframe tbody tr th {\n",
       "        vertical-align: top;\n",
       "    }\n",
       "\n",
       "    .dataframe thead th {\n",
       "        text-align: right;\n",
       "    }\n",
       "</style>\n",
       "<table border=\"1\" class=\"dataframe\">\n",
       "  <thead>\n",
       "    <tr style=\"text-align: right;\">\n",
       "      <th></th>\n",
       "      <th>vehicleType</th>\n",
       "    </tr>\n",
       "    <tr>\n",
       "      <th>vehicle</th>\n",
       "      <th></th>\n",
       "    </tr>\n",
       "  </thead>\n",
       "  <tbody>\n",
       "    <tr>\n",
       "      <th>2517</th>\n",
       "      <td>ev-L1-0-to-50000-LowTech-2035-Midsize-BEV_300_XFC</td>\n",
       "    </tr>\n",
       "    <tr>\n",
       "      <th>9368</th>\n",
       "      <td>ev-L1-0-to-50000-LowTech-2035-Midsize-BEV_300_XFC</td>\n",
       "    </tr>\n",
       "    <tr>\n",
       "      <th>11104</th>\n",
       "      <td>ev-L1-0-to-50000-LowTech-2035-Car-BEV_300_XFC</td>\n",
       "    </tr>\n",
       "  </tbody>\n",
       "</table>\n",
       "</div>"
      ],
      "text/plain": [
       "                                               vehicleType\n",
       "vehicle                                                   \n",
       "2517     ev-L1-0-to-50000-LowTech-2035-Midsize-BEV_300_XFC\n",
       "9368     ev-L1-0-to-50000-LowTech-2035-Midsize-BEV_300_XFC\n",
       "11104        ev-L1-0-to-50000-LowTech-2035-Car-BEV_300_XFC"
      ]
     },
     "execution_count": 4,
     "metadata": {},
     "output_type": "execute_result"
    }
   ],
   "source": [
    "# show head of vehicles dataframe\n",
    "VehicleGenerator.vehicles.head(3)"
   ]
  },
  {
   "cell_type": "markdown",
   "metadata": {},
   "source": [
    "#### create charging stations\n",
    "1) map parkingZoneIds to charging stations with a dictionary\n",
    "2) create charging Stations"
   ]
  },
  {
   "cell_type": "code",
   "execution_count": 5,
   "metadata": {},
   "outputs": [
    {
     "name": "stdout",
     "output_type": "stream",
     "text": [
      "2022-09-15 12:11:17,376 : root  : <module> : INFO : charging stations mapped to parkingZoneId\n"
     ]
    }
   ],
   "source": [
    "# load infrastructure file into dataframe\n",
    "from re import L\n",
    "\n",
    "\n",
    "path_infrastructure = \"test_data/beam1/gemini-base-scenario-3-charging-no-household-infra16.csv\"\n",
    "usecols_infrastructure = [\"taz\", \"parkingType\",\n",
    "                          \"chargingPointType\", \"parkingZoneId\"]\n",
    "dtype_infrastructure = {\"taz\": \"int64\", \"parkingType\": \"category\",\n",
    "                        \"chargingPointType\": \"category\", \"parkingZoneId\": \"string\"}\n",
    "infrastructure = pd.read_csv(\n",
    "    path_infrastructure, dtype=dtype_infrastructure, usecols=usecols_infrastructure)\n",
    "infrastructure = infrastructure.set_index(\"parkingZoneId\")\n",
    "# filter infrastructure for only public fast and extreme fast charging\n",
    "infrastructure = infrastructure.loc[infrastructure[\"parkingType\"] == \"Public\"]\n",
    "infrastructure = infrastructure.loc[infrastructure[\"chargingPointType\"].str.contains(\n",
    "    \"publicfc|publicxfc\")]\n",
    "infrastructure = infrastructure.sort_values(by=[\"taz\", \"parkingZoneId\"])\n",
    "\n",
    "# now, make a dict of every parkingZoneId that belongs to a charging station\n",
    "# here, we will split the chargingstation\n",
    "chargingStationMappedToParkingZoneId = {}\n",
    "chargingStationMappedToTaz = {}\n",
    "stepsize = 200\n",
    "i = 0\n",
    "j = 1\n",
    "stop = False\n",
    "while i < len(infrastructure) - 1:\n",
    "    name = \"chargingStation-\" + str(j)\n",
    "    # we want to make sure, that all the chargingBays of one TAZ are in one chargingStation\n",
    "    if i + stepsize < len(infrastructure):\n",
    "        i_end = i+stepsize\n",
    "        while infrastructure.iloc[i_end][\"taz\"] == infrastructure.iloc[i_end+1][\"taz\"]:\n",
    "            i_end += 1  # if the taz is the same, we should increase reading to that taz\n",
    "            # make sure, that we don't try to read in the next step something that doesnt exist\n",
    "            if i_end + 1 >= len(infrastructure) - 1:\n",
    "                stop = True\n",
    "                break\n",
    "    else:\n",
    "        i_end = len(infrastructure)-1\n",
    "    if not stop:\n",
    "        i_end += 1  # to also catch the last element\n",
    "    slice = infrastructure.iloc[i:i_end]\n",
    "    chargingStationMappedToParkingZoneId[name] = slice.index.to_list()\n",
    "    chargingStationMappedToTaz[name] = list(\n",
    "        set(slice[\"taz\"].to_list()))  # this removes duplicates\n",
    "    i = i_end  # start reading next cycle at i\n",
    "    j += 1\n",
    "\n",
    "# we convert chargingStationMappedToTaz to a dataframe to use search methods\n",
    "chargingStationMappedToTaz = pd.DataFrame.from_dict(\n",
    "    chargingStationMappedToTaz, orient='index')\n",
    "chargingStationMappedToTaz = chargingStationMappedToTaz.transpose()\n",
    "\n",
    "logging.info(\"charging stations mapped to parkingZoneId\")\n",
    "\n",
    "# #here, we will make chargingStation depending on TAZ. Therefore, get a list of the different TAZ and sort it:\n",
    "# taz = infrastructure.taz.drop_duplicates().to_list()\n",
    "# taz = sorted(taz)\n",
    "# while i < len(taz):\n",
    "#     name = \"chargingStation-\" + str(j)\n",
    "#     # slice = infrastructure.loc[infrastructure[\"taz\"].isin(taz[i:i+stepsize])]\n",
    "#     chargingStationMappedToParkingZoneId[name] = slice.index.to_list()\n",
    "#     i += stepsize\n",
    "#     j += 1\n"
   ]
  },
  {
   "cell_type": "code",
   "execution_count": 6,
   "metadata": {},
   "outputs": [
    {
     "data": {
      "text/html": [
       "<div>\n",
       "<style scoped>\n",
       "    .dataframe tbody tr th:only-of-type {\n",
       "        vertical-align: middle;\n",
       "    }\n",
       "\n",
       "    .dataframe tbody tr th {\n",
       "        vertical-align: top;\n",
       "    }\n",
       "\n",
       "    .dataframe thead th {\n",
       "        text-align: right;\n",
       "    }\n",
       "</style>\n",
       "<table border=\"1\" class=\"dataframe\">\n",
       "  <thead>\n",
       "    <tr style=\"text-align: right;\">\n",
       "      <th></th>\n",
       "      <th>taz</th>\n",
       "      <th>parkingType</th>\n",
       "      <th>chargingPointType</th>\n",
       "    </tr>\n",
       "    <tr>\n",
       "      <th>parkingZoneId</th>\n",
       "      <th></th>\n",
       "      <th></th>\n",
       "      <th></th>\n",
       "    </tr>\n",
       "  </thead>\n",
       "  <tbody>\n",
       "    <tr>\n",
       "      <th>X-PEV-9-1</th>\n",
       "      <td>9</td>\n",
       "      <td>Public</td>\n",
       "      <td>publicfc(150.0|DC)</td>\n",
       "    </tr>\n",
       "    <tr>\n",
       "      <th>X-PEV-11-1</th>\n",
       "      <td>11</td>\n",
       "      <td>Public</td>\n",
       "      <td>publicfc(150.0|DC)</td>\n",
       "    </tr>\n",
       "    <tr>\n",
       "      <th>X-PEV-12-1</th>\n",
       "      <td>12</td>\n",
       "      <td>Public</td>\n",
       "      <td>publicfc(150.0|DC)</td>\n",
       "    </tr>\n",
       "  </tbody>\n",
       "</table>\n",
       "</div>"
      ],
      "text/plain": [
       "               taz parkingType   chargingPointType\n",
       "parkingZoneId                                     \n",
       "X-PEV-9-1        9      Public  publicfc(150.0|DC)\n",
       "X-PEV-11-1      11      Public  publicfc(150.0|DC)\n",
       "X-PEV-12-1      12      Public  publicfc(150.0|DC)"
      ]
     },
     "execution_count": 6,
     "metadata": {},
     "output_type": "execute_result"
    }
   ],
   "source": [
    "infrastructure.head(3)"
   ]
  },
  {
   "cell_type": "code",
   "execution_count": 7,
   "metadata": {},
   "outputs": [
    {
     "data": {
      "text/html": [
       "<div>\n",
       "<style scoped>\n",
       "    .dataframe tbody tr th:only-of-type {\n",
       "        vertical-align: middle;\n",
       "    }\n",
       "\n",
       "    .dataframe tbody tr th {\n",
       "        vertical-align: top;\n",
       "    }\n",
       "\n",
       "    .dataframe thead th {\n",
       "        text-align: right;\n",
       "    }\n",
       "</style>\n",
       "<table border=\"1\" class=\"dataframe\">\n",
       "  <thead>\n",
       "    <tr style=\"text-align: right;\">\n",
       "      <th></th>\n",
       "      <th>chargingStation-1</th>\n",
       "      <th>chargingStation-2</th>\n",
       "      <th>chargingStation-3</th>\n",
       "    </tr>\n",
       "  </thead>\n",
       "  <tbody>\n",
       "    <tr>\n",
       "      <th>0</th>\n",
       "      <td>518.0</td>\n",
       "      <td>947.0</td>\n",
       "      <td>1280.0</td>\n",
       "    </tr>\n",
       "    <tr>\n",
       "      <th>1</th>\n",
       "      <td>520.0</td>\n",
       "      <td>948.0</td>\n",
       "      <td>1412.0</td>\n",
       "    </tr>\n",
       "    <tr>\n",
       "      <th>2</th>\n",
       "      <td>9.0</td>\n",
       "      <td>949.0</td>\n",
       "      <td>1273.0</td>\n",
       "    </tr>\n",
       "  </tbody>\n",
       "</table>\n",
       "</div>"
      ],
      "text/plain": [
       "   chargingStation-1  chargingStation-2  chargingStation-3\n",
       "0              518.0              947.0             1280.0\n",
       "1              520.0              948.0             1412.0\n",
       "2                9.0              949.0             1273.0"
      ]
     },
     "execution_count": 7,
     "metadata": {},
     "output_type": "execute_result"
    }
   ],
   "source": [
    "chargingStationMappedToTaz.head(3)"
   ]
  },
  {
   "cell_type": "markdown",
   "metadata": {},
   "source": [
    "here, charging stations are created. please specifiy the type of charging station you want to use"
   ]
  },
  {
   "cell_type": "code",
   "execution_count": 8,
   "metadata": {},
   "outputs": [
    {
     "name": "stdout",
     "output_type": "stream",
     "text": [
      "2022-09-15 12:11:17,539 : root  : <module> : INFO : creating charging stations of type <class 'components.ChaDepMpcBase.ChaDepMpcBase'>\n",
      "2022-09-15 12:11:17,547 : root  : <module> : INFO : chargingStation-1 was created with 208 charging bays and 26000.0kWh BTM-Storage\n",
      "2022-09-15 12:11:17,555 : root  : <module> : INFO : chargingStation-2 was created with 207 charging bays and 25875.0kWh BTM-Storage\n",
      "2022-09-15 12:11:17,559 : root  : <module> : INFO : chargingStation-3 was created with 93 charging bays and 11625.0kWh BTM-Storage\n"
     ]
    }
   ],
   "source": [
    "#create chargingStations\n",
    "logging.info(\"creating charging stations of type \" + str(chargingStationClass))\n",
    "\n",
    "chargingStations = []  # list of charging stations\n",
    "for i in chargingStationMappedToParkingZoneId:\n",
    "    #chargingStations.append(i)\n",
    "\n",
    "    ChargingStationId = i\n",
    "    # make a list with the power of each charging bay:\n",
    "    ChBaMaxPower = []\n",
    "    for j in chargingStationMappedToParkingZoneId[i]:\n",
    "        power_string = infrastructure.loc[j, \"chargingPointType\"]\n",
    "        ChBaMaxPower.append(components.chargingCapFromString(power_string))\n",
    "\n",
    "    # for now, we assume that all charging bays have the same charging power\n",
    "    PowerMax = max(ChBaMaxPower)\n",
    "    len_power = len(ChBaMaxPower)\n",
    "    ChBaMaxPower = []\n",
    "    # make charging limit for each bay the same (for testing and simplicity)\n",
    "    for j in range(0, len_power):\n",
    "        ChBaMaxPower.append(PowerMax)\n",
    "    del PowerMax, len_power\n",
    "\n",
    "    ChBaParkingZoneId = chargingStationMappedToParkingZoneId[i]\n",
    "    calcBtmsGridProp = True\n",
    "\n",
    "    '''reduce number of charging bays to test controller'''\n",
    "    # numStations = 30\n",
    "    # ChBaMaxPower = ChBaMaxPower[0:numStations]\n",
    "    ChBaNum = len(ChBaMaxPower)\n",
    "\n",
    "    # create charging station\n",
    "    container = chargingStationClass(ChargingStationId=ChargingStationId, ResultWriter=ResultWriter, SimBroker=SimBroker,\n",
    "                                     ChBaMaxPower=ChBaMaxPower, ChBaParkingZoneId=ChBaParkingZoneId, ChBaNum=ChBaNum, calcBtmsGridProp=True)\n",
    "    chargingStations.append(container)\n",
    "    logging.info(ChargingStationId + \" was created with \" + str(container.ChBaNum) +\n",
    "          \" charging bays and \" + str(container.BtmsSize) + \"kWh BTM-Storage\")"
   ]
  },
  {
   "cell_type": "markdown",
   "metadata": {},
   "source": [
    "- initialize helper objects for simulation input"
   ]
  },
  {
   "cell_type": "code",
   "execution_count": 9,
   "metadata": {},
   "outputs": [
    {
     "name": "stdout",
     "output_type": "stream",
     "text": [
      "2022-09-15 12:11:17,596 : root  : <module> : INFO : PhySimDummy initialized\n",
      "2022-09-15 12:11:17,597 : root  : <module> : INFO : DermsDummy initialized\n"
     ]
    }
   ],
   "source": [
    "PhySimDummy = components.PhySimDummy(chargingStations)\n",
    "logging.info(\"PhySimDummy initialized\")\n",
    "DermsDummy  = components.DermsDummy(chargingStations)\n",
    "logging.info(\"DermsDummy initialized\")"
   ]
  },
  {
   "cell_type": "markdown",
   "metadata": {},
   "source": [
    "#### initialize simulation\n",
    "initialize Grid Constraints and actual time of charging Station"
   ]
  },
  {
   "cell_type": "code",
   "execution_count": 10,
   "metadata": {},
   "outputs": [
    {
     "name": "stdout",
     "output_type": "stream",
     "text": [
      "2022-09-15 12:11:17,629 : root  : <module> : INFO : we reduced the number of charging stations to 1\n"
     ]
    }
   ],
   "source": [
    "#reduce number of chargingStation for testing\n",
    "if useOnlyOneChargingStation:\n",
    "    chargingStations = [chargingStations[useChargingStation]]\n",
    "    logging.info('we reduced the number of charging stations to 1')"
   ]
  },
  {
   "cell_type": "code",
   "execution_count": 11,
   "metadata": {},
   "outputs": [
    {
     "name": "stdout",
     "output_type": "stream",
     "text": [
      "2022-09-15 12:11:17,659 : root  : <module> : INFO : timestep is set to 300 seconds\n"
     ]
    }
   ],
   "source": [
    "'''Simulation settings:'''\n",
    "timestep = 5 * 60  # in seconds\n",
    "logging.info(\"timestep is set to \" + str(timestep) + \" seconds\")"
   ]
  },
  {
   "cell_type": "code",
   "execution_count": 12,
   "metadata": {},
   "outputs": [
    {
     "name": "stdout",
     "output_type": "stream",
     "text": [
      "2022-09-15 12:11:17,691 : root  : <module> : INFO : chargingStation-1 initialized with DermsDummy output\n"
     ]
    }
   ],
   "source": [
    "for x in chargingStations:\n",
    "    GridPowerLower, GridPowerUpper = DermsDummy.output(x.ChargingStationId)\n",
    "    x.initialize(GridPowerLower = GridPowerLower, GridPowerUpper = GridPowerUpper)\n",
    "    logging.info(str(x.ChargingStationId) + \" initialized with DermsDummy output\")\n",
    "    # TODO is this necessary in the way this is set up? updated before vehicle arrival!"
   ]
  },
  {
   "cell_type": "markdown",
   "metadata": {},
   "source": [
    "generate predictions for power use of charging station"
   ]
  },
  {
   "cell_type": "code",
   "execution_count": 13,
   "metadata": {},
   "outputs": [
    {
     "name": "stdout",
     "output_type": "stream",
     "text": [
      "2022-09-15 12:11:22,510 : root  : <module> : INFO : generated predictions for chargingStation-1\n"
     ]
    }
   ],
   "source": [
    "if chargingStationClass == components.ChaDepMpcBase:\n",
    "    # TODO: for testing we dont add noise\n",
    "    for x in chargingStations:\n",
    "        x.generatePredictions(path_BeamPredictionFile = path_Sim, dtype = dtype_Sim, path_DataBase = path_DataBase, timestep = timestep, addNoise = True)\n",
    "        logging.info(\"generated predictions for \" + str(x.ChargingStationId))"
   ]
  },
  {
   "cell_type": "markdown",
   "metadata": {},
   "source": [
    "plot prediction "
   ]
  },
  {
   "cell_type": "code",
   "execution_count": 14,
   "metadata": {},
   "outputs": [
    {
     "data": {
      "image/png": "[encoded data removed]",
      "text/plain": [
       "<Figure size 432x288 with 1 Axes>"
      ]
     },
     "metadata": {
      "needs_background": "light"
     },
     "output_type": "display_data"
    }
   ],
   "source": [
    "if chargingStationClass == components.ChaDepMpcBase:\n",
    "    x = chargingStations[0]\n",
    "    time = x.PredictionTime\n",
    "    power = x.PredictionPower\n",
    "\n",
    "    ax = plt.subplot()\n",
    "    ax.plot(time,power, label = 'with noise')\n",
    "    ax.plot(time,x.power_sum_original, label = 'without noise')\n",
    "    ax.legend()\n",
    "plt.show()"
   ]
  },
  {
   "cell_type": "markdown",
   "metadata": {},
   "source": [
    "BTMS size optimization\n",
    "\n",
    "see mpcBase.md for explanations"
   ]
  },
  {
   "cell_type": "code",
   "execution_count": 15,
   "metadata": {},
   "outputs": [
    {
     "name": "stdout",
     "output_type": "stream",
     "text": [
      "2022-09-15 12:11:22,822 : root  : <module> : INFO : starting btms size optimization\n",
      "2022-09-15 12:11:22,824 : root  : <module> : INFO : optimizing btms size for chargingStation-1\n",
      "2022-09-15 12:11:22,871 : root  : determineBtmsSize : INFO : \n",
      "----- \n",
      " btms size optimization for charging station chargingStation-1 \n",
      "-----\n",
      "2022-09-15 12:11:23,189 : root  : solverAlgorithm : INFO : SOLVER STATS: solver name: ECOS | solver status: optimal | optimal value 443.277948617876 |iterations: 7 | setup_time 0.0002249 | solve_time 0.0006229\n",
      "2022-09-15 12:11:23,199 : root  : <module> : INFO : Optimization with free power level of 0.00 kW and a demand charge of 0.10 €/day*kW and a BTMS cost of 0.06000 €/kWh and an electricity cost of 0.150 €/kWh\n",
      "2022-09-15 12:11:23,200 : root  : <module> : INFO : The determined effective BTMS size is 2163.44 kWh. The total cost is 443.28 €.The associated C-Rating is 1.92\n",
      "The cost-value is $443.28 from which $262.75 is associated with demand charge, $145.15 is associated with BTMS degradation and $35.38 is associated with energy losses\n",
      "2022-09-15 12:11:23,201 : root  : <module> : INFO : The cost-value is $443.28 from which $262.75 is associated with demand charge, $145.15 is associated with BTMS degradation and $35.38 is associated with energy losses\n",
      "2022-09-15 12:11:23,202 : root  : <module> : INFO : The total delivered energy to the vehicles is 7620.97 kWh, which results in an average power of 2177.42 kW2183.24 kWh were delivered by the BTMS and charging losses of 235.86 kWh occured.The maximal grid power is 2759.54 kW\n",
      "443.277948617876\n"
     ]
    },
    {
     "data": {
      "image/png": "[encoded data removed]",
      "text/plain": [
       "<Figure size 432x288 with 2 Axes>"
      ]
     },
     "metadata": {
      "needs_background": "light"
     },
     "output_type": "display_data"
    }
   ],
   "source": [
    "if chargingStationClass == components.ChaDepMpcBase:\n",
    "    logging.info(\"starting btms size optimization\")\n",
    "    a = 20/30 * ((SimBroker.t_max - SimBroker.t_act)/3.6e3) / \\\n",
    "        24       # demand charge per day\n",
    "    # free power, after which demand charge is applied, as ratio to avg power\n",
    "    P_free_Ratio = 0\n",
    "    # btms cost per cycle per kWh (price per kWh/ possible cycles)\n",
    "    b = 300/5000\n",
    "    c = 0.15      # electricity cost per kWh\n",
    "\n",
    "    Print = False\n",
    "    Graph = True\n",
    "    for i in range(0, len(chargingStations)):\n",
    "        logging.info(\"optimizing btms size for \" + str(chargingStations[i].ChargingStationId))\n",
    "        x = chargingStations[i]\n",
    "        # determine P_free\n",
    "        avgPower = sum(x.PredictionPower*timestep) / \\\n",
    "            (max(x.PredictionTime) + timestep - min(x.PredictionTime))\n",
    "        P_free = P_free_Ratio * avgPower\n",
    "\n",
    "        # btms size optimization\n",
    "        time, time_x, btms_size, P_Grid, P_BTMS, P_BTMS_Ch, P_BTMS_DCh, E_BTMS, P_Charge, cost = x.determineBtmsSize(\n",
    "            SimBroker.t_act, SimBroker.t_max, timestep, a, b, c, P_free)\n",
    "\n",
    "        # we set the max and min soc to 1 and 0\n",
    "        x.BtmsMaxSoc = 1.0\n",
    "        x.BtmsMinSoc = 0.0\n",
    "\n",
    "        time = time/3.6e3  # conversion to hours\n",
    "        time_x = time_x/3.6e3\n",
    "\n",
    "        #print('\\n', x.ChargingStationId)\n",
    "        str1 = 'Optimization with free power level of {:.2f} kW'.format(P_free)\n",
    "        str2 = ' and a demand charge of {:.2f} €/day*kW'.format(a)\n",
    "        str3 = ' and a BTMS cost of {:.5f} €/kWh'.format(b)\n",
    "        str4 = ' and an electricity cost of {:.3f} €/kWh'.format(c)\n",
    "        #print(str1, str2, str3, str4)\n",
    "        logging.info(str1 + str2 + str3 + str4)\n",
    "        str1 = 'The determined effective BTMS size is {:.2f} kWh.'.format(btms_size)\n",
    "        str2 = ' The total cost is {:.2f} €.'.format(cost)\n",
    "        cRating = max(abs(P_BTMS))/btms_size\n",
    "        str3 = 'The associated C-Rating is {:.2f}'.format(cRating)\n",
    "        #print(str1, str2, str3)\n",
    "        logging.info(str1 + str2 + str3)\n",
    "        # btmsDCh is always negative\n",
    "        costLoss = c*(sum(P_BTMS_Ch*timestep/3.6e3) +\n",
    "                        sum(P_BTMS_DCh*timestep/3.6e3))\n",
    "        costCycle = b*sum(P_BTMS_Ch*timestep/3.6e3)\n",
    "        # convert the upper code in the new format\n",
    "        str1 = 'The cost-value is ${:.2f}'.format(cost) + ' from which ${:.2f}'.format(a*(max(P_Grid)-P_free)) + ' is associated with demand charge, ${:.2f}'.format(costCycle) + ' is associated with BTMS degradation and ${:.2f}'.format(costLoss) + ' is associated with energy losses'\n",
    "        print(str1)\n",
    "        logging.info(str1)\n",
    "        E_total = sum(timestep/3.6e3*P_Charge)\n",
    "        str1 = 'The total delivered energy to the vehicles is {:.2f} kWh, which results in an average power of {:.2f} kW'.format(E_total, E_total/(max(time)-min(time) + timestep/3.6e3))\n",
    "        str2 = '{:.2f} kWh were delivered by the BTMS and charging losses of {:.2f} kWh occured.'.format(-sum(P_BTMS_DCh*timestep/3.6e3), sum(P_BTMS_DCh*timestep/3.6e3) + sum(P_BTMS_Ch*timestep/3.6e3))\n",
    "        str3 = 'The maximal grid power is {:.2f} kW'.format(max(P_Grid))\n",
    "        #print(str1, str2, str3)\n",
    "        logging.info(str1 + str2 + str3)\n",
    "\n",
    "        if Graph:\n",
    "            cRating = max(abs(P_BTMS))/btms_size\n",
    "            E_total = sum(timestep/3.6e3*P_Charge)\n",
    "            avgPower = int(E_total/(max(time)-min(time) + timestep/3.6e3))\n",
    "            # usage factor, how many cycles btms is discharged\n",
    "            useFactor = -sum(P_BTMS_DCh*timestep/3.6e3) / btms_size\n",
    "            # we also define a usage factor as fraction of energy by btms and compare to the total charged energy\n",
    "            btmsSupport = btms_size / sum(P_Charge*timestep/3.6e3)\n",
    "            # btmsDCh is always negative\n",
    "            costLoss = c*(sum(P_BTMS_Ch*timestep/3.6e3) +\n",
    "                          sum(P_BTMS_DCh*timestep/3.6e3))\n",
    "            costCycle = b*sum(P_BTMS_Ch*timestep/3.6e3)\n",
    "            costDemand = a*(max(P_Grid)-P_free)\n",
    "            info_string1 = 'free power: ' + str(int(P_free)) + 'kW \\navg power: ' + str(int(avgPower)) + 'kW \\nmax power: ' + str(int(max(P_Grid))) + 'kW \\nBTMS-size: ' + str(int(btms_size)) + 'kWh \\nC-Rating: ' + \"{:.2f}\".format(\n",
    "                cRating) + ' \\nuseFactor: ' + \"{:.2f}\".format(useFactor) + ' \\nbtmsSupport: ' + \"{:.2f}\".format(btmsSupport) + ' \\n\\ncost: $' + str(int(cost)) + ' \\ndemand: $' + str(int(costDemand)) + '\\ncycle: $' + str(int(costCycle)) + '\\nloss: $' + str(int(costLoss))\n",
    "\n",
    "            fig, ax = plt.subplots(2, 1, sharex=True)\n",
    "\n",
    "            ax[0].plot(time_x, E_BTMS, label=\"Energy_BTMS [kWh]\")\n",
    "            ax[0].legend(loc='center left', bbox_to_anchor=(1, 0.5))\n",
    "            fig.text(-0.12, 0, info_string1, horizontalalignment='right', verticalalignment='center',\n",
    "                     multialignment='left', transform=ax[0].transAxes, bbox=dict(facecolor='none', edgecolor='grey', pad=5.0))\n",
    "            #ax[0].text(0.5, 1, info_string2, horizontalalignment='right', verticalalignment='top', transform=ax[0].transAxes)\n",
    "\n",
    "            ax[1].step(time, P_BTMS, label=\"P_BTMS [kW]\")\n",
    "            ax[1].step(time, P_Grid, label=\"P_Grid [kW]\")\n",
    "            ax[1].step(time, P_Charge, label=\"P_Charge [kW]\")\n",
    "            ax[1].axhline(0, color='black')\n",
    "            ax[1].legend(loc='center left', bbox_to_anchor=(1, 0.5))\n",
    "            ax[1].set_xlabel(\"time in [h]\")\n",
    "\n",
    "            print(cost)\n"
   ]
  },
  {
   "cell_type": "markdown",
   "metadata": {},
   "source": [
    "further reduce btms size with a factor"
   ]
  },
  {
   "cell_type": "code",
   "execution_count": 16,
   "metadata": {},
   "outputs": [],
   "source": [
    "if chargingStationClass == components.ChaDepMpcBase:\n",
    "    factor = 1.0\n",
    "    for x in chargingStations:\n",
    "        x.BtmsSize = factor * x.determinedBtmsSize\n",
    "        x.BtmsMaxPower= factor * x.determinedMaxPower\n",
    "        if factor != 1.0:\n",
    "            logging.info(x.ChargingStationId + ' btms size was changed to {:.2f} kWh and max power to {:.2f} kW with a factor of {:.2f}'.format(x.BtmsSize, x.BtmsMaxPower, factor))"
   ]
  },
  {
   "cell_type": "code",
   "execution_count": 17,
   "metadata": {},
   "outputs": [
    {
     "name": "stdout",
     "output_type": "stream",
     "text": [
      "2022-09-15 12:11:23,558 : root  : <module> : INFO : Charging station properties saved\n"
     ]
    }
   ],
   "source": [
    "# save charging Station properties\n",
    "'''write charging station properties to ResultWriter'''\n",
    "ResultWriter.saveChargingStationProperties(chargingStations)\n",
    "logging.info('Charging station properties saved')"
   ]
  },
  {
   "cell_type": "markdown",
   "metadata": {},
   "source": [
    "create optimal day-ahead plan\n",
    "\n",
    "planning() (MPC Base - convex)"
   ]
  },
  {
   "cell_type": "code",
   "execution_count": 18,
   "metadata": {},
   "outputs": [
    {
     "name": "stdout",
     "output_type": "stream",
     "text": [
      "2022-09-15 12:11:23,613 : root  : <module> : INFO : creating day ahead plan\n",
      "2022-09-15 12:11:23,614 : root  : <module> : INFO : parameters for creating day ahead plan: demand charge cost = 0.24, free power ratio = 0.00, btms degradation cost = 0.06, electricity cost = 0.15, waiting time cost = 10.00, average charging speed = 100.00, beta = 0.15, cRating not enforced\n",
      "2022-09-15 12:11:23,614 : root  : <module> : INFO : Creating Day Ahead plan for chargingStation-1\n",
      "2022-09-15 12:11:23,750 : root  : planning : INFO : \n",
      "----- \n",
      " day planning for charging station chargingStation-1 \n",
      "-----\n",
      "2022-09-15 12:11:24,386 : root  : solverAlgorithm : INFO : SOLVER STATS: solver name: ECOS | solver status: optimal | optimal value 837.1510211020503 |iterations: 12 | setup_time 0.0002386 | solve_time 0.0017728\n",
      "2022-09-15 12:11:24,386 : root  : planning : INFO : self tracked times: setup time: 0.13299942016601562, solve time: 0.6360573768615723, total action time: 0.7690567970275879\n",
      "2022-09-15 12:11:24,401 : root  : planning : INFO : planning results saved to results\\sim1\\planning\\chargingStation-1.csv\n",
      "2022-09-15 12:11:24,410 : root  : <module> : INFO : free power: 0kW \n",
      "avg power: 0kW \n",
      "max power: 2752kW \n",
      "BTMS-size: 2163kWh \n",
      "C-Rating: 1.92 \n",
      "useFactor: 1.01 \n",
      "btmsSupport: 0.28 \n",
      "\n",
      "cost: $837 \n",
      "demand: $655\n",
      "cycle: $145\n",
      "loss: $35\n",
      "wait: $1\n"
     ]
    },
    {
     "data": {
      "image/png": "[encoded data removed]",
      "text/plain": [
       "<Figure size 504x432 with 3 Axes>"
      ]
     },
     "metadata": {
      "needs_background": "light"
     },
     "output_type": "display_data"
    }
   ],
   "source": [
    "if chargingStationClass == components.ChaDepMpcBase:\n",
    "    logging.info('creating day ahead plan')\n",
    "    a = 50/30 * ((SimBroker.t_max - SimBroker.t_act)/3.6e3) / \\\n",
    "        24  # demand charge cost\n",
    "    # free power, after which demand charge is applied, as ratio to avg power\n",
    "    P_free_Ratio = 0\n",
    "    b = 300/5000                    # btms degradation cost\n",
    "    c = 0.15                        # electricity cost\n",
    "    d_param = 10                    # waiting time cost of a vehicle in $/h\n",
    "    P_chAvg = 100                   # average charging speed in kW of an vehicle\n",
    "    beta = 0.15                     # bandwith for energy level curve\n",
    "    # if choosen different from None, constraints to enforce c rate are applied\n",
    "    cRating = None\n",
    "    Graph = True\n",
    "    if cRating == None:\n",
    "        cPrint = ', cRating not enforced'\n",
    "    else:\n",
    "        cPrint = \", cRating = {:.2f}\".format(cRating)\n",
    "\n",
    "    logging.info(\"parameters for creating day ahead plan: demand charge cost = {:.2f}, free power ratio = {:.2f}, btms degradation cost = {:.2f}, electricity cost = {:.2f}, waiting time cost = {:.2f}, average charging speed = {:.2f}, beta = {:.2f}\".format(a, P_free_Ratio, b, c, d_param, P_chAvg, beta) + cPrint)\n",
    "\n",
    "    if True:  # make a time varying d-vector\n",
    "        x = chargingStations[0]\n",
    "        time = np.array(x.PredictionTime)\n",
    "        power = np.array(x.PredictionPower)\n",
    "        idx = np.logical_and(time >= SimBroker.t_act, time <= SimBroker.t_max)\n",
    "        time_new = time[idx]\n",
    "        d = d_param  # transformed to list by .planning() function\n",
    "        #d = []\n",
    "        # for i in range(0,sum(idx)):\n",
    "        # for time varying vector\n",
    "        # if time_new[i]< 21800:\n",
    "        #     d.append(1)\n",
    "        # elif time_new[i] < 26000:\n",
    "        #     d.append(10)\n",
    "        # elif time_new[i] < 28000:\n",
    "        #     d.append(1)\n",
    "        # elif time_new[i] < 29500:\n",
    "        #     d.append(10)\n",
    "        # else:\n",
    "        #     d.append(2)\n",
    "        # d.append(d_param)\n",
    "        #logging.info('added time varying d-vector: ' + str(d))\n",
    "\n",
    "    for x in chargingStations:\n",
    "        logging.info(\"Creating Day Ahead plan for \" + x.ChargingStationId)\n",
    "        avgPower = sum(x.PredictionPower*timestep) / \\\n",
    "            (max(x.PredictionTime) + timestep - min(x.PredictionTime))\n",
    "        P_free = P_free_Ratio * avgPower\n",
    "\n",
    "        time, time_x, P_Grid, P_BTMS, P_BTMS_Ch, P_BTMS_DCh, E_BTMS, E_Shift, P_Charge, P_Shift, t_wait_val, cost_t_wait, cost = x.planning(\n",
    "            SimBroker.t_act, SimBroker.t_max, timestep, a, b, c, d, P_free, P_chAvg, beta, cRating)\n",
    "\n",
    "        if Graph:\n",
    "            cRating = max(abs(P_BTMS))/x.BtmsSize\n",
    "            E_total = sum(timestep/3.6e3*P_Charge)\n",
    "            avgPower = int(E_total/(max(time)-min(time) + timestep/3.6e3))\n",
    "            useFactor = -sum(P_BTMS_DCh*timestep/3.6e3) / x.BtmsSize\n",
    "            btmsSupport = x.BtmsSize / E_total\n",
    "            # btmsDCh is always negative\n",
    "            costLoss = c*(sum(P_BTMS_Ch*timestep/3.6e3) +\n",
    "                          sum(P_BTMS_DCh*timestep/3.6e3))\n",
    "            costCycle = b*sum(P_BTMS_Ch*timestep/3.6e3)\n",
    "            costDemand = a*(max(P_Grid)-P_free)\n",
    "\n",
    "            info_string1 = 'free power: ' + str(int(P_free)) + 'kW \\navg power: ' + str(int(avgPower)) + 'kW \\nmax power: ' + str(int(max(P_Grid))) + 'kW \\nBTMS-size: ' + str(int(x.BtmsSize)) + 'kWh \\nC-Rating: ' + \"{:.2f}\".format(cRating) + ' \\nuseFactor: ' + \"{:.2f}\".format(\n",
    "                useFactor) + ' \\nbtmsSupport: ' + \"{:.2f}\".format(btmsSupport) + ' \\n\\ncost: $' + str(int(cost)) + ' \\ndemand: $' + str(int(costDemand)) + '\\ncycle: $' + str(int(costCycle)) + '\\nloss: $' + str(int(costLoss)) + '\\nwait: $' + str(int(cost_t_wait))\n",
    "            logging.info(info_string1)\n",
    "\n",
    "            fig, ax = plt.subplots(3, 1, sharex=True)\n",
    "            ax[0].plot(time_x, E_BTMS, label=\"Energy_BTMS [kWh]\")\n",
    "            ax[0].plot(time_x, E_Shift, label=\"shifted Energy [kWh]\")\n",
    "            ax[0].axhline(x.BtmsSize, label=\"BTMS size[kWh]\",\n",
    "                          color=\"black\", linestyle=\"--\")\n",
    "            ax[0].legend(loc='center left', bbox_to_anchor=(1, 0.5))\n",
    "            fig.text(-0.12, 0, info_string1, horizontalalignment='right', verticalalignment='center',\n",
    "                     multialignment='left', transform=ax[0].transAxes, bbox=dict(facecolor='none', edgecolor='grey', pad=5.0))\n",
    "            #ax[0].text(0.5, 1, info_string2, horizontalalignment='right', verticalalignment='top', transform=ax[0].transAxes)\n",
    "\n",
    "            ax[1].step(time, P_BTMS, label=\"P_BTMS [kW]\")\n",
    "            ax[1].step(time, P_Grid, label=\"P_Grid [kW]\")\n",
    "            ax[1].step(time, P_Charge-P_Shift, label=\"P_Charge [kW]\")\n",
    "            ax[1].step(time, P_Charge, label=\"P_Charge optimal [kW]\")\n",
    "            ax[1].step(time, P_Shift, label=\"P_Shift [kW]\")\n",
    "            ax[1].axhline(0, color='black')\n",
    "            ax[1].legend(loc='center left', bbox_to_anchor=(1, 0.5))\n",
    "\n",
    "            if sum(t_wait_val) < 0.0005:\n",
    "                t_wait_val = np.zeros_like(t_wait_val)\n",
    "            ax[2].step(time, t_wait_val*60, label=\"waiting time [min]\")\n",
    "            ax[2].legend(loc='center left', bbox_to_anchor=(1, 0.5))\n",
    "\n",
    "            ax[2].set_xlabel(\"time in [h]\")\n",
    "\n",
    "            fig.set_size_inches(7, 6*3/3)\n",
    "\n",
    "            #TODO: add flexible electricity prices - what happens then?\n"
   ]
  },
  {
   "cell_type": "markdown",
   "metadata": {},
   "source": [
    "#### run simulation"
   ]
  },
  {
   "cell_type": "code",
   "execution_count": 19,
   "metadata": {},
   "outputs": [
    {
     "name": "stdout",
     "output_type": "stream",
     "text": [
      "2022-09-15 12:11:24,799 : root  : <module> : INFO : \n",
      "-------\n",
      "starting simulation.\n",
      "-------\n",
      " maximum iterations: 42.0\n"
     ]
    },
    {
     "name": "stderr",
     "output_type": "stream",
     "text": [
      "MPC simulation: 100%|██████████| 42/42.0 [00:18<00:00,  2.24it/s]"
     ]
    },
    {
     "name": "stdout",
     "output_type": "stream",
     "text": [
      "2022-09-15 12:11:43,595 : root  : <module> : INFO : Simulation terminated. final number of iterations: 41, final time: 30763s\n"
     ]
    },
    {
     "name": "stderr",
     "output_type": "stream",
     "text": [
      "\n"
     ]
    }
   ],
   "source": [
    "SimBroker.reset()\n",
    "ResultWriter.reset()\n",
    "# charging station is not resetted\n",
    "\n",
    "# charging station BtmsEn and P_GridLast was initialized in planning()-function\n",
    "\n",
    "# determine iterations for progress bar\n",
    "max_iter = np.ceil((SimBroker.SimRes.index[-1] - SimBroker.SimRes.index[0])/timestep)\n",
    "# print maximum iterations\n",
    "logging.info(\"\\n-------\\nstarting simulation.\\n-------\\n maximum iterations: \" + str(max_iter))\n",
    "\n",
    "# change logging level to WARNING\n",
    "streamHandler.setLevel(logging.WARNING)\n",
    "\n",
    "#initialize progress bar\n",
    "progress_bar = tqdm(desc = \"MPC simulation\", total=max_iter)\n",
    "\n",
    "while not SimBroker.eol():\n",
    "    # update progress bar\n",
    "    progress_bar.update(1)\n",
    "    \n",
    "    # Sim Broker Step\n",
    "    slice = SimBroker.step(timestep)\n",
    "    logging.info(\"\\n-|-|-|-|-|\\ntimestep to {:.0f}s / {:.0f}s | iteration: {:.0f}\".format(SimBroker.t_act, SimBroker.t_max, SimBroker.iteration))\n",
    "\n",
    "    #update values from DERMS and PhysicalSimulation\n",
    "    for x in chargingStations:\n",
    "        # update SiteNet Power Limits from Derms\n",
    "        GridPowerLower, GridPowerUpper = DermsDummy.output(x.ChargingStationId)\n",
    "        x.updateFromDerms(GridPowerLower, GridPowerUpper)\n",
    "        logging.info(\"update GridPowerLimits from Derms: {:.0f}kW - {:.0f}kW\".format(GridPowerLower, GridPowerUpper))\n",
    "        # update CES SOC from PhysicalSimulation\n",
    "        x.updateFromPhySim(PhySimDummy.output(x.ChargingStationId))\n",
    "        logging.info(\"update CES SOC from PhySim: {:.0f}kWh\".format(PhySimDummy.output(x.ChargingStationId)))\n",
    "\n",
    "    # generate Vehicles if charging Plug in event\n",
    "    logging.info(\"adding vehicles of slice to charging stations\")\n",
    "    for i in range(0, len(slice)):\n",
    "        if slice.iloc[i][\"type\"] == \"ChargingPlugInEvent\":\n",
    "            # generate vehicle\n",
    "            vehicle = VehicleGenerator.generateVehicleSO(slice.iloc[i])\n",
    "            # let vehicle arrive at a charging station - here depending on taz\n",
    "            taz = int(slice.iloc[i][\"parkingTaz\"]) # this is a str\n",
    "            #find out which chargingStation belongs to the taz\n",
    "            res = chargingStationMappedToTaz.isin([taz]).any().values\n",
    "            index = np.where(res == True)[0][0]\n",
    "\n",
    "            #let vehicles arrive at designated chargingStation\n",
    "            if useOnlyOneChargingStation:\n",
    "                if index == useChargingStation:\n",
    "                    chargingStations[index].arrival(vehicle, SimBroker.t_act)\n",
    "            else: \n",
    "                chargingStations[index].arrival(vehicle, SimBroker.t_act)\n",
    "\n",
    "    ## control action and simulation\n",
    "    \n",
    "    # call step function\n",
    "    for x in chargingStations:\n",
    "        logging.info(\"--- calling .step() charging station %s | iteration %s | connected vehicles %s  ---\" % (x.ChargingStationId, str(SimBroker.iteration), str(len(x.ChBaVehicles) - x.ChBaVehicles.count(False))))\n",
    "        if isinstance(x, components.ChaDepMpcBase):\n",
    "            x.step(timestep)\n",
    "        else:\n",
    "            x.step(timestep)\n",
    "        logging.info(\"--- finished .step() charging station %s | iteration %s | connected vehicles %s---\" % (x.ChargingStationId, str(SimBroker.iteration), str(len(x.ChBaVehicles) - x.ChBaVehicles.count(False))))\n",
    "    \n",
    "    # provide outputs\n",
    "    for x in chargingStations:\n",
    "        PhySimDummy.input(x.ChargingStationId, sum(x.ChBaPower), x.P_BTMS, timestep)\n",
    "        DermsDummy.input(x.ChargingStationId, x.PowerDesire)\n",
    "\n",
    "progress_bar.close()\n",
    "\n",
    "# change logging level back to INFO\n",
    "streamHandler.setLevel(logging.INFO)\n",
    "\n",
    "logging.info(\"Simulation terminated. final number of iterations: {:.0f}, final time: {:.0f}s\".format(SimBroker.iteration, SimBroker.t_act))\n",
    "    "
   ]
  },
  {
   "cell_type": "code",
   "execution_count": 20,
   "metadata": {},
   "outputs": [
    {
     "name": "stdout",
     "output_type": "stream",
     "text": [
      "actual Iteration: 41\n",
      "actual time: 30763\n"
     ]
    }
   ],
   "source": [
    "print(\"actual Iteration: \" + str(SimBroker.iteration))\n",
    "print(\"actual time: \" + str(SimBroker.t_act))"
   ]
  },
  {
   "cell_type": "code",
   "execution_count": 21,
   "metadata": {},
   "outputs": [],
   "source": [
    "showVehicle = 0"
   ]
  },
  {
   "cell_type": "code",
   "execution_count": 22,
   "metadata": {},
   "outputs": [
    {
     "name": "stdout",
     "output_type": "stream",
     "text": [
      "current time:  30763\n",
      "False\n",
      "\n",
      "Vehicle Number in ChBa:  0\n"
     ]
    }
   ],
   "source": [
    "\n",
    "print(\"current time: \", SimBroker.t_act)\n",
    "print(chargingStations[0].ChBaVehicles[showVehicle])\n",
    "print(\"\\nVehicle Number in ChBa: \", showVehicle)\n",
    "if chargingStations[0].ChBaVehicles[showVehicle] != False:\n",
    "    lower, upper = chargingStations[0].ChBaVehicles[showVehicle].getChargingTrajectories(SimBroker.t_act, timestep, 10)\n",
    "    fig, ax = plt.subplots(1,1)\n",
    "    plt.plot(lower, label=\"lower bound\")\n",
    "    plt.plot(upper, label= \"upper bound\")\n",
    "    plt.legend()\n",
    "    ax.set_xlabel(\"control steps\")\n",
    "    ax.set_ylabel(\"energy [kWh]\")\n",
    "\n",
    "showVehicle += 1"
   ]
  },
  {
   "cell_type": "markdown",
   "metadata": {},
   "source": [
    "#### sneak peak into results"
   ]
  },
  {
   "cell_type": "code",
   "execution_count": 23,
   "metadata": {},
   "outputs": [
    {
     "data": {
      "text/html": [
       "<div>\n",
       "<style scoped>\n",
       "    .dataframe tbody tr th:only-of-type {\n",
       "        vertical-align: middle;\n",
       "    }\n",
       "\n",
       "    .dataframe tbody tr th {\n",
       "        vertical-align: top;\n",
       "    }\n",
       "\n",
       "    .dataframe thead th {\n",
       "        text-align: right;\n",
       "    }\n",
       "</style>\n",
       "<table border=\"1\" class=\"dataframe\">\n",
       "  <thead>\n",
       "    <tr style=\"text-align: right;\">\n",
       "      <th></th>\n",
       "      <th>time</th>\n",
       "      <th>ChargingStationID</th>\n",
       "      <th>BaysVehicleIds</th>\n",
       "      <th>BaysChargingPower</th>\n",
       "      <th>TotalChargingPower</th>\n",
       "      <th>BaysChargingDesire</th>\n",
       "      <th>BaysNumberOfVehicles</th>\n",
       "      <th>QueueVehicleIds</th>\n",
       "      <th>QueueChargingDesire</th>\n",
       "      <th>QueueNumberOfVehicles</th>\n",
       "      <th>...</th>\n",
       "      <th>BtmsSoc</th>\n",
       "      <th>BtmsEnergy</th>\n",
       "      <th>TotalChargingPowerDesire</th>\n",
       "      <th>GridPower</th>\n",
       "      <th>GridPowerUpper</th>\n",
       "      <th>GridPowerLower</th>\n",
       "      <th>PowerDesire</th>\n",
       "      <th>BtmsPowerDesire</th>\n",
       "      <th>EnergyLagSum</th>\n",
       "      <th>TimeLagSum</th>\n",
       "    </tr>\n",
       "  </thead>\n",
       "  <tbody>\n",
       "    <tr>\n",
       "      <th>0</th>\n",
       "      <td>18463</td>\n",
       "      <td>chargingStation-1</td>\n",
       "      <td>[]</td>\n",
       "      <td>[0, 0, 0, 0, 0, 0, 0, 0, 0, 0, 0, 0, 0, 0, 0, ...</td>\n",
       "      <td>0</td>\n",
       "      <td>[nan, nan, nan, nan, nan, nan, nan, nan, nan, ...</td>\n",
       "      <td>0</td>\n",
       "      <td>[]</td>\n",
       "      <td>[]</td>\n",
       "      <td>0</td>\n",
       "      <td>...</td>\n",
       "      <td>0.575875</td>\n",
       "      <td>1245.872088</td>\n",
       "      <td>0</td>\n",
       "      <td>1668.81143</td>\n",
       "      <td>104000.0</td>\n",
       "      <td>-104000.0</td>\n",
       "      <td>0</td>\n",
       "      <td>0</td>\n",
       "      <td>0</td>\n",
       "      <td>0</td>\n",
       "    </tr>\n",
       "    <tr>\n",
       "      <th>1</th>\n",
       "      <td>18763</td>\n",
       "      <td>chargingStation-1</td>\n",
       "      <td>[1545605]</td>\n",
       "      <td>[174.49987494921353, 0, 0, 0, 0, 0, 0, 0, 0, 0...</td>\n",
       "      <td>174.499875</td>\n",
       "      <td>[0.9561643835616437, nan, nan, nan, nan, nan, ...</td>\n",
       "      <td>1</td>\n",
       "      <td>[]</td>\n",
       "      <td>[]</td>\n",
       "      <td>0</td>\n",
       "      <td>...</td>\n",
       "      <td>0.636942</td>\n",
       "      <td>1377.986326</td>\n",
       "      <td>0</td>\n",
       "      <td>1668.81143</td>\n",
       "      <td>104000.0</td>\n",
       "      <td>-104000.0</td>\n",
       "      <td>0</td>\n",
       "      <td>4154.058233</td>\n",
       "      <td>0</td>\n",
       "      <td>0</td>\n",
       "    </tr>\n",
       "    <tr>\n",
       "      <th>2</th>\n",
       "      <td>19063</td>\n",
       "      <td>chargingStation-1</td>\n",
       "      <td>[]</td>\n",
       "      <td>[0, 0, 0, 0, 0, 0, 0, 0, 0, 0, 0, 0, 0, 0, 0, ...</td>\n",
       "      <td>0</td>\n",
       "      <td>[nan, nan, nan, nan, nan, nan, nan, nan, nan, ...</td>\n",
       "      <td>0</td>\n",
       "      <td>[]</td>\n",
       "      <td>[]</td>\n",
       "      <td>0</td>\n",
       "      <td>...</td>\n",
       "      <td>0.691623</td>\n",
       "      <td>1496.285991</td>\n",
       "      <td>0.000125</td>\n",
       "      <td>1668.81143</td>\n",
       "      <td>104000.0</td>\n",
       "      <td>-104000.0</td>\n",
       "      <td>0.000125</td>\n",
       "      <td>4154.058233</td>\n",
       "      <td>-0.00001</td>\n",
       "      <td>0</td>\n",
       "    </tr>\n",
       "  </tbody>\n",
       "</table>\n",
       "<p>3 rows × 21 columns</p>\n",
       "</div>"
      ],
      "text/plain": [
       "    time  ChargingStationID BaysVehicleIds  \\\n",
       "0  18463  chargingStation-1             []   \n",
       "1  18763  chargingStation-1      [1545605]   \n",
       "2  19063  chargingStation-1             []   \n",
       "\n",
       "                                   BaysChargingPower TotalChargingPower  \\\n",
       "0  [0, 0, 0, 0, 0, 0, 0, 0, 0, 0, 0, 0, 0, 0, 0, ...                  0   \n",
       "1  [174.49987494921353, 0, 0, 0, 0, 0, 0, 0, 0, 0...         174.499875   \n",
       "2  [0, 0, 0, 0, 0, 0, 0, 0, 0, 0, 0, 0, 0, 0, 0, ...                  0   \n",
       "\n",
       "                                  BaysChargingDesire BaysNumberOfVehicles  \\\n",
       "0  [nan, nan, nan, nan, nan, nan, nan, nan, nan, ...                    0   \n",
       "1  [0.9561643835616437, nan, nan, nan, nan, nan, ...                    1   \n",
       "2  [nan, nan, nan, nan, nan, nan, nan, nan, nan, ...                    0   \n",
       "\n",
       "  QueueVehicleIds QueueChargingDesire QueueNumberOfVehicles  ...   BtmsSoc  \\\n",
       "0              []                  []                     0  ...  0.575875   \n",
       "1              []                  []                     0  ...  0.636942   \n",
       "2              []                  []                     0  ...  0.691623   \n",
       "\n",
       "    BtmsEnergy  TotalChargingPowerDesire   GridPower  GridPowerUpper  \\\n",
       "0  1245.872088                         0  1668.81143        104000.0   \n",
       "1  1377.986326                         0  1668.81143        104000.0   \n",
       "2  1496.285991                  0.000125  1668.81143        104000.0   \n",
       "\n",
       "   GridPowerLower  PowerDesire BtmsPowerDesire EnergyLagSum TimeLagSum  \n",
       "0       -104000.0            0               0            0          0  \n",
       "1       -104000.0            0     4154.058233            0          0  \n",
       "2       -104000.0     0.000125     4154.058233     -0.00001          0  \n",
       "\n",
       "[3 rows x 21 columns]"
      ]
     },
     "execution_count": 23,
     "metadata": {},
     "output_type": "execute_result"
    }
   ],
   "source": [
    "df3 = ResultWriter.ChargingStationStates\n",
    "df3.head(3)"
   ]
  },
  {
   "cell_type": "code",
   "execution_count": 24,
   "metadata": {},
   "outputs": [
    {
     "data": {
      "image/png": "[encoded data removed]",
      "text/plain": [
       "<Figure size 720x576 with 2 Axes>"
      ]
     },
     "metadata": {
      "needs_background": "light"
     },
     "output_type": "display_data"
    }
   ],
   "source": [
    "# plot charging and btms power\n",
    "Station = \"chargingStation-1\"\n",
    "df4 = ResultWriter.ChargingStationStates.loc[ResultWriter.ChargingStationStates.ChargingStationID==Station]\n",
    "fig, ax = plt.subplots(2,1)\n",
    "ax[0].step(df4[\"time\"], df4[\"BtmsPower\"], label=\"P_BTMS [kW]\")\n",
    "ax[0].step(df4[\"time\"], df4[\"TotalChargingPower\"], label=\"P_Charge [kW]\")\n",
    "ax[0].step(df4[\"time\"], df4[\"GridPower\"], label=\"P_Grid [kW]\")\n",
    "ax[0].legend()\n",
    "ax[0].axhline(chargingStations[0].P_GridMaxPlanning, color = 'black')\n",
    "ax[0].set_xlabel(\"time in [h]\")\n",
    "ax[0].set_ylabel(\"power in [kW]\")\n",
    "\n",
    "ax[1].step(df4[\"time\"], df4[\"BtmsEnergy\"], label=\"BtmsEnergy [kWh]\")\n",
    "ax[1].axhline(ResultWriter.chargingStationProperties.loc[ResultWriter.chargingStationProperties.ChargingStationId == Station].BtmsSize.values[0], color='black')\n",
    "ax[1].axhline(0, color='black')\n",
    "ax[1].set_xlabel(\"time in [h]\")\n",
    "ax[1].set_ylabel(\"energy in [kWh]\")\n",
    "ax[1].legend()\n",
    "\n",
    "fig.set_size_inches(10,8)"
   ]
  },
  {
   "cell_type": "code",
   "execution_count": 25,
   "metadata": {},
   "outputs": [
    {
     "name": "stdout",
     "output_type": "stream",
     "text": [
      "2752.04377371184\n",
      "2163.4409756425034\n"
     ]
    }
   ],
   "source": [
    "print(chargingStations[0].P_GridMaxPlanning)\n",
    "print(chargingStations[0].BtmsSize)"
   ]
  },
  {
   "cell_type": "code",
   "execution_count": 26,
   "metadata": {},
   "outputs": [
    {
     "name": "stdout",
     "output_type": "stream",
     "text": [
      "actual time in [s]:  30763\n"
     ]
    }
   ],
   "source": [
    "print(\"actual time in [s]: \", SimBroker.t_act)"
   ]
  },
  {
   "cell_type": "code",
   "execution_count": 27,
   "metadata": {},
   "outputs": [
    {
     "data": {
      "text/html": [
       "<div>\n",
       "<style scoped>\n",
       "    .dataframe tbody tr th:only-of-type {\n",
       "        vertical-align: middle;\n",
       "    }\n",
       "\n",
       "    .dataframe tbody tr th {\n",
       "        vertical-align: top;\n",
       "    }\n",
       "\n",
       "    .dataframe thead th {\n",
       "        text-align: right;\n",
       "    }\n",
       "</style>\n",
       "<table border=\"1\" class=\"dataframe\">\n",
       "  <thead>\n",
       "    <tr style=\"text-align: right;\">\n",
       "      <th></th>\n",
       "      <th>time</th>\n",
       "      <th>VehicleId</th>\n",
       "      <th>ChargingStationId</th>\n",
       "      <th>QueueOrBay</th>\n",
       "      <th>ChargingPower</th>\n",
       "      <th>possiblePower</th>\n",
       "      <th>ChargingDesire</th>\n",
       "      <th>VehicleDesiredEnd</th>\n",
       "      <th>VehicleEnergy</th>\n",
       "      <th>VehicleDesiredEnergy</th>\n",
       "      <th>VehicleSoc</th>\n",
       "      <th>EnergyLag</th>\n",
       "      <th>TimeLag</th>\n",
       "    </tr>\n",
       "  </thead>\n",
       "  <tbody>\n",
       "    <tr>\n",
       "      <th>43</th>\n",
       "      <td>20263</td>\n",
       "      <td>6506887</td>\n",
       "      <td>chargingStation-1</td>\n",
       "      <td>Bay</td>\n",
       "      <td>150.0</td>\n",
       "      <td>150.0</td>\n",
       "      <td>1.045455</td>\n",
       "      <td>20769</td>\n",
       "      <td>45.108660</td>\n",
       "      <td>67.150326</td>\n",
       "      <td>0.537303</td>\n",
       "      <td>-0.958333</td>\n",
       "      <td>0</td>\n",
       "    </tr>\n",
       "    <tr>\n",
       "      <th>57</th>\n",
       "      <td>20563</td>\n",
       "      <td>6506887</td>\n",
       "      <td>chargingStation-1</td>\n",
       "      <td>Bay</td>\n",
       "      <td>114.5</td>\n",
       "      <td>114.5</td>\n",
       "      <td>1.111650</td>\n",
       "      <td>20769</td>\n",
       "      <td>57.608660</td>\n",
       "      <td>67.150326</td>\n",
       "      <td>0.686194</td>\n",
       "      <td>-0.958333</td>\n",
       "      <td>-206</td>\n",
       "    </tr>\n",
       "    <tr>\n",
       "      <th>65</th>\n",
       "      <td>20863</td>\n",
       "      <td>6506887</td>\n",
       "      <td>chargingStation-1</td>\n",
       "      <td>Bay</td>\n",
       "      <td>0.0</td>\n",
       "      <td>0.0</td>\n",
       "      <td>1.111650</td>\n",
       "      <td>20769</td>\n",
       "      <td>67.150326</td>\n",
       "      <td>67.150326</td>\n",
       "      <td>0.799848</td>\n",
       "      <td>0.000000</td>\n",
       "      <td>0</td>\n",
       "    </tr>\n",
       "  </tbody>\n",
       "</table>\n",
       "</div>"
      ],
      "text/plain": [
       "     time VehicleId  ChargingStationId QueueOrBay  ChargingPower  \\\n",
       "43  20263   6506887  chargingStation-1        Bay          150.0   \n",
       "57  20563   6506887  chargingStation-1        Bay          114.5   \n",
       "65  20863   6506887  chargingStation-1        Bay            0.0   \n",
       "\n",
       "    possiblePower  ChargingDesire VehicleDesiredEnd  VehicleEnergy  \\\n",
       "43          150.0        1.045455             20769      45.108660   \n",
       "57          114.5        1.111650             20769      57.608660   \n",
       "65            0.0        1.111650             20769      67.150326   \n",
       "\n",
       "    VehicleDesiredEnergy  VehicleSoc  EnergyLag TimeLag  \n",
       "43             67.150326    0.537303  -0.958333       0  \n",
       "57             67.150326    0.686194  -0.958333    -206  \n",
       "65             67.150326    0.799848   0.000000       0  "
      ]
     },
     "execution_count": 27,
     "metadata": {},
     "output_type": "execute_result"
    }
   ],
   "source": [
    "VehicleStates = ResultWriter.VehicleStates.loc[ResultWriter.VehicleStates.VehicleId == 6506887.0]\n",
    "VehicleStates.head(40)"
   ]
  },
  {
   "cell_type": "code",
   "execution_count": 28,
   "metadata": {},
   "outputs": [
    {
     "data": {
      "text/html": [
       "<div>\n",
       "<style scoped>\n",
       "    .dataframe tbody tr th:only-of-type {\n",
       "        vertical-align: middle;\n",
       "    }\n",
       "\n",
       "    .dataframe tbody tr th {\n",
       "        vertical-align: top;\n",
       "    }\n",
       "\n",
       "    .dataframe thead th {\n",
       "        text-align: right;\n",
       "    }\n",
       "</style>\n",
       "<table border=\"1\" class=\"dataframe\">\n",
       "  <thead>\n",
       "    <tr style=\"text-align: right;\">\n",
       "      <th></th>\n",
       "      <th>time</th>\n",
       "      <th>Event</th>\n",
       "      <th>ChargingStationId</th>\n",
       "      <th>VehicleId</th>\n",
       "      <th>QueueOrBay</th>\n",
       "      <th>ChargingDesire</th>\n",
       "      <th>VehicleType</th>\n",
       "      <th>VehicleArrival</th>\n",
       "      <th>VehicleDesiredEnd</th>\n",
       "      <th>VehicleEnergy</th>\n",
       "      <th>VehicleDesiredEnergy</th>\n",
       "      <th>VehicleSoc</th>\n",
       "      <th>VehicleMaxEnergy</th>\n",
       "      <th>VehicleMaxPower</th>\n",
       "      <th>ChargingBayMaxPower</th>\n",
       "    </tr>\n",
       "  </thead>\n",
       "  <tbody>\n",
       "    <tr>\n",
       "      <th>67</th>\n",
       "      <td>20263</td>\n",
       "      <td>ArrivalEvent</td>\n",
       "      <td>chargingStation-1</td>\n",
       "      <td>6506887</td>\n",
       "      <td></td>\n",
       "      <td>1.045455</td>\n",
       "      <td>ev-L1-0-to-50000-LowTech-2035-SUV-BEV_300</td>\n",
       "      <td>20240</td>\n",
       "      <td>20769</td>\n",
       "      <td>45.108660</td>\n",
       "      <td>67.150326</td>\n",
       "      <td>0.537303</td>\n",
       "      <td>83.953903</td>\n",
       "      <td>150.0</td>\n",
       "      <td>NaN</td>\n",
       "    </tr>\n",
       "    <tr>\n",
       "      <th>72</th>\n",
       "      <td>20263</td>\n",
       "      <td>ReparkEvent</td>\n",
       "      <td>chargingStation-1</td>\n",
       "      <td>6506887</td>\n",
       "      <td>Bay</td>\n",
       "      <td>1.045455</td>\n",
       "      <td>ev-L1-0-to-50000-LowTech-2035-SUV-BEV_300</td>\n",
       "      <td>20240</td>\n",
       "      <td>20769</td>\n",
       "      <td>45.108660</td>\n",
       "      <td>67.150326</td>\n",
       "      <td>0.537303</td>\n",
       "      <td>83.953903</td>\n",
       "      <td>150.0</td>\n",
       "      <td>250.0</td>\n",
       "    </tr>\n",
       "    <tr>\n",
       "      <th>97</th>\n",
       "      <td>20863</td>\n",
       "      <td>ReleaseEvent</td>\n",
       "      <td>chargingStation-1</td>\n",
       "      <td>6506887</td>\n",
       "      <td></td>\n",
       "      <td>NaN</td>\n",
       "      <td>ev-L1-0-to-50000-LowTech-2035-SUV-BEV_300</td>\n",
       "      <td>20240</td>\n",
       "      <td>20769</td>\n",
       "      <td>67.150326</td>\n",
       "      <td>67.150326</td>\n",
       "      <td>0.799848</td>\n",
       "      <td>83.953903</td>\n",
       "      <td>150.0</td>\n",
       "      <td>NaN</td>\n",
       "    </tr>\n",
       "  </tbody>\n",
       "</table>\n",
       "</div>"
      ],
      "text/plain": [
       "     time         Event  ChargingStationId VehicleId QueueOrBay  \\\n",
       "67  20263  ArrivalEvent  chargingStation-1   6506887              \n",
       "72  20263   ReparkEvent  chargingStation-1   6506887        Bay   \n",
       "97  20863  ReleaseEvent  chargingStation-1   6506887              \n",
       "\n",
       "    ChargingDesire                                VehicleType VehicleArrival  \\\n",
       "67        1.045455  ev-L1-0-to-50000-LowTech-2035-SUV-BEV_300          20240   \n",
       "72        1.045455  ev-L1-0-to-50000-LowTech-2035-SUV-BEV_300          20240   \n",
       "97             NaN  ev-L1-0-to-50000-LowTech-2035-SUV-BEV_300          20240   \n",
       "\n",
       "   VehicleDesiredEnd  VehicleEnergy  VehicleDesiredEnergy  VehicleSoc  \\\n",
       "67             20769      45.108660             67.150326    0.537303   \n",
       "72             20769      45.108660             67.150326    0.537303   \n",
       "97             20769      67.150326             67.150326    0.799848   \n",
       "\n",
       "    VehicleMaxEnergy  VehicleMaxPower  ChargingBayMaxPower  \n",
       "67         83.953903            150.0                  NaN  \n",
       "72         83.953903            150.0                250.0  \n",
       "97         83.953903            150.0                  NaN  "
      ]
     },
     "execution_count": 28,
     "metadata": {},
     "output_type": "execute_result"
    }
   ],
   "source": [
    "VehicleEvents = ResultWriter.Events.loc[ResultWriter.Events.VehicleId == 6506887.0]\n",
    "VehicleEvents.head(40)"
   ]
  },
  {
   "cell_type": "code",
   "execution_count": 29,
   "metadata": {},
   "outputs": [
    {
     "name": "stdout",
     "output_type": "stream",
     "text": [
      "3\n",
      "3\n"
     ]
    }
   ],
   "source": [
    "\n",
    "sum1 = sum([x for x in range(1, 3)])\n",
    "print(sum1)\n",
    "sum2 = 0\n",
    "for x in range(1, 3):\n",
    "    sum2 += x\n",
    "print(sum2)"
   ]
  },
  {
   "cell_type": "code",
   "execution_count": 30,
   "metadata": {},
   "outputs": [
    {
     "data": {
      "text/html": [
       "<div>\n",
       "<style scoped>\n",
       "    .dataframe tbody tr th:only-of-type {\n",
       "        vertical-align: middle;\n",
       "    }\n",
       "\n",
       "    .dataframe tbody tr th {\n",
       "        vertical-align: top;\n",
       "    }\n",
       "\n",
       "    .dataframe thead th {\n",
       "        text-align: right;\n",
       "    }\n",
       "</style>\n",
       "<table border=\"1\" class=\"dataframe\">\n",
       "  <thead>\n",
       "    <tr style=\"text-align: right;\">\n",
       "      <th></th>\n",
       "      <th>BaysChargingPower</th>\n",
       "      <th>BaysChargingDesire</th>\n",
       "      <th>BaysVehicleIds</th>\n",
       "    </tr>\n",
       "  </thead>\n",
       "  <tbody>\n",
       "    <tr>\n",
       "      <th>0</th>\n",
       "      <td>143.000000</td>\n",
       "      <td>7.729730</td>\n",
       "      <td>2219095.0</td>\n",
       "    </tr>\n",
       "    <tr>\n",
       "      <th>1</th>\n",
       "      <td>39.000000</td>\n",
       "      <td>inf</td>\n",
       "      <td>7032990.0</td>\n",
       "    </tr>\n",
       "    <tr>\n",
       "      <th>2</th>\n",
       "      <td>150.000000</td>\n",
       "      <td>1.919540</td>\n",
       "      <td>1856277.0</td>\n",
       "    </tr>\n",
       "    <tr>\n",
       "      <th>3</th>\n",
       "      <td>150.000000</td>\n",
       "      <td>1.204061</td>\n",
       "      <td>881117.0</td>\n",
       "    </tr>\n",
       "    <tr>\n",
       "      <th>4</th>\n",
       "      <td>64.500000</td>\n",
       "      <td>inf</td>\n",
       "      <td>1968169.0</td>\n",
       "    </tr>\n",
       "    <tr>\n",
       "      <th>5</th>\n",
       "      <td>150.000000</td>\n",
       "      <td>1.388889</td>\n",
       "      <td>1638187.0</td>\n",
       "    </tr>\n",
       "    <tr>\n",
       "      <th>6</th>\n",
       "      <td>99.430664</td>\n",
       "      <td>0.659729</td>\n",
       "      <td>2460922.0</td>\n",
       "    </tr>\n",
       "    <tr>\n",
       "      <th>7</th>\n",
       "      <td>150.000000</td>\n",
       "      <td>0.863798</td>\n",
       "      <td>2089510.0</td>\n",
       "    </tr>\n",
       "    <tr>\n",
       "      <th>8</th>\n",
       "      <td>118.080233</td>\n",
       "      <td>0.701467</td>\n",
       "      <td>5852787.0</td>\n",
       "    </tr>\n",
       "    <tr>\n",
       "      <th>9</th>\n",
       "      <td>114.500000</td>\n",
       "      <td>1.111650</td>\n",
       "      <td>6506887.0</td>\n",
       "    </tr>\n",
       "    <tr>\n",
       "      <th>10</th>\n",
       "      <td>250.000000</td>\n",
       "      <td>1.281618</td>\n",
       "      <td>1109671.0</td>\n",
       "    </tr>\n",
       "    <tr>\n",
       "      <th>11</th>\n",
       "      <td>169.500000</td>\n",
       "      <td>1.017000</td>\n",
       "      <td>3940494.0</td>\n",
       "    </tr>\n",
       "    <tr>\n",
       "      <th>12</th>\n",
       "      <td>100.500000</td>\n",
       "      <td>1.296774</td>\n",
       "      <td>2606571.0</td>\n",
       "    </tr>\n",
       "    <tr>\n",
       "      <th>13</th>\n",
       "      <td>0.000000</td>\n",
       "      <td>NaN</td>\n",
       "      <td>NaN</td>\n",
       "    </tr>\n",
       "    <tr>\n",
       "      <th>14</th>\n",
       "      <td>0.000000</td>\n",
       "      <td>NaN</td>\n",
       "      <td>NaN</td>\n",
       "    </tr>\n",
       "    <tr>\n",
       "      <th>15</th>\n",
       "      <td>0.000000</td>\n",
       "      <td>NaN</td>\n",
       "      <td>NaN</td>\n",
       "    </tr>\n",
       "    <tr>\n",
       "      <th>16</th>\n",
       "      <td>0.000000</td>\n",
       "      <td>NaN</td>\n",
       "      <td>NaN</td>\n",
       "    </tr>\n",
       "    <tr>\n",
       "      <th>17</th>\n",
       "      <td>0.000000</td>\n",
       "      <td>NaN</td>\n",
       "      <td>NaN</td>\n",
       "    </tr>\n",
       "    <tr>\n",
       "      <th>18</th>\n",
       "      <td>0.000000</td>\n",
       "      <td>NaN</td>\n",
       "      <td>NaN</td>\n",
       "    </tr>\n",
       "    <tr>\n",
       "      <th>19</th>\n",
       "      <td>0.000000</td>\n",
       "      <td>NaN</td>\n",
       "      <td>NaN</td>\n",
       "    </tr>\n",
       "    <tr>\n",
       "      <th>20</th>\n",
       "      <td>0.000000</td>\n",
       "      <td>NaN</td>\n",
       "      <td>NaN</td>\n",
       "    </tr>\n",
       "    <tr>\n",
       "      <th>21</th>\n",
       "      <td>0.000000</td>\n",
       "      <td>NaN</td>\n",
       "      <td>NaN</td>\n",
       "    </tr>\n",
       "    <tr>\n",
       "      <th>22</th>\n",
       "      <td>0.000000</td>\n",
       "      <td>NaN</td>\n",
       "      <td>NaN</td>\n",
       "    </tr>\n",
       "    <tr>\n",
       "      <th>23</th>\n",
       "      <td>0.000000</td>\n",
       "      <td>NaN</td>\n",
       "      <td>NaN</td>\n",
       "    </tr>\n",
       "    <tr>\n",
       "      <th>24</th>\n",
       "      <td>0.000000</td>\n",
       "      <td>NaN</td>\n",
       "      <td>NaN</td>\n",
       "    </tr>\n",
       "  </tbody>\n",
       "</table>\n",
       "</div>"
      ],
      "text/plain": [
       "    BaysChargingPower  BaysChargingDesire  BaysVehicleIds\n",
       "0          143.000000            7.729730       2219095.0\n",
       "1           39.000000                 inf       7032990.0\n",
       "2          150.000000            1.919540       1856277.0\n",
       "3          150.000000            1.204061        881117.0\n",
       "4           64.500000                 inf       1968169.0\n",
       "5          150.000000            1.388889       1638187.0\n",
       "6           99.430664            0.659729       2460922.0\n",
       "7          150.000000            0.863798       2089510.0\n",
       "8          118.080233            0.701467       5852787.0\n",
       "9          114.500000            1.111650       6506887.0\n",
       "10         250.000000            1.281618       1109671.0\n",
       "11         169.500000            1.017000       3940494.0\n",
       "12         100.500000            1.296774       2606571.0\n",
       "13           0.000000                 NaN             NaN\n",
       "14           0.000000                 NaN             NaN\n",
       "15           0.000000                 NaN             NaN\n",
       "16           0.000000                 NaN             NaN\n",
       "17           0.000000                 NaN             NaN\n",
       "18           0.000000                 NaN             NaN\n",
       "19           0.000000                 NaN             NaN\n",
       "20           0.000000                 NaN             NaN\n",
       "21           0.000000                 NaN             NaN\n",
       "22           0.000000                 NaN             NaN\n",
       "23           0.000000                 NaN             NaN\n",
       "24           0.000000                 NaN             NaN"
      ]
     },
     "execution_count": 30,
     "metadata": {},
     "output_type": "execute_result"
    }
   ],
   "source": [
    "checkIteration = 7\n",
    "newDf = pd.DataFrame([df3.loc[checkIteration].BaysChargingPower, df3.loc[checkIteration].BaysChargingDesire, df3.loc[checkIteration].BaysVehicleIds]).T\n",
    "newDf.columns = [\"BaysChargingPower\", \"BaysChargingDesire\", \"BaysVehicleIds\"]\n",
    "newDf.head(25)"
   ]
  },
  {
   "cell_type": "code",
   "execution_count": 31,
   "metadata": {},
   "outputs": [
    {
     "data": {
      "text/html": [
       "<div>\n",
       "<style scoped>\n",
       "    .dataframe tbody tr th:only-of-type {\n",
       "        vertical-align: middle;\n",
       "    }\n",
       "\n",
       "    .dataframe tbody tr th {\n",
       "        vertical-align: top;\n",
       "    }\n",
       "\n",
       "    .dataframe thead th {\n",
       "        text-align: right;\n",
       "    }\n",
       "</style>\n",
       "<table border=\"1\" class=\"dataframe\">\n",
       "  <thead>\n",
       "    <tr style=\"text-align: right;\">\n",
       "      <th></th>\n",
       "      <th>ChargingStationId</th>\n",
       "      <th>BtmsSize</th>\n",
       "      <th>BtmsC</th>\n",
       "      <th>BtmsMaxPower</th>\n",
       "      <th>BtmsMaxSoc</th>\n",
       "      <th>BtmsMinSoc</th>\n",
       "      <th>ChBaNum</th>\n",
       "      <th>ChBaMaxPower</th>\n",
       "      <th>ChBaMaxPower_abs</th>\n",
       "      <th>ChBaParkingZoneId</th>\n",
       "      <th>GridPowerMax_Nom</th>\n",
       "    </tr>\n",
       "  </thead>\n",
       "  <tbody>\n",
       "    <tr>\n",
       "      <th>0</th>\n",
       "      <td>chargingStation-1</td>\n",
       "      <td>2163.440976</td>\n",
       "      <td>1</td>\n",
       "      <td>4154.058233</td>\n",
       "      <td>1.0</td>\n",
       "      <td>0.0</td>\n",
       "      <td>208</td>\n",
       "      <td>[250.0, 250.0, 250.0, 250.0, 250.0, 250.0, 250...</td>\n",
       "      <td>250.0</td>\n",
       "      <td>[X-PEV-9-1, X-PEV-11-1, X-PEV-12-1, X-PEV-21-1...</td>\n",
       "      <td>18200.0</td>\n",
       "    </tr>\n",
       "  </tbody>\n",
       "</table>\n",
       "</div>"
      ],
      "text/plain": [
       "   ChargingStationId     BtmsSize BtmsC  BtmsMaxPower  BtmsMaxSoc  BtmsMinSoc  \\\n",
       "0  chargingStation-1  2163.440976     1   4154.058233         1.0         0.0   \n",
       "\n",
       "  ChBaNum                                       ChBaMaxPower  \\\n",
       "0     208  [250.0, 250.0, 250.0, 250.0, 250.0, 250.0, 250...   \n",
       "\n",
       "   ChBaMaxPower_abs                                  ChBaParkingZoneId  \\\n",
       "0             250.0  [X-PEV-9-1, X-PEV-11-1, X-PEV-12-1, X-PEV-21-1...   \n",
       "\n",
       "   GridPowerMax_Nom  \n",
       "0           18200.0  "
      ]
     },
     "execution_count": 31,
     "metadata": {},
     "output_type": "execute_result"
    }
   ],
   "source": [
    "ResultWriter.chargingStationProperties"
   ]
  },
  {
   "cell_type": "code",
   "execution_count": 32,
   "metadata": {},
   "outputs": [
    {
     "data": {
      "text/html": [
       "<div>\n",
       "<style scoped>\n",
       "    .dataframe tbody tr th:only-of-type {\n",
       "        vertical-align: middle;\n",
       "    }\n",
       "\n",
       "    .dataframe tbody tr th {\n",
       "        vertical-align: top;\n",
       "    }\n",
       "\n",
       "    .dataframe thead th {\n",
       "        text-align: right;\n",
       "    }\n",
       "</style>\n",
       "<table border=\"1\" class=\"dataframe\">\n",
       "  <thead>\n",
       "    <tr style=\"text-align: right;\">\n",
       "      <th></th>\n",
       "      <th>time</th>\n",
       "      <th>ChargingStationID</th>\n",
       "      <th>Status</th>\n",
       "      <th>Iterations</th>\n",
       "      <th>OptimalValue</th>\n",
       "      <th>SetupTime</th>\n",
       "      <th>SolveTime</th>\n",
       "      <th>SolverName</th>\n",
       "      <th>sum_t1</th>\n",
       "      <th>sum_t2</th>\n",
       "      <th>T1</th>\n",
       "      <th>T2</th>\n",
       "    </tr>\n",
       "  </thead>\n",
       "  <tbody>\n",
       "    <tr>\n",
       "      <th>0</th>\n",
       "      <td>18463</td>\n",
       "      <td>chargingStation-1</td>\n",
       "      <td>optimal</td>\n",
       "      <td>21</td>\n",
       "      <td>3.808234e-08</td>\n",
       "      <td>0.000086</td>\n",
       "      <td>0.000574</td>\n",
       "      <td>ECOS</td>\n",
       "      <td>[7.94063326684242e-06, 5.67920555102178e-06, 8...</td>\n",
       "      <td>[4.385794854917909e-06, 4.385743284807338e-06,...</td>\n",
       "      <td>[[7.94063326684242e-06, 5.67920555102178e-06, ...</td>\n",
       "      <td>[[4.385794854917909e-06, 4.385743284807338e-06...</td>\n",
       "    </tr>\n",
       "    <tr>\n",
       "      <th>1</th>\n",
       "      <td>18763</td>\n",
       "      <td>chargingStation-1</td>\n",
       "      <td>optimal</td>\n",
       "      <td>24</td>\n",
       "      <td>6.170216e-08</td>\n",
       "      <td>0.000086</td>\n",
       "      <td>0.000686</td>\n",
       "      <td>ECOS</td>\n",
       "      <td>[1.311422551304712e-05, 9.383505602680682e-06,...</td>\n",
       "      <td>[4.387294010548348e-06, 4.387286468947245e-06,...</td>\n",
       "      <td>[[1.311422551304712e-05, 9.383505602680682e-06...</td>\n",
       "      <td>[[4.387294010548348e-06, 4.387286468947245e-06...</td>\n",
       "    </tr>\n",
       "    <tr>\n",
       "      <th>2</th>\n",
       "      <td>19063</td>\n",
       "      <td>chargingStation-1</td>\n",
       "      <td>optimal</td>\n",
       "      <td>22</td>\n",
       "      <td>9.525570e-08</td>\n",
       "      <td>0.000070</td>\n",
       "      <td>0.000646</td>\n",
       "      <td>ECOS</td>\n",
       "      <td>[1.204606282693072e-05, 1.473384955313304e-05,...</td>\n",
       "      <td>[6.3735228087861344e-06, 6.373499616642871e-06...</td>\n",
       "      <td>[[1.204606282693072e-05, 1.473384955313304e-05...</td>\n",
       "      <td>[[6.3735228087861344e-06, 6.373499616642871e-0...</td>\n",
       "    </tr>\n",
       "    <tr>\n",
       "      <th>3</th>\n",
       "      <td>19363</td>\n",
       "      <td>chargingStation-1</td>\n",
       "      <td>optimal</td>\n",
       "      <td>25</td>\n",
       "      <td>3.533248e-08</td>\n",
       "      <td>0.000076</td>\n",
       "      <td>0.001129</td>\n",
       "      <td>ECOS</td>\n",
       "      <td>[5.6738703207836096e-06, 5.673289856103132e-06...</td>\n",
       "      <td>[4.009948251572805e-06, 4.0099398044837595e-06...</td>\n",
       "      <td>[[5.6738703207836096e-06, 5.673289856103132e-0...</td>\n",
       "      <td>[[4.009948251572805e-06, 4.0099398044837595e-0...</td>\n",
       "    </tr>\n",
       "    <tr>\n",
       "      <th>4</th>\n",
       "      <td>19663</td>\n",
       "      <td>chargingStation-1</td>\n",
       "      <td>optimal</td>\n",
       "      <td>25</td>\n",
       "      <td>6.314918e-08</td>\n",
       "      <td>0.000081</td>\n",
       "      <td>0.000657</td>\n",
       "      <td>ECOS</td>\n",
       "      <td>[7.963438906120766e-06, 7.963566143256048e-06,...</td>\n",
       "      <td>[5.630869680235913e-06, 5.630867115282757e-06,...</td>\n",
       "      <td>[[7.963438906120766e-06, 7.963566143256048e-06...</td>\n",
       "      <td>[[5.630869680235913e-06, 5.630867115282757e-06...</td>\n",
       "    </tr>\n",
       "    <tr>\n",
       "      <th>5</th>\n",
       "      <td>19963</td>\n",
       "      <td>chargingStation-1</td>\n",
       "      <td>optimal</td>\n",
       "      <td>23</td>\n",
       "      <td>3.450300e-08</td>\n",
       "      <td>0.000068</td>\n",
       "      <td>0.000609</td>\n",
       "      <td>ECOS</td>\n",
       "      <td>[5.594149261554547e-06, 5.593815036622691e-06,...</td>\n",
       "      <td>[3.955434790514571e-06, 3.955429416940322e-06,...</td>\n",
       "      <td>[[5.594149261554547e-06, 5.593815036622691e-06...</td>\n",
       "      <td>[[3.955434790514571e-06, 3.955429416940322e-06...</td>\n",
       "    </tr>\n",
       "  </tbody>\n",
       "</table>\n",
       "</div>"
      ],
      "text/plain": [
       "    time  ChargingStationID   Status Iterations  OptimalValue  SetupTime  \\\n",
       "0  18463  chargingStation-1  optimal         21  3.808234e-08   0.000086   \n",
       "1  18763  chargingStation-1  optimal         24  6.170216e-08   0.000086   \n",
       "2  19063  chargingStation-1  optimal         22  9.525570e-08   0.000070   \n",
       "3  19363  chargingStation-1  optimal         25  3.533248e-08   0.000076   \n",
       "4  19663  chargingStation-1  optimal         25  6.314918e-08   0.000081   \n",
       "5  19963  chargingStation-1  optimal         23  3.450300e-08   0.000068   \n",
       "\n",
       "   SolveTime SolverName                                             sum_t1  \\\n",
       "0   0.000574       ECOS  [7.94063326684242e-06, 5.67920555102178e-06, 8...   \n",
       "1   0.000686       ECOS  [1.311422551304712e-05, 9.383505602680682e-06,...   \n",
       "2   0.000646       ECOS  [1.204606282693072e-05, 1.473384955313304e-05,...   \n",
       "3   0.001129       ECOS  [5.6738703207836096e-06, 5.673289856103132e-06...   \n",
       "4   0.000657       ECOS  [7.963438906120766e-06, 7.963566143256048e-06,...   \n",
       "5   0.000609       ECOS  [5.594149261554547e-06, 5.593815036622691e-06,...   \n",
       "\n",
       "                                              sum_t2  \\\n",
       "0  [4.385794854917909e-06, 4.385743284807338e-06,...   \n",
       "1  [4.387294010548348e-06, 4.387286468947245e-06,...   \n",
       "2  [6.3735228087861344e-06, 6.373499616642871e-06...   \n",
       "3  [4.009948251572805e-06, 4.0099398044837595e-06...   \n",
       "4  [5.630869680235913e-06, 5.630867115282757e-06,...   \n",
       "5  [3.955434790514571e-06, 3.955429416940322e-06,...   \n",
       "\n",
       "                                                  T1  \\\n",
       "0  [[7.94063326684242e-06, 5.67920555102178e-06, ...   \n",
       "1  [[1.311422551304712e-05, 9.383505602680682e-06...   \n",
       "2  [[1.204606282693072e-05, 1.473384955313304e-05...   \n",
       "3  [[5.6738703207836096e-06, 5.673289856103132e-0...   \n",
       "4  [[7.963438906120766e-06, 7.963566143256048e-06...   \n",
       "5  [[5.594149261554547e-06, 5.593815036622691e-06...   \n",
       "\n",
       "                                                  T2  \n",
       "0  [[4.385794854917909e-06, 4.385743284807338e-06...  \n",
       "1  [[4.387294010548348e-06, 4.387286468947245e-06...  \n",
       "2  [[6.3735228087861344e-06, 6.373499616642871e-0...  \n",
       "3  [[4.009948251572805e-06, 4.0099398044837595e-0...  \n",
       "4  [[5.630869680235913e-06, 5.630867115282757e-06...  \n",
       "5  [[3.955434790514571e-06, 3.955429416940322e-06...  "
      ]
     },
     "execution_count": 32,
     "metadata": {},
     "output_type": "execute_result"
    }
   ],
   "source": [
    "ResultWriter.MpcStats.head(6)"
   ]
  },
  {
   "cell_type": "markdown",
   "metadata": {},
   "source": [
    "#### save results"
   ]
  },
  {
   "cell_type": "code",
   "execution_count": 33,
   "metadata": {},
   "outputs": [],
   "source": [
    "ResultWriter.save()"
   ]
  },
  {
   "cell_type": "markdown",
   "metadata": {},
   "source": [
    "#### plot results"
   ]
  },
  {
   "cell_type": "code",
   "execution_count": 34,
   "metadata": {},
   "outputs": [],
   "source": [
    "for y in chargingStations[0].Queue:\n",
    "    print(\"delta t: \" + str(y.VehicleDesEnd-y.VehicleArrival) + \" delta E:\" + str(y.VehicleDesEngy - y.VehicleEngy))\n",
    "    print(y.updateEnergyLag(SimBroker.t_act))"
   ]
  },
  {
   "cell_type": "code",
   "execution_count": 35,
   "metadata": {},
   "outputs": [
    {
     "name": "stdout",
     "output_type": "stream",
     "text": [
      "(-108.17204878212517, 2430.6259361343527)\n",
      "2022-09-15 12:11:44,799 : root  : <module> : INFO : figure printed\n"
     ]
    },
    {
     "data": {
      "image/png": "[encoded data removed]",
      "text/plain": [
       "<Figure size 504x720 with 6 Axes>"
      ]
     },
     "metadata": {
      "needs_background": "light"
     },
     "output_type": "display_data"
    }
   ],
   "source": [
    "import matplotlib.pyplot as plt\n",
    "loadDataFromFile = False\n",
    "plotChargingStation = 0\n",
    "\n",
    "if loadDataFromFile == True:\n",
    "    # need to add code to load this from file\n",
    "    pass\n",
    "else:\n",
    "    ChSt = ResultWriter.ChargingStationStates.loc[ResultWriter.ChargingStationStates.ChargingStationID ==\n",
    "                                                  chargingStations[plotChargingStation].ChargingStationId]\n",
    "\n",
    "fig, ax = plt.subplots(4, 1, sharex=True)\n",
    "fig.suptitle(chargingStations[plotChargingStation].ChargingStationId)\n",
    "ax[0].step(ChSt.time/3600, ChSt.BaysNumberOfVehicles,\n",
    "           label=\"#Vehicles in Charging Bays\")\n",
    "ax[0].step(ChSt.time/3600, ChSt.QueueNumberOfVehicles,\n",
    "           label=\"#Vehicles in Queue\")\n",
    "ax[0].legend(loc='center left', bbox_to_anchor=(1, 0.5))\n",
    "# ax[0].grid()\n",
    "\n",
    "#ax[1].step(ChSt.time/3600, ChSt.GridPowerUpper, label = \"Upper Power Limit [kW]\")\n",
    "ax[1].step(ChSt.time/3600, ChSt.TotalChargingPower,\n",
    "           label=\"Total Charging Power [kW]\")\n",
    "\n",
    "ax[1].step(ChSt.time/3600, ChSt.TotalChargingPower +\n",
    "           ChSt.BtmsPower, label=\"Net Power [kW]\")\n",
    "ax[1].axhline(chargingStations[0].P_GridMaxPlanning, color = 'black', label = 'P_Max_Planning [kW]') # TODO need to save P Grid Max Planning\n",
    "#ax[1].step(ChSt.time/3600, ChSt.BtmsPower, label = \"Net Power [kW]\")\n",
    "ax[1].step(np.array(chargingStations[0].PredictionTime)/3600, chargingStations[0].PredictionPower , label=\"unconstrained Power [kW]\")\n",
    "ax[1].legend(loc='center left', bbox_to_anchor=(1, 0.5))\n",
    "# ax[1].grid()\n",
    "\n",
    "ax[2].plot(ChSt.time/3600, ChSt.BtmsEnergy,\n",
    "           label=\"BTMS Energy [kWh]\", color=\"blue\")\n",
    "ax[2].set_ylabel(\"BTMS Energy [kWh]\", color=\"blue\")\n",
    "if case == 2 or case == 3:\n",
    "    ax[2].plot(ChSt.time/3600, chargingStations[plotChargingStation].E_BtmsLower[0:np.shape(\n",
    "        ChSt.time)[0]], color='grey', label=\"lower bound planning\")\n",
    "    ax[2].plot(ChSt.time/3600, chargingStations[plotChargingStation].E_BtmsUpper[0:np.shape(\n",
    "        ChSt.time)[0]], color='grey', label=\"upper bound planning\")\n",
    "\n",
    "y1 = chargingStations[plotChargingStation].BtmsSize * \\\n",
    "    chargingStations[plotChargingStation].BtmsMaxSoc\n",
    "ax[2].axhline(y=y1, linestyle=\"--\", color=\"black\")\n",
    "\n",
    "y2 = chargingStations[plotChargingStation].BtmsSize * \\\n",
    "    chargingStations[plotChargingStation].BtmsMinSoc\n",
    "ax[2].axhline(y=y2, linestyle=\"--\", color=\"black\")\n",
    "# ax[2].grid()\n",
    "\n",
    "ylim = ax[2].get_ylim()\n",
    "ax[2].set_ylim([ylim[0], 1.07*ylim[1]])\n",
    "ylim = ax[2].get_ylim()\n",
    "print(ylim)\n",
    "dy = ylim[1]-ylim[0]\n",
    "xlim = ax[2].get_xlim()\n",
    "x = xlim[0]\n",
    "dx = xlim[1]-xlim[0]\n",
    "ax[2].text(x+0.02*dx, y1+0.03*dy, \"max. SOC\")\n",
    "ax[2].text(x+0.02*dx, y2+0.03*dy, \"min. SOC\")\n",
    "\n",
    "ax1 = ax[2].twinx()\n",
    "ax1.step(ChSt.time/3600, ChSt.BtmsPower, label=\"BTMS Power [kW]\", color=\"red\")\n",
    "ax1.set_ylabel(\"BTMS Power [kW]\", color=\"red\")\n",
    "#ax1.set_ylim([-chargingStations[plotChargingStation].GridPowerMax_Nom,chargingStations[plotChargingStation].GridPowerMax_Nom])\n",
    "ax[2].legend(loc='center left', bbox_to_anchor=(1, 0.5))\n",
    "\n",
    "ax[3].plot(ChSt.time/3600, ChSt.EnergyLagSum,\n",
    "           label=\"Sum of Energy Lags [kWh]\", color=\"blue\")\n",
    "ax[3].plot(ChSt.time/3600, chargingStations[0].PredictionEnergyLag, label=\"Prediction Energy Lags [kWh]\", color=\"mediumslateblue\")\n",
    "ax[3].axhline(y=0, color=\"black\")\n",
    "ax[3].set_ylabel(\"Sum of Energy Lags [kWh]\", color=\"blue\")\n",
    "#ax[3].legend(loc= 'center left', bbox_to_anchor=(1, 0.5))\n",
    "\n",
    "ax2 = ax[3].twinx()\n",
    "ax2.plot(ChSt.time/3600, ChSt.TimeLagSum/60,\n",
    "         label=\"Sum of Time Lags [min]\", color=\"red\")\n",
    "ax2.plot(ChSt.time/3600, np.array(chargingStations[0].PredictionTimeLag)/60, label=\"Prediction Time Lags [min]\", color=\"orangered\")\n",
    "ax2.set_ylabel(\"Sum of Time Lags [min]\", color=\"red\")\n",
    "\n",
    "ax[3].set_xlabel(\"time [h]\")\n",
    "ax[3].legend(loc = 'center left', bbox_to_anchor=(1, 1))\n",
    "ax2.legend(loc = 'center left', bbox_to_anchor=(1, 0))\n",
    "\n",
    "fig.set_size_inches(7, 10)\n",
    "logging.info(\"figure printed\")\n"
   ]
  }
 ],
 "metadata": {
  "interpreter": {
   "hash": "9478aa59fb21f09a65f1f155627aebe0f290791ff3152ffe0eaa81705a6b9515"
  },
  "kernelspec": {
   "display_name": "Python 3.7.12 ('py_btms_controller')",
   "language": "python",
   "name": "python3"
  },
  "language_info": {
   "codemirror_mode": {
    "name": "ipython",
    "version": 3
   },
   "file_extension": ".py",
   "mimetype": "text/x-python",
   "name": "python",
   "nbconvert_exporter": "python",
   "pygments_lexer": "ipython3",
   "version": "3.7.12"
  },
  "orig_nbformat": 4
 },
 "nbformat": 4,
 "nbformat_minor": 2
}
