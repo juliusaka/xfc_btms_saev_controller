{
 "cells": [
  {
   "cell_type": "code",
   "execution_count": 1,
   "metadata": {},
   "outputs": [],
   "source": [
    "import components\n",
    "import pandas as pd\n",
    "import numpy as np\n",
    "import matplotlib.pyplot as plt\n",
    "from tqdm import tqdm"
   ]
  },
  {
   "cell_type": "markdown",
   "metadata": {},
   "source": [
    "change fastly between different options:"
   ]
  },
  {
   "cell_type": "code",
   "execution_count": 2,
   "metadata": {},
   "outputs": [],
   "source": [
    "case = 2\n",
    "\n",
    "if case == 0:\n",
    "    import components.ChaDepLimCon as chargingStationClass\n",
    "    useOnlyOneChargingStation = False\n",
    "elif case ==1:\n",
    "    import components.ChaDepMpcBase as chargingStationClass\n",
    "    useOnlyOneChargingStation = False\n",
    "elif case ==2:\n",
    "    import components.ChaDepMpcBase as chargingStationClass\n",
    "    useOnlyOneChargingStation = True\n",
    "    useChargingStation = 0"
   ]
  },
  {
   "cell_type": "markdown",
   "metadata": {},
   "source": [
    "### simulation"
   ]
  },
  {
   "cell_type": "markdown",
   "metadata": {},
   "source": [
    "#### initialize helper objects for simulation\n",
    "- SimulationBroker\n",
    "- VehicleGenerator\n",
    "- ResultWriter"
   ]
  },
  {
   "cell_type": "code",
   "execution_count": 3,
   "metadata": {},
   "outputs": [],
   "source": [
    "# simulation broker\n",
    "path_Sim = \"test_data/beam1/beam1-0.csv\"\n",
    "dtype_Sim = {\n",
    "       'time': 'int64', 'type': 'category', 'vehicle': 'int64', 'parkingTaz': 'category','chargingPointType': 'category', \n",
    "       'primaryFuelLevel': 'float64', 'mode': 'category', 'currentTourMode': 'category', 'vehicleType': 'category', \n",
    "       'arrivalTime': 'float64', 'departureTime': 'float64', 'linkTravelTime': 'string', 'primaryFuelType': 'category', \n",
    "       'parkingZoneId': 'category','duration': 'float64' \n",
    "        }\n",
    "SimBroker = components.SimBroker(path_Sim, dtype_Sim)\n",
    "\n",
    "# vehicle generator\n",
    "path_DataBase = \"test_data/vehicleFiles/vehicletypes-Base_2035_20210204_updated.csv\"\n",
    "VehicleGenerator = components.VehicleGenerator(path_Sim, dtype_Sim, path_DataBase)\n",
    "\n",
    "sim_name = \"sim1\"\n",
    "result_directory = \"results\"\n",
    "ResultWriter = components.ResultWriter(result_directory, sim_name)"
   ]
  },
  {
   "cell_type": "code",
   "execution_count": 4,
   "metadata": {},
   "outputs": [
    {
     "data": {
      "text/html": [
       "<div>\n",
       "<style scoped>\n",
       "    .dataframe tbody tr th:only-of-type {\n",
       "        vertical-align: middle;\n",
       "    }\n",
       "\n",
       "    .dataframe tbody tr th {\n",
       "        vertical-align: top;\n",
       "    }\n",
       "\n",
       "    .dataframe thead th {\n",
       "        text-align: right;\n",
       "    }\n",
       "</style>\n",
       "<table border=\"1\" class=\"dataframe\">\n",
       "  <thead>\n",
       "    <tr style=\"text-align: right;\">\n",
       "      <th></th>\n",
       "      <th>vehicleType</th>\n",
       "    </tr>\n",
       "    <tr>\n",
       "      <th>vehicle</th>\n",
       "      <th></th>\n",
       "    </tr>\n",
       "  </thead>\n",
       "  <tbody>\n",
       "    <tr>\n",
       "      <th>2517</th>\n",
       "      <td>ev-L1-0-to-50000-LowTech-2035-Midsize-BEV_300_XFC</td>\n",
       "    </tr>\n",
       "    <tr>\n",
       "      <th>9368</th>\n",
       "      <td>ev-L1-0-to-50000-LowTech-2035-Midsize-BEV_300_XFC</td>\n",
       "    </tr>\n",
       "    <tr>\n",
       "      <th>11104</th>\n",
       "      <td>ev-L1-0-to-50000-LowTech-2035-Car-BEV_300_XFC</td>\n",
       "    </tr>\n",
       "  </tbody>\n",
       "</table>\n",
       "</div>"
      ],
      "text/plain": [
       "                                               vehicleType\n",
       "vehicle                                                   \n",
       "2517     ev-L1-0-to-50000-LowTech-2035-Midsize-BEV_300_XFC\n",
       "9368     ev-L1-0-to-50000-LowTech-2035-Midsize-BEV_300_XFC\n",
       "11104        ev-L1-0-to-50000-LowTech-2035-Car-BEV_300_XFC"
      ]
     },
     "execution_count": 4,
     "metadata": {},
     "output_type": "execute_result"
    }
   ],
   "source": [
    "# show head of vehicles dataframe\n",
    "VehicleGenerator.vehicles.head(3)"
   ]
  },
  {
   "cell_type": "markdown",
   "metadata": {},
   "source": [
    "#### create charging stations\n",
    "1) map parkingZoneIds to charging stations with a dictionary\n",
    "2) create charging Stations"
   ]
  },
  {
   "cell_type": "code",
   "execution_count": 5,
   "metadata": {},
   "outputs": [],
   "source": [
    "# load infrastructure file into dataframe\n",
    "path_infrastructure = \"test_data/beam1/gemini-base-scenario-3-charging-no-household-infra16.csv\"\n",
    "usecols_infrastructure = [\"taz\", \"parkingType\",\n",
    "                          \"chargingPointType\", \"parkingZoneId\"]\n",
    "dtype_infrastructure = {\"taz\": \"int64\", \"parkingType\": \"category\",\n",
    "                        \"chargingPointType\": \"category\", \"parkingZoneId\": \"string\"}\n",
    "infrastructure = pd.read_csv(\n",
    "    path_infrastructure, dtype=dtype_infrastructure, usecols=usecols_infrastructure)\n",
    "infrastructure = infrastructure.set_index(\"parkingZoneId\")\n",
    "# filter infrastructure for only public fast and extreme fast charging\n",
    "infrastructure = infrastructure.loc[infrastructure[\"parkingType\"] == \"Public\"]\n",
    "infrastructure = infrastructure.loc[infrastructure[\"chargingPointType\"].str.contains(\n",
    "    \"publicfc|publicxfc\")]\n",
    "infrastructure = infrastructure.sort_values(by=[\"taz\", \"parkingZoneId\"])\n",
    "\n",
    "# now, make a dict of every parkingZoneId that belongs to a charging station\n",
    "# here, we will split the chargingstation\n",
    "chargingStationMappedToParkingZoneId = {}\n",
    "chargingStationMappedToTaz = {}\n",
    "stepsize = 200\n",
    "i = 0\n",
    "j = 1\n",
    "stop = False\n",
    "while i < len(infrastructure) - 1:\n",
    "    name = \"chargingStation-\" + str(j)\n",
    "    # we want to make sure, that all the chargingBays of one TAZ are in one chargingStation\n",
    "    if i + stepsize < len(infrastructure):\n",
    "        i_end = i+stepsize\n",
    "        while infrastructure.iloc[i_end][\"taz\"] == infrastructure.iloc[i_end+1][\"taz\"]:\n",
    "            i_end += 1  # if the taz is the same, we should increase reading to that taz\n",
    "            # make sure, that we don't try to read in the next step something that doesnt exist\n",
    "            if i_end + 1 >= len(infrastructure) - 1:\n",
    "                stop = True\n",
    "                break\n",
    "    else:\n",
    "        i_end = len(infrastructure)-1\n",
    "    if not stop:\n",
    "        i_end += 1  # to also catch the last element\n",
    "    slice = infrastructure.iloc[i:i_end]\n",
    "    chargingStationMappedToParkingZoneId[name] = slice.index.to_list()\n",
    "    chargingStationMappedToTaz[name] = list(\n",
    "        set(slice[\"taz\"].to_list()))  # this removes duplicates\n",
    "    i = i_end  # start reading next cycle at i\n",
    "    j += 1\n",
    "\n",
    "# we convert chargingStationMappedToTaz to a dataframe to use search methods\n",
    "chargingStationMappedToTaz = pd.DataFrame.from_dict(\n",
    "    chargingStationMappedToTaz, orient='index')\n",
    "chargingStationMappedToTaz = chargingStationMappedToTaz.transpose()\n",
    "\n",
    "# #here, we will make chargingStation depending on TAZ. Therefore, get a list of the different TAZ and sort it:\n",
    "# taz = infrastructure.taz.drop_duplicates().to_list()\n",
    "# taz = sorted(taz)\n",
    "# while i < len(taz):\n",
    "#     name = \"chargingStation-\" + str(j)\n",
    "#     # slice = infrastructure.loc[infrastructure[\"taz\"].isin(taz[i:i+stepsize])]\n",
    "#     chargingStationMappedToParkingZoneId[name] = slice.index.to_list()\n",
    "#     i += stepsize\n",
    "#     j += 1\n"
   ]
  },
  {
   "cell_type": "code",
   "execution_count": 6,
   "metadata": {},
   "outputs": [
    {
     "data": {
      "text/html": [
       "<div>\n",
       "<style scoped>\n",
       "    .dataframe tbody tr th:only-of-type {\n",
       "        vertical-align: middle;\n",
       "    }\n",
       "\n",
       "    .dataframe tbody tr th {\n",
       "        vertical-align: top;\n",
       "    }\n",
       "\n",
       "    .dataframe thead th {\n",
       "        text-align: right;\n",
       "    }\n",
       "</style>\n",
       "<table border=\"1\" class=\"dataframe\">\n",
       "  <thead>\n",
       "    <tr style=\"text-align: right;\">\n",
       "      <th></th>\n",
       "      <th>taz</th>\n",
       "      <th>parkingType</th>\n",
       "      <th>chargingPointType</th>\n",
       "    </tr>\n",
       "    <tr>\n",
       "      <th>parkingZoneId</th>\n",
       "      <th></th>\n",
       "      <th></th>\n",
       "      <th></th>\n",
       "    </tr>\n",
       "  </thead>\n",
       "  <tbody>\n",
       "    <tr>\n",
       "      <th>X-PEV-9-1</th>\n",
       "      <td>9</td>\n",
       "      <td>Public</td>\n",
       "      <td>publicfc(150.0|DC)</td>\n",
       "    </tr>\n",
       "    <tr>\n",
       "      <th>X-PEV-11-1</th>\n",
       "      <td>11</td>\n",
       "      <td>Public</td>\n",
       "      <td>publicfc(150.0|DC)</td>\n",
       "    </tr>\n",
       "    <tr>\n",
       "      <th>X-PEV-12-1</th>\n",
       "      <td>12</td>\n",
       "      <td>Public</td>\n",
       "      <td>publicfc(150.0|DC)</td>\n",
       "    </tr>\n",
       "  </tbody>\n",
       "</table>\n",
       "</div>"
      ],
      "text/plain": [
       "               taz parkingType   chargingPointType\n",
       "parkingZoneId                                     \n",
       "X-PEV-9-1        9      Public  publicfc(150.0|DC)\n",
       "X-PEV-11-1      11      Public  publicfc(150.0|DC)\n",
       "X-PEV-12-1      12      Public  publicfc(150.0|DC)"
      ]
     },
     "execution_count": 6,
     "metadata": {},
     "output_type": "execute_result"
    }
   ],
   "source": [
    "infrastructure.head(3)"
   ]
  },
  {
   "cell_type": "code",
   "execution_count": 7,
   "metadata": {},
   "outputs": [
    {
     "data": {
      "text/html": [
       "<div>\n",
       "<style scoped>\n",
       "    .dataframe tbody tr th:only-of-type {\n",
       "        vertical-align: middle;\n",
       "    }\n",
       "\n",
       "    .dataframe tbody tr th {\n",
       "        vertical-align: top;\n",
       "    }\n",
       "\n",
       "    .dataframe thead th {\n",
       "        text-align: right;\n",
       "    }\n",
       "</style>\n",
       "<table border=\"1\" class=\"dataframe\">\n",
       "  <thead>\n",
       "    <tr style=\"text-align: right;\">\n",
       "      <th></th>\n",
       "      <th>chargingStation-1</th>\n",
       "      <th>chargingStation-2</th>\n",
       "      <th>chargingStation-3</th>\n",
       "    </tr>\n",
       "  </thead>\n",
       "  <tbody>\n",
       "    <tr>\n",
       "      <th>0</th>\n",
       "      <td>518.0</td>\n",
       "      <td>947.0</td>\n",
       "      <td>1280.0</td>\n",
       "    </tr>\n",
       "    <tr>\n",
       "      <th>1</th>\n",
       "      <td>520.0</td>\n",
       "      <td>948.0</td>\n",
       "      <td>1412.0</td>\n",
       "    </tr>\n",
       "    <tr>\n",
       "      <th>2</th>\n",
       "      <td>9.0</td>\n",
       "      <td>949.0</td>\n",
       "      <td>1273.0</td>\n",
       "    </tr>\n",
       "  </tbody>\n",
       "</table>\n",
       "</div>"
      ],
      "text/plain": [
       "   chargingStation-1  chargingStation-2  chargingStation-3\n",
       "0              518.0              947.0             1280.0\n",
       "1              520.0              948.0             1412.0\n",
       "2                9.0              949.0             1273.0"
      ]
     },
     "execution_count": 7,
     "metadata": {},
     "output_type": "execute_result"
    }
   ],
   "source": [
    "chargingStationMappedToTaz.head(3)"
   ]
  },
  {
   "cell_type": "markdown",
   "metadata": {},
   "source": [
    "here, charging stations are created. please specifiy the type of charging station you want to use"
   ]
  },
  {
   "cell_type": "code",
   "execution_count": 8,
   "metadata": {},
   "outputs": [
    {
     "name": "stdout",
     "output_type": "stream",
     "text": [
      "chargingStation-1 was created with 208 charging bays and 26000.0kWh BTM-Storage\n",
      "chargingStation-2 was created with 207 charging bays and 25875.0kWh BTM-Storage\n",
      "chargingStation-3 was created with 93 charging bays and 11625.0kWh BTM-Storage\n"
     ]
    }
   ],
   "source": [
    "#create chargingStations\n",
    "'''specifiy here chargingStation'''\n",
    "\n",
    "chargingStations = []  # list of charging stations\n",
    "for i in chargingStationMappedToParkingZoneId:\n",
    "    #chargingStations.append(i)\n",
    "\n",
    "    ChargingStationId = i\n",
    "    # make a list with the power of each charging bay:\n",
    "    ChBaMaxPower = []\n",
    "    for j in chargingStationMappedToParkingZoneId[i]:\n",
    "        power_string = infrastructure.loc[j, \"chargingPointType\"]\n",
    "        ChBaMaxPower.append(components.chargingCapFromString(power_string))\n",
    "\n",
    "    # for now, we assume that all charging bays have the same charging power\n",
    "    PowerMax = max(ChBaMaxPower)\n",
    "    len_power = len(ChBaMaxPower)\n",
    "    ChBaMaxPower = []\n",
    "    # make charging limit for each bay the same (for testing and simplicity)\n",
    "    for j in range(0, len_power):\n",
    "        ChBaMaxPower.append(PowerMax)\n",
    "    del PowerMax, len_power\n",
    "\n",
    "    ChBaParkingZoneId = chargingStationMappedToParkingZoneId[i]\n",
    "    calcBtmsGridProp = True\n",
    "\n",
    "    '''reduce number of charging bays to test controller'''\n",
    "    # numStations = 30\n",
    "    # ChBaMaxPower = ChBaMaxPower[0:numStations]\n",
    "    ChBaNum = len(ChBaMaxPower)\n",
    "\n",
    "    # create charging station\n",
    "    container = chargingStationClass(ChargingStationId=ChargingStationId, ResultWriter=ResultWriter, SimBroker=SimBroker,\n",
    "                                     ChBaMaxPower=ChBaMaxPower, ChBaParkingZoneId=ChBaParkingZoneId, ChBaNum=ChBaNum, calcBtmsGridProp=True)\n",
    "    chargingStations.append(container)\n",
    "    print(ChargingStationId + \" was created with \" + str(container.ChBaNum) +\n",
    "          \" charging bays and \" + str(container.BtmsSize) + \"kWh BTM-Storage\")"
   ]
  },
  {
   "cell_type": "markdown",
   "metadata": {},
   "source": [
    "- initialize helper objects for simulation input"
   ]
  },
  {
   "cell_type": "code",
   "execution_count": 9,
   "metadata": {},
   "outputs": [],
   "source": [
    "PhySimDummy = components.PhySimDummy(chargingStations)\n",
    "DermsDummy  = components.DermsDummy(chargingStations)"
   ]
  },
  {
   "cell_type": "markdown",
   "metadata": {},
   "source": [
    "#### initialize simulation\n",
    "initialize Grid Constraints and actual time of charging Station"
   ]
  },
  {
   "cell_type": "code",
   "execution_count": 10,
   "metadata": {},
   "outputs": [
    {
     "name": "stdout",
     "output_type": "stream",
     "text": [
      "we reduced the number of charging stations to 1\n"
     ]
    }
   ],
   "source": [
    "#reduce number of chargingStation for testing\n",
    "if useOnlyOneChargingStation:\n",
    "    chargingStations = [chargingStations[useChargingStation]]\n",
    "    print('we reduced the number of charging stations to 1')"
   ]
  },
  {
   "cell_type": "code",
   "execution_count": 11,
   "metadata": {},
   "outputs": [],
   "source": [
    "'''Simulation settings:'''\n",
    "timestep = 5 * 60  # in seconds"
   ]
  },
  {
   "cell_type": "code",
   "execution_count": 12,
   "metadata": {},
   "outputs": [],
   "source": [
    "for x in chargingStations:\n",
    "    GridPowerLower, GridPowerUpper = DermsDummy.output(x.ChargingStationId)\n",
    "    x.initialize(GridPowerLower = GridPowerLower, GridPowerUpper = GridPowerUpper)\n",
    "    # TODO is this necessary in the way this is set up? updated before vehicle arrival!"
   ]
  },
  {
   "cell_type": "markdown",
   "metadata": {},
   "source": [
    "generate predictions for power use of charging station"
   ]
  },
  {
   "cell_type": "code",
   "execution_count": 13,
   "metadata": {},
   "outputs": [],
   "source": [
    "if chargingStationClass == components.ChaDepMpcBase:\n",
    "    for x in chargingStations:\n",
    "        x.generatePredictions(path_BeamPredictionFile = path_Sim, dtype = dtype_Sim, path_DataBase = path_DataBase, timestep = timestep, addNoise = True)"
   ]
  },
  {
   "cell_type": "markdown",
   "metadata": {},
   "source": [
    "plot prediction "
   ]
  },
  {
   "cell_type": "code",
   "execution_count": 14,
   "metadata": {},
   "outputs": [
    {
     "data": {
      "image/png": "[encoded data removed]",
      "text/plain": [
       "<Figure size 432x288 with 1 Axes>"
      ]
     },
     "metadata": {
      "needs_background": "light"
     },
     "output_type": "display_data"
    }
   ],
   "source": [
    "if chargingStationClass == components.ChaDepMpcBase:\n",
    "    x = chargingStations[0]\n",
    "    time = x.PredictionTime\n",
    "    power = x.PredictionPower\n",
    "\n",
    "    ax = plt.subplot()\n",
    "    ax.plot(time,power, label = 'with noise')\n",
    "    ax.plot(time,x.power_sum_original, label = 'without noise')\n",
    "    ax.legend()"
   ]
  },
  {
   "cell_type": "markdown",
   "metadata": {},
   "source": [
    "BTMS size optimization\n",
    "\n",
    "see mpcBase.md for explanations"
   ]
  },
  {
   "cell_type": "code",
   "execution_count": 15,
   "metadata": {},
   "outputs": [
    {
     "name": "stdout",
     "output_type": "stream",
     "text": [
      "454.68943991175246\n"
     ]
    },
    {
     "data": {
      "image/png": "[encoded data removed]",
      "text/plain": [
       "<Figure size 432x288 with 2 Axes>"
      ]
     },
     "metadata": {
      "needs_background": "light"
     },
     "output_type": "display_data"
    }
   ],
   "source": [
    "if chargingStationClass == components.ChaDepMpcBase:\n",
    "    a = 20/30 * ((SimBroker.t_max - SimBroker.t_act)/3.6e3) / \\\n",
    "        24       # demand charge per day\n",
    "    # free power, after which demand charge is applied, as ratio to avg power\n",
    "    P_free_Ratio = 0\n",
    "    # btms cost per cycle per kWh (price per kWh/ possible cycles)\n",
    "    b = 300/5000\n",
    "    c = 0.15      # electricity cost per kWh\n",
    "\n",
    "    Print = False\n",
    "    Graph = True\n",
    "    for i in range(0, len(chargingStations)):\n",
    "        x = chargingStations[i]\n",
    "        # determine P_free\n",
    "        avgPower = sum(x.PredictionPower*timestep) / \\\n",
    "            (max(x.PredictionTime) + timestep - min(x.PredictionTime))\n",
    "        P_free = P_free_Ratio * avgPower\n",
    "\n",
    "        # btms size optimization\n",
    "        time, time_x, btms_size, P_Grid, P_BTMS, P_BTMS_Ch, P_BTMS_DCh, E_BTMS, P_Charge, cost = x.determineBtmsSize(\n",
    "            SimBroker.t_act, SimBroker.t_max, timestep, a, b, c, P_free)\n",
    "\n",
    "        # we set the max and min soc to 1 and 0\n",
    "        x.BtmsMaxSoc = 1.0\n",
    "        x.BtmsMinSoc = 0.0\n",
    "\n",
    "        time = time/3.6e3  # conversion to hours\n",
    "        time_x = time_x/3.6e3\n",
    "        if Print:\n",
    "            print('\\n', x.ChargingStationId)\n",
    "            print('Optimization with free power level of', int(P_free), 'kW')\n",
    "            print('The determined effective BTMS size is', int(btms_size), 'kWh.')\n",
    "            cRating = max(abs(P_BTMS))/btms_size\n",
    "            print('The associated C-Rating is', cRating)\n",
    "            # btmsDCh is always negative\n",
    "            costLoss = c*(sum(P_BTMS_Ch*timestep/3.6e3) +\n",
    "                          sum(P_BTMS_DCh*timestep/3.6e3))\n",
    "            costCycle = b*sum(P_BTMS_Ch*timestep/3.6e3)\n",
    "            print('The cost-value is $', int(cost), 'from which $', int(a*(max(P_Grid)-P_free)), 'is associated with demand charge, $',\n",
    "                  int(costCycle), 'is associated with BTMS degradation and $', int(costLoss), 'is associated with energy losses')\n",
    "            E_total = sum(timestep/3.6e3*P_Charge)\n",
    "            print('The total delivered energy to the vehicles is', int(\n",
    "                E_total), 'kWh, which results in an average power of', int(E_total/(max(time)-min(time) + timestep/3.6e3)), 'kW')\n",
    "            print(int(-sum(P_BTMS_DCh*timestep/3.6e3)), 'kWh were delivered by the BTMS and charging losses of',\n",
    "                  int(sum(P_BTMS_DCh*timestep/3.6e3) + sum(P_BTMS_Ch*timestep/3.6e3)), 'kWh occured.')\n",
    "            print('The maximal grid power is', int(max(P_Grid)), 'kW')\n",
    "\n",
    "        if Graph:\n",
    "            cRating = max(abs(P_BTMS))/btms_size\n",
    "            E_total = sum(timestep/3.6e3*P_Charge)\n",
    "            avgPower = int(E_total/(max(time)-min(time) + timestep/3.6e3))\n",
    "            # usage factor, how many cycles btms is discharged\n",
    "            useFactor = -sum(P_BTMS_DCh*timestep/3.6e3) / btms_size\n",
    "            # we also define a usage factor as fraction of energy by btms and compare to the total charged energy\n",
    "            btmsSupport = btms_size / sum(P_Charge*timestep/3.6e3)\n",
    "            # btmsDCh is always negative\n",
    "            costLoss = c*(sum(P_BTMS_Ch*timestep/3.6e3) +\n",
    "                          sum(P_BTMS_DCh*timestep/3.6e3))\n",
    "            costCycle = b*sum(P_BTMS_Ch*timestep/3.6e3)\n",
    "            costDemand = a*(max(P_Grid)-P_free)\n",
    "            info_string1 = 'free power: ' + str(int(P_free)) + 'kW \\navg power: ' + str(int(avgPower)) + 'kW \\nmax power: ' + str(int(max(P_Grid))) + 'kW \\nBTMS-size: ' + str(int(btms_size)) + 'kWh \\nC-Rating: ' + \"{:.2f}\".format(\n",
    "                cRating) + ' \\nuseFactor: ' + \"{:.2f}\".format(useFactor) + ' \\nbtmsSupport: ' + \"{:.2f}\".format(btmsSupport) + ' \\n\\ncost: $' + str(int(cost)) + ' \\ndemand: $' + str(int(costDemand)) + '\\ncycle: $' + str(int(costCycle)) + '\\nloss: $' + str(int(costLoss))\n",
    "\n",
    "            fig, ax = plt.subplots(2, 1, sharex=True)\n",
    "\n",
    "            ax[0].plot(time_x, E_BTMS, label=\"Energy_BTMS [kWh]\")\n",
    "            ax[0].legend(loc='center left', bbox_to_anchor=(1, 0.5))\n",
    "            fig.text(-0.12, 0, info_string1, horizontalalignment='right', verticalalignment='center',\n",
    "                     multialignment='left', transform=ax[0].transAxes, bbox=dict(facecolor='none', edgecolor='grey', pad=5.0))\n",
    "            #ax[0].text(0.5, 1, info_string2, horizontalalignment='right', verticalalignment='top', transform=ax[0].transAxes)\n",
    "\n",
    "            ax[1].step(time, P_BTMS, label=\"P_BTMS [kW]\")\n",
    "            ax[1].step(time, P_Grid, label=\"P_Grid [kW]\")\n",
    "            ax[1].step(time, P_Charge, label=\"P_Charge [kW]\")\n",
    "            ax[1].axhline(0, color='black')\n",
    "            ax[1].legend(loc='center left', bbox_to_anchor=(1, 0.5))\n",
    "            ax[1].set_xlabel(\"time in [h]\")\n",
    "\n",
    "            print(cost)\n"
   ]
  },
  {
   "cell_type": "markdown",
   "metadata": {},
   "source": [
    "further reduce btms size with a factor"
   ]
  },
  {
   "cell_type": "code",
   "execution_count": 16,
   "metadata": {},
   "outputs": [],
   "source": [
    "if chargingStationClass == components.ChaDepMpcBase:\n",
    "    factor = 1.0\n",
    "    for x in chargingStations:\n",
    "        x.BtmsSize = factor * x.determinedBtmsSize\n",
    "        x.BtmsMaxPower= factor * x.determinedMaxPower"
   ]
  },
  {
   "cell_type": "code",
   "execution_count": 17,
   "metadata": {},
   "outputs": [],
   "source": [
    "# save charging Station properties\n",
    "'''write charging station properties to ResultWriter'''\n",
    "ResultWriter.saveChargingStationProperties(chargingStations)"
   ]
  },
  {
   "cell_type": "markdown",
   "metadata": {},
   "source": [
    "create optimal day-ahead plan\n",
    "\n",
    "planning() (MPC Base - convex)"
   ]
  },
  {
   "cell_type": "code",
   "execution_count": 18,
   "metadata": {},
   "outputs": [
    {
     "name": "stdout",
     "output_type": "stream",
     "text": [
      "chargingStation-1\n",
      "solver name:  ECOS\n",
      "setup time:  0.27800679206848145\n",
      "solve time:  1.512052059173584\n",
      "total control action time:  1.7900588512420654\n",
      "optimal\n",
      "\n"
     ]
    },
    {
     "data": {
      "image/png": "[encoded data removed]",
      "text/plain": [
       "<Figure size 504x432 with 3 Axes>"
      ]
     },
     "metadata": {
      "needs_background": "light"
     },
     "output_type": "display_data"
    }
   ],
   "source": [
    "if chargingStationClass == components.ChaDepMpcBase:\n",
    "    a = 50/30 * ((SimBroker.t_max - SimBroker.t_act)/3.6e3) / \\\n",
    "        24  # demand charge cost\n",
    "    # free power, after which demand charge is applied, as ratio to avg power\n",
    "    P_free_Ratio = 0\n",
    "    b = 300/5000                    # btms degradation cost\n",
    "    c = 0.15                        # electricity cost\n",
    "    d_param = 10                    # waiting time cost of a vehicle in $/h\n",
    "    P_chAvg = 100                   # average charging speed in kW of an vehicle\n",
    "    beta = 0.15                     # bandwith for energy level curve\n",
    "    # if choosen different from None, constraints to enforce c rate are applied\n",
    "    cRating = None\n",
    "\n",
    "    Graph = True\n",
    "\n",
    "    if True:  # make a time varying d-vector\n",
    "        x = chargingStations[0]\n",
    "        time = np.array(x.PredictionTime)\n",
    "        power = np.array(x.PredictionPower)\n",
    "        idx = np.logical_and(time >= SimBroker.t_act, time <= SimBroker.t_max)\n",
    "        time_new = time[idx]\n",
    "        d = d_param  # transformed to list by .planning() function\n",
    "        #d = []\n",
    "        # for i in range(0,sum(idx)):\n",
    "        # for time varying vector\n",
    "        # if time_new[i]< 21800:\n",
    "        #     d.append(1)\n",
    "        # elif time_new[i] < 26000:\n",
    "        #     d.append(10)\n",
    "        # elif time_new[i] < 28000:\n",
    "        #     d.append(1)\n",
    "        # elif time_new[i] < 29500:\n",
    "        #     d.append(10)\n",
    "        # else:\n",
    "        #     d.append(2)\n",
    "        # d.append(d_param)\n",
    "\n",
    "    for x in chargingStations:\n",
    "        avgPower = sum(x.PredictionPower*timestep) / \\\n",
    "            (max(x.PredictionTime) + timestep - min(x.PredictionTime))\n",
    "        P_free = P_free_Ratio * avgPower\n",
    "\n",
    "        time, time_x, P_Grid, P_BTMS, P_BTMS_Ch, P_BTMS_DCh, E_BTMS, E_Shift, P_Charge, P_Shift, t_wait_val, cost_t_wait, cost = x.planning(\n",
    "            SimBroker.t_act, SimBroker.t_max, timestep, a, b, c, d, P_free, P_chAvg, beta, cRating)\n",
    "\n",
    "        if Graph:\n",
    "            cRating = max(abs(P_BTMS))/x.BtmsSize\n",
    "            E_total = sum(timestep/3.6e3*P_Charge)\n",
    "            avgPower = int(E_total/(max(time)-min(time) + timestep/3.6e3))\n",
    "            useFactor = -sum(P_BTMS_DCh*timestep/3.6e3) / x.BtmsSize\n",
    "            btmsSupport = x.BtmsSize / E_total\n",
    "            # btmsDCh is always negative\n",
    "            costLoss = c*(sum(P_BTMS_Ch*timestep/3.6e3) +\n",
    "                          sum(P_BTMS_DCh*timestep/3.6e3))\n",
    "            costCycle = b*sum(P_BTMS_Ch*timestep/3.6e3)\n",
    "            costDemand = a*(max(P_Grid)-P_free)\n",
    "\n",
    "            info_string1 = 'free power: ' + str(int(P_free)) + 'kW \\navg power: ' + str(int(avgPower)) + 'kW \\nmax power: ' + str(int(max(P_Grid))) + 'kW \\nBTMS-size: ' + str(int(x.BtmsSize)) + 'kWh \\nC-Rating: ' + \"{:.2f}\".format(cRating) + ' \\nuseFactor: ' + \"{:.2f}\".format(\n",
    "                useFactor) + ' \\nbtmsSupport: ' + \"{:.2f}\".format(btmsSupport) + ' \\n\\ncost: $' + str(int(cost)) + ' \\ndemand: $' + str(int(costDemand)) + '\\ncycle: $' + str(int(costCycle)) + '\\nloss: $' + str(int(costLoss)) + '\\nwait: $' + str(int(cost_t_wait))\n",
    "\n",
    "            fig, ax = plt.subplots(3, 1, sharex=True)\n",
    "            ax[0].plot(time_x, E_BTMS, label=\"Energy_BTMS [kWh]\")\n",
    "            ax[0].plot(time_x, E_Shift, label=\"shifted Energy [kWh]\")\n",
    "            ax[0].axhline(x.BtmsSize, label=\"BTMS size[kWh]\",\n",
    "                          color=\"black\", linestyle=\"--\")\n",
    "            ax[0].legend(loc='center left', bbox_to_anchor=(1, 0.5))\n",
    "            fig.text(-0.12, 0, info_string1, horizontalalignment='right', verticalalignment='center',\n",
    "                     multialignment='left', transform=ax[0].transAxes, bbox=dict(facecolor='none', edgecolor='grey', pad=5.0))\n",
    "            #ax[0].text(0.5, 1, info_string2, horizontalalignment='right', verticalalignment='top', transform=ax[0].transAxes)\n",
    "\n",
    "            ax[1].step(time, P_BTMS, label=\"P_BTMS [kW]\")\n",
    "            ax[1].step(time, P_Grid, label=\"P_Grid [kW]\")\n",
    "            ax[1].step(time, P_Charge-P_Shift, label=\"P_Charge [kW]\")\n",
    "            ax[1].step(time, P_Charge, label=\"P_Charge optimal [kW]\")\n",
    "            ax[1].step(time, P_Shift, label=\"P_Shift [kW]\")\n",
    "            ax[1].axhline(0, color='black')\n",
    "            ax[1].legend(loc='center left', bbox_to_anchor=(1, 0.5))\n",
    "\n",
    "            if sum(t_wait_val) < 0.0005:\n",
    "                t_wait_val = np.zeros_like(t_wait_val)\n",
    "            ax[2].step(time, t_wait_val*60, label=\"waiting time [min]\")\n",
    "            ax[2].legend(loc='center left', bbox_to_anchor=(1, 0.5))\n",
    "\n",
    "            ax[2].set_xlabel(\"time in [h]\")\n",
    "\n",
    "            fig.set_size_inches(7, 6*3/3)\n"
   ]
  },
  {
   "cell_type": "markdown",
   "metadata": {},
   "source": [
    "#### run simulation"
   ]
  },
  {
   "cell_type": "code",
   "execution_count": 19,
   "metadata": {},
   "outputs": [],
   "source": [
    "verbose = True"
   ]
  },
  {
   "cell_type": "code",
   "execution_count": 20,
   "metadata": {},
   "outputs": [
    {
     "name": "stdout",
     "output_type": "stream",
     "text": [
      "Btms energy:  1078.0318896435367\n",
      "Btms lower bound [0]:  780.8874200031091\n",
      "Btms upper bound [0]:  1375.1763592839643\n"
     ]
    }
   ],
   "source": [
    "x = chargingStations[0]\n",
    "print(\"Btms energy: \", x.BtmsEn)\n",
    "print(\"Btms lower bound [0]: \", x.E_BtmsLower[0])\n",
    "print(\"Btms upper bound [0]: \", x.E_BtmsUpper[0])"
   ]
  },
  {
   "cell_type": "code",
   "execution_count": 21,
   "metadata": {},
   "outputs": [
    {
     "name": "stdout",
     "output_type": "stream",
     "text": [
      "maximum iterations: 42\n",
      "\n",
      "solving control problem... at iteration 0, charging station: chargingStation-1\n",
      "connected vehicles:  2\n",
      "Solved. Solver Status:  optimal\n",
      "solver iterations:  19\n",
      "values of slack variables: t1:  [[2.16073192e-05 2.16073192e-05 2.16073192e-05 2.16073192e-05]] , \n",
      "t2:  [[1.15775396e-05 1.16022272e-05 1.17351897e-05 1.17728628e-05]]\n",
      "optimal value: 5.9148743144631475e-08\n",
      "P_BTMS:  1145.0389092894989\n",
      "P_ChargeGranted:  3.4570998538153296e-09\n",
      "P_ChargeDelivered:  0\n",
      "P_Grid:  1145.0389092894989\n",
      "\n",
      "solving control problem... at iteration 1, charging station: chargingStation-1\n",
      "connected vehicles:  1\n",
      "Solved. Solver Status:  optimal\n",
      "solver iterations:  21\n",
      "values of slack variables: t1:  [[4.6181513e-06 4.6181513e-06 4.6181513e-06 4.6181513e-06]] , \n",
      "t2:  [[9.26188152e-06 9.16698386e-06 8.98475171e-06 7.47798528e-06]]\n",
      "optimal value: 1.3964671403259026e-08\n",
      "P_BTMS:  970.538909358374\n",
      "P_ChargeGranted:  174.49999999265498\n",
      "P_ChargeDelivered:  174.49999999265498\n",
      "P_Grid:  1145.038909351029\n",
      "\n",
      "solving control problem... at iteration 2, charging station: chargingStation-1\n",
      "connected vehicles:  2\n",
      "Solved. Solver Status:  optimal\n",
      "solver iterations:  20\n",
      "values of slack variables: t1:  [[5.27564816e-06 5.27564816e-06 5.27564816e-06 5.27564816e-06]] , \n",
      "t2:  [[9.20548274e-06 9.19806461e-06 9.29417576e-06 9.32646547e-06]]\n",
      "optimal value: 1.5935007952380188e-08\n",
      "P_BTMS:  1145.0389094717875\n",
      "P_ChargeGranted:  2.7306498152086385e-09\n",
      "P_ChargeDelivered:  0\n",
      "P_Grid:  1145.0389094717875\n",
      "\n",
      "solving control problem... at iteration 3, charging station: chargingStation-1\n",
      "connected vehicles:  7\n",
      "Solved. Solver Status:  optimal\n",
      "solver iterations:  20\n",
      "values of slack variables: t1:  [[1.32158166e-05 1.32158166e-05 1.32158166e-05 1.32158166e-05]] , \n",
      "t2:  [[7.24689998e-06 7.33477985e-06 7.49264759e-06 7.58092041e-06]]\n",
      "optimal value: 2.2769693240885863e-08\n",
      "P_BTMS:  361.84445841771816\n",
      "P_ChargeGranted:  783.1944510071476\n",
      "P_ChargeDelivered:  783.1944510071476\n",
      "P_Grid:  1145.0389094248658\n",
      "\n",
      "solving control problem... at iteration 4, charging station: chargingStation-1\n",
      "connected vehicles:  9\n",
      "Solved. Solver Status:  optimal\n",
      "solver iterations:  20\n",
      "values of slack variables: t1:  [[1.71751476e-05 1.71751476e-05 1.71751476e-05 1.71751476e-05]] , \n",
      "t2:  [[1.02048002e-05 1.05159082e-05 1.12280306e-05 1.67246685e-05]]\n",
      "optimal value: 4.84190924593633e-08\n",
      "P_BTMS:  122.11556125849295\n",
      "P_ChargeGranted:  1022.923348007881\n",
      "P_ChargeDelivered:  1022.923348007881\n",
      "P_Grid:  1145.038909266374\n",
      "\n",
      "solving control problem... at iteration 5, charging station: chargingStation-1\n",
      "connected vehicles:  10\n",
      "Solved. Solver Status:  optimal\n",
      "solver iterations:  21\n",
      "values of slack variables: t1:  [[1.571926e-05 1.571926e-05 1.571926e-05 1.571926e-05]] , \n",
      "t2:  [[9.20037343e-06 1.03264596e-05 1.18226702e-05 8.89859000e-06]]\n",
      "optimal value: 3.617733562325247e-08\n",
      "P_BTMS:  40.30965286300751\n",
      "P_ChargeGranted:  1104.7292564495285\n",
      "P_ChargeDelivered:  1104.7292564495285\n",
      "P_Grid:  1145.0389093125361\n",
      "\n",
      "solving control problem... at iteration 6, charging station: chargingStation-1\n",
      "connected vehicles:  15\n",
      "Solved. Solver Status:  optimal\n",
      "solver iterations:  28\n",
      "values of slack variables: t1:  [[0.01625224 0.01625224 0.01625224 0.01625224]] , \n",
      "t2:  [[0.02418949 0.02419107 0.02419935 0.02421549]]\n",
      "optimal value: 56886.27541505443\n",
      "P_BTMS:  232.15023179047475\n",
      "P_ChargeGranted:  1179.5493631580641\n",
      "P_ChargeDelivered:  1179.5493631580644\n",
      "P_Grid:  1411.699594948539\n",
      "\n",
      "solving control problem... at iteration 7, charging station: chargingStation-1\n",
      "connected vehicles:  16\n",
      "Solved. Solver Status:  optimal\n",
      "solver iterations:  28\n",
      "values of slack variables: t1:  [[0.05855626 0.05855626 0.05855626 0.05855626]] , \n",
      "t2:  [[0.03819244 0.03830287 0.03834173 0.03841483]]\n",
      "optimal value: 116728.35043200807\n",
      "P_BTMS:  128.2688729315786\n",
      "P_ChargeGranted:  1766.6032402086353\n",
      "P_ChargeDelivered:  1763.652944535443\n",
      "P_Grid:  1891.9218174670218\n",
      "\n",
      "solving control problem... at iteration 8, charging station: chargingStation-1\n",
      "connected vehicles:  17\n",
      "Solved. Solver Status:  optimal\n",
      "solver iterations:  27\n",
      "values of slack variables: t1:  [[0.00647785 0.00647785 0.00647785 0.00647785]] , \n",
      "t2:  [[0.00809174 0.00808387 0.00804518 0.00799787]]\n",
      "optimal value: 30266.51604188967\n",
      "P_BTMS:  1024.0058390328938\n",
      "P_ChargeGranted:  1113.9505382011153\n",
      "P_ChargeDelivered:  1113.9505382011153\n",
      "P_Grid:  2137.956377234009\n",
      "\n",
      "solving control problem... at iteration 9, charging station: chargingStation-1\n",
      "connected vehicles:  21\n",
      "Solved. Solver Status:  optimal\n",
      "solver iterations:  25\n",
      "values of slack variables: t1:  [[0.00065717 0.00065717 0.00065717 0.00065717]] , \n",
      "t2:  [[0.00038109 0.000381   0.00038095 0.00038091]]\n",
      "optimal value: 1590.3117386765443\n",
      "P_BTMS:  1325.3532963665714\n",
      "P_ChargeGranted:  869.0000964071986\n",
      "P_ChargeDelivered:  869.0000964071986\n",
      "P_Grid:  2194.35339277377\n",
      "\n",
      "solving control problem... at iteration 10, charging station: chargingStation-1\n",
      "connected vehicles:  27\n",
      "Solved. Solver Status:  optimal\n",
      "solver iterations:  31\n",
      "values of slack variables: t1:  [[0.02351854 0.02351854 0.02351854 0.02351854]] , \n",
      "t2:  [[0.01667987 0.01655761 0.01653053 0.01651531]]\n",
      "optimal value: 281400.82957918715\n",
      "P_BTMS:  815.5543513189983\n",
      "P_ChargeGranted:  2129.000003045276\n",
      "P_ChargeDelivered:  2129.000003045276\n",
      "P_Grid:  2944.5543543642743\n",
      "\n",
      "solving control problem... at iteration 11, charging station: chargingStation-1\n",
      "connected vehicles:  34\n",
      "Solved. Solver Status:  optimal\n",
      "solver iterations:  33\n",
      "values of slack variables: t1:  [[0.01796421 0.01796421 0.01796421 0.01796421]] , \n",
      "t2:  [[288.92723758   1.26917758   1.26936965   1.26937008]]\n",
      "optimal value: 3410394.3483020714\n",
      "P_BTMS:  -137.23961244571234\n",
      "P_ChargeGranted:  3403.4999457110216\n",
      "P_ChargeDelivered:  3403.4999457110216\n",
      "P_Grid:  3266.2603332653093\n",
      "\n",
      "solving control problem... at iteration 12, charging station: chargingStation-1\n",
      "connected vehicles:  55\n"
     ]
    },
    {
     "name": "stderr",
     "output_type": "stream",
     "text": [
      "c:\\Users\\akaju\\anaconda3\\envs\\py_btms_controller\\lib\\site-packages\\cvxpy\\problems\\problem.py:1334: UserWarning: Solution may be inaccurate. Try another solver, adjusting the solver settings, or solve with verbose=True for more information.\n",
      "  \"Solution may be inaccurate. Try another solver, \"\n"
     ]
    },
    {
     "name": "stdout",
     "output_type": "stream",
     "text": [
      "Solved. Solver Status:  optimal_inaccurate\n",
      "solver iterations:  35\n",
      "values of slack variables: t1:  [[0.08948747 0.08948747 0.08948747 0.08948747]] , \n",
      "t2:  [[796.32255564   5.37505403   5.37536157   5.37543059]]\n",
      "optimal value: 25843742.90694534\n",
      "P_BTMS:  -556.3446136320292\n",
      "P_ChargeGranted:  4330.000262697536\n",
      "P_ChargeDelivered:  4330.000262697536\n",
      "P_Grid:  3773.6556490655066\n",
      "\n",
      "solving control problem... at iteration 13, charging station: chargingStation-1\n",
      "connected vehicles:  55\n",
      "Solved. Solver Status:  optimal_inaccurate\n",
      "solver iterations:  30\n",
      "values of slack variables: t1:  [[8.83847339 8.83847339 8.83847339 8.83847339]] , \n",
      "t2:  [[8.90700331 8.78194251 8.32424197 7.8830877 ]]\n",
      "optimal value: 527032.5348878038\n",
      "P_BTMS:  -2019.764718008528\n",
      "P_ChargeGranted:  4996.8525391842\n",
      "P_ChargeDelivered:  4996.852539184201\n",
      "P_Grid:  2977.0878211756735\n",
      "\n",
      "solving control problem... at iteration 14, charging station: chargingStation-1\n",
      "connected vehicles:  68\n",
      "Solved. Solver Status:  optimal\n",
      "solver iterations:  19\n",
      "values of slack variables: t1:  [[1.39022027e-05 1.39022027e-05 1.39022027e-05 1.39022027e-05]] , \n",
      "t2:  [[1.24361818e-05 1.09550700e-05 8.59786406e-06 4.59257897e-06]]\n",
      "optimal value: 3.024919557725934e-08\n",
      "P_BTMS:  -2815.2312777689554\n",
      "P_ChargeGranted:  5792.319099039176\n",
      "P_ChargeDelivered:  5792.319099039176\n",
      "P_Grid:  2977.0878212702205\n",
      "\n",
      "solving control problem... at iteration 15, charging station: chargingStation-1\n",
      "connected vehicles:  66\n",
      "Solved. Solver Status:  optimal\n",
      "solver iterations:  19\n",
      "values of slack variables: t1:  [[5.22051249e-06 5.22051249e-06 5.22051249e-06 5.22051249e-06]] , \n",
      "t2:  [[8.25399826e-06 8.35815818e-06 8.44275063e-06 8.53191752e-06]]\n",
      "optimal value: 1.3462758860292494e-08\n",
      "P_BTMS:  -3326.126533214105\n",
      "P_ChargeGranted:  6303.214354645142\n",
      "P_ChargeDelivered:  6303.214354645142\n",
      "P_Grid:  2977.0878214310364\n",
      "\n",
      "solving control problem... at iteration 16, charging station: chargingStation-1\n",
      "connected vehicles:  68\n",
      "Solved. Solver Status:  optimal\n",
      "solver iterations:  19\n",
      "values of slack variables: t1:  [[1.53813858e-05 1.53813858e-05 1.53813858e-05 1.53813858e-05]] , \n",
      "t2:  [[7.14306711e-06 9.04669371e-06 1.04600598e-05 1.32239142e-05]]\n",
      "optimal value: 3.561300754642743e-08\n",
      "P_BTMS:  -4649.260058032356\n",
      "P_ChargeGranted:  7626.347879586554\n",
      "P_ChargeDelivered:  7626.347879586554\n",
      "P_Grid:  2977.087821554198\n",
      "\n",
      "solving control problem... at iteration 17, charging station: chargingStation-1\n",
      "connected vehicles:  58\n",
      "Solved. Solver Status:  optimal\n",
      "solver iterations:  20\n",
      "values of slack variables: t1:  [[1.13313664e-05 1.13313664e-05 1.13313664e-05 1.13313664e-05]] , \n",
      "t2:  [[8.45759905e-06 8.87496902e-06 1.14048529e-05 9.60076140e-06]]\n",
      "optimal value: 2.5173643675717198e-08\n",
      "P_BTMS:  -3279.1717158191095\n",
      "P_ChargeGranted:  6256.259537342767\n",
      "P_ChargeDelivered:  6256.259537342767\n",
      "P_Grid:  2977.087821523657\n",
      "\n",
      "solving control problem... at iteration 18, charging station: chargingStation-1\n",
      "connected vehicles:  44\n",
      "Solved. Solver Status:  optimal\n",
      "solver iterations:  20\n",
      "values of slack variables: t1:  [[9.62482255e-06 9.62482255e-06 9.62482255e-06 9.62482255e-06]] , \n",
      "t2:  [[1.19766117e-05 1.29168230e-05 1.59979979e-05 1.35004420e-05]]\n",
      "optimal value: 3.7350369909400515e-08\n",
      "P_BTMS:  -1565.7135026452022\n",
      "P_ChargeGranted:  4542.801324593869\n",
      "P_ChargeDelivered:  4542.801324593869\n",
      "P_Grid:  2977.0878219486667\n",
      "\n",
      "solving control problem... at iteration 19, charging station: chargingStation-1\n",
      "connected vehicles:  46\n",
      "Solved. Solver Status:  optimal\n",
      "solver iterations:  23\n",
      "values of slack variables: t1:  [[6.26871342e-06 6.26871342e-06 6.26871342e-06 6.26871342e-06]] , \n",
      "t2:  [[6.44683234e-06 6.72670358e-06 7.39096559e-06 7.52696376e-06]]\n",
      "optimal value: 1.1067417190086138e-08\n",
      "P_BTMS:  -1194.8826558410708\n",
      "P_ChargeGranted:  4171.970477708355\n",
      "P_ChargeDelivered:  4171.970477708355\n",
      "P_Grid:  2977.087821867284\n",
      "\n",
      "solving control problem... at iteration 20, charging station: chargingStation-1\n",
      "connected vehicles:  46\n",
      "Solved. Solver Status:  optimal_inaccurate\n",
      "solver iterations:  36\n",
      "values of slack variables: t1:  [[0.03492795 0.03492795 0.03492795 0.03492795]] , \n",
      "t2:  [[669.67810325 358.66701466   5.06438002   5.06459337]]\n",
      "optimal value: 23448062.446493793\n",
      "P_BTMS:  -667.7234991202434\n",
      "P_ChargeGranted:  4314.7346960332225\n",
      "P_ChargeDelivered:  4314.7346960332225\n",
      "P_Grid:  3647.011196912979\n",
      "\n",
      "solving control problem... at iteration 21, charging station: chargingStation-1\n",
      "connected vehicles:  28\n",
      "Solved. Solver Status:  optimal_inaccurate\n",
      "solver iterations:  34\n",
      "values of slack variables: t1:  [[2.65378489 2.65378489 2.65378489 2.65378489]] , \n",
      "t2:  [[736.31760474   5.87447338   7.20650349   7.20942094]]\n",
      "optimal value: 22277002.33837079\n",
      "P_BTMS:  -33.366951999080094\n",
      "P_ChargeGranted:  3747.0151054398025\n",
      "P_ChargeDelivered:  3747.0151054398025\n",
      "P_Grid:  3713.6481534407226\n",
      "\n",
      "solving control problem... at iteration 22, charging station: chargingStation-1\n",
      "connected vehicles:  20\n",
      "Solved. Solver Status:  optimal_inaccurate\n",
      "solver iterations:  30\n",
      "values of slack variables: t1:  [[0.16876673 0.16876673 0.16876673 0.16876673]] , \n",
      "t2:  [[3.66725145 3.6648944  3.664896   3.6648782 ]]\n",
      "optimal value: 431574.7683169259\n",
      "P_BTMS:  80.01347426671224\n",
      "P_ChargeGranted:  2900.9847904405647\n",
      "P_ChargeDelivered:  2719.9998826465035\n",
      "P_Grid:  2800.013356913216\n",
      "\n",
      "solving control problem... at iteration 23, charging station: chargingStation-1\n",
      "connected vehicles:  7\n",
      "Solved. Solver Status:  optimal\n",
      "solver iterations:  20\n",
      "values of slack variables: t1:  [[2.26538851e-05 2.26538851e-05 2.26538851e-05 2.26538851e-05]] , \n",
      "t2:  [[9.56067700e-06 9.48065067e-06 9.37805605e-06 9.10245067e-06]]\n",
      "optimal value: 5.5139557150542025e-08\n",
      "P_BTMS:  2134.5284624296537\n",
      "P_ChargeGranted:  665.484894560197\n",
      "P_ChargeDelivered:  665.4848945601971\n",
      "P_Grid:  2800.0133569898508\n",
      "\n",
      "solving control problem... at iteration 24, charging station: chargingStation-1\n",
      "connected vehicles:  4\n",
      "Solved. Solver Status:  optimal\n",
      "solver iterations:  18\n",
      "values of slack variables: t1:  [[1.98704039e-05 1.98704039e-05 1.98704039e-05 1.98704039e-05]] , \n",
      "t2:  [[1.02363727e-05 1.02402704e-05 1.00144427e-05 9.62027417e-06]]\n",
      "optimal value: 4.768604819643976e-08\n",
      "P_BTMS:  2381.175588157143\n",
      "P_ChargeGranted:  418.8377687542995\n",
      "P_ChargeDelivered:  418.8377687542995\n",
      "P_Grid:  2800.0133569114423\n",
      "\n",
      "solving control problem... at iteration 25, charging station: chargingStation-1\n",
      "connected vehicles:  3\n",
      "Solved. Solver Status:  optimal\n",
      "solver iterations:  19\n",
      "values of slack variables: t1:  [[1.59875605e-06 1.59875605e-06 1.59875605e-06 1.59875605e-06]] , \n",
      "t2:  [[7.68228538e-06 7.66477552e-06 7.66192650e-06 7.66545454e-06]]\n",
      "optimal value: 9.613709092768573e-09\n",
      "P_BTMS:  2586.351125728849\n",
      "P_ChargeGranted:  213.66223123991017\n",
      "P_ChargeDelivered:  213.66223123991017\n",
      "P_Grid:  2800.0133569687596\n",
      "\n",
      "solving control problem... at iteration 26, charging station: chargingStation-1\n",
      "connected vehicles:  2\n",
      "Solved. Solver Status:  optimal\n",
      "solver iterations:  19\n",
      "values of slack variables: t1:  [[2.63322807e-06 2.63322807e-06 2.63322807e-06 2.63322807e-06]] , \n",
      "t2:  [[8.11674317e-06 8.01675761e-06 7.93791641e-06 7.70595928e-06]]\n",
      "optimal value: 1.0656406151108554e-08\n",
      "P_BTMS:  2689.5133570521125\n",
      "P_ChargeGranted:  110.49999999193867\n",
      "P_ChargeDelivered:  110.49999999193867\n",
      "P_Grid:  2800.013357044051\n",
      "\n",
      "solving control problem... at iteration 27, charging station: chargingStation-1\n",
      "connected vehicles:  1\n",
      "Solved. Solver Status:  optimal\n",
      "solver iterations:  17\n",
      "values of slack variables: t1:  [[2.0950777e-05 2.0950777e-05 2.0950777e-05 2.0950777e-05]] , \n",
      "t2:  [[1.17983870e-05 1.14069821e-05 1.05151447e-05 7.89167608e-06]]\n",
      "optimal value: 5.280158649379304e-08\n",
      "P_BTMS:  2800.0133568431056\n",
      "P_ChargeGranted:  3.6446617833743946e-09\n",
      "P_ChargeDelivered:  0\n",
      "P_Grid:  2800.0133568431056\n",
      "\n",
      "solving control problem... at iteration 28, charging station: chargingStation-1\n",
      "connected vehicles:  2\n",
      "Solved. Solver Status:  optimal\n",
      "solver iterations:  19\n",
      "values of slack variables: t1:  [[1.84639924e-05 1.84639924e-05 1.84639924e-05 1.84639924e-05]] , \n",
      "t2:  [[4.33640276e-06 6.25513443e-06 1.03777747e-05 1.38698288e-05]]\n",
      "optimal value: 4.159361350032616e-08\n",
      "P_BTMS:  2333.680023332607\n",
      "P_ChargeGranted:  466.3333333255028\n",
      "P_ChargeDelivered:  360.5\n",
      "P_Grid:  2694.180023332607\n",
      "\n",
      "solving control problem... at iteration 29, charging station: chargingStation-1\n",
      "connected vehicles:  7\n",
      "Solved. Solver Status:  optimal\n",
      "Solved. Solver Status:  optimal\n",
      "solver iterations:  18\n",
      "solver iterations:  18\n",
      "values of slack variables: t1:  [[2.42731908e-05 2.42731908e-05 2.42731908e-05 2.42731908e-05]] , \n",
      "t2:  [[8.17605461e-06 8.46444926e-06 9.90213766e-06 1.02876330e-05]]\n",
      "optimal value: 6.083032348624434e-08\n"
     ]
    }
   ],
   "source": [
    "SimBroker.reset()\n",
    "ResultWriter.reset()\n",
    "# charging station is not resetted\n",
    "\n",
    "# charging station BtmsEn and P_GridLast was initialized in planning()-function\n",
    "\n",
    "# determine iterations for progress bar\n",
    "max_iter = np.ceil((SimBroker.SimRes.index[-1] - SimBroker.SimRes.index[0])/timestep)\n",
    "# print maximum iterations\n",
    "print(\"maximum iterations: \" + str(int(max_iter)))\n",
    "\n",
    "#initialize progress bar\n",
    "#   progress_bar = tqdm(desc = \"MPC simulation\", total=max_iter)\n",
    "\n",
    "while not SimBroker.eol():\n",
    "    # update progress bar\n",
    "    #progress_bar.update(1)\n",
    "    \n",
    "    # Sim Broker Step\n",
    "    slice = SimBroker.step(timestep)\n",
    "\n",
    "    #update values from DERMS and PhysicalSimulation\n",
    "    for x in chargingStations:\n",
    "        # update SiteNet Power Limits from Derms\n",
    "        GridPowerLower, GridPowerUpper = DermsDummy.output(x.ChargingStationId)\n",
    "        x.updateFromDerms(GridPowerLower, GridPowerUpper)\n",
    "        # update CES SOC from PhysicalSimulation\n",
    "        x.updateFromPhySim(PhySimDummy.output(x.ChargingStationId))\n",
    "\n",
    "    # generate Vehicles if charging Plug in event\n",
    "    for i in range(0, len(slice)):\n",
    "        if slice.iloc[i][\"type\"] == \"ChargingPlugInEvent\":\n",
    "            # generate vehicle\n",
    "            vehicle = VehicleGenerator.generateVehicleSO(slice.iloc[i])\n",
    "            # let vehicle arrive at a charging station - here depending on taz\n",
    "            taz = int(slice.iloc[i][\"parkingTaz\"]) # this is a str\n",
    "            #find out which chargingStation belongs to the taz\n",
    "            res = chargingStationMappedToTaz.isin([taz]).any().values\n",
    "            index = np.where(res == True)[0][0]\n",
    "\n",
    "            #let vehicles arrive at designated chargingStation\n",
    "            if useOnlyOneChargingStation:\n",
    "                if index == useChargingStation:\n",
    "                    chargingStations[index].arrival(vehicle, SimBroker.t_act)\n",
    "            else: \n",
    "                chargingStations[index].arrival(vehicle, SimBroker.t_act)\n",
    "\n",
    "    ## control action and simulation\n",
    "    \n",
    "    # call step function\n",
    "    for x in chargingStations:\n",
    "        if isinstance(x, components.ChaDepMpcBase):\n",
    "            x.step(timestep, verbose = verbose)\n",
    "        else:\n",
    "            x.step(timestep)\n",
    "    \n",
    "    # provide outputs\n",
    "    for x in chargingStations:\n",
    "        PhySimDummy.input(x.ChargingStationId, sum(x.ChBaPower), x.P_BTMS, timestep)\n",
    "        DermsDummy.input(x.ChargingStationId, x.PowerDesire)\n",
    "\n",
    "#progress_bar.close()\n",
    "print(\"number of iterations:\" +str(iteration))\n",
    "    "
   ]
  },
  {
   "cell_type": "code",
   "execution_count": 22,
   "metadata": {},
   "outputs": [
    {
     "name": "stdout",
     "output_type": "stream",
     "text": [
      "actual Iteration: 39\n",
      "actual time: 30163\n"
     ]
    }
   ],
   "source": [
    "print(\"actual Iteration: \" + str(SimBroker.iteration))\n",
    "print(\"actual time: \" + str(SimBroker.t_act))"
   ]
  },
  {
   "cell_type": "code",
   "execution_count": null,
   "metadata": {},
   "outputs": [],
   "source": [
    "showVehicle = 0"
   ]
  },
  {
   "cell_type": "code",
   "execution_count": null,
   "metadata": {},
   "outputs": [
    {
     "ename": "NameError",
     "evalue": "name 'showVehicle' is not defined",
     "output_type": "error",
     "traceback": [
      "\u001b[1;31m---------------------------------------------------------------------------\u001b[0m",
      "\u001b[1;31mNameError\u001b[0m                                 Traceback (most recent call last)",
      "\u001b[1;32m~\\AppData\\Local\\Temp\\ipykernel_17848\\1735412906.py\u001b[0m in \u001b[0;36m<module>\u001b[1;34m\u001b[0m\n\u001b[1;32m----> 1\u001b[1;33m \u001b[0mprint\u001b[0m\u001b[1;33m(\u001b[0m\u001b[0mchargingStations\u001b[0m\u001b[1;33m[\u001b[0m\u001b[1;36m0\u001b[0m\u001b[1;33m]\u001b[0m\u001b[1;33m.\u001b[0m\u001b[0mChBaVehicles\u001b[0m\u001b[1;33m[\u001b[0m\u001b[0mshowVehicle\u001b[0m\u001b[1;33m]\u001b[0m\u001b[1;33m)\u001b[0m\u001b[1;33m\u001b[0m\u001b[1;33m\u001b[0m\u001b[0m\n\u001b[0m\u001b[0;32m      2\u001b[0m \u001b[0mprint\u001b[0m\u001b[1;33m(\u001b[0m\u001b[1;34m\"current time: \"\u001b[0m\u001b[1;33m,\u001b[0m \u001b[0mSimBroker\u001b[0m\u001b[1;33m.\u001b[0m\u001b[0mt_act\u001b[0m\u001b[1;33m)\u001b[0m\u001b[1;33m\u001b[0m\u001b[1;33m\u001b[0m\u001b[0m\n\u001b[0;32m      3\u001b[0m \u001b[0mprint\u001b[0m\u001b[1;33m(\u001b[0m\u001b[1;34m\"\\nVehicle Number in ChBa: \"\u001b[0m\u001b[1;33m,\u001b[0m \u001b[0mshowVehicle\u001b[0m\u001b[1;33m)\u001b[0m\u001b[1;33m\u001b[0m\u001b[1;33m\u001b[0m\u001b[0m\n\u001b[0;32m      4\u001b[0m \u001b[0mlower\u001b[0m\u001b[1;33m,\u001b[0m \u001b[0mupper\u001b[0m \u001b[1;33m=\u001b[0m \u001b[0mchargingStations\u001b[0m\u001b[1;33m[\u001b[0m\u001b[1;36m0\u001b[0m\u001b[1;33m]\u001b[0m\u001b[1;33m.\u001b[0m\u001b[0mChBaVehicles\u001b[0m\u001b[1;33m[\u001b[0m\u001b[0mshowVehicle\u001b[0m\u001b[1;33m]\u001b[0m\u001b[1;33m.\u001b[0m\u001b[0mgetChargingTrajectories\u001b[0m\u001b[1;33m(\u001b[0m\u001b[0mSimBroker\u001b[0m\u001b[1;33m.\u001b[0m\u001b[0mt_act\u001b[0m\u001b[1;33m,\u001b[0m \u001b[0mtimestep\u001b[0m\u001b[1;33m,\u001b[0m \u001b[1;36m10\u001b[0m\u001b[1;33m)\u001b[0m\u001b[1;33m\u001b[0m\u001b[1;33m\u001b[0m\u001b[0m\n\u001b[0;32m      5\u001b[0m \u001b[0mfig\u001b[0m\u001b[1;33m,\u001b[0m \u001b[0max\u001b[0m \u001b[1;33m=\u001b[0m \u001b[0mplt\u001b[0m\u001b[1;33m.\u001b[0m\u001b[0msubplots\u001b[0m\u001b[1;33m(\u001b[0m\u001b[1;36m1\u001b[0m\u001b[1;33m,\u001b[0m\u001b[1;36m1\u001b[0m\u001b[1;33m)\u001b[0m\u001b[1;33m\u001b[0m\u001b[1;33m\u001b[0m\u001b[0m\n",
      "\u001b[1;31mNameError\u001b[0m: name 'showVehicle' is not defined"
     ]
    }
   ],
   "source": [
    "print(chargingStations[0].ChBaVehicles[showVehicle])\n",
    "print(\"current time: \", SimBroker.t_act)\n",
    "print(\"\\nVehicle Number in ChBa: \", showVehicle)\n",
    "lower, upper = chargingStations[0].ChBaVehicles[showVehicle].getChargingTrajectories(SimBroker.t_act, timestep, 10)\n",
    "fig, ax = plt.subplots(1,1)\n",
    "plt.plot(lower, label=\"lower bound\")\n",
    "plt.plot(upper, label= \"upper bound\")\n",
    "plt.legend()\n",
    "ax.set_xlabel(\"control steps\")\n",
    "ax.set_ylabel(\"energy [kWh]\")\n",
    "\n",
    "showVehicle += 1"
   ]
  },
  {
   "cell_type": "markdown",
   "metadata": {},
   "source": [
    "#### sneak peak into results"
   ]
  },
  {
   "cell_type": "code",
   "execution_count": null,
   "metadata": {},
   "outputs": [
    {
     "data": {
      "text/html": [
       "<div>\n",
       "<style scoped>\n",
       "    .dataframe tbody tr th:only-of-type {\n",
       "        vertical-align: middle;\n",
       "    }\n",
       "\n",
       "    .dataframe tbody tr th {\n",
       "        vertical-align: top;\n",
       "    }\n",
       "\n",
       "    .dataframe thead th {\n",
       "        text-align: right;\n",
       "    }\n",
       "</style>\n",
       "<table border=\"1\" class=\"dataframe\">\n",
       "  <thead>\n",
       "    <tr style=\"text-align: right;\">\n",
       "      <th></th>\n",
       "      <th>time</th>\n",
       "      <th>ChargingStationID</th>\n",
       "      <th>BaysVehicleIds</th>\n",
       "      <th>BaysChargingPower</th>\n",
       "      <th>TotalChargingPower</th>\n",
       "      <th>BaysChargingDesire</th>\n",
       "      <th>BaysNumberOfVehicles</th>\n",
       "      <th>QueueVehicleIds</th>\n",
       "      <th>QueueChargingDesire</th>\n",
       "      <th>QueueNumberOfVehicles</th>\n",
       "      <th>...</th>\n",
       "      <th>BtmsSoc</th>\n",
       "      <th>BtmsEnergy</th>\n",
       "      <th>TotalChargingPowerDesire</th>\n",
       "      <th>GridPower</th>\n",
       "      <th>GridPowerUpper</th>\n",
       "      <th>GridPowerLower</th>\n",
       "      <th>PowerDesire</th>\n",
       "      <th>BtmsPowerDesire</th>\n",
       "      <th>EnergyLagSum</th>\n",
       "      <th>TimeLagSum</th>\n",
       "    </tr>\n",
       "  </thead>\n",
       "  <tbody>\n",
       "    <tr>\n",
       "      <th>0</th>\n",
       "      <td>18183</td>\n",
       "      <td>chargingStation-1</td>\n",
       "      <td>[5270466]</td>\n",
       "      <td>[0, 0, 0, 0, 0, 0, 0, 0, 0, 0, 0, 0, 0, 0, 0, ...</td>\n",
       "      <td>0</td>\n",
       "      <td>[inf, nan, nan, nan, nan, nan, nan, nan, nan, ...</td>\n",
       "      <td>1</td>\n",
       "      <td>[]</td>\n",
       "      <td>[]</td>\n",
       "      <td>0</td>\n",
       "      <td>...</td>\n",
       "      <td>0.514763</td>\n",
       "      <td>1145.366743</td>\n",
       "      <td>0</td>\n",
       "      <td>1354.998865</td>\n",
       "      <td>104000.0</td>\n",
       "      <td>-104000.0</td>\n",
       "      <td>0</td>\n",
       "      <td>0</td>\n",
       "      <td>0</td>\n",
       "      <td>0</td>\n",
       "    </tr>\n",
       "    <tr>\n",
       "      <th>1</th>\n",
       "      <td>18203</td>\n",
       "      <td>chargingStation-1</td>\n",
       "      <td>[]</td>\n",
       "      <td>[0, 0, 0, 0, 0, 0, 0, 0, 0, 0, 0, 0, 0, 0, 0, ...</td>\n",
       "      <td>0</td>\n",
       "      <td>[nan, nan, nan, nan, nan, nan, nan, nan, nan, ...</td>\n",
       "      <td>0</td>\n",
       "      <td>[]</td>\n",
       "      <td>[]</td>\n",
       "      <td>0</td>\n",
       "      <td>...</td>\n",
       "      <td>0.518146</td>\n",
       "      <td>1152.894514</td>\n",
       "      <td>0</td>\n",
       "      <td>1354.998865</td>\n",
       "      <td>104000.0</td>\n",
       "      <td>-104000.0</td>\n",
       "      <td>0</td>\n",
       "      <td>5425.971426</td>\n",
       "      <td>0.0</td>\n",
       "      <td>0</td>\n",
       "    </tr>\n",
       "    <tr>\n",
       "      <th>2</th>\n",
       "      <td>18223</td>\n",
       "      <td>chargingStation-1</td>\n",
       "      <td>[]</td>\n",
       "      <td>[0, 0, 0, 0, 0, 0, 0, 0, 0, 0, 0, 0, 0, 0, 0, ...</td>\n",
       "      <td>0</td>\n",
       "      <td>[nan, nan, nan, nan, nan, nan, nan, nan, nan, ...</td>\n",
       "      <td>0</td>\n",
       "      <td>[]</td>\n",
       "      <td>[]</td>\n",
       "      <td>0</td>\n",
       "      <td>...</td>\n",
       "      <td>0.521529</td>\n",
       "      <td>1160.422286</td>\n",
       "      <td>0</td>\n",
       "      <td>1354.998864</td>\n",
       "      <td>104000.0</td>\n",
       "      <td>-104000.0</td>\n",
       "      <td>0</td>\n",
       "      <td>5425.971426</td>\n",
       "      <td>0</td>\n",
       "      <td>0</td>\n",
       "    </tr>\n",
       "  </tbody>\n",
       "</table>\n",
       "<p>3 rows × 21 columns</p>\n",
       "</div>"
      ],
      "text/plain": [
       "    time  ChargingStationID BaysVehicleIds  \\\n",
       "0  18183  chargingStation-1      [5270466]   \n",
       "1  18203  chargingStation-1             []   \n",
       "2  18223  chargingStation-1             []   \n",
       "\n",
       "                                   BaysChargingPower TotalChargingPower  \\\n",
       "0  [0, 0, 0, 0, 0, 0, 0, 0, 0, 0, 0, 0, 0, 0, 0, ...                  0   \n",
       "1  [0, 0, 0, 0, 0, 0, 0, 0, 0, 0, 0, 0, 0, 0, 0, ...                  0   \n",
       "2  [0, 0, 0, 0, 0, 0, 0, 0, 0, 0, 0, 0, 0, 0, 0, ...                  0   \n",
       "\n",
       "                                  BaysChargingDesire BaysNumberOfVehicles  \\\n",
       "0  [inf, nan, nan, nan, nan, nan, nan, nan, nan, ...                    1   \n",
       "1  [nan, nan, nan, nan, nan, nan, nan, nan, nan, ...                    0   \n",
       "2  [nan, nan, nan, nan, nan, nan, nan, nan, nan, ...                    0   \n",
       "\n",
       "  QueueVehicleIds QueueChargingDesire QueueNumberOfVehicles  ...   BtmsSoc  \\\n",
       "0              []                  []                     0  ...  0.514763   \n",
       "1              []                  []                     0  ...  0.518146   \n",
       "2              []                  []                     0  ...  0.521529   \n",
       "\n",
       "    BtmsEnergy  TotalChargingPowerDesire    GridPower  GridPowerUpper  \\\n",
       "0  1145.366743                         0  1354.998865        104000.0   \n",
       "1  1152.894514                         0  1354.998865        104000.0   \n",
       "2  1160.422286                         0  1354.998864        104000.0   \n",
       "\n",
       "   GridPowerLower  PowerDesire BtmsPowerDesire EnergyLagSum TimeLagSum  \n",
       "0       -104000.0            0               0            0          0  \n",
       "1       -104000.0            0     5425.971426          0.0          0  \n",
       "2       -104000.0            0     5425.971426            0          0  \n",
       "\n",
       "[3 rows x 21 columns]"
      ]
     },
     "execution_count": 25,
     "metadata": {},
     "output_type": "execute_result"
    }
   ],
   "source": [
    "df3 = ResultWriter.ChargingStationStates\n",
    "df3.head(3)"
   ]
  },
  {
   "cell_type": "code",
   "execution_count": 23,
   "metadata": {},
   "outputs": [
    {
     "data": {
      "image/png": "[encoded data removed]",
      "text/plain": [
       "<Figure size 720x576 with 2 Axes>"
      ]
     },
     "metadata": {
      "needs_background": "light"
     },
     "output_type": "display_data"
    }
   ],
   "source": [
    "# plot charging and btms power\n",
    "Station = \"chargingStation-1\"\n",
    "df4 = ResultWriter.ChargingStationStates.loc[ResultWriter.ChargingStationStates.ChargingStationID==Station]\n",
    "fig, ax = plt.subplots(2,1)\n",
    "ax[0].step(df4[\"time\"], df4[\"BtmsPower\"], label=\"P_BTMS [kW]\")\n",
    "ax[0].step(df4[\"time\"], df4[\"TotalChargingPower\"], label=\"P_Charge [kW]\")\n",
    "ax[0].step(df4[\"time\"], df4[\"GridPower\"], label=\"P_Grid [kW]\")\n",
    "ax[0].legend()\n",
    "ax[0].axhline(chargingStations[0].P_GridMaxPlanning, color = 'black')\n",
    "ax[0].set_xlabel(\"time in [h]\")\n",
    "ax[0].set_ylabel(\"power in [kW]\")\n",
    "\n",
    "ax[1].step(df4[\"time\"], df4[\"BtmsEnergy\"], label=\"BtmsEnergy [kWh]\")\n",
    "ax[1].axhline(ResultWriter.chargingStationProperties.loc[ResultWriter.chargingStationProperties.ChargingStationId == Station].BtmsSize.values[0], color='black')\n",
    "ax[1].axhline(0, color='black')\n",
    "ax[1].set_xlabel(\"time in [h]\")\n",
    "ax[1].set_ylabel(\"energy in [kWh]\")\n",
    "ax[1].legend()\n",
    "\n",
    "fig.set_size_inches(10,8)"
   ]
  },
  {
   "cell_type": "code",
   "execution_count": null,
   "metadata": {},
   "outputs": [
    {
     "name": "stdout",
     "output_type": "stream",
     "text": [
      "2941.4467781760964\n"
     ]
    }
   ],
   "source": [
    "print(chargingStations[0].P_GridMaxPlanning)"
   ]
  },
  {
   "cell_type": "code",
   "execution_count": null,
   "metadata": {},
   "outputs": [
    {
     "ename": "IndexError",
     "evalue": "index 1 is out of bounds for axis 0 with size 1",
     "output_type": "error",
     "traceback": [
      "\u001b[1;31m---------------------------------------------------------------------------\u001b[0m",
      "\u001b[1;31mIndexError\u001b[0m                                Traceback (most recent call last)",
      "\u001b[1;32m~\\AppData\\Local\\Temp\\ipykernel_1332\\3860390815.py\u001b[0m in \u001b[0;36m<module>\u001b[1;34m\u001b[0m\n\u001b[1;32m----> 1\u001b[1;33m \u001b[0mResultWriter\u001b[0m\u001b[1;33m.\u001b[0m\u001b[0mchargingStationProperties\u001b[0m\u001b[1;33m.\u001b[0m\u001b[0mloc\u001b[0m\u001b[1;33m[\u001b[0m\u001b[0mResultWriter\u001b[0m\u001b[1;33m.\u001b[0m\u001b[0mchargingStationProperties\u001b[0m\u001b[1;33m.\u001b[0m\u001b[0mChargingStationId\u001b[0m \u001b[1;33m==\u001b[0m \u001b[0mStation\u001b[0m\u001b[1;33m]\u001b[0m\u001b[1;33m.\u001b[0m\u001b[0mBtmsSize\u001b[0m\u001b[1;33m.\u001b[0m\u001b[0mvalues\u001b[0m\u001b[1;33m[\u001b[0m\u001b[1;36m1\u001b[0m\u001b[1;33m]\u001b[0m\u001b[1;33m\u001b[0m\u001b[1;33m\u001b[0m\u001b[0m\n\u001b[0m",
      "\u001b[1;31mIndexError\u001b[0m: index 1 is out of bounds for axis 0 with size 1"
     ]
    }
   ],
   "source": [
    "ResultWriter.chargingStationProperties.loc[ResultWriter.chargingStationProperties.ChargingStationId == Station].BtmsSize.values[1]"
   ]
  },
  {
   "cell_type": "code",
   "execution_count": null,
   "metadata": {},
   "outputs": [],
   "source": [
    "print(\"actual time in [s]: \", SimBroker.t_act)"
   ]
  },
  {
   "cell_type": "code",
   "execution_count": null,
   "metadata": {},
   "outputs": [],
   "source": [
    "VehicleStates = ResultWriter.VehicleStates.loc[ResultWriter.VehicleStates.VehicleId == 6506887.0]\n",
    "VehicleStates.head(40)"
   ]
  },
  {
   "cell_type": "code",
   "execution_count": null,
   "metadata": {},
   "outputs": [],
   "source": [
    "VehicleEvents = ResultWriter.Events.loc[ResultWriter.Events.VehicleId == 6506887.0]\n",
    "VehicleEvents.head(40)"
   ]
  },
  {
   "cell_type": "code",
   "execution_count": null,
   "metadata": {},
   "outputs": [],
   "source": [
    "checkIteration = 7\n",
    "newDf = pd.DataFrame([df3.loc[checkIteration].BaysChargingPower, df3.loc[checkIteration].BaysChargingDesire, df3.loc[checkIteration].BaysVehicleIds]).T\n",
    "newDf.columns = [\"BaysChargingPower\", \"BaysChargingDesire\", \"BaysVehicleIds\"]\n",
    "newDf.head(25)"
   ]
  },
  {
   "cell_type": "code",
   "execution_count": null,
   "metadata": {},
   "outputs": [
    {
     "data": {
      "text/html": [
       "<div>\n",
       "<style scoped>\n",
       "    .dataframe tbody tr th:only-of-type {\n",
       "        vertical-align: middle;\n",
       "    }\n",
       "\n",
       "    .dataframe tbody tr th {\n",
       "        vertical-align: top;\n",
       "    }\n",
       "\n",
       "    .dataframe thead th {\n",
       "        text-align: right;\n",
       "    }\n",
       "</style>\n",
       "<table border=\"1\" class=\"dataframe\">\n",
       "  <thead>\n",
       "    <tr style=\"text-align: right;\">\n",
       "      <th></th>\n",
       "      <th>ChargingStationId</th>\n",
       "      <th>BtmsSize</th>\n",
       "      <th>BtmsC</th>\n",
       "      <th>BtmsMaxPower</th>\n",
       "      <th>BtmsMaxSoc</th>\n",
       "      <th>BtmsMinSoc</th>\n",
       "      <th>ChBaNum</th>\n",
       "      <th>ChBaMaxPower</th>\n",
       "      <th>ChBaMaxPower_abs</th>\n",
       "      <th>ChBaParkingZoneId</th>\n",
       "      <th>GridPowerMax_Nom</th>\n",
       "    </tr>\n",
       "  </thead>\n",
       "  <tbody>\n",
       "    <tr>\n",
       "      <th>0</th>\n",
       "      <td>chargingStation-1</td>\n",
       "      <td>1923.438409</td>\n",
       "      <td>1</td>\n",
       "      <td>4130.527303</td>\n",
       "      <td>1.0</td>\n",
       "      <td>0.0</td>\n",
       "      <td>208</td>\n",
       "      <td>[250.0, 250.0, 250.0, 250.0, 250.0, 250.0, 250...</td>\n",
       "      <td>250.0</td>\n",
       "      <td>[X-PEV-9-1, X-PEV-11-1, X-PEV-12-1, X-PEV-21-1...</td>\n",
       "      <td>18200.0</td>\n",
       "    </tr>\n",
       "  </tbody>\n",
       "</table>\n",
       "</div>"
      ],
      "text/plain": [
       "   ChargingStationId     BtmsSize BtmsC  BtmsMaxPower  BtmsMaxSoc  BtmsMinSoc  \\\n",
       "0  chargingStation-1  1923.438409     1   4130.527303         1.0         0.0   \n",
       "\n",
       "  ChBaNum                                       ChBaMaxPower  \\\n",
       "0     208  [250.0, 250.0, 250.0, 250.0, 250.0, 250.0, 250...   \n",
       "\n",
       "   ChBaMaxPower_abs                                  ChBaParkingZoneId  \\\n",
       "0             250.0  [X-PEV-9-1, X-PEV-11-1, X-PEV-12-1, X-PEV-21-1...   \n",
       "\n",
       "   GridPowerMax_Nom  \n",
       "0           18200.0  "
      ]
     },
     "execution_count": 47,
     "metadata": {},
     "output_type": "execute_result"
    }
   ],
   "source": [
    "ResultWriter.chargingStationProperties"
   ]
  },
  {
   "cell_type": "markdown",
   "metadata": {},
   "source": [
    "#### save results"
   ]
  },
  {
   "cell_type": "code",
   "execution_count": null,
   "metadata": {},
   "outputs": [],
   "source": [
    "ResultWriter.save()"
   ]
  },
  {
   "cell_type": "markdown",
   "metadata": {},
   "source": [
    "#### plot results"
   ]
  },
  {
   "cell_type": "code",
   "execution_count": null,
   "metadata": {},
   "outputs": [],
   "source": [
    "for y in chargingStations[0].Queue:\n",
    "    print(\"delta t: \" + str(y.VehicleDesEnd-y.VehicleArrival) + \" delta E:\" + str(y.VehicleDesEngy - y.VehicleEngy))\n",
    "    print(y.updateEnergyLag(SimBroker.t_act))"
   ]
  },
  {
   "cell_type": "code",
   "execution_count": 24,
   "metadata": {},
   "outputs": [
    {
     "name": "stdout",
     "output_type": "stream",
     "text": [
      "(-94.78205172503684, 2129.7527022615777)\n"
     ]
    },
    {
     "data": {
      "image/png": "[encoded data removed]",
      "text/plain": [
       "<Figure size 504x720 with 6 Axes>"
      ]
     },
     "metadata": {
      "needs_background": "light"
     },
     "output_type": "display_data"
    }
   ],
   "source": [
    "import matplotlib.pyplot as plt\n",
    "loadDataFromFile = False\n",
    "plotChargingStation = 0\n",
    "\n",
    "if loadDataFromFile == True:\n",
    "    # need to add code to load this from file\n",
    "    pass\n",
    "else:\n",
    "    ChSt = ResultWriter.ChargingStationStates.loc[ResultWriter.ChargingStationStates.ChargingStationID ==\n",
    "                                                  chargingStations[plotChargingStation].ChargingStationId]\n",
    "\n",
    "fig, ax = plt.subplots(4, 1, sharex=True)\n",
    "fig.suptitle(chargingStations[plotChargingStation].ChargingStationId)\n",
    "ax[0].step(ChSt.time/3600, ChSt.BaysNumberOfVehicles,\n",
    "           label=\"#Vehicles in Charging Bays\")\n",
    "ax[0].step(ChSt.time/3600, ChSt.QueueNumberOfVehicles,\n",
    "           label=\"#Vehicles in Queue\")\n",
    "ax[0].legend(loc='center left', bbox_to_anchor=(1, 0.5))\n",
    "# ax[0].grid()\n",
    "\n",
    "#ax[1].step(ChSt.time/3600, ChSt.GridPowerUpper, label = \"Upper Power Limit [kW]\")\n",
    "ax[1].step(ChSt.time/3600, ChSt.TotalChargingPower,\n",
    "           label=\"Total Charging Power [kW]\")\n",
    "ax[1].step(ChSt.time/3600, ChSt.TotalChargingPower +\n",
    "           ChSt.BtmsPower, label=\"Net Power [kW]\")\n",
    "#ax[1].step(ChSt.time/3600, ChSt.BtmsPower, label = \"Net Power [kW]\")\n",
    "ax[1].legend(loc='center left', bbox_to_anchor=(1, 0.5))\n",
    "# ax[1].grid()\n",
    "\n",
    "ax[2].plot(ChSt.time/3600, ChSt.BtmsEnergy,\n",
    "           label=\"BTMS Energy [kWh]\", color=\"blue\")\n",
    "ax[2].set_ylabel(\"BTMS Energy [kWh]\", color=\"blue\")\n",
    "if case == 2 or case == 3:\n",
    "    ax[2].plot(ChSt.time/3600, chargingStations[plotChargingStation].E_BtmsLower[0:np.shape(\n",
    "        ChSt.time)[0]], color='grey', label=\"lower bound planning\")\n",
    "    ax[2].plot(ChSt.time/3600, chargingStations[plotChargingStation].E_BtmsUpper[0:np.shape(\n",
    "        ChSt.time)[0]], color='grey', label=\"upper bound planning\")\n",
    "\n",
    "y1 = chargingStations[plotChargingStation].BtmsSize * \\\n",
    "    chargingStations[plotChargingStation].BtmsMaxSoc\n",
    "ax[2].axhline(y=y1, linestyle=\"--\", color=\"black\")\n",
    "\n",
    "y2 = chargingStations[plotChargingStation].BtmsSize * \\\n",
    "    chargingStations[plotChargingStation].BtmsMinSoc\n",
    "ax[2].axhline(y=y2, linestyle=\"--\", color=\"black\")\n",
    "# ax[2].grid()\n",
    "\n",
    "ylim = ax[2].get_ylim()\n",
    "ax[2].set_ylim([ylim[0], 1.07*ylim[1]])\n",
    "ylim = ax[2].get_ylim()\n",
    "print(ylim)\n",
    "dy = ylim[1]-ylim[0]\n",
    "xlim = ax[2].get_xlim()\n",
    "x = xlim[0]\n",
    "dx = xlim[1]-xlim[0]\n",
    "ax[2].text(x+0.02*dx, y1+0.03*dy, \"max. SOC\")\n",
    "ax[2].text(x+0.02*dx, y2+0.03*dy, \"min. SOC\")\n",
    "\n",
    "ax1 = ax[2].twinx()\n",
    "ax1.step(ChSt.time/3600, ChSt.BtmsPower, label=\"BTMS Power [kW]\", color=\"red\")\n",
    "ax1.set_ylabel(\"BTMS Power [kW]\", color=\"red\")\n",
    "#ax1.set_ylim([-chargingStations[plotChargingStation].GridPowerMax_Nom,chargingStations[plotChargingStation].GridPowerMax_Nom])\n",
    "ax[2].legend(loc='center left', bbox_to_anchor=(1, 0.5))\n",
    "\n",
    "ax[3].plot(ChSt.time/3600, ChSt.EnergyLagSum,\n",
    "           label=\"Sum of Energy Lags [kWh]\", color=\"blue\")\n",
    "ax[3].axhline(y=0, color=\"black\")\n",
    "ax[3].set_ylabel(\"Sum of Energy Lags [kWh]\", color=\"blue\")\n",
    "#ax[3].legend(loc= 'center left', bbox_to_anchor=(1, 0.5))\n",
    "\n",
    "ax2 = ax[3].twinx()\n",
    "ax2.plot(ChSt.time/3600, ChSt.TimeLagSum/60,\n",
    "         label=\"Sum of Time Lags [min]\", color=\"red\")\n",
    "ax2.set_ylabel(\"Sum of Time Lags [min]\", color=\"red\")\n",
    "\n",
    "ax[3].set_xlabel(\"time [h]\")\n",
    "\n",
    "fig.set_size_inches(7, 10)\n"
   ]
  }
 ],
 "metadata": {
  "interpreter": {
   "hash": "9478aa59fb21f09a65f1f155627aebe0f290791ff3152ffe0eaa81705a6b9515"
  },
  "kernelspec": {
   "display_name": "Python 3.7.12 ('py_btms_controller')",
   "language": "python",
   "name": "python3"
  },
  "language_info": {
   "codemirror_mode": {
    "name": "ipython",
    "version": 3
   },
   "file_extension": ".py",
   "mimetype": "text/x-python",
   "name": "python",
   "nbconvert_exporter": "python",
   "pygments_lexer": "ipython3",
   "version": "3.7.12"
  },
  "orig_nbformat": 4
 },
 "nbformat": 4,
 "nbformat_minor": 2
}
