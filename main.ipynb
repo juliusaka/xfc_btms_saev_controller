{
 "cells": [
  {
   "cell_type": "code",
   "execution_count": 1,
   "metadata": {},
   "outputs": [],
   "source": [
    "import components\n",
    "import pandas as pd\n",
    "import numpy as np\n",
    "import matplotlib.pyplot as plt\n",
    "from tqdm import tqdm"
   ]
  },
  {
   "cell_type": "markdown",
   "metadata": {},
   "source": [
    "change fastly between different options:"
   ]
  },
  {
   "cell_type": "code",
   "execution_count": 2,
   "metadata": {},
   "outputs": [],
   "source": [
    "case = 2\n",
    "\n",
    "if case == 0:\n",
    "    import components.ChaDepLimCon as chargingStationClass\n",
    "    useOnlyOneChargingStation = False\n",
    "elif case ==1:\n",
    "    import components.ChaDepMpcBase as chargingStationClass\n",
    "    useOnlyOneChargingStation = False\n",
    "elif case ==2:\n",
    "    import components.ChaDepMpcBase as chargingStationClass\n",
    "    useOnlyOneChargingStation = True\n",
    "    useChargingStation = 0"
   ]
  },
  {
   "cell_type": "markdown",
   "metadata": {},
   "source": [
    "### simulation"
   ]
  },
  {
   "cell_type": "markdown",
   "metadata": {},
   "source": [
    "#### initialize helper objects for simulation\n",
    "- SimulationBroker\n",
    "- VehicleGenerator\n",
    "- ResultWriter"
   ]
  },
  {
   "cell_type": "code",
   "execution_count": 3,
   "metadata": {},
   "outputs": [],
   "source": [
    "# simulation broker\n",
    "path_Sim = \"test_data/beam1/beam1-0.csv\"\n",
    "dtype_Sim = {\n",
    "       'time': 'int64', 'type': 'category', 'vehicle': 'int64', 'parkingTaz': 'category','chargingPointType': 'category', \n",
    "       'primaryFuelLevel': 'float64', 'mode': 'category', 'currentTourMode': 'category', 'vehicleType': 'category', \n",
    "       'arrivalTime': 'float64', 'departureTime': 'float64', 'linkTravelTime': 'string', 'primaryFuelType': 'category', \n",
    "       'parkingZoneId': 'category','duration': 'float64' \n",
    "        }\n",
    "SimBroker = components.SimBroker(path_Sim, dtype_Sim)\n",
    "\n",
    "# vehicle generator\n",
    "path_DataBase = \"test_data/vehicleFiles/vehicletypes-Base_2035_20210204_updated.csv\"\n",
    "VehicleGenerator = components.VehicleGenerator(path_Sim, dtype_Sim, path_DataBase)\n",
    "\n",
    "sim_name = \"sim1\"\n",
    "result_directory = \"results\"\n",
    "ResultWriter = components.ResultWriter(result_directory, sim_name)"
   ]
  },
  {
   "cell_type": "code",
   "execution_count": 4,
   "metadata": {},
   "outputs": [
    {
     "data": {
      "text/html": [
       "<div>\n",
       "<style scoped>\n",
       "    .dataframe tbody tr th:only-of-type {\n",
       "        vertical-align: middle;\n",
       "    }\n",
       "\n",
       "    .dataframe tbody tr th {\n",
       "        vertical-align: top;\n",
       "    }\n",
       "\n",
       "    .dataframe thead th {\n",
       "        text-align: right;\n",
       "    }\n",
       "</style>\n",
       "<table border=\"1\" class=\"dataframe\">\n",
       "  <thead>\n",
       "    <tr style=\"text-align: right;\">\n",
       "      <th></th>\n",
       "      <th>vehicleType</th>\n",
       "    </tr>\n",
       "    <tr>\n",
       "      <th>vehicle</th>\n",
       "      <th></th>\n",
       "    </tr>\n",
       "  </thead>\n",
       "  <tbody>\n",
       "    <tr>\n",
       "      <th>2517</th>\n",
       "      <td>ev-L1-0-to-50000-LowTech-2035-Midsize-BEV_300_XFC</td>\n",
       "    </tr>\n",
       "    <tr>\n",
       "      <th>9368</th>\n",
       "      <td>ev-L1-0-to-50000-LowTech-2035-Midsize-BEV_300_XFC</td>\n",
       "    </tr>\n",
       "    <tr>\n",
       "      <th>11104</th>\n",
       "      <td>ev-L1-0-to-50000-LowTech-2035-Car-BEV_300_XFC</td>\n",
       "    </tr>\n",
       "  </tbody>\n",
       "</table>\n",
       "</div>"
      ],
      "text/plain": [
       "                                               vehicleType\n",
       "vehicle                                                   \n",
       "2517     ev-L1-0-to-50000-LowTech-2035-Midsize-BEV_300_XFC\n",
       "9368     ev-L1-0-to-50000-LowTech-2035-Midsize-BEV_300_XFC\n",
       "11104        ev-L1-0-to-50000-LowTech-2035-Car-BEV_300_XFC"
      ]
     },
     "execution_count": 4,
     "metadata": {},
     "output_type": "execute_result"
    }
   ],
   "source": [
    "# show head of vehicles dataframe\n",
    "VehicleGenerator.vehicles.head(3)"
   ]
  },
  {
   "cell_type": "markdown",
   "metadata": {},
   "source": [
    "#### create charging stations\n",
    "1) map parkingZoneIds to charging stations with a dictionary\n",
    "2) create charging Stations"
   ]
  },
  {
   "cell_type": "code",
   "execution_count": 5,
   "metadata": {},
   "outputs": [],
   "source": [
    "# load infrastructure file into dataframe\n",
    "path_infrastructure = \"test_data/beam1/gemini-base-scenario-3-charging-no-household-infra16.csv\"\n",
    "usecols_infrastructure = [\"taz\", \"parkingType\",\n",
    "                          \"chargingPointType\", \"parkingZoneId\"]\n",
    "dtype_infrastructure = {\"taz\": \"int64\", \"parkingType\": \"category\",\n",
    "                        \"chargingPointType\": \"category\", \"parkingZoneId\": \"string\"}\n",
    "infrastructure = pd.read_csv(\n",
    "    path_infrastructure, dtype=dtype_infrastructure, usecols=usecols_infrastructure)\n",
    "infrastructure = infrastructure.set_index(\"parkingZoneId\")\n",
    "# filter infrastructure for only public fast and extreme fast charging\n",
    "infrastructure = infrastructure.loc[infrastructure[\"parkingType\"] == \"Public\"]\n",
    "infrastructure = infrastructure.loc[infrastructure[\"chargingPointType\"].str.contains(\n",
    "    \"publicfc|publicxfc\")]\n",
    "infrastructure = infrastructure.sort_values(by=[\"taz\", \"parkingZoneId\"])\n",
    "\n",
    "# now, make a dict of every parkingZoneId that belongs to a charging station\n",
    "# here, we will split the chargingstation\n",
    "chargingStationMappedToParkingZoneId = {}\n",
    "chargingStationMappedToTaz = {}\n",
    "stepsize = 200\n",
    "i = 0\n",
    "j = 1\n",
    "stop = False\n",
    "while i < len(infrastructure) - 1:\n",
    "    name = \"chargingStation-\" + str(j)\n",
    "    # we want to make sure, that all the chargingBays of one TAZ are in one chargingStation\n",
    "    if i + stepsize < len(infrastructure):\n",
    "        i_end = i+stepsize\n",
    "        while infrastructure.iloc[i_end][\"taz\"] == infrastructure.iloc[i_end+1][\"taz\"]:\n",
    "            i_end += 1  # if the taz is the same, we should increase reading to that taz\n",
    "            # make sure, that we don't try to read in the next step something that doesnt exist\n",
    "            if i_end + 1 >= len(infrastructure) - 1:\n",
    "                stop = True\n",
    "                break\n",
    "    else:\n",
    "        i_end = len(infrastructure)-1\n",
    "    if not stop:\n",
    "        i_end += 1  # to also catch the last element\n",
    "    slice = infrastructure.iloc[i:i_end]\n",
    "    chargingStationMappedToParkingZoneId[name] = slice.index.to_list()\n",
    "    chargingStationMappedToTaz[name] = list(\n",
    "        set(slice[\"taz\"].to_list()))  # this removes duplicates\n",
    "    i = i_end  # start reading next cycle at i\n",
    "    j += 1\n",
    "\n",
    "# we convert chargingStationMappedToTaz to a dataframe to use search methods\n",
    "chargingStationMappedToTaz = pd.DataFrame.from_dict(\n",
    "    chargingStationMappedToTaz, orient='index')\n",
    "chargingStationMappedToTaz = chargingStationMappedToTaz.transpose()\n",
    "\n",
    "# #here, we will make chargingStation depending on TAZ. Therefore, get a list of the different TAZ and sort it:\n",
    "# taz = infrastructure.taz.drop_duplicates().to_list()\n",
    "# taz = sorted(taz)\n",
    "# while i < len(taz):\n",
    "#     name = \"chargingStation-\" + str(j)\n",
    "#     # slice = infrastructure.loc[infrastructure[\"taz\"].isin(taz[i:i+stepsize])]\n",
    "#     chargingStationMappedToParkingZoneId[name] = slice.index.to_list()\n",
    "#     i += stepsize\n",
    "#     j += 1\n"
   ]
  },
  {
   "cell_type": "code",
   "execution_count": 6,
   "metadata": {},
   "outputs": [
    {
     "data": {
      "text/html": [
       "<div>\n",
       "<style scoped>\n",
       "    .dataframe tbody tr th:only-of-type {\n",
       "        vertical-align: middle;\n",
       "    }\n",
       "\n",
       "    .dataframe tbody tr th {\n",
       "        vertical-align: top;\n",
       "    }\n",
       "\n",
       "    .dataframe thead th {\n",
       "        text-align: right;\n",
       "    }\n",
       "</style>\n",
       "<table border=\"1\" class=\"dataframe\">\n",
       "  <thead>\n",
       "    <tr style=\"text-align: right;\">\n",
       "      <th></th>\n",
       "      <th>taz</th>\n",
       "      <th>parkingType</th>\n",
       "      <th>chargingPointType</th>\n",
       "    </tr>\n",
       "    <tr>\n",
       "      <th>parkingZoneId</th>\n",
       "      <th></th>\n",
       "      <th></th>\n",
       "      <th></th>\n",
       "    </tr>\n",
       "  </thead>\n",
       "  <tbody>\n",
       "    <tr>\n",
       "      <th>X-PEV-9-1</th>\n",
       "      <td>9</td>\n",
       "      <td>Public</td>\n",
       "      <td>publicfc(150.0|DC)</td>\n",
       "    </tr>\n",
       "    <tr>\n",
       "      <th>X-PEV-11-1</th>\n",
       "      <td>11</td>\n",
       "      <td>Public</td>\n",
       "      <td>publicfc(150.0|DC)</td>\n",
       "    </tr>\n",
       "    <tr>\n",
       "      <th>X-PEV-12-1</th>\n",
       "      <td>12</td>\n",
       "      <td>Public</td>\n",
       "      <td>publicfc(150.0|DC)</td>\n",
       "    </tr>\n",
       "  </tbody>\n",
       "</table>\n",
       "</div>"
      ],
      "text/plain": [
       "               taz parkingType   chargingPointType\n",
       "parkingZoneId                                     \n",
       "X-PEV-9-1        9      Public  publicfc(150.0|DC)\n",
       "X-PEV-11-1      11      Public  publicfc(150.0|DC)\n",
       "X-PEV-12-1      12      Public  publicfc(150.0|DC)"
      ]
     },
     "execution_count": 6,
     "metadata": {},
     "output_type": "execute_result"
    }
   ],
   "source": [
    "infrastructure.head(3)"
   ]
  },
  {
   "cell_type": "code",
   "execution_count": 7,
   "metadata": {},
   "outputs": [
    {
     "data": {
      "text/html": [
       "<div>\n",
       "<style scoped>\n",
       "    .dataframe tbody tr th:only-of-type {\n",
       "        vertical-align: middle;\n",
       "    }\n",
       "\n",
       "    .dataframe tbody tr th {\n",
       "        vertical-align: top;\n",
       "    }\n",
       "\n",
       "    .dataframe thead th {\n",
       "        text-align: right;\n",
       "    }\n",
       "</style>\n",
       "<table border=\"1\" class=\"dataframe\">\n",
       "  <thead>\n",
       "    <tr style=\"text-align: right;\">\n",
       "      <th></th>\n",
       "      <th>chargingStation-1</th>\n",
       "      <th>chargingStation-2</th>\n",
       "      <th>chargingStation-3</th>\n",
       "    </tr>\n",
       "  </thead>\n",
       "  <tbody>\n",
       "    <tr>\n",
       "      <th>0</th>\n",
       "      <td>518.0</td>\n",
       "      <td>947.0</td>\n",
       "      <td>1280.0</td>\n",
       "    </tr>\n",
       "    <tr>\n",
       "      <th>1</th>\n",
       "      <td>520.0</td>\n",
       "      <td>948.0</td>\n",
       "      <td>1412.0</td>\n",
       "    </tr>\n",
       "    <tr>\n",
       "      <th>2</th>\n",
       "      <td>9.0</td>\n",
       "      <td>949.0</td>\n",
       "      <td>1273.0</td>\n",
       "    </tr>\n",
       "  </tbody>\n",
       "</table>\n",
       "</div>"
      ],
      "text/plain": [
       "   chargingStation-1  chargingStation-2  chargingStation-3\n",
       "0              518.0              947.0             1280.0\n",
       "1              520.0              948.0             1412.0\n",
       "2                9.0              949.0             1273.0"
      ]
     },
     "execution_count": 7,
     "metadata": {},
     "output_type": "execute_result"
    }
   ],
   "source": [
    "chargingStationMappedToTaz.head(3)"
   ]
  },
  {
   "cell_type": "markdown",
   "metadata": {},
   "source": [
    "here, charging stations are created. please specifiy the type of charging station you want to use"
   ]
  },
  {
   "cell_type": "code",
   "execution_count": 8,
   "metadata": {},
   "outputs": [
    {
     "name": "stdout",
     "output_type": "stream",
     "text": [
      "chargingStation-1 was created with 208 charging bays and 26000.0kWh BTM-Storage\n",
      "chargingStation-2 was created with 207 charging bays and 25875.0kWh BTM-Storage\n",
      "chargingStation-3 was created with 93 charging bays and 11625.0kWh BTM-Storage\n"
     ]
    }
   ],
   "source": [
    "#create chargingStations\n",
    "'''specifiy here chargingStation'''\n",
    "\n",
    "chargingStations = []  # list of charging stations\n",
    "for i in chargingStationMappedToParkingZoneId:\n",
    "    #chargingStations.append(i)\n",
    "\n",
    "    ChargingStationId = i\n",
    "    # make a list with the power of each charging bay:\n",
    "    ChBaMaxPower = []\n",
    "    for j in chargingStationMappedToParkingZoneId[i]:\n",
    "        power_string = infrastructure.loc[j, \"chargingPointType\"]\n",
    "        ChBaMaxPower.append(components.chargingCapFromString(power_string))\n",
    "\n",
    "    # for now, we assume that all charging bays have the same charging power\n",
    "    PowerMax = max(ChBaMaxPower)\n",
    "    len_power = len(ChBaMaxPower)\n",
    "    ChBaMaxPower = []\n",
    "    # make charging limit for each bay the same (for testing and simplicity)\n",
    "    for j in range(0, len_power):\n",
    "        ChBaMaxPower.append(PowerMax)\n",
    "    del PowerMax, len_power\n",
    "\n",
    "    ChBaParkingZoneId = chargingStationMappedToParkingZoneId[i]\n",
    "    calcBtmsGridProp = True\n",
    "\n",
    "    '''reduce number of charging bays to test controller'''\n",
    "    # numStations = 30\n",
    "    # ChBaMaxPower = ChBaMaxPower[0:numStations]\n",
    "    ChBaNum = len(ChBaMaxPower)\n",
    "\n",
    "    # create charging station\n",
    "    container = chargingStationClass(ChargingStationId=ChargingStationId, ResultWriter=ResultWriter, SimBroker=SimBroker,\n",
    "                                     ChBaMaxPower=ChBaMaxPower, ChBaParkingZoneId=ChBaParkingZoneId, ChBaNum=ChBaNum, calcBtmsGridProp=True)\n",
    "    chargingStations.append(container)\n",
    "    print(ChargingStationId + \" was created with \" + str(container.ChBaNum) +\n",
    "          \" charging bays and \" + str(container.BtmsSize) + \"kWh BTM-Storage\")\n",
    "\n",
    "'''write charging station properties to ResultWriter'''\n",
    "ResultWriter.saveChargingStationProperties(chargingStations)\n"
   ]
  },
  {
   "cell_type": "markdown",
   "metadata": {},
   "source": [
    "- initialize helper objects for simulation input"
   ]
  },
  {
   "cell_type": "code",
   "execution_count": 9,
   "metadata": {},
   "outputs": [],
   "source": [
    "PhySimDummy = components.PhySimDummy(chargingStations)\n",
    "DermsDummy  = components.DermsDummy(chargingStations)"
   ]
  },
  {
   "cell_type": "markdown",
   "metadata": {},
   "source": [
    "#### initialize simulation\n",
    "initialize Grid Constraints and actual time of charging Station"
   ]
  },
  {
   "cell_type": "code",
   "execution_count": 10,
   "metadata": {},
   "outputs": [
    {
     "name": "stdout",
     "output_type": "stream",
     "text": [
      "we reduced the number of charging stations to 1\n"
     ]
    }
   ],
   "source": [
    "#reduce number of chargingStation for testing\n",
    "if useOnlyOneChargingStation:\n",
    "    chargingStations = [chargingStations[useChargingStation]]\n",
    "    print('we reduced the number of charging stations to 1')"
   ]
  },
  {
   "cell_type": "code",
   "execution_count": 11,
   "metadata": {},
   "outputs": [],
   "source": [
    "'''Simulation settings:'''\n",
    "timestep = 5 * 60"
   ]
  },
  {
   "cell_type": "code",
   "execution_count": 12,
   "metadata": {},
   "outputs": [],
   "source": [
    "for x in chargingStations:\n",
    "    GridPowerLower, GridPowerUpper = DermsDummy.output(x.ChargingStationId)\n",
    "    x.initialize(GridPowerLower = GridPowerLower, GridPowerUpper = GridPowerUpper)\n",
    "    # TODO is this necessary in the way this is set up? updated before vehicle arrival!"
   ]
  },
  {
   "cell_type": "markdown",
   "metadata": {},
   "source": [
    "generate predictions for power use of charging station"
   ]
  },
  {
   "cell_type": "code",
   "execution_count": 13,
   "metadata": {},
   "outputs": [],
   "source": [
    "if chargingStationClass == components.ChaDepMpcBase:\n",
    "    for x in chargingStations:\n",
    "        x.generatePredictions(path_BeamPredictionFile = path_Sim, dtype = dtype_Sim, path_DataBase = path_DataBase, timestep = timestep, addNoise = True)"
   ]
  },
  {
   "cell_type": "markdown",
   "metadata": {},
   "source": [
    "plot prediction "
   ]
  },
  {
   "cell_type": "code",
   "execution_count": 14,
   "metadata": {},
   "outputs": [
    {
     "data": {
      "image/png": "[encoded data removed]",
      "text/plain": [
       "<Figure size 432x288 with 1 Axes>"
      ]
     },
     "metadata": {
      "needs_background": "light"
     },
     "output_type": "display_data"
    }
   ],
   "source": [
    "if chargingStationClass == components.ChaDepMpcBase:\n",
    "    x = chargingStations[0]\n",
    "    time = x.PredictionTime\n",
    "    power = x.PredictionPower\n",
    "\n",
    "    ax = plt.subplot()\n",
    "    ax.plot(time,power, label = 'with noise')\n",
    "    ax.plot(time,x.power_sum_original, label = 'without noise')\n",
    "    ax.legend()"
   ]
  },
  {
   "cell_type": "markdown",
   "metadata": {},
   "source": [
    "BTMS size optimization\n",
    "\n",
    "see mpcBase.md for explanations"
   ]
  },
  {
   "cell_type": "code",
   "execution_count": 15,
   "metadata": {},
   "outputs": [
    {
     "name": "stdout",
     "output_type": "stream",
     "text": [
      "449.6154238013751\n"
     ]
    },
    {
     "data": {
      "image/png": "[encoded data removed]",
      "text/plain": [
       "<Figure size 432x288 with 2 Axes>"
      ]
     },
     "metadata": {
      "needs_background": "light"
     },
     "output_type": "display_data"
    }
   ],
   "source": [
    "if chargingStationClass == components.ChaDepMpcBase:\n",
    "    a = 20/30 * ((SimBroker.t_max - SimBroker.t_act)/3.6e3) / \\\n",
    "        24       # demand charge per day\n",
    "    # free power, after which demand charge is applied, as ratio to avg power\n",
    "    P_free_Ratio = 0\n",
    "    # btms cost per cycle per kWh (price per kWh/ possible cycles)\n",
    "    b = 300/5000\n",
    "    c = 0.15      # electricity cost per kWh\n",
    "\n",
    "    Print = False\n",
    "    Graph = True\n",
    "    for i in range(0, len(chargingStations)):\n",
    "        x = chargingStations[i]\n",
    "        # determine P_free\n",
    "        avgPower = sum(x.PredictionPower*timestep) / \\\n",
    "            (max(x.PredictionTime) + timestep - min(x.PredictionTime))\n",
    "        P_free = P_free_Ratio * avgPower\n",
    "\n",
    "        # btms size optimization\n",
    "        time, time_x, btms_size, P_Grid, P_BTMS, P_BTMS_Ch, P_BTMS_DCh, E_BTMS, P_Charge, cost = x.determineBtmsSize(\n",
    "            SimBroker.t_act, SimBroker.t_max, timestep, a, b, c, P_free)\n",
    "\n",
    "        time = time/3.6e3  # conversion to hours\n",
    "        time_x = time_x/3.6e3\n",
    "        if Print:\n",
    "            print('\\n', x.ChargingStationId)\n",
    "            print('Optimization with free power level of', int(P_free), 'kW')\n",
    "            print('The determined effective BTMS size is', int(btms_size), 'kWh.')\n",
    "            cRating = max(abs(P_BTMS))/btms_size\n",
    "            print('The associated C-Rating is', cRating)\n",
    "            # btmsDCh is always negative\n",
    "            costLoss = c*(sum(P_BTMS_Ch*timestep/3.6e3) +\n",
    "                          sum(P_BTMS_DCh*timestep/3.6e3))\n",
    "            costCycle = b*sum(P_BTMS_Ch*timestep/3.6e3)\n",
    "            print('The cost-value is $', int(cost), 'from which $', int(a*(max(P_Grid)-P_free)), 'is associated with demand charge, $',\n",
    "                  int(costCycle), 'is associated with BTMS degradation and $', int(costLoss), 'is associated with energy losses')\n",
    "            E_total = sum(timestep/3.6e3*P_Charge)\n",
    "            print('The total delivered energy to the vehicles is', int(\n",
    "                E_total), 'kWh, which results in an average power of', int(E_total/(max(time)-min(time) + timestep/3.6e3)), 'kW')\n",
    "            print(int(-sum(P_BTMS_DCh*timestep/3.6e3)), 'kWh were delivered by the BTMS and charging losses of',\n",
    "                  int(sum(P_BTMS_DCh*timestep/3.6e3) + sum(P_BTMS_Ch*timestep/3.6e3)), 'kWh occured.')\n",
    "            print('The maximal grid power is', int(max(P_Grid)), 'kW')\n",
    "\n",
    "        if Graph:\n",
    "            cRating = max(abs(P_BTMS))/btms_size\n",
    "            E_total = sum(timestep/3.6e3*P_Charge)\n",
    "            avgPower = int(E_total/(max(time)-min(time) + timestep/3.6e3))\n",
    "            # usage factor, how many cycles btms is discharged\n",
    "            useFactor = -sum(P_BTMS_DCh*timestep/3.6e3) / btms_size\n",
    "            # we also define a usage factor as fraction of energy by btms and compare to the total charged energy\n",
    "            btmsSupport = btms_size / sum(P_Charge*timestep/3.6e3)\n",
    "            # btmsDCh is always negative\n",
    "            costLoss = c*(sum(P_BTMS_Ch*timestep/3.6e3) +\n",
    "                          sum(P_BTMS_DCh*timestep/3.6e3))\n",
    "            costCycle = b*sum(P_BTMS_Ch*timestep/3.6e3)\n",
    "            costDemand = a*(max(P_Grid)-P_free)\n",
    "            info_string1 = 'free power: ' + str(int(P_free)) + 'kW \\navg power: ' + str(int(avgPower)) + 'kW \\nmax power: ' + str(int(max(P_Grid))) + 'kW \\nBTMS-size: ' + str(int(btms_size)) + 'kWh \\nC-Rating: ' + \"{:.2f}\".format(\n",
    "                cRating) + ' \\nuseFactor: ' + \"{:.2f}\".format(useFactor) + ' \\nbtmsSupport: ' + \"{:.2f}\".format(btmsSupport) + ' \\n\\ncost: $' + str(int(cost)) + ' \\ndemand: $' + str(int(costDemand)) + '\\ncycle: $' + str(int(costCycle)) + '\\nloss: $' + str(int(costLoss))\n",
    "\n",
    "            fig, ax = plt.subplots(2, 1, sharex=True)\n",
    "\n",
    "            ax[0].plot(time_x, E_BTMS, label=\"Energy_BTMS [kWh]\")\n",
    "            ax[0].legend(loc='center left', bbox_to_anchor=(1, 0.5))\n",
    "            fig.text(-0.12, 0, info_string1, horizontalalignment='right', verticalalignment='center',\n",
    "                     multialignment='left', transform=ax[0].transAxes, bbox=dict(facecolor='none', edgecolor='grey', pad=5.0))\n",
    "            #ax[0].text(0.5, 1, info_string2, horizontalalignment='right', verticalalignment='top', transform=ax[0].transAxes)\n",
    "\n",
    "            ax[1].step(time, P_BTMS, label=\"P_BTMS [kW]\")\n",
    "            ax[1].step(time, P_Grid, label=\"P_Grid [kW]\")\n",
    "            ax[1].step(time, P_Charge, label=\"P_Charge [kW]\")\n",
    "            ax[1].axhline(0, color='black')\n",
    "            ax[1].legend(loc='center left', bbox_to_anchor=(1, 0.5))\n",
    "            ax[1].set_xlabel(\"time in [h]\")\n",
    "\n",
    "            print(cost)\n"
   ]
  },
  {
   "cell_type": "markdown",
   "metadata": {},
   "source": [
    "further reduce btms size with a factor"
   ]
  },
  {
   "cell_type": "code",
   "execution_count": 16,
   "metadata": {},
   "outputs": [],
   "source": [
    "if chargingStationClass == components.ChaDepMpcBase:\n",
    "    factor = 1.0\n",
    "    for x in chargingStations:\n",
    "        x.BtmsSize = factor * x.determinedBtmsSize\n",
    "        x.BtmsMaxPower= factor * x.determinedMaxPower"
   ]
  },
  {
   "cell_type": "markdown",
   "metadata": {},
   "source": [
    "create optimal day-ahead plan\n",
    "\n",
    "planning() (MPC Base - convex)"
   ]
  },
  {
   "cell_type": "code",
   "execution_count": 17,
   "metadata": {},
   "outputs": [
    {
     "name": "stdout",
     "output_type": "stream",
     "text": [
      "chargingStation-1\n",
      "solver name:  ECOS\n",
      "setup time:  0.15999364852905273\n",
      "solve time:  0.670008659362793\n",
      "total control action time:  0.8300023078918457\n",
      "optimal\n",
      "\n"
     ]
    },
    {
     "data": {
      "image/png": "[encoded data removed]",
      "text/plain": [
       "<Figure size 504x432 with 3 Axes>"
      ]
     },
     "metadata": {
      "needs_background": "light"
     },
     "output_type": "display_data"
    }
   ],
   "source": [
    "if chargingStationClass == components.ChaDepMpcBase:\n",
    "    a = 50/30 * ((SimBroker.t_max - SimBroker.t_act)/3.6e3) / \\\n",
    "        24  # demand charge cost\n",
    "    # free power, after which demand charge is applied, as ratio to avg power\n",
    "    P_free_Ratio = 0\n",
    "    b = 300/5000                    # btms degradation cost\n",
    "    c = 0.15                        # electricity cost\n",
    "    d_param = 10                    # waiting time cost of a vehicle in $/h\n",
    "    P_chAvg = 100                   # average charging speed in kW of an vehicle\n",
    "    beta = 0.05                     # bandwith for energy level curve\n",
    "    # if choosen different from None, constraints to enforce c rate are applied\n",
    "    cRating = None\n",
    "\n",
    "    Graph = True\n",
    "\n",
    "    if True:  # make a time varying d-vector\n",
    "        x = chargingStations[0]\n",
    "        time = np.array(x.PredictionTime)\n",
    "        power = np.array(x.PredictionPower)\n",
    "        idx = np.logical_and(time >= SimBroker.t_act, time <= SimBroker.t_max)\n",
    "        time_new = time[idx]\n",
    "        d = d_param  # transformed to list by .planning() function\n",
    "        #d = []\n",
    "        # for i in range(0,sum(idx)):\n",
    "        # for time varying vector\n",
    "        # if time_new[i]< 21800:\n",
    "        #     d.append(1)\n",
    "        # elif time_new[i] < 26000:\n",
    "        #     d.append(10)\n",
    "        # elif time_new[i] < 28000:\n",
    "        #     d.append(1)\n",
    "        # elif time_new[i] < 29500:\n",
    "        #     d.append(10)\n",
    "        # else:\n",
    "        #     d.append(2)\n",
    "        # d.append(d_param)\n",
    "\n",
    "    for x in chargingStations:\n",
    "        avgPower = sum(x.PredictionPower*timestep) / \\\n",
    "            (max(x.PredictionTime) + timestep - min(x.PredictionTime))\n",
    "        P_free = P_free_Ratio * avgPower\n",
    "\n",
    "        time, time_x, P_Grid, P_BTMS, P_BTMS_Ch, P_BTMS_DCh, E_BTMS, E_Shift, P_Charge, P_Shift, t_wait_val, cost_t_wait, cost = x.planning(\n",
    "            SimBroker.t_act, SimBroker.t_max, timestep, a, b, c, d, P_free, P_chAvg, beta, cRating)\n",
    "\n",
    "        if Graph:\n",
    "            cRating = max(abs(P_BTMS))/x.BtmsSize\n",
    "            E_total = sum(timestep/3.6e3*P_Charge)\n",
    "            avgPower = int(E_total/(max(time)-min(time) + timestep/3.6e3))\n",
    "            useFactor = -sum(P_BTMS_DCh*timestep/3.6e3) / x.BtmsSize\n",
    "            btmsSupport = x.BtmsSize / E_total\n",
    "            # btmsDCh is always negative\n",
    "            costLoss = c*(sum(P_BTMS_Ch*timestep/3.6e3) +\n",
    "                          sum(P_BTMS_DCh*timestep/3.6e3))\n",
    "            costCycle = b*sum(P_BTMS_Ch*timestep/3.6e3)\n",
    "            costDemand = a*(max(P_Grid)-P_free)\n",
    "\n",
    "            info_string1 = 'free power: ' + str(int(P_free)) + 'kW \\navg power: ' + str(int(avgPower)) + 'kW \\nmax power: ' + str(int(max(P_Grid))) + 'kW \\nBTMS-size: ' + str(int(x.BtmsSize)) + 'kWh \\nC-Rating: ' + \"{:.2f}\".format(cRating) + ' \\nuseFactor: ' + \"{:.2f}\".format(\n",
    "                useFactor) + ' \\nbtmsSupport: ' + \"{:.2f}\".format(btmsSupport) + ' \\n\\ncost: $' + str(int(cost)) + ' \\ndemand: $' + str(int(costDemand)) + '\\ncycle: $' + str(int(costCycle)) + '\\nloss: $' + str(int(costLoss)) + '\\nwait: $' + str(int(cost_t_wait))\n",
    "\n",
    "            fig, ax = plt.subplots(3, 1, sharex=True)\n",
    "            ax[0].plot(time_x, E_BTMS, label=\"Energy_BTMS [kWh]\")\n",
    "            ax[0].plot(time_x, E_Shift, label=\"shifted Energy [kWh]\")\n",
    "            ax[0].axhline(x.BtmsSize, label=\"BTMS size[kWh]\",\n",
    "                          color=\"black\", linestyle=\"--\")\n",
    "            ax[0].legend(loc='center left', bbox_to_anchor=(1, 0.5))\n",
    "            fig.text(-0.12, 0, info_string1, horizontalalignment='right', verticalalignment='center',\n",
    "                     multialignment='left', transform=ax[0].transAxes, bbox=dict(facecolor='none', edgecolor='grey', pad=5.0))\n",
    "            #ax[0].text(0.5, 1, info_string2, horizontalalignment='right', verticalalignment='top', transform=ax[0].transAxes)\n",
    "\n",
    "            ax[1].step(time, P_BTMS, label=\"P_BTMS [kW]\")\n",
    "            ax[1].step(time, P_Grid, label=\"P_Grid [kW]\")\n",
    "            ax[1].step(time, P_Charge-P_Shift, label=\"P_Charge [kW]\")\n",
    "            ax[1].step(time, P_Charge, label=\"P_Charge optimal [kW]\")\n",
    "            ax[1].step(time, P_Shift, label=\"P_Shift [kW]\")\n",
    "            ax[1].axhline(0, color='black')\n",
    "            ax[1].legend(loc='center left', bbox_to_anchor=(1, 0.5))\n",
    "\n",
    "            if sum(t_wait_val) < 0.0005:\n",
    "                t_wait_val = np.zeros_like(t_wait_val)\n",
    "            ax[2].step(time, t_wait_val*60, label=\"waiting time [min]\")\n",
    "            ax[2].legend(loc='center left', bbox_to_anchor=(1, 0.5))\n",
    "\n",
    "            ax[2].set_xlabel(\"time in [h]\")\n",
    "\n",
    "            fig.set_size_inches(7, 6*3/3)\n"
   ]
  },
  {
   "cell_type": "markdown",
   "metadata": {},
   "source": [
    "#### run simulation"
   ]
  },
  {
   "cell_type": "code",
   "execution_count": 18,
   "metadata": {},
   "outputs": [],
   "source": [
    "verbose = True"
   ]
  },
  {
   "cell_type": "code",
   "execution_count": 19,
   "metadata": {},
   "outputs": [
    {
     "name": "stdout",
     "output_type": "stream",
     "text": [
      "maximum iterations: 42\n"
     ]
    },
    {
     "name": "stderr",
     "output_type": "stream",
     "text": [
      "MPC simulation:   0%|          | 0/42.0 [00:00<?, ?it/s]"
     ]
    },
    {
     "name": "stdout",
     "output_type": "stream",
     "text": [
      "\n",
      "solving control problem... at iteration 0\n",
      "connected vehicles:  2\n",
      "Solved. Solver Status:  optimal\n",
      "solver iterations:  75\n",
      "optimal value: 0.004173956869643387\n",
      "P_BTMS:  991.6942825256875\n",
      "P_Charge:  -0.0018508098795633116\n",
      "Charging Station Id:  chargingStation-1\n",
      "\n",
      "solving control problem... at iteration 1\n",
      "connected vehicles:  1\n",
      "Solved. Solver Status:  optimal\n",
      "solver iterations:  7250\n",
      "optimal value: 2106267.296820676\n",
      "P_BTMS:  991.5173567662536\n",
      "P_Charge:  0.1720252518692841\n",
      "Charging Station Id:  chargingStation-1\n",
      "\n",
      "solving control problem... at iteration 2\n",
      "connected vehicles:  3\n",
      "Solved. Solver Status:  optimal\n",
      "solver iterations:  775\n",
      "optimal value: 0.48193384498725844\n",
      "P_BTMS:  817.5284482419343\n",
      "P_Charge:  174.16396868989642\n",
      "Charging Station Id:  chargingStation-1\n",
      "\n",
      "solving control problem... at iteration 3\n",
      "connected vehicles:  8\n",
      "Solved. Solver Status:  optimal\n",
      "solver iterations:  3050\n",
      "optimal value: 123592504.84429584\n",
      "P_BTMS:  1119.9213111591466\n",
      "P_Charge:  119.34326542563322\n",
      "Charging Station Id:  chargingStation-1\n",
      "\n",
      "solving control problem... at iteration 4\n",
      "connected vehicles:  10\n",
      "Solved. Solver Status:  optimal\n",
      "solver iterations:  3100\n",
      "optimal value: 123628138.0202652\n",
      "P_BTMS:  983.6977331155745\n",
      "P_Charge:  428.5168685563061\n",
      "Charging Station Id:  chargingStation-1\n",
      "\n",
      "solving control problem... at iteration 5\n",
      "connected vehicles:  13\n",
      "Solved. Solver Status:  optimal\n",
      "solver iterations:  3750\n",
      "optimal value: 226915767.59772873\n",
      "P_BTMS:  656.932907547385\n",
      "P_Charge:  951.9899503056383\n",
      "Charging Station Id:  chargingStation-1\n",
      "\n",
      "solving control problem... at iteration 6\n",
      "connected vehicles:  17\n",
      "Solved. Solver Status:  optimal\n",
      "solver iterations:  2925\n",
      "optimal value: 379665606.3631017\n",
      "P_BTMS:  1050.9395424568793\n",
      "P_Charge:  969.2412248284554\n",
      "Charging Station Id:  chargingStation-1\n",
      "\n",
      "solving control problem... at iteration 7\n",
      "connected vehicles:  19\n",
      "Solved. Solver Status:  optimal_inaccurate\n",
      "solver iterations:  10000\n",
      "optimal value: 260663019.08862215\n",
      "P_BTMS:  1358.189194678096\n",
      "P_Charge:  857.6984554487269\n",
      "Charging Station Id:  chargingStation-1\n"
     ]
    },
    {
     "name": "stderr",
     "output_type": "stream",
     "text": [
      "c:\\Users\\akaju\\anaconda3\\envs\\py_btms_controller\\lib\\site-packages\\cvxpy\\problems\\problem.py:1334: UserWarning: Solution may be inaccurate. Try another solver, adjusting the solver settings, or solve with verbose=True for more information.\n",
      "  \"Solution may be inaccurate. Try another solver, \"\n"
     ]
    },
    {
     "name": "stdout",
     "output_type": "stream",
     "text": [
      "\n",
      "solving control problem... at iteration 8\n",
      "connected vehicles:  24\n",
      "Solved. Solver Status:  optimal_inaccurate\n",
      "solver iterations:  10000\n",
      "optimal value: 185187580.78179708\n",
      "P_BTMS:  -195.5433444275983\n",
      "P_Charge:  2402.03306379861\n",
      "Charging Station Id:  chargingStation-1\n",
      "\n",
      "solving control problem... at iteration 9\n",
      "connected vehicles:  26\n",
      "Solved. Solver Status:  optimal_inaccurate\n",
      "solver iterations:  10000\n",
      "optimal value: 761631275.4982235\n",
      "P_BTMS:  1116.4474365142664\n",
      "P_Charge:  1236.290735158691\n",
      "Charging Station Id:  chargingStation-1\n",
      "\n",
      "solving control problem... at iteration 10\n",
      "connected vehicles:  29\n",
      "\n",
      "Solver failed in iteration 10\n",
      "setting up the problem again, solving with verbose = True\n",
      "===============================================================================\n",
      "                                     CVXPY                                     \n",
      "                                     v1.2.0                                    \n",
      "===============================================================================\n",
      "(CVXPY) Sep 08 04:58:32 PM: Your problem has 48 variables, 90 constraints, and 3 parameters.\n",
      "(CVXPY) Sep 08 04:58:32 PM: It is compliant with the following grammars: DCP, DQCP\n",
      "(CVXPY) Sep 08 04:58:32 PM: CVXPY will first compile your problem; then, it will invoke a numerical solver to obtain a solution.\n",
      "-------------------------------------------------------------------------------\n",
      "                                  Compilation                                  \n",
      "-------------------------------------------------------------------------------\n",
      "(CVXPY) Sep 08 04:58:32 PM: Compiling problem (target solver=OSQP).\n",
      "(CVXPY) Sep 08 04:58:32 PM: Reduction chain: CvxAttr2Constr -> Qp2SymbolicQp -> QpMatrixStuffing -> OSQP\n",
      "(CVXPY) Sep 08 04:58:32 PM: Applying reduction CvxAttr2Constr\n",
      "(CVXPY) Sep 08 04:58:32 PM: Applying reduction Qp2SymbolicQp\n",
      "(CVXPY) Sep 08 04:58:32 PM: Applying reduction QpMatrixStuffing\n",
      "(CVXPY) Sep 08 04:58:32 PM: Applying reduction OSQP\n",
      "(CVXPY) Sep 08 04:58:32 PM: Finished problem compilation (took 6.004e-02 seconds).\n",
      "(CVXPY) Sep 08 04:58:32 PM: (Subsequent compilations of this problem, using the same arguments, should take less time.)\n",
      "-------------------------------------------------------------------------------\n",
      "                                Numerical solver                               \n",
      "-------------------------------------------------------------------------------\n",
      "(CVXPY) Sep 08 04:58:32 PM: Invoking solver OSQP  to obtain a solution.\n",
      "-----------------------------------------------------------------\n",
      "           OSQP v0.6.2  -  Operator Splitting QP Solver\n",
      "              (c) Bartolomeo Stellato,  Goran Banjac\n",
      "        University of Oxford  -  Stanford University 2021\n",
      "-----------------------------------------------------------------\n",
      "problem:  variables n = 64, constraints m = 106\n",
      "          nnz(P) + nnz(A) = 203\n",
      "settings: linear system solver = qdldl,\n",
      "          eps_abs = 1.0e-05, eps_rel = 1.0e-05,\n",
      "          eps_prim_inf = 1.0e-04, eps_dual_inf = 1.0e-04,\n",
      "          rho = 1.00e-01 (adaptive),\n",
      "          sigma = 1.00e-06, alpha = 1.60, max_iter = 10000\n",
      "          check_termination: on (interval 25),\n",
      "          scaling: on, scaled_termination: off\n",
      "          warm start: on, polish: on, time_limit: off\n",
      "\n",
      "iter   objective    pri res    dua res    rho        time\n",
      "   1   0.0000e+00   1.79e+03   1.72e+05   1.00e-01   1.90e-04s\n",
      " 200   7.7419e+05   2.35e+02   1.07e+01   1.00e-01   6.21e-04s\n",
      " 400   2.2296e+06   1.84e+02   5.99e+00   1.00e-01   2.85e-03s\n",
      " 600   2.3882e+06   1.86e+02   1.91e+00   1.00e-01   3.39e-03s\n",
      " 800   2.3370e+06   1.87e+02   1.21e+00   1.00e-01   3.85e-03s\n",
      "1000   2.3073e+06   1.86e+02   7.48e-01   1.00e-01   4.77e-03s\n",
      "1200   2.2992e+06   1.89e+02   2.94e-01   1.00e-01   5.23e-03s\n",
      "1400   2.5642e+06   1.90e+02   2.21e+00   6.81e-01   5.67e-03s\n",
      "1600   3.0831e+06   1.84e+02   4.55e+00   6.81e-01   6.12e-03s\n",
      "1800   3.7191e+06   1.81e+02   2.89e+00   6.81e-01   6.76e-03s\n",
      "2000   4.4878e+06   1.81e+02   1.44e+00   6.81e-01   7.49e-03s\n",
      "2200   5.4069e+06   1.79e+02   9.30e-01   6.81e-01   8.10e-03s\n",
      "2400   6.4834e+06   1.78e+02   1.15e+00   6.81e-01   9.06e-03s\n",
      "2600   1.8673e+07   1.69e+02   9.18e+00   5.46e+00   1.00e-02s\n",
      "2800   4.0984e+07   1.59e+02   3.10e+00   5.46e+00   1.07e-02s\n",
      "3000   7.1109e+07   1.51e+02   2.34e+00   5.46e+00   1.14e-02s\n",
      "3200   1.0784e+08   1.43e+02   3.55e+00   5.46e+00   1.19e-02s\n",
      "3400   1.5010e+08   1.37e+02   2.51e+00   5.46e+00   1.23e-02s\n",
      "3600   1.9693e+08   1.31e+02   4.35e+00   5.46e+00   1.28e-02s\n",
      "3800   2.4751e+08   1.26e+02   6.05e+00   5.46e+00   1.35e-02s\n",
      "4000   3.0111e+08   1.20e+02   7.96e+00   5.46e+00   1.39e-02s\n",
      "4200   3.5708e+08   1.15e+02   9.36e+00   5.46e+00   1.46e-02s\n",
      "4400   4.1492e+08   1.10e+02   9.64e+00   5.46e+00   1.55e-02s\n",
      "4600   4.7409e+08   1.05e+02   8.43e+00   5.46e+00   1.65e-02s\n",
      "4800   5.3413e+08   1.01e+02   7.63e+00   5.46e+00   1.70e-02s\n",
      "5000   5.9466e+08   9.64e+01   6.94e+00   5.46e+00   1.78e-02s\n",
      "5200   6.5535e+08   9.23e+01   6.26e+00   5.46e+00   1.84e-02s\n",
      "5400   7.1591e+08   8.83e+01   5.72e+00   5.46e+00   1.89e-02s\n",
      "5600   7.7611e+08   8.46e+01   5.20e+00   5.46e+00   1.94e-02s\n",
      "5800   8.3573e+08   8.10e+01   4.83e+00   5.46e+00   1.99e-02s\n",
      "6000   8.9459e+08   7.75e+01   4.33e+00   5.46e+00   2.06e-02s\n",
      "6200   9.5255e+08   7.42e+01   3.77e+00   5.46e+00   2.12e-02s\n",
      "6400   1.0095e+09   7.11e+01   3.59e+00   5.46e+00   2.17e-02s\n",
      "6600   1.0653e+09   6.80e+01   3.30e+00   5.46e+00   2.24e-02s\n",
      "6800   1.1198e+09   6.57e+01   3.00e+00   5.46e+00   2.29e-02s\n",
      "7000   1.1731e+09   6.42e+01   2.79e+00   5.46e+00   2.33e-02s\n",
      "7200   1.2251e+09   6.28e+01   2.54e+00   5.46e+00   2.38e-02s\n",
      "7400   1.2756e+09   6.15e+01   2.34e+00   5.46e+00   2.43e-02s\n",
      "7600   1.3248e+09   6.02e+01   2.15e+00   5.46e+00   2.47e-02s\n",
      "7800   1.3725e+09   5.90e+01   1.97e+00   5.46e+00   2.51e-02s\n",
      "8000   1.5896e+09   5.40e+01   5.22e+00   2.73e+01   2.56e-02s\n",
      "8200   1.7927e+09   3.40e+01   3.25e+01   2.73e+01   2.61e-02s\n",
      "8400   1.9712e+09   2.76e+01   2.23e+01   2.73e+01   2.68e-02s\n",
      "8600   2.1208e+09   2.19e+01   2.39e+01   2.73e+01   2.72e-02s\n",
      "8800   2.2451e+09   1.77e+01   2.63e+01   2.73e+01   2.77e-02s\n",
      "9000   2.3478e+09   1.42e+01   2.53e+01   2.73e+01   2.81e-02s\n",
      "9200   2.4321e+09   1.14e+01   2.50e+01   2.73e+01   2.86e-02s\n",
      "9400   2.5009e+09   9.16e+00   2.45e+01   2.73e+01   2.91e-02s\n",
      "9600   2.5569e+09   7.36e+00   2.43e+01   2.73e+01   2.95e-02s\n",
      "9800   2.6023e+09   5.92e+00   2.40e+01   2.73e+01   3.00e-02s\n",
      "10000   2.6392e+09   4.76e+00   2.38e+01   2.73e+01   3.05e-02s\n",
      "\n",
      "status:               maximum iterations reached\n",
      "number of iterations: 10000\n",
      "run time:             3.05e-02s\n",
      "optimal rho estimate: 1.32e+01\n",
      "\n"
     ]
    },
    {
     "ename": "SolverError",
     "evalue": "Solver 'OSQP' failed. Try another solver, or solve with verbose=True for more information.",
     "output_type": "error",
     "traceback": [
      "\u001b[1;31m---------------------------------------------------------------------------\u001b[0m",
      "\u001b[1;31mSolverError\u001b[0m                               Traceback (most recent call last)",
      "\u001b[1;32mc:\\Users\\akaju\\Documents\\GitHub\\xfc-btms-saev-controller\\components\\ChaDepMpcBase.py\u001b[0m in \u001b[0;36mrunMpc\u001b[1;34m(self, timestep, N, SimBroker, M1, M2, verbose)\u001b[0m\n\u001b[0;32m    468\u001b[0m         \u001b[1;32mtry\u001b[0m\u001b[1;33m:\u001b[0m\u001b[1;33m\u001b[0m\u001b[1;33m\u001b[0m\u001b[0m\n\u001b[1;32m--> 469\u001b[1;33m             \u001b[0mprob\u001b[0m\u001b[1;33m.\u001b[0m\u001b[0msolve\u001b[0m\u001b[1;33m(\u001b[0m\u001b[0mverbose\u001b[0m \u001b[1;33m=\u001b[0m \u001b[1;32mFalse\u001b[0m\u001b[1;33m)\u001b[0m\u001b[1;33m\u001b[0m\u001b[1;33m\u001b[0m\u001b[0m\n\u001b[0m\u001b[0;32m    470\u001b[0m             \u001b[0mprint\u001b[0m\u001b[1;33m(\u001b[0m\u001b[1;34m'Solved. Solver Status: '\u001b[0m\u001b[1;33m,\u001b[0m \u001b[0mprob\u001b[0m\u001b[1;33m.\u001b[0m\u001b[0mstatus\u001b[0m\u001b[1;33m)\u001b[0m\u001b[1;33m\u001b[0m\u001b[1;33m\u001b[0m\u001b[0m\n",
      "\u001b[1;32mc:\\Users\\akaju\\anaconda3\\envs\\py_btms_controller\\lib\\site-packages\\cvxpy\\problems\\problem.py\u001b[0m in \u001b[0;36msolve\u001b[1;34m(self, *args, **kwargs)\u001b[0m\n\u001b[0;32m    480\u001b[0m             \u001b[0msolve_func\u001b[0m \u001b[1;33m=\u001b[0m \u001b[0mProblem\u001b[0m\u001b[1;33m.\u001b[0m\u001b[0m_solve\u001b[0m\u001b[1;33m\u001b[0m\u001b[1;33m\u001b[0m\u001b[0m\n\u001b[1;32m--> 481\u001b[1;33m         \u001b[1;32mreturn\u001b[0m \u001b[0msolve_func\u001b[0m\u001b[1;33m(\u001b[0m\u001b[0mself\u001b[0m\u001b[1;33m,\u001b[0m \u001b[1;33m*\u001b[0m\u001b[0margs\u001b[0m\u001b[1;33m,\u001b[0m \u001b[1;33m**\u001b[0m\u001b[0mkwargs\u001b[0m\u001b[1;33m)\u001b[0m\u001b[1;33m\u001b[0m\u001b[1;33m\u001b[0m\u001b[0m\n\u001b[0m\u001b[0;32m    482\u001b[0m \u001b[1;33m\u001b[0m\u001b[0m\n",
      "\u001b[1;32mc:\\Users\\akaju\\anaconda3\\envs\\py_btms_controller\\lib\\site-packages\\cvxpy\\problems\\problem.py\u001b[0m in \u001b[0;36m_solve\u001b[1;34m(self, solver, warm_start, verbose, gp, qcp, requires_grad, enforce_dpp, ignore_dpp, **kwargs)\u001b[0m\n\u001b[0;32m   1015\u001b[0m         \u001b[0mself\u001b[0m\u001b[1;33m.\u001b[0m\u001b[0m_solve_time\u001b[0m \u001b[1;33m=\u001b[0m \u001b[0mend\u001b[0m \u001b[1;33m-\u001b[0m \u001b[0mstart\u001b[0m\u001b[1;33m\u001b[0m\u001b[1;33m\u001b[0m\u001b[0m\n\u001b[1;32m-> 1016\u001b[1;33m         \u001b[0mself\u001b[0m\u001b[1;33m.\u001b[0m\u001b[0munpack_results\u001b[0m\u001b[1;33m(\u001b[0m\u001b[0msolution\u001b[0m\u001b[1;33m,\u001b[0m \u001b[0msolving_chain\u001b[0m\u001b[1;33m,\u001b[0m \u001b[0minverse_data\u001b[0m\u001b[1;33m)\u001b[0m\u001b[1;33m\u001b[0m\u001b[1;33m\u001b[0m\u001b[0m\n\u001b[0m\u001b[0;32m   1017\u001b[0m         \u001b[1;32mif\u001b[0m \u001b[0mverbose\u001b[0m\u001b[1;33m:\u001b[0m\u001b[1;33m\u001b[0m\u001b[1;33m\u001b[0m\u001b[0m\n",
      "\u001b[1;32mc:\\Users\\akaju\\anaconda3\\envs\\py_btms_controller\\lib\\site-packages\\cvxpy\\problems\\problem.py\u001b[0m in \u001b[0;36munpack_results\u001b[1;34m(self, solution, chain, inverse_data)\u001b[0m\n\u001b[0;32m   1342\u001b[0m                     \u001b[1;34m\"Solver '%s' failed. \"\u001b[0m \u001b[1;33m%\u001b[0m \u001b[0mchain\u001b[0m\u001b[1;33m.\u001b[0m\u001b[0msolver\u001b[0m\u001b[1;33m.\u001b[0m\u001b[0mname\u001b[0m\u001b[1;33m(\u001b[0m\u001b[1;33m)\u001b[0m \u001b[1;33m+\u001b[0m\u001b[1;33m\u001b[0m\u001b[1;33m\u001b[0m\u001b[0m\n\u001b[1;32m-> 1343\u001b[1;33m                     \u001b[1;34m\"Try another solver, or solve with verbose=True for more \"\u001b[0m\u001b[1;33m\u001b[0m\u001b[1;33m\u001b[0m\u001b[0m\n\u001b[0m\u001b[0;32m   1344\u001b[0m                     \"information.\")\n",
      "\u001b[1;31mSolverError\u001b[0m: Solver 'OSQP' failed. Try another solver, or solve with verbose=True for more information.",
      "\nDuring handling of the above exception, another exception occurred:\n",
      "\u001b[1;31mSolverError\u001b[0m                               Traceback (most recent call last)",
      "\u001b[1;32m~\\AppData\\Local\\Temp\\ipykernel_36668\\1543424634.py\u001b[0m in \u001b[0;36m<module>\u001b[1;34m\u001b[0m\n\u001b[0;32m     53\u001b[0m     \u001b[1;32mfor\u001b[0m \u001b[0mx\u001b[0m \u001b[1;32min\u001b[0m \u001b[0mchargingStations\u001b[0m\u001b[1;33m:\u001b[0m\u001b[1;33m\u001b[0m\u001b[1;33m\u001b[0m\u001b[0m\n\u001b[0;32m     54\u001b[0m         \u001b[1;32mif\u001b[0m \u001b[0misinstance\u001b[0m\u001b[1;33m(\u001b[0m\u001b[0mx\u001b[0m\u001b[1;33m,\u001b[0m \u001b[0mcomponents\u001b[0m\u001b[1;33m.\u001b[0m\u001b[0mChaDepMpcBase\u001b[0m\u001b[1;33m)\u001b[0m\u001b[1;33m:\u001b[0m\u001b[1;33m\u001b[0m\u001b[1;33m\u001b[0m\u001b[0m\n\u001b[1;32m---> 55\u001b[1;33m             \u001b[0mx\u001b[0m\u001b[1;33m.\u001b[0m\u001b[0mstep\u001b[0m\u001b[1;33m(\u001b[0m\u001b[0mtimestep\u001b[0m\u001b[1;33m,\u001b[0m \u001b[0mverbose\u001b[0m \u001b[1;33m=\u001b[0m \u001b[0mverbose\u001b[0m\u001b[1;33m)\u001b[0m\u001b[1;33m\u001b[0m\u001b[1;33m\u001b[0m\u001b[0m\n\u001b[0m\u001b[0;32m     56\u001b[0m         \u001b[1;32melse\u001b[0m\u001b[1;33m:\u001b[0m\u001b[1;33m\u001b[0m\u001b[1;33m\u001b[0m\u001b[0m\n\u001b[0;32m     57\u001b[0m             \u001b[0mx\u001b[0m\u001b[1;33m.\u001b[0m\u001b[0mstep\u001b[0m\u001b[1;33m(\u001b[0m\u001b[0mtimestep\u001b[0m\u001b[1;33m)\u001b[0m\u001b[1;33m\u001b[0m\u001b[1;33m\u001b[0m\u001b[0m\n",
      "\u001b[1;32mc:\\Users\\akaju\\Documents\\GitHub\\xfc-btms-saev-controller\\components\\ChaDepMpcBase.py\u001b[0m in \u001b[0;36mstep\u001b[1;34m(self, timestep, verbose)\u001b[0m\n\u001b[0;32m    510\u001b[0m             \u001b[0mprint\u001b[0m\u001b[1;33m(\u001b[0m\u001b[1;34m\"connected vehicles: \"\u001b[0m\u001b[1;33m,\u001b[0m \u001b[0mlen\u001b[0m\u001b[1;33m(\u001b[0m\u001b[0mself\u001b[0m\u001b[1;33m.\u001b[0m\u001b[0mChBaVehicles\u001b[0m\u001b[1;33m)\u001b[0m\u001b[1;33m-\u001b[0m\u001b[0mself\u001b[0m\u001b[1;33m.\u001b[0m\u001b[0mChBaVehicles\u001b[0m\u001b[1;33m.\u001b[0m\u001b[0mcount\u001b[0m\u001b[1;33m(\u001b[0m\u001b[1;32mFalse\u001b[0m\u001b[1;33m)\u001b[0m\u001b[1;33m)\u001b[0m\u001b[1;33m\u001b[0m\u001b[1;33m\u001b[0m\u001b[0m\n\u001b[0;32m    511\u001b[0m \u001b[1;33m\u001b[0m\u001b[0m\n\u001b[1;32m--> 512\u001b[1;33m         \u001b[0mP_BTMS\u001b[0m\u001b[1;33m,\u001b[0m \u001b[0mP_Charge\u001b[0m \u001b[1;33m=\u001b[0m \u001b[0mself\u001b[0m\u001b[1;33m.\u001b[0m\u001b[0mrunMpc\u001b[0m\u001b[1;33m(\u001b[0m\u001b[0mtimestep\u001b[0m\u001b[1;33m,\u001b[0m \u001b[0mself\u001b[0m\u001b[1;33m.\u001b[0m\u001b[0mN\u001b[0m\u001b[1;33m,\u001b[0m \u001b[0mself\u001b[0m\u001b[1;33m.\u001b[0m\u001b[0mSimBroker\u001b[0m\u001b[1;33m,\u001b[0m \u001b[0mverbose\u001b[0m \u001b[1;33m=\u001b[0m \u001b[0mverbose\u001b[0m\u001b[1;33m)\u001b[0m\u001b[1;33m\u001b[0m\u001b[1;33m\u001b[0m\u001b[0m\n\u001b[0m\u001b[0;32m    513\u001b[0m \u001b[1;33m\u001b[0m\u001b[0m\n\u001b[0;32m    514\u001b[0m         \u001b[1;32mif\u001b[0m \u001b[0mverbose\u001b[0m\u001b[1;33m:\u001b[0m\u001b[1;33m\u001b[0m\u001b[1;33m\u001b[0m\u001b[0m\n",
      "\u001b[1;32mc:\\Users\\akaju\\Documents\\GitHub\\xfc-btms-saev-controller\\components\\ChaDepMpcBase.py\u001b[0m in \u001b[0;36mrunMpc\u001b[1;34m(self, timestep, N, SimBroker, M1, M2, verbose)\u001b[0m\n\u001b[0;32m    475\u001b[0m             \u001b[0mprint\u001b[0m\u001b[1;33m(\u001b[0m\u001b[1;34m'setting up the problem again, solving with verbose = True'\u001b[0m\u001b[1;33m)\u001b[0m\u001b[1;33m\u001b[0m\u001b[1;33m\u001b[0m\u001b[0m\n\u001b[0;32m    476\u001b[0m             \u001b[0mprob\u001b[0m \u001b[1;33m=\u001b[0m \u001b[0mcp\u001b[0m\u001b[1;33m.\u001b[0m\u001b[0mProblem\u001b[0m\u001b[1;33m(\u001b[0m\u001b[0mcp\u001b[0m\u001b[1;33m.\u001b[0m\u001b[0mMinimize\u001b[0m\u001b[1;33m(\u001b[0m\u001b[0mcost\u001b[0m\u001b[1;33m)\u001b[0m\u001b[1;33m,\u001b[0m \u001b[0mconstr\u001b[0m\u001b[1;33m)\u001b[0m\u001b[1;33m\u001b[0m\u001b[1;33m\u001b[0m\u001b[0m\n\u001b[1;32m--> 477\u001b[1;33m             \u001b[0mprob\u001b[0m\u001b[1;33m.\u001b[0m\u001b[0msolve\u001b[0m\u001b[1;33m(\u001b[0m\u001b[0mverbose\u001b[0m \u001b[1;33m=\u001b[0m \u001b[1;32mTrue\u001b[0m\u001b[1;33m)\u001b[0m\u001b[1;33m\u001b[0m\u001b[1;33m\u001b[0m\u001b[0m\n\u001b[0m\u001b[0;32m    478\u001b[0m             \u001b[0mprint\u001b[0m\u001b[1;33m(\u001b[0m\u001b[1;34m'now solver succeeded'\u001b[0m\u001b[1;33m)\u001b[0m\u001b[1;33m\u001b[0m\u001b[1;33m\u001b[0m\u001b[0m\n\u001b[0;32m    479\u001b[0m \u001b[1;33m\u001b[0m\u001b[0m\n",
      "\u001b[1;32mc:\\Users\\akaju\\anaconda3\\envs\\py_btms_controller\\lib\\site-packages\\cvxpy\\problems\\problem.py\u001b[0m in \u001b[0;36msolve\u001b[1;34m(self, *args, **kwargs)\u001b[0m\n\u001b[0;32m    479\u001b[0m         \u001b[1;32melse\u001b[0m\u001b[1;33m:\u001b[0m\u001b[1;33m\u001b[0m\u001b[1;33m\u001b[0m\u001b[0m\n\u001b[0;32m    480\u001b[0m             \u001b[0msolve_func\u001b[0m \u001b[1;33m=\u001b[0m \u001b[0mProblem\u001b[0m\u001b[1;33m.\u001b[0m\u001b[0m_solve\u001b[0m\u001b[1;33m\u001b[0m\u001b[1;33m\u001b[0m\u001b[0m\n\u001b[1;32m--> 481\u001b[1;33m         \u001b[1;32mreturn\u001b[0m \u001b[0msolve_func\u001b[0m\u001b[1;33m(\u001b[0m\u001b[0mself\u001b[0m\u001b[1;33m,\u001b[0m \u001b[1;33m*\u001b[0m\u001b[0margs\u001b[0m\u001b[1;33m,\u001b[0m \u001b[1;33m**\u001b[0m\u001b[0mkwargs\u001b[0m\u001b[1;33m)\u001b[0m\u001b[1;33m\u001b[0m\u001b[1;33m\u001b[0m\u001b[0m\n\u001b[0m\u001b[0;32m    482\u001b[0m \u001b[1;33m\u001b[0m\u001b[0m\n\u001b[0;32m    483\u001b[0m     \u001b[1;33m@\u001b[0m\u001b[0mclassmethod\u001b[0m\u001b[1;33m\u001b[0m\u001b[1;33m\u001b[0m\u001b[0m\n",
      "\u001b[1;32mc:\\Users\\akaju\\anaconda3\\envs\\py_btms_controller\\lib\\site-packages\\cvxpy\\problems\\problem.py\u001b[0m in \u001b[0;36m_solve\u001b[1;34m(self, solver, warm_start, verbose, gp, qcp, requires_grad, enforce_dpp, ignore_dpp, **kwargs)\u001b[0m\n\u001b[0;32m   1014\u001b[0m         \u001b[0mend\u001b[0m \u001b[1;33m=\u001b[0m \u001b[0mtime\u001b[0m\u001b[1;33m.\u001b[0m\u001b[0mtime\u001b[0m\u001b[1;33m(\u001b[0m\u001b[1;33m)\u001b[0m\u001b[1;33m\u001b[0m\u001b[1;33m\u001b[0m\u001b[0m\n\u001b[0;32m   1015\u001b[0m         \u001b[0mself\u001b[0m\u001b[1;33m.\u001b[0m\u001b[0m_solve_time\u001b[0m \u001b[1;33m=\u001b[0m \u001b[0mend\u001b[0m \u001b[1;33m-\u001b[0m \u001b[0mstart\u001b[0m\u001b[1;33m\u001b[0m\u001b[1;33m\u001b[0m\u001b[0m\n\u001b[1;32m-> 1016\u001b[1;33m         \u001b[0mself\u001b[0m\u001b[1;33m.\u001b[0m\u001b[0munpack_results\u001b[0m\u001b[1;33m(\u001b[0m\u001b[0msolution\u001b[0m\u001b[1;33m,\u001b[0m \u001b[0msolving_chain\u001b[0m\u001b[1;33m,\u001b[0m \u001b[0minverse_data\u001b[0m\u001b[1;33m)\u001b[0m\u001b[1;33m\u001b[0m\u001b[1;33m\u001b[0m\u001b[0m\n\u001b[0m\u001b[0;32m   1017\u001b[0m         \u001b[1;32mif\u001b[0m \u001b[0mverbose\u001b[0m\u001b[1;33m:\u001b[0m\u001b[1;33m\u001b[0m\u001b[1;33m\u001b[0m\u001b[0m\n\u001b[0;32m   1018\u001b[0m             \u001b[0mprint\u001b[0m\u001b[1;33m(\u001b[0m\u001b[0m_FOOTER\u001b[0m\u001b[1;33m)\u001b[0m\u001b[1;33m\u001b[0m\u001b[1;33m\u001b[0m\u001b[0m\n",
      "\u001b[1;32mc:\\Users\\akaju\\anaconda3\\envs\\py_btms_controller\\lib\\site-packages\\cvxpy\\problems\\problem.py\u001b[0m in \u001b[0;36munpack_results\u001b[1;34m(self, solution, chain, inverse_data)\u001b[0m\n\u001b[0;32m   1341\u001b[0m             raise error.SolverError(\n\u001b[0;32m   1342\u001b[0m                     \u001b[1;34m\"Solver '%s' failed. \"\u001b[0m \u001b[1;33m%\u001b[0m \u001b[0mchain\u001b[0m\u001b[1;33m.\u001b[0m\u001b[0msolver\u001b[0m\u001b[1;33m.\u001b[0m\u001b[0mname\u001b[0m\u001b[1;33m(\u001b[0m\u001b[1;33m)\u001b[0m \u001b[1;33m+\u001b[0m\u001b[1;33m\u001b[0m\u001b[1;33m\u001b[0m\u001b[0m\n\u001b[1;32m-> 1343\u001b[1;33m                     \u001b[1;34m\"Try another solver, or solve with verbose=True for more \"\u001b[0m\u001b[1;33m\u001b[0m\u001b[1;33m\u001b[0m\u001b[0m\n\u001b[0m\u001b[0;32m   1344\u001b[0m                     \"information.\")\n\u001b[0;32m   1345\u001b[0m \u001b[1;33m\u001b[0m\u001b[0m\n",
      "\u001b[1;31mSolverError\u001b[0m: Solver 'OSQP' failed. Try another solver, or solve with verbose=True for more information."
     ]
    }
   ],
   "source": [
    "SimBroker.reset()\n",
    "ResultWriter.reset()\n",
    "# charging station is not resetted\n",
    "\n",
    "# charging station BtmsEn and P_GridLast was initialized in planning()-function\n",
    "\n",
    "# determine iterations for progress bar\n",
    "max_iter = np.ceil((SimBroker.SimRes.index[-1] - SimBroker.SimRes.index[0])/timestep)\n",
    "# print maximum iterations\n",
    "print(\"maximum iterations: \" + str(int(max_iter)))\n",
    "\n",
    "#initialize progress bar\n",
    "progress_bar = tqdm(desc = \"MPC simulation\", total=max_iter)\n",
    "\n",
    "iteration = 0\n",
    "\n",
    "while not SimBroker.eol():\n",
    "    # update progress bar\n",
    "    #progress_bar.update(1)\n",
    "    \n",
    "    # Sim Broker Step\n",
    "    slice = SimBroker.step(timestep)\n",
    "\n",
    "    #update values from DERMS and PhysicalSimulation\n",
    "    for x in chargingStations:\n",
    "        # update SiteNet Power Limits from Derms\n",
    "        GridPowerLower, GridPowerUpper = DermsDummy.output(x.ChargingStationId)\n",
    "        x.updateFromDerms(GridPowerLower, GridPowerUpper)\n",
    "        # update CES SOC from PhysicalSimulation\n",
    "        x.updateFromPhySim(PhySimDummy.output(x.ChargingStationId))\n",
    "\n",
    "    # generate Vehicles if charging Plug in event\n",
    "    for i in range(0, len(slice)):\n",
    "        if slice.iloc[i][\"type\"] == \"ChargingPlugInEvent\":\n",
    "            # generate vehicle\n",
    "            vehicle = VehicleGenerator.generateVehicleSO(slice.iloc[i])\n",
    "            # let vehicle arrive at a charging station - here depending on taz\n",
    "            taz = int(slice.iloc[i][\"parkingTaz\"]) # this is a str\n",
    "            #find out which chargingStation belongs to the taz\n",
    "            res = chargingStationMappedToTaz.isin([taz]).any().values\n",
    "            index = np.where(res == True)[0][0]\n",
    "\n",
    "            #let vehicles arrive at designated chargingStation\n",
    "            if useOnlyOneChargingStation:\n",
    "                if index == useChargingStation:\n",
    "                    chargingStations[index].arrival(vehicle, SimBroker.t_act)\n",
    "            else: \n",
    "                chargingStations[index].arrival(vehicle, SimBroker.t_act)\n",
    "\n",
    "    ## control action and simulation\n",
    "    \n",
    "    # call step function\n",
    "    for x in chargingStations:\n",
    "        if isinstance(x, components.ChaDepMpcBase):\n",
    "            x.step(timestep, verbose = verbose)\n",
    "        else:\n",
    "            x.step(timestep)\n",
    "    \n",
    "    # provide outputs\n",
    "    for x in chargingStations:\n",
    "        PhySimDummy.input(x.ChargingStationId, sum(x.ChBaPower), x.BtmsPower, timestep)\n",
    "        DermsDummy.input(x.ChargingStationId, x.PowerDesire)\n",
    "\n",
    "    '''for testing'''\n",
    "    if iteration>45:\n",
    "         break\n",
    "    iteration +=1\n",
    "    #if SimBroker.t_act >= 26000:\n",
    "    #    break\n",
    "progress_bar.close()\n",
    "print(\"number of iterations:\" +str(iteration))\n",
    "    "
   ]
  },
  {
   "cell_type": "code",
   "execution_count": 40,
   "metadata": {},
   "outputs": [
    {
     "name": "stdout",
     "output_type": "stream",
     "text": [
      "actual Iteration: 10\n",
      "actual time: 21463\n"
     ]
    }
   ],
   "source": [
    "print(\"actual Iteration: \" + str(SimBroker.iteration))\n",
    "print(\"actual time: \" + str(SimBroker.t_act))"
   ]
  },
  {
   "cell_type": "code",
   "execution_count": 45,
   "metadata": {},
   "outputs": [],
   "source": [
    "showVehicle = 0"
   ]
  },
  {
   "cell_type": "code",
   "execution_count": 46,
   "metadata": {},
   "outputs": [
    {
     "name": "stdout",
     "output_type": "stream",
     "text": [
      "Vehicle with the following properties: \n",
      "VehicleId: 2165814 VehicleType: ev-L1-0-to-50000-LowTech-2035-SUV-BEV_200 Arrival: 20867 Desired End Time: 21622 Vehicle Energy: 13.313254461304105 Desired Energy: 44.77158779463744 SOC: 0.23786722116620454 Maximal Energy: 55.96926888888889 Max Charging Power: 150.0 Charging Desire: 4.748427672955975 Energy Lag: -24.833333333333336 Time Lag: -159\n",
      "current time:  21463\n",
      "Vehicle Number in ChBa:  0\n"
     ]
    }
   ],
   "source": [
    "print(chargingStations[0].ChBaVehicles[showVehicle])\n",
    "print(\"current time: \", SimBroker.t_act)\n",
    "print(\"Vehicle Number in ChBa: \", showVehicle)\n",
    "lower, upper = chargingStations[0].ChBaVehicles[showVehicle].getChargingTrajectories(SimBroker.t_act, timestep, 10)\n",
    "fig, ax = plt.subplots(1,1)\n",
    "plt.plot(lower, label=\"lower bound\")\n",
    "plt.plot(upper, label= \"upper bound\")\n",
    "plt.legend()\n",
    "ax.set_xlabel(\"control steps\")\n",
    "ax.set_ylabel(\"energy [kWh]\")\n",
    "\n",
    "showVehicle += 1"
   ]
  },
  {
   "cell_type": "code",
   "execution_count": 41,
   "metadata": {},
   "outputs": [
    {
     "name": "stdout",
     "output_type": "stream",
     "text": [
      "[ 0.  12.5 25.  25.  25.  25.  25.  25.  25.  25.  25. ]\n",
      "[ 0.         12.5        25.         31.45833333 31.45833333 31.45833333\n",
      " 31.45833333 31.45833333 31.45833333 31.45833333 31.45833333]\n"
     ]
    }
   ],
   "source": [
    "print(lower)\n",
    "print(upper)"
   ]
  },
  {
   "cell_type": "markdown",
   "metadata": {},
   "source": [
    "#### sneak peak into results"
   ]
  },
  {
   "cell_type": "code",
   "execution_count": null,
   "metadata": {},
   "outputs": [],
   "source": [
    "df3 = ResultWriter.ChargingStationStates\n",
    "df3"
   ]
  },
  {
   "cell_type": "markdown",
   "metadata": {},
   "source": []
  },
  {
   "cell_type": "code",
   "execution_count": null,
   "metadata": {},
   "outputs": [],
   "source": [
    "print(\"actual time in [s]: \", SimBroker.t_act)"
   ]
  },
  {
   "cell_type": "code",
   "execution_count": null,
   "metadata": {},
   "outputs": [],
   "source": [
    "VehicleStates = ResultWriter.VehicleStates.loc[ResultWriter.VehicleStates.VehicleId == 6506887.0]\n",
    "VehicleStates.head(40)"
   ]
  },
  {
   "cell_type": "code",
   "execution_count": null,
   "metadata": {},
   "outputs": [],
   "source": [
    "VehicleEvents = ResultWriter.Events.loc[ResultWriter.Events.VehicleId == 6506887.0]\n",
    "VehicleEvents.head(40)"
   ]
  },
  {
   "cell_type": "code",
   "execution_count": null,
   "metadata": {},
   "outputs": [],
   "source": [
    "checkIteration = 7\n",
    "newDf = pd.DataFrame([df3.loc[checkIteration].BaysChargingPower, df3.loc[checkIteration].BaysChargingDesire, df3.loc[checkIteration].BaysVehicleIds]).T\n",
    "newDf.columns = [\"BaysChargingPower\", \"BaysChargingDesire\", \"BaysVehicleIds\"]\n",
    "newDf.head(25)"
   ]
  },
  {
   "cell_type": "code",
   "execution_count": null,
   "metadata": {},
   "outputs": [],
   "source": [
    "ResultWriter.chargingStationProperties"
   ]
  },
  {
   "cell_type": "markdown",
   "metadata": {},
   "source": [
    "#### save results"
   ]
  },
  {
   "cell_type": "code",
   "execution_count": null,
   "metadata": {},
   "outputs": [],
   "source": [
    "ResultWriter.save()"
   ]
  },
  {
   "cell_type": "markdown",
   "metadata": {},
   "source": [
    "#### plot results"
   ]
  },
  {
   "cell_type": "code",
   "execution_count": null,
   "metadata": {},
   "outputs": [],
   "source": [
    "for y in chargingStations[0].Queue:\n",
    "    print(\"delta t: \" + str(y.VehicleDesEnd-y.VehicleArrival) + \" delta E:\" + str(y.VehicleDesEngy - y.VehicleEngy))\n",
    "    print(y.updateEnergyLag(SimBroker.t_act))"
   ]
  },
  {
   "cell_type": "code",
   "execution_count": null,
   "metadata": {},
   "outputs": [],
   "source": [
    "import matplotlib.pyplot as plt\n",
    "loadDataFromFile = False\n",
    "plotChargingStation = 0\n",
    "\n",
    "if loadDataFromFile == True:\n",
    "    # need to add code to load this from file\n",
    "    pass\n",
    "else:\n",
    "    ChSt = ResultWriter.ChargingStationStates.loc[ResultWriter.ChargingStationStates.ChargingStationID ==\n",
    "                                                  chargingStations[plotChargingStation].ChargingStationId]\n",
    "\n",
    "fig, ax = plt.subplots(4, 1, sharex=True)\n",
    "fig.suptitle(chargingStations[plotChargingStation].ChargingStationId)\n",
    "ax[0].step(ChSt.time/3600, ChSt.BaysNumberOfVehicles,\n",
    "           label=\"#Vehicles in Charging Bays\")\n",
    "ax[0].step(ChSt.time/3600, ChSt.QueueNumberOfVehicles,\n",
    "           label=\"#Vehicles in Queue\")\n",
    "ax[0].legend(loc='center left', bbox_to_anchor=(1, 0.5))\n",
    "# ax[0].grid()\n",
    "\n",
    "#ax[1].step(ChSt.time/3600, ChSt.GridPowerUpper, label = \"Upper Power Limit [kW]\")\n",
    "ax[1].step(ChSt.time/3600, ChSt.TotalChargingPower,\n",
    "           label=\"Total Charging Power [kW]\")\n",
    "ax[1].step(ChSt.time/3600, ChSt.TotalChargingPower +\n",
    "           ChSt.BtmsPower, label=\"Net Power [kW]\")\n",
    "#ax[1].step(ChSt.time/3600, ChSt.BtmsPower, label = \"Net Power [kW]\")\n",
    "ax[1].legend(loc='center left', bbox_to_anchor=(1, 0.5))\n",
    "# ax[1].grid()\n",
    "\n",
    "ax[2].plot(ChSt.time/3600, ChSt.BtmsEnergy,\n",
    "           label=\"BTMS Energy [kWh]\", color=\"blue\")\n",
    "ax[2].set_ylabel(\"BTMS Energy [kWh]\", color=\"blue\")\n",
    "if case == 2 or case == 3:\n",
    "    ax[2].plot(ChSt.time/3600, chargingStations[plotChargingStation].E_BtmsLower[0:np.shape(\n",
    "        ChSt.time)[0]], color='grey', label=\"lower bound planning\")\n",
    "    ax[2].plot(ChSt.time/3600, chargingStations[plotChargingStation].E_BtmsUpper[0:np.shape(\n",
    "        ChSt.time)[0]], color='grey', label=\"upper bound planning\")\n",
    "\n",
    "y1 = chargingStations[plotChargingStation].BtmsSize * \\\n",
    "    chargingStations[plotChargingStation].BtmsMaxSoc\n",
    "ax[2].axhline(y=y1, linestyle=\"--\", color=\"black\")\n",
    "\n",
    "y2 = chargingStations[plotChargingStation].BtmsSize * \\\n",
    "    chargingStations[plotChargingStation].BtmsMinSoc\n",
    "ax[2].axhline(y=y2, linestyle=\"--\", color=\"black\")\n",
    "# ax[2].grid()\n",
    "\n",
    "ylim = ax[2].get_ylim()\n",
    "ax[2].set_ylim([ylim[0], 1.07*ylim[1]])\n",
    "ylim = ax[2].get_ylim()\n",
    "print(ylim)\n",
    "dy = ylim[1]-ylim[0]\n",
    "xlim = ax[2].get_xlim()\n",
    "x = xlim[0]\n",
    "dx = xlim[1]-xlim[0]\n",
    "ax[2].text(x+0.02*dx, y1+0.03*dy, \"max. SOC\")\n",
    "ax[2].text(x+0.02*dx, y2+0.03*dy, \"min. SOC\")\n",
    "\n",
    "ax1 = ax[2].twinx()\n",
    "ax1.step(ChSt.time/3600, ChSt.BtmsPower, label=\"BTMS Power [kW]\", color=\"red\")\n",
    "ax1.set_ylabel(\"BTMS Power [kW]\", color=\"red\")\n",
    "ax1.set_ylim([-chargingStations[plotChargingStation].GridPowerMax_Nom,\n",
    "             chargingStations[plotChargingStation].GridPowerMax_Nom])\n",
    "\n",
    "\n",
    "ax[3].plot(ChSt.time/3600, ChSt.EnergyLagSum,\n",
    "           label=\"Sum of Energy Lags [kWh]\", color=\"blue\")\n",
    "ax[3].axhline(y=0, color=\"black\")\n",
    "ax[3].set_ylabel(\"Sum of Energy Lags [kWh]\", color=\"blue\")\n",
    "#ax[3].legend(loc= 'center left', bbox_to_anchor=(1, 0.5))\n",
    "\n",
    "ax2 = ax[3].twinx()\n",
    "ax2.plot(ChSt.time/3600, ChSt.TimeLagSum/60,\n",
    "         label=\"Sum of Time Lags [min]\", color=\"red\")\n",
    "ax2.set_ylabel(\"Sum of Time Lags [min]\", color=\"red\")\n",
    "\n",
    "ax[3].set_xlabel(\"time [h]\")\n",
    "\n",
    "fig.set_size_inches(7, 10)\n"
   ]
  },
  {
   "cell_type": "code",
   "execution_count": null,
   "metadata": {},
   "outputs": [],
   "source": [
    "print('Btms lower bound, upper bound, actual)')\n",
    "print(chargingStations[0].E_BtmsLower[SimBroker.iteration])\n",
    "print(chargingStations[0].E_BtmsUpper[SimBroker.iteration])\n",
    "print(chargingStations[0].BtmsEn)\n",
    "\n",
    "N = 5\n",
    "E_V_lower = np.zeros(N+1)\n",
    "E_V_upper = np.zeros(N+1)\n",
    "for x in chargingStations[0].ChBaVehicles:\n",
    "    if x != False:\n",
    "        upper, lower = x.getChargingTrajectories(SimBroker.t_act, timestep, N)\n",
    "        E_V_upper = np.add(E_V_upper, upper)\n",
    "        E_V_lower = np.add(E_V_lower, lower)\n",
    "print(E_V_lower)\n",
    "print(E_V_upper)"
   ]
  }
 ],
 "metadata": {
  "interpreter": {
   "hash": "9478aa59fb21f09a65f1f155627aebe0f290791ff3152ffe0eaa81705a6b9515"
  },
  "kernelspec": {
   "display_name": "Python 3.7.12 ('py_btms_controller')",
   "language": "python",
   "name": "python3"
  },
  "language_info": {
   "codemirror_mode": {
    "name": "ipython",
    "version": 3
   },
   "file_extension": ".py",
   "mimetype": "text/x-python",
   "name": "python",
   "nbconvert_exporter": "python",
   "pygments_lexer": "ipython3",
   "version": "3.7.12"
  },
  "orig_nbformat": 4
 },
 "nbformat": 4,
 "nbformat_minor": 2
}
