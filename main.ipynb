{
 "cells": [
  {
   "cell_type": "code",
   "execution_count": 1,
   "metadata": {},
   "outputs": [],
   "source": [
    "import components\n",
    "import pandas as pd\n",
    "import numpy as np\n",
    "import matplotlib.pyplot as plt\n",
    "path_results = \"results/\""
   ]
  },
  {
   "cell_type": "markdown",
   "metadata": {},
   "source": [
    "### simulation"
   ]
  },
  {
   "cell_type": "markdown",
   "metadata": {},
   "source": [
    "#### initialize helper objects for simulation\n",
    "- SimulationBroker\n",
    "- VehicleGenerator\n",
    "- ResultWriter"
   ]
  },
  {
   "cell_type": "code",
   "execution_count": 2,
   "metadata": {},
   "outputs": [],
   "source": [
    "# simulation broker\n",
    "path_Sim = \"test_data/beam1/beam1-0.csv\"\n",
    "dtype_Sim = {\n",
    "       'time': 'int64', 'type': 'category', 'vehicle': 'int64', 'parkingTaz': 'category','chargingPointType': 'category', \n",
    "       'primaryFuelLevel': 'float64', 'mode': 'category', 'currentTourMode': 'category', 'vehicleType': 'category', \n",
    "       'arrivalTime': 'float64', 'departureTime': 'float64', 'linkTravelTime': 'string', 'primaryFuelType': 'category', \n",
    "       'parkingZoneId': 'category','duration': 'float64' \n",
    "        }\n",
    "SimBroker = components.SimBroker(path_Sim, dtype_Sim)\n",
    "\n",
    "# vehicle generator\n",
    "path_DataBase = \"test_data/vehicleFiles/vehicletypes-Base_2035_20210204_updated.csv\"\n",
    "VehicleGenerator = components.VehicleGenerator(path_Sim, dtype_Sim, path_DataBase)\n",
    "\n",
    "path_save = path_results+\"sim1\"\n",
    "ResultWriter = components.ResultWriter(path_save)"
   ]
  },
  {
   "cell_type": "code",
   "execution_count": 3,
   "metadata": {},
   "outputs": [
    {
     "data": {
      "text/html": [
       "<div>\n",
       "<style scoped>\n",
       "    .dataframe tbody tr th:only-of-type {\n",
       "        vertical-align: middle;\n",
       "    }\n",
       "\n",
       "    .dataframe tbody tr th {\n",
       "        vertical-align: top;\n",
       "    }\n",
       "\n",
       "    .dataframe thead th {\n",
       "        text-align: right;\n",
       "    }\n",
       "</style>\n",
       "<table border=\"1\" class=\"dataframe\">\n",
       "  <thead>\n",
       "    <tr style=\"text-align: right;\">\n",
       "      <th></th>\n",
       "      <th>vehicleType</th>\n",
       "    </tr>\n",
       "    <tr>\n",
       "      <th>vehicle</th>\n",
       "      <th></th>\n",
       "    </tr>\n",
       "  </thead>\n",
       "  <tbody>\n",
       "    <tr>\n",
       "      <th>2517</th>\n",
       "      <td>ev-L1-0-to-50000-LowTech-2035-Midsize-BEV_300_XFC</td>\n",
       "    </tr>\n",
       "    <tr>\n",
       "      <th>9368</th>\n",
       "      <td>ev-L1-0-to-50000-LowTech-2035-Midsize-BEV_300_XFC</td>\n",
       "    </tr>\n",
       "    <tr>\n",
       "      <th>11104</th>\n",
       "      <td>ev-L1-0-to-50000-LowTech-2035-Car-BEV_300_XFC</td>\n",
       "    </tr>\n",
       "  </tbody>\n",
       "</table>\n",
       "</div>"
      ],
      "text/plain": [
       "                                               vehicleType\n",
       "vehicle                                                   \n",
       "2517     ev-L1-0-to-50000-LowTech-2035-Midsize-BEV_300_XFC\n",
       "9368     ev-L1-0-to-50000-LowTech-2035-Midsize-BEV_300_XFC\n",
       "11104        ev-L1-0-to-50000-LowTech-2035-Car-BEV_300_XFC"
      ]
     },
     "execution_count": 3,
     "metadata": {},
     "output_type": "execute_result"
    }
   ],
   "source": [
    "# show head of vehicles dataframe\n",
    "VehicleGenerator.vehicles.head(3)"
   ]
  },
  {
   "cell_type": "markdown",
   "metadata": {},
   "source": [
    "#### create charging stations\n",
    "1) map parkingZoneIds to charging stations with a dictionary\n",
    "2) create charging Stations"
   ]
  },
  {
   "cell_type": "code",
   "execution_count": 4,
   "metadata": {},
   "outputs": [],
   "source": [
    "# load infrastructure file into dataframe\n",
    "path_infrastructure = \"test_data/beam1/gemini-base-scenario-3-charging-no-household-infra16.csv\"\n",
    "usecols_infrastructure = [\"taz\", \"parkingType\", \"chargingPointType\", \"parkingZoneId\"]\n",
    "dtype_infrastructure = {\"taz\": \"int64\", \"parkingType\": \"category\", \"chargingPointType\": \"category\", \"parkingZoneId\": \"string\"}\n",
    "infrastructure = pd.read_csv(path_infrastructure, dtype=dtype_infrastructure, usecols=usecols_infrastructure)\n",
    "infrastructure = infrastructure.set_index(\"parkingZoneId\")\n",
    "# filter infrastructure for only public fast and extreme fast charging\n",
    "infrastructure = infrastructure.loc[infrastructure[\"parkingType\"] == \"Public\"]\n",
    "infrastructure = infrastructure.loc[infrastructure[\"chargingPointType\"].str.contains(\"publicfc|publicxfc\")]\n",
    "infrastructure = infrastructure.sort_values(by = [\"taz\", \"parkingZoneId\"])\n",
    "\n",
    "#now, make a dict of every parkingZoneId that belongs to a charging station\n",
    "# here, we will split the chargingstation\n",
    "chargingStationMappedToParkingZoneId = {}\n",
    "chargingStationMappedToTaz = {}\n",
    "stepsize = 200\n",
    "i = 0 \n",
    "j = 1\n",
    "stop = False\n",
    "while i < len(infrastructure) -1 :\n",
    "    name = \"chargingStation-\" + str(j)\n",
    "    # we want to make sure, that all the chargingBays of one TAZ are in one chargingStation\n",
    "    if i + stepsize < len(infrastructure) :\n",
    "        i_end = i+stepsize\n",
    "        while infrastructure.iloc[i_end][\"taz\"] == infrastructure.iloc[i_end+1][\"taz\"]:\n",
    "            i_end +=1 # if the taz is the same, we should increase reading to that taz\n",
    "            if i_end +1 >= len(infrastructure) - 1 : # make sure, that we don't try to read in the next step something that doesnt exist\n",
    "                stop = True\n",
    "                break\n",
    "    else: \n",
    "        i_end = len(infrastructure)-1\n",
    "    if not stop:\n",
    "        i_end += 1 # to also catch the last element\n",
    "    slice = infrastructure.iloc[i:i_end]\n",
    "    chargingStationMappedToParkingZoneId[name] = slice.index.to_list()\n",
    "    chargingStationMappedToTaz[name] = list(set(slice[\"taz\"].to_list())) # this removes duplicates\n",
    "    i = i_end # start reading next cycle at i\n",
    "    j += 1\n",
    "\n",
    "# we convert chargingStationMappedToTaz to a dataframe to use search methods\n",
    "chargingStationMappedToTaz = pd.DataFrame.from_dict(chargingStationMappedToTaz, orient='index')\n",
    "chargingStationMappedToTaz = chargingStationMappedToTaz.transpose()\n",
    "\n",
    "# #here, we will make chargingStation depending on TAZ. Therefore, get a list of the different TAZ and sort it:\n",
    "# taz = infrastructure.taz.drop_duplicates().to_list()\n",
    "# taz = sorted(taz)\n",
    "# while i < len(taz):\n",
    "#     name = \"chargingStation-\" + str(j)\n",
    "#     # slice = infrastructure.loc[infrastructure[\"taz\"].isin(taz[i:i+stepsize])]\n",
    "#     chargingStationMappedToParkingZoneId[name] = slice.index.to_list()\n",
    "#     i += stepsize\n",
    "#     j += 1"
   ]
  },
  {
   "cell_type": "code",
   "execution_count": 5,
   "metadata": {},
   "outputs": [
    {
     "data": {
      "text/html": [
       "<div>\n",
       "<style scoped>\n",
       "    .dataframe tbody tr th:only-of-type {\n",
       "        vertical-align: middle;\n",
       "    }\n",
       "\n",
       "    .dataframe tbody tr th {\n",
       "        vertical-align: top;\n",
       "    }\n",
       "\n",
       "    .dataframe thead th {\n",
       "        text-align: right;\n",
       "    }\n",
       "</style>\n",
       "<table border=\"1\" class=\"dataframe\">\n",
       "  <thead>\n",
       "    <tr style=\"text-align: right;\">\n",
       "      <th></th>\n",
       "      <th>taz</th>\n",
       "      <th>parkingType</th>\n",
       "      <th>chargingPointType</th>\n",
       "    </tr>\n",
       "    <tr>\n",
       "      <th>parkingZoneId</th>\n",
       "      <th></th>\n",
       "      <th></th>\n",
       "      <th></th>\n",
       "    </tr>\n",
       "  </thead>\n",
       "  <tbody>\n",
       "    <tr>\n",
       "      <th>X-PEV-9-1</th>\n",
       "      <td>9</td>\n",
       "      <td>Public</td>\n",
       "      <td>publicfc(150.0|DC)</td>\n",
       "    </tr>\n",
       "    <tr>\n",
       "      <th>X-PEV-11-1</th>\n",
       "      <td>11</td>\n",
       "      <td>Public</td>\n",
       "      <td>publicfc(150.0|DC)</td>\n",
       "    </tr>\n",
       "    <tr>\n",
       "      <th>X-PEV-12-1</th>\n",
       "      <td>12</td>\n",
       "      <td>Public</td>\n",
       "      <td>publicfc(150.0|DC)</td>\n",
       "    </tr>\n",
       "  </tbody>\n",
       "</table>\n",
       "</div>"
      ],
      "text/plain": [
       "               taz parkingType   chargingPointType\n",
       "parkingZoneId                                     \n",
       "X-PEV-9-1        9      Public  publicfc(150.0|DC)\n",
       "X-PEV-11-1      11      Public  publicfc(150.0|DC)\n",
       "X-PEV-12-1      12      Public  publicfc(150.0|DC)"
      ]
     },
     "execution_count": 5,
     "metadata": {},
     "output_type": "execute_result"
    }
   ],
   "source": [
    "infrastructure.head(3)"
   ]
  },
  {
   "cell_type": "code",
   "execution_count": 6,
   "metadata": {},
   "outputs": [
    {
     "data": {
      "text/html": [
       "<div>\n",
       "<style scoped>\n",
       "    .dataframe tbody tr th:only-of-type {\n",
       "        vertical-align: middle;\n",
       "    }\n",
       "\n",
       "    .dataframe tbody tr th {\n",
       "        vertical-align: top;\n",
       "    }\n",
       "\n",
       "    .dataframe thead th {\n",
       "        text-align: right;\n",
       "    }\n",
       "</style>\n",
       "<table border=\"1\" class=\"dataframe\">\n",
       "  <thead>\n",
       "    <tr style=\"text-align: right;\">\n",
       "      <th></th>\n",
       "      <th>chargingStation-1</th>\n",
       "      <th>chargingStation-2</th>\n",
       "      <th>chargingStation-3</th>\n",
       "    </tr>\n",
       "  </thead>\n",
       "  <tbody>\n",
       "    <tr>\n",
       "      <th>0</th>\n",
       "      <td>518.0</td>\n",
       "      <td>947.0</td>\n",
       "      <td>1280.0</td>\n",
       "    </tr>\n",
       "    <tr>\n",
       "      <th>1</th>\n",
       "      <td>520.0</td>\n",
       "      <td>948.0</td>\n",
       "      <td>1412.0</td>\n",
       "    </tr>\n",
       "    <tr>\n",
       "      <th>2</th>\n",
       "      <td>9.0</td>\n",
       "      <td>949.0</td>\n",
       "      <td>1273.0</td>\n",
       "    </tr>\n",
       "    <tr>\n",
       "      <th>3</th>\n",
       "      <td>11.0</td>\n",
       "      <td>950.0</td>\n",
       "      <td>1146.0</td>\n",
       "    </tr>\n",
       "    <tr>\n",
       "      <th>4</th>\n",
       "      <td>12.0</td>\n",
       "      <td>951.0</td>\n",
       "      <td>1161.0</td>\n",
       "    </tr>\n",
       "    <tr>\n",
       "      <th>...</th>\n",
       "      <td>...</td>\n",
       "      <td>...</td>\n",
       "      <td>...</td>\n",
       "    </tr>\n",
       "    <tr>\n",
       "      <th>112</th>\n",
       "      <td>478.0</td>\n",
       "      <td>NaN</td>\n",
       "      <td>NaN</td>\n",
       "    </tr>\n",
       "    <tr>\n",
       "      <th>113</th>\n",
       "      <td>485.0</td>\n",
       "      <td>NaN</td>\n",
       "      <td>NaN</td>\n",
       "    </tr>\n",
       "    <tr>\n",
       "      <th>114</th>\n",
       "      <td>486.0</td>\n",
       "      <td>NaN</td>\n",
       "      <td>NaN</td>\n",
       "    </tr>\n",
       "    <tr>\n",
       "      <th>115</th>\n",
       "      <td>497.0</td>\n",
       "      <td>NaN</td>\n",
       "      <td>NaN</td>\n",
       "    </tr>\n",
       "    <tr>\n",
       "      <th>116</th>\n",
       "      <td>504.0</td>\n",
       "      <td>NaN</td>\n",
       "      <td>NaN</td>\n",
       "    </tr>\n",
       "  </tbody>\n",
       "</table>\n",
       "<p>117 rows × 3 columns</p>\n",
       "</div>"
      ],
      "text/plain": [
       "     chargingStation-1  chargingStation-2  chargingStation-3\n",
       "0                518.0              947.0             1280.0\n",
       "1                520.0              948.0             1412.0\n",
       "2                  9.0              949.0             1273.0\n",
       "3                 11.0              950.0             1146.0\n",
       "4                 12.0              951.0             1161.0\n",
       "..                 ...                ...                ...\n",
       "112              478.0                NaN                NaN\n",
       "113              485.0                NaN                NaN\n",
       "114              486.0                NaN                NaN\n",
       "115              497.0                NaN                NaN\n",
       "116              504.0                NaN                NaN\n",
       "\n",
       "[117 rows x 3 columns]"
      ]
     },
     "execution_count": 6,
     "metadata": {},
     "output_type": "execute_result"
    }
   ],
   "source": [
    "chargingStationMappedToTaz"
   ]
  },
  {
   "cell_type": "code",
   "execution_count": 7,
   "metadata": {},
   "outputs": [
    {
     "name": "stdout",
     "output_type": "stream",
     "text": [
      "30\n",
      "chargingStation-1 was created with 30 charging bays and 3750.0kWh BTM-Storage\n",
      "30\n",
      "chargingStation-2 was created with 30 charging bays and 3750.0kWh BTM-Storage\n",
      "30\n",
      "chargingStation-3 was created with 30 charging bays and 3750.0kWh BTM-Storage\n"
     ]
    }
   ],
   "source": [
    "#create chargingStations\n",
    "chargingStations = [] # list of charging stations\n",
    "for i in chargingStationMappedToParkingZoneId:\n",
    "    #chargingStations.append(i)\n",
    "\n",
    "    ChargingStationId = i\n",
    "    # make a list with the powers of the bays:\n",
    "    ChBaMaxPower = []\n",
    "    for j in chargingStationMappedToParkingZoneId[i]:\n",
    "        power_string = infrastructure.loc[j, \"chargingPointType\"]\n",
    "        ChBaMaxPower.append(components.chargingCapFromString(power_string))\n",
    "    # for now, we assume that all charging bays have the same charging power\n",
    "    PowerMax = max(ChBaMaxPower)\n",
    "    len_power = len(ChBaMaxPower)\n",
    "    ChBaMaxPower = []\n",
    "    # make charging limit for each bay the same\n",
    "    for j in range(0, len_power):\n",
    "        ChBaMaxPower.append(PowerMax)\n",
    "    del PowerMax, len_power\n",
    "    \n",
    "    ChBaParkingZoneId = chargingStationMappedToParkingZoneId[i]\n",
    "    calcBtmsGridProp = True\n",
    "    \n",
    "    '''reduce number of charging bays to test controller'''\n",
    "    numStations = 30\n",
    "    ChBaMaxPower = ChBaMaxPower[0:numStations]\n",
    "    ChBaNum = len(ChBaMaxPower)\n",
    "    \n",
    "    ## specify here charging station\n",
    "    container = components.ChaDepMpcBase(ChargingStationId=ChargingStationId, ResultWriter=ResultWriter, SimBroker = SimBroker, ChBaMaxPower=ChBaMaxPower, ChBaParkingZoneId=ChBaParkingZoneId, ChBaNum = ChBaNum ,calcBtmsGridProp = True)\n",
    "    chargingStations.append(container)\n",
    "    print(ChargingStationId + \" was created with \" + str(container.ChBaNum) + \" charging bays and \" + str(container.BtmsSize) + \"kWh BTM-Storage\")\n",
    "\n",
    "'''write charging station properties to ResultWriter'''\n",
    "ResultWriter.saveChargingStationProperties(chargingStations)"
   ]
  },
  {
   "cell_type": "code",
   "execution_count": 8,
   "metadata": {},
   "outputs": [
    {
     "name": "stdout",
     "output_type": "stream",
     "text": [
      "30\n",
      "30\n"
     ]
    }
   ],
   "source": [
    "print(len(ChBaMaxPower))\n",
    "print(ChBaNum)"
   ]
  },
  {
   "cell_type": "markdown",
   "metadata": {},
   "source": [
    "- initialize helper objects for simulation input"
   ]
  },
  {
   "cell_type": "code",
   "execution_count": 9,
   "metadata": {},
   "outputs": [],
   "source": [
    "PhySimDummy = components.PhySimDummy(chargingStations)\n",
    "DermsDummy  = components.DermsDummy(chargingStations)"
   ]
  },
  {
   "cell_type": "markdown",
   "metadata": {},
   "source": [
    "#### initialize simulation\n",
    "initialize Grid Constraints and actual time of charging Station"
   ]
  },
  {
   "cell_type": "code",
   "execution_count": 10,
   "metadata": {},
   "outputs": [],
   "source": [
    "#reduce number of chargingStation for testing\n",
    "chargingStations = [chargingStations[0]]"
   ]
  },
  {
   "cell_type": "code",
   "execution_count": 11,
   "metadata": {},
   "outputs": [],
   "source": [
    "'''Simulation settings:'''\n",
    "timestep = 5 * 60"
   ]
  },
  {
   "cell_type": "code",
   "execution_count": 12,
   "metadata": {},
   "outputs": [],
   "source": [
    "for x in chargingStations:\n",
    "    GridPowerLower, GridPowerUpper = DermsDummy.output(x.ChargingStationId)\n",
    "    x.initialize(GridPowerLower = GridPowerLower, GridPowerUpper = GridPowerUpper)"
   ]
  },
  {
   "cell_type": "markdown",
   "metadata": {},
   "source": [
    "generate predictions for power use of charging station"
   ]
  },
  {
   "cell_type": "code",
   "execution_count": 13,
   "metadata": {},
   "outputs": [],
   "source": [
    "if type(chargingStations[0]) == components.ChaDepMpcBase:\n",
    "    for x in chargingStations:\n",
    "        x.generatePredictions(path_BeamPredictionFile = path_Sim, dtype = dtype_Sim, path_DataBase = path_DataBase, timestep = timestep, addNoise = True)"
   ]
  },
  {
   "cell_type": "markdown",
   "metadata": {},
   "source": [
    "plot prediction "
   ]
  },
  {
   "cell_type": "code",
   "execution_count": 14,
   "metadata": {},
   "outputs": [
    {
     "data": {
      "text/plain": [
       "[<matplotlib.lines.Line2D at 0x1ec4c8e2e48>]"
      ]
     },
     "execution_count": 14,
     "metadata": {},
     "output_type": "execute_result"
    },
    {
     "data": {
      "image/png": "[encoded data removed]",
      "text/plain": [
       "<Figure size 432x288 with 1 Axes>"
      ]
     },
     "metadata": {
      "needs_background": "light"
     },
     "output_type": "display_data"
    }
   ],
   "source": [
    "x = chargingStations[0]\n",
    "time = x.PredictionTime\n",
    "power = x.PredictionPower\n",
    "\n",
    "ax = plt.subplot()\n",
    "ax.plot(time,power)\n",
    "ax.plot(time,x.power_sum_original)"
   ]
  },
  {
   "cell_type": "markdown",
   "metadata": {},
   "source": [
    "BTMS size optimization\n",
    "\n",
    "see mpcBase.md for explanations"
   ]
  },
  {
   "cell_type": "code",
   "execution_count": 15,
   "metadata": {},
   "outputs": [
    {
     "data": {
      "image/png": "[encoded data removed]",
      "text/plain": [
       "<Figure size 432x288 with 2 Axes>"
      ]
     },
     "metadata": {
      "needs_background": "light"
     },
     "output_type": "display_data"
    }
   ],
   "source": [
    "a               = 20/30 #* ((SimBroker.t_max - SimBroker.t_act)/3.6e3)/24       # demand charge per day\n",
    "P_free_Ratio    =  1.0      # free power, after which demand charge is applied, as ratio to avg power\n",
    "b               = 200/5000    # btms cost per cycle\n",
    "c               = 0.15      # electricity cost per kWh\n",
    "\n",
    "Print = False\n",
    "Graph = True\n",
    "for i in range(0, len(chargingStations)):\n",
    "    x = chargingStations[i]\n",
    "    #determine P_free\n",
    "    avgPower = sum(x.PredictionPower*timestep)/(max(x.PredictionTime) + timestep - min(x.PredictionTime))\n",
    "    P_free = P_free_Ratio *avgPower\n",
    "    time, btms_size, P_Grid, P_BTMS, P_BTMS_Ch, P_BTMS_DCh, E_BTMS, P_Charge, cost = x.determineBtmsSize(SimBroker.t_act, SimBroker.t_max, timestep, a, b, c, P_free)\n",
    "    time = time/3.6e3 #conversion to hours\n",
    "    if Print:\n",
    "        print('\\n', x.ChargingStationId)\n",
    "        print('Optimization with free power level of', int(P_free), 'kW')\n",
    "        print('The determined effective BTMS size is', int(btms_size), 'kWh.')\n",
    "        cRating = max(abs(P_BTMS))/btms_size\n",
    "        print('The associated C-Rating is', cRating)\n",
    "        costLoss = c*(sum(P_BTMS_Ch*timestep/3.6e3) + sum(P_BTMS_DCh*timestep/3.6e3)) # btmsDCh is always negative\n",
    "        costCycle = b*sum(P_BTMS_Ch*timestep/3.6e3)\n",
    "        print('The cost-value is $', int(cost), 'from which $', int(a*(max(P_Grid)-P_free)), 'is associated with demand charge, $', int(costCycle), 'is associated with BTMS degradation and $', int(costLoss), 'is associated with energy losses')\n",
    "        E_total = sum(timestep/3.6e3*P_Charge)\n",
    "        print('The total delivered energy to the vehicles is', int(E_total), 'kWh, which results in an average power of' , int(E_total/(max(time)-min(time) + timestep/3.6e3)), 'kW')\n",
    "        print(int(-sum(P_BTMS_DCh*timestep/3.6e3)), 'kWh were delivered by the BTMS and charging losses of', int(sum(P_BTMS_DCh*timestep/3.6e3) + sum(P_BTMS_Ch*timestep/3.6e3)), 'kWh occured.')\n",
    "        print('The maximal grid power is', int(max(P_Grid)), 'kW')\n",
    "\n",
    "    if Graph:\n",
    "        cRating = max(abs(P_BTMS))/btms_size\n",
    "        E_total = sum(timestep/3.6e3*P_Charge)\n",
    "        avgPower = int(E_total/(max(time)-min(time) + timestep/3.6e3))\n",
    "        useFactor = -sum(P_BTMS_DCh*timestep/3.6e3) / btms_size\n",
    "        costLoss = c*(sum(P_BTMS_Ch*timestep/3.6e3) + sum(P_BTMS_DCh*timestep/3.6e3)) # btmsDCh is always negative\n",
    "        costCycle = b*sum(P_BTMS_Ch*timestep/3.6e3)\n",
    "        costDemand = a*(max(P_Grid)-P_free)\n",
    "        info_string1 = 'free power: ' + str(int(P_free)) + 'kW \\navg power: '+ str(int(avgPower)) +'kW \\nmax power: ' + str(int(max(P_Grid))) +'kW \\nBTMS-size: ' + str(int(btms_size)) + 'kWh \\nC-Rating: ' + \"{:.2f}\".format(cRating) + ' \\nuseFactor: ' + \"{:.2f}\".format(useFactor) +' \\n\\ncost: $' + str(int(cost)) + ' \\ndemand: $' +str(int(costDemand)) + '\\ncycle: $' + str(int(costCycle)) + '\\nloss: $' + str(int(costLoss))\n",
    "\n",
    "        fig, ax = plt.subplots(2,1, sharex = True)\n",
    "\n",
    "        ax[0].plot(time, E_BTMS, label = \"Energy_BTMS [kWh]\")\n",
    "        ax[0].legend(loc= 'center left', bbox_to_anchor=(1, 0.5))\n",
    "        fig.text(-0.12, 0, info_string1, horizontalalignment='right', verticalalignment='center', multialignment = 'left', transform=ax[0].transAxes, bbox=dict(facecolor='none', edgecolor='grey', pad=5.0))\n",
    "        #ax[0].text(0.5, 1, info_string2, horizontalalignment='right', verticalalignment='top', transform=ax[0].transAxes)\n",
    "\n",
    "        ax[1].step(time, P_BTMS, label = \"P_BTMS [kW]\")\n",
    "        ax[1].step(time, P_Grid, label = \"P_Grid [kW]\")\n",
    "        ax[1].step(time, P_Charge, label = \"P_Charge [kW]\")\n",
    "        ax[1].axhline(0, color = 'black')\n",
    "        ax[1].legend(loc= 'center left', bbox_to_anchor=(1, 0.5))\n",
    "        ax[1].set_xlabel(\"time in [h]\")"
   ]
  },
  {
   "cell_type": "markdown",
   "metadata": {},
   "source": [
    "further reduce btms size with a factor"
   ]
  },
  {
   "cell_type": "code",
   "execution_count": 20,
   "metadata": {},
   "outputs": [],
   "source": [
    "factor = 0.8\n",
    "for x in chargingStations:\n",
    "    x.BtmsSize = factor * x.determinedBtmsSize\n",
    "    x.BtmsMaxPower= factor * x.determinedMaxPower"
   ]
  },
  {
   "cell_type": "markdown",
   "metadata": {},
   "source": [
    "creat optimal day-ahead plan\n",
    "\n",
    "planning() (MPC Base - convex)"
   ]
  },
  {
   "cell_type": "code",
   "execution_count": 21,
   "metadata": {},
   "outputs": [
    {
     "name": "stdout",
     "output_type": "stream",
     "text": [
      "chargingStation-1\n",
      "solver name:  ECOS\n",
      "setup time:  0.0003343\n",
      "solve time:  0.0026503\n",
      "optimal\n",
      "\n"
     ]
    },
    {
     "data": {
      "image/png": "[encoded data removed]",
      "text/plain": [
       "<Figure size 504x432 with 3 Axes>"
      ]
     },
     "metadata": {
      "needs_background": "light"
     },
     "output_type": "display_data"
    }
   ],
   "source": [
    "a = 50/30               # demand charge cost\n",
    "P_free = P_free     # free power level\n",
    "b = b               # btms degradation cost\n",
    "c = c               # electricity cost\n",
    "d = 10               # waiting time cost of a vehicle in $/h\n",
    "P_avg = 200         # average charging cost of an vehicle\n",
    "cRating = 10      # if choosen different from None, constraints to enforce c rate are applied\n",
    "\n",
    "Graph = True\n",
    "\n",
    "for x in chargingStations:\n",
    "    time, P_Grid, P_BTMS, P_BTMS_Ch, P_BTMS_DCh, E_BTMS, E_Shift, P_Charge, P_Shift, t_wait_val, cost_t_wait, cost = x.planning(SimBroker.t_act, SimBroker.t_max, timestep, a, b, c, d, P_free, P_avg, cRating)\n",
    "    if Graph:\n",
    "        cRating = max(abs(P_BTMS))/x.BtmsSize\n",
    "        E_total = sum(timestep/3.6e3*P_Charge)\n",
    "        avgPower = int(E_total/(max(time)-min(time) + timestep/3.6e3))\n",
    "        useFactor = -sum(P_BTMS_DCh*timestep/3.6e3) / btms_size\n",
    "        costLoss = c*(sum(P_BTMS_Ch*timestep/3.6e3) + sum(P_BTMS_DCh*timestep/3.6e3)) # btmsDCh is always negative\n",
    "        costCycle = b*sum(P_BTMS_Ch*timestep/3.6e3)\n",
    "        costDemand = a*(max(P_Grid)-P_free)\n",
    "\n",
    "        info_string1 = 'free power: ' + str(int(P_free)) + 'kW \\navg power: '+ str(int(avgPower)) +'kW \\nmax power: ' + str(int(max(P_Grid))) +'kW \\nBTMS-size: ' + str(int(x.BtmsSize)) + 'kWh \\nC-Rating: ' + \"{:.2f}\".format(cRating) + ' \\nuseFactor: ' + \"{:.2f}\".format(useFactor) +' \\n\\ncost: $' + str(int(cost)) + ' \\ndemand: $' +str(int(costDemand)) + '\\ncycle: $' + str(int(costCycle)) + '\\nloss: $' + str(int(costLoss)) +'\\nwait: $' +str(int(cost_t_wait))\n",
    "\n",
    "        fig, ax = plt.subplots(3,1, sharex = True)\n",
    "        time1 = time.tolist()\n",
    "        time1.append(time[-1]+timestep)\n",
    "        ax[0].plot(time1, E_BTMS, label = \"Energy_BTMS [kWh]\")\n",
    "        ax[0].plot(time1, E_Shift, label = \"shifted Energy [kWh]\")\n",
    "        ax[0].axhline(x.BtmsSize, label = \"BTMS size[kWh]\", color = \"black\", linestyle =\"--\")\n",
    "        ax[0].legend(loc= 'center left', bbox_to_anchor=(1, 0.5))\n",
    "        fig.text(-0.12, 0, info_string1, horizontalalignment='right', verticalalignment='center', multialignment = 'left', transform=ax[0].transAxes, bbox=dict(facecolor='none', edgecolor='grey', pad=5.0))\n",
    "        #ax[0].text(0.5, 1, info_string2, horizontalalignment='right', verticalalignment='top', transform=ax[0].transAxes)\n",
    "\n",
    "        ax[1].step(time, P_BTMS, label = \"P_BTMS [kW]\")\n",
    "        ax[1].step(time, P_Grid, label = \"P_Grid [kW]\")\n",
    "        ax[1].step(time, P_Charge, label = \"P_Charge optimal [kW]\")\n",
    "        ax[1].step(time, P_Charge-P_Shift, label = \"P_Charge [kW]\")\n",
    "        ax[1].step(time, P_Shift, label = \"P_Shift [kW]\")\n",
    "        ax[1].axhline(0, color = 'black')\n",
    "        ax[1].legend(loc= 'center left', bbox_to_anchor=(1, 0.5))\n",
    "\n",
    "        if sum(t_wait_val)<0.0005:\n",
    "            t_wait_val = np.zeros_like(t_wait_val)\n",
    "        ax[2].step(time,t_wait_val*60, label = \"waiting time [min]\")\n",
    "        ax[2].legend(loc= 'center left', bbox_to_anchor=(1, 0.5))\n",
    "\n",
    "        ax[2].set_xlabel(\"time in [h]\")\n",
    "\n",
    "        fig.set_size_inches(7,6*3/3)"
   ]
  },
  {
   "cell_type": "markdown",
   "metadata": {},
   "source": [
    "planning1() MPC Base - nonconvex optimization"
   ]
  },
  {
   "cell_type": "code",
   "execution_count": 28,
   "metadata": {},
   "outputs": [
    {
     "name": "stdout",
     "output_type": "stream",
     "text": [
      "chargingStation-1\n",
      "solver name:  SCIP\n",
      "setup time:  None\n",
      "solve time:  0.9400734901428223\n",
      "optimal\n",
      "\n"
     ]
    },
    {
     "data": {
      "image/png": "[encoded data removed]",
      "text/plain": [
       "<Figure size 504x576 with 4 Axes>"
      ]
     },
     "metadata": {
      "needs_background": "light"
     },
     "output_type": "display_data"
    }
   ],
   "source": [
    "a = a               # demand charge cost\n",
    "P_free = P_free     # free power level\n",
    "b = b               # btms degradation cost\n",
    "c = c               # electricity cost\n",
    "d = 12.5              # waiting time cost of a vehicle in $/h\n",
    "P_avg = 200         # average charging cost of an vehicle\n",
    "\n",
    "Graph = True\n",
    "\n",
    "for x in chargingStations:\n",
    "    time, P_Grid, P_BTMS, P_BTMS_Ch, P_BTMS_DCh, E_BTMS, E_Shift, P_Charge, P_Shift, t_shift, y5, y, cost = x.planningNonLinear(SimBroker.t_act, SimBroker.t_max, timestep, a, b, c, d, P_free, P_avg)\n",
    "    if Graph:\n",
    "        cRating = max(abs(P_BTMS))/x.BtmsSize\n",
    "        E_total = sum(timestep/3.6e3*P_Charge)\n",
    "        avgPower = int(E_total/(max(time)-min(time) + timestep/3.6e3))\n",
    "        useFactor = -sum(P_BTMS_DCh*timestep/3.6e3) / btms_size\n",
    "        costLoss = c*(sum(P_BTMS_Ch*timestep/3.6e3) + sum(P_BTMS_DCh*timestep/3.6e3)) # btmsDCh is always negative\n",
    "        costCycle = b*sum(P_BTMS_Ch*timestep/3.6e3)\n",
    "        costDemand = a*(max(P_Grid)-P_free)\n",
    "\n",
    "        info_string1 = 'free power: ' + str(int(P_free)) + 'kW \\navg power: '+ str(int(avgPower)) +'kW \\nmax power: ' + str(int(max(P_Grid))) +'kW \\nBTMS-size: ' + str(int(x.BtmsSize)) + 'kWh \\nC-Rating: ' + \"{:.2f}\".format(cRating) + ' \\nuseFactor: ' + \"{:.2f}\".format(useFactor) +' \\n\\ncost: $' + str(int(cost)) + ' \\ndemand: $' +str(int(costDemand)) + '\\ncycle: $' + str(int(costCycle)) + '\\nloss: $' + str(int(costLoss))\n",
    "\n",
    "        fig, ax = plt.subplots(4,1, sharex = True)\n",
    "        time1 = time.tolist()\n",
    "        time1.append(time[-1]+timestep)\n",
    "        ax[0].plot(time1, E_BTMS, label = \"Energy_BTMS [kWh]\")\n",
    "        ax[0].plot(time1, E_Shift, label = \"shifted Energy [kWh]\")\n",
    "        ax[0].axhline(x.BtmsSize, label = \"BTMS size[kWh]\", color = \"black\", linestyle =\"--\")\n",
    "        ax[0].legend(loc= 'center left', bbox_to_anchor=(1, 0.5))\n",
    "        fig.text(-0.12, 0, info_string1, horizontalalignment='right', verticalalignment='center', multialignment = 'left', transform=ax[0].transAxes, bbox=dict(facecolor='none', edgecolor='grey', pad=5.0))\n",
    "        #ax[0].text(0.5, 1, info_string2, horizontalalignment='right', verticalalignment='top', transform=ax[0].transAxes)\n",
    "\n",
    "        ax[1].step(time, P_BTMS, label = \"P_BTMS [kW]\")\n",
    "        ax[1].step(time, P_Grid, label = \"P_Grid [kW]\")\n",
    "        ax[1].step(time, P_Charge, label = \"P_Charge optimal [kW]\")\n",
    "        ax[1].step(time, P_Charge-P_Shift, label = \"P_Charge [kW]\")\n",
    "        ax[1].step(time, P_Shift, label = \"P_Shift [kW]\")\n",
    "        ax[1].axhline(0, color = 'black')\n",
    "        ax[1].legend(loc= 'center left', bbox_to_anchor=(1, 0.5))\n",
    "        \n",
    "        if sum(t_shift)/len(t_shift)<0.0005:\n",
    "            t_shift = np.zeros_like(t_shift)\n",
    "        ax[2].step(time, t_shift*60, label = 't_shift [min]')\n",
    "        ax[2].step(time, timestep/60*y5, label = 't_idle [min]')\n",
    "        ax[2].legend(loc='center left', bbox_to_anchor=(1,0.5))\n",
    "        ax[2].set_xlabel(\"time in [h]\")\n",
    "\n",
    "        ax[3].step(time, y[0,:], label=\"y0\")\n",
    "        ax[3].step(time, y[1,:], label=\"y1\")\n",
    "        ax[3].step(time, y[2,:], label=\"y2\")\n",
    "        ax[3].step(time, y[3,:], label=\"y3\")\n",
    "        ax[3].step(time, y[4,:], label=\"y4\")\n",
    "        ax[3].step(time, y[5,:], label=\"y5\")\n",
    "        ax[3].legend(loc='center left', bbox_to_anchor=(1,0.5))\n",
    "\n",
    "        fig.set_size_inches(7,6*4/3)"
   ]
  },
  {
   "cell_type": "code",
   "execution_count": 29,
   "metadata": {},
   "outputs": [
    {
     "data": {
      "text/plain": [
       "array([0., 0., 0., 0., 0., 0., 0., 0., 0., 0., 0., 0., 0., 0., 0., 0., 0.,\n",
       "       0., 0., 0., 0., 0., 0., 0., 0., 0., 0., 0., 0., 0., 0., 0., 0., 0.,\n",
       "       0., 0., 0., 0., 0., 0., 0.])"
      ]
     },
     "execution_count": 29,
     "metadata": {},
     "output_type": "execute_result"
    }
   ],
   "source": [
    "y5"
   ]
  },
  {
   "cell_type": "code",
   "execution_count": 35,
   "metadata": {},
   "outputs": [
    {
     "name": "stdout",
     "output_type": "stream",
     "text": [
      "(42,)\n"
     ]
    }
   ],
   "source": [
    "time1 = time.tolist()\n",
    "time1.append(time[-1]+timestep)\n",
    "print(np.shape(time1))"
   ]
  },
  {
   "cell_type": "markdown",
   "metadata": {},
   "source": [
    "#### run simulation"
   ]
  },
  {
   "cell_type": "code",
   "execution_count": 11,
   "metadata": {},
   "outputs": [
    {
     "name": "stderr",
     "output_type": "stream",
     "text": [
      "c:\\Users\\akaju\\Documents\\GitHub\\xfc-btms-saev-controller\\components\\Vehicle.py:49: RuntimeWarning: invalid value encountered in double_scalars\n",
      "  E_reference = self.VehicleEngy_Arrival + (self.VehicleDesEngy-self.VehicleEngy_Arrival)/(self.VehicleDesEnd - self.VehicleArrival) * (t_act - self.VehicleArrival)\n"
     ]
    },
    {
     "name": "stdout",
     "output_type": "stream",
     "text": [
      "number of iterations:41\n"
     ]
    }
   ],
   "source": [
    "SimBroker.reset()\n",
    "ResultWriter.reset()\n",
    "# charging station is not resetted\n",
    "\n",
    "iteration = 0\n",
    "\n",
    "while not SimBroker.eol():\n",
    "\n",
    "    # Sim Broker Step\n",
    "    slice = SimBroker.step(timestep)\n",
    "\n",
    "    #update values from DERMS and PhysicalSimulation\n",
    "    for x in chargingStations:\n",
    "        # update SiteNet Power Limits from Derms\n",
    "        GridPowerLower, GridPowerUpper = DermsDummy.output(x.ChargingStationId)\n",
    "        x.updateFromDerms(GridPowerLower, GridPowerUpper)\n",
    "        # update CES SOC from PhysicalSimulation\n",
    "        x.updateFromPhySim(PhySimDummy.output(x.ChargingStationId))\n",
    "\n",
    "    # generate Vehicles if charging Plug in event\n",
    "    for i in range(0, len(slice)):\n",
    "        if slice.iloc[i][\"type\"] == \"ChargingPlugInEvent\":\n",
    "            # generate vehicle\n",
    "            vehicle = VehicleGenerator.generateVehicleSO(slice.iloc[i])\n",
    "            # let vehicle arrive at a charging station - here depending on taz\n",
    "            taz = int(slice.iloc[i][\"parkingTaz\"]) # this is a str\n",
    "            #find out which chargingStation belongs to the taz\n",
    "            res = chargingStationMappedToTaz.isin([taz]).any().values\n",
    "            index = np.where(res == True)[0][0]\n",
    "\n",
    "            #let vehicles arrive at designated chargingStation\n",
    "            chargingStations[index].arrival(vehicle, SimBroker.t_act)\n",
    "\n",
    "    #control action and simulation\n",
    "    \n",
    "    # call step function\n",
    "    for x in chargingStations:\n",
    "        x.step(timestep)\n",
    "\n",
    "    # provide outputs\n",
    "    for x in chargingStations:\n",
    "        PhySimDummy.input(x.ChargingStationId, sum(x.ChBaPower), x.BtmsPower, timestep)\n",
    "        DermsDummy.input(x.ChargingStationId, x.PowerDesire)\n",
    "\n",
    "    '''for testing'''\n",
    "    if iteration>60:\n",
    "         break\n",
    "    iteration +=1\n",
    "    #if SimBroker.t_act >= 26000:\n",
    "    #    break\n",
    "print(\"number of iterations:\" +str(iteration))\n",
    "    "
   ]
  },
  {
   "cell_type": "code",
   "execution_count": 28,
   "metadata": {},
   "outputs": [
    {
     "name": "stdout",
     "output_type": "stream",
     "text": [
      "41\n",
      "1\n",
      "30\n",
      "30\n"
     ]
    },
    {
     "data": {
      "text/plain": [
       "True"
      ]
     },
     "execution_count": 28,
     "metadata": {},
     "output_type": "execute_result"
    }
   ],
   "source": [
    "# for i in range(0,3):\n",
    "#    print(chargingStations[i].ChBaVehicles)\n",
    "#print(chargingStations[0].ChBaVehicles)\n",
    "print(iteration)\n",
    "print(chargingStations[2].chBaActiveCharges())\n",
    "print(chargingStations[2].ChBaNum)\n",
    "print(len(chargingStations[0].ChBaVehicles))\n",
    "#print(chargingStations[0].Queue[0])\n",
    "#chargingStations[0].ChBaParkingZoneId"
   ]
  },
  {
   "cell_type": "markdown",
   "metadata": {},
   "source": [
    "#### sneak peak into results"
   ]
  },
  {
   "cell_type": "code",
   "execution_count": 13,
   "metadata": {},
   "outputs": [
    {
     "data": {
      "text/html": [
       "<div>\n",
       "<style scoped>\n",
       "    .dataframe tbody tr th:only-of-type {\n",
       "        vertical-align: middle;\n",
       "    }\n",
       "\n",
       "    .dataframe tbody tr th {\n",
       "        vertical-align: top;\n",
       "    }\n",
       "\n",
       "    .dataframe thead th {\n",
       "        text-align: right;\n",
       "    }\n",
       "</style>\n",
       "<table border=\"1\" class=\"dataframe\">\n",
       "  <thead>\n",
       "    <tr style=\"text-align: right;\">\n",
       "      <th></th>\n",
       "      <th>time</th>\n",
       "      <th>Event</th>\n",
       "      <th>ChargingStationId</th>\n",
       "      <th>VehicleId</th>\n",
       "      <th>QueueOrBay</th>\n",
       "      <th>ChargingDesire</th>\n",
       "      <th>VehicleType</th>\n",
       "      <th>VehicleArrival</th>\n",
       "      <th>VehicleDesiredEnd</th>\n",
       "      <th>VehicleEnergy</th>\n",
       "      <th>VehicleDesiredEnergy</th>\n",
       "      <th>VehicleSoc</th>\n",
       "      <th>VehicleMaxEnergy</th>\n",
       "      <th>VehicleMaxPower</th>\n",
       "      <th>ChargingBayMaxPower</th>\n",
       "    </tr>\n",
       "  </thead>\n",
       "  <tbody>\n",
       "    <tr>\n",
       "      <th>44</th>\n",
       "      <td>19663</td>\n",
       "      <td>ArrivalEvent</td>\n",
       "      <td>chargingStation-1</td>\n",
       "      <td>2921283</td>\n",
       "      <td></td>\n",
       "      <td>inf</td>\n",
       "      <td>ev-L1-0-to-50000-LowTech-2035-Car-BEV_300</td>\n",
       "      <td>19540</td>\n",
       "      <td>19540</td>\n",
       "      <td>70.027023</td>\n",
       "      <td>70.027023</td>\n",
       "      <td>0.834113</td>\n",
       "      <td>83.953903</td>\n",
       "      <td>150.0</td>\n",
       "      <td>NaN</td>\n",
       "    </tr>\n",
       "    <tr>\n",
       "      <th>50</th>\n",
       "      <td>19663</td>\n",
       "      <td>ReparkEvent</td>\n",
       "      <td>chargingStation-1</td>\n",
       "      <td>2921283</td>\n",
       "      <td>Bay</td>\n",
       "      <td>inf</td>\n",
       "      <td>ev-L1-0-to-50000-LowTech-2035-Car-BEV_300</td>\n",
       "      <td>19540</td>\n",
       "      <td>19540</td>\n",
       "      <td>70.027023</td>\n",
       "      <td>70.027023</td>\n",
       "      <td>0.834113</td>\n",
       "      <td>83.953903</td>\n",
       "      <td>150.0</td>\n",
       "      <td>250.0</td>\n",
       "    </tr>\n",
       "    <tr>\n",
       "      <th>58</th>\n",
       "      <td>19663</td>\n",
       "      <td>ReleaseEvent</td>\n",
       "      <td>chargingStation-1</td>\n",
       "      <td>2921283</td>\n",
       "      <td></td>\n",
       "      <td>NaN</td>\n",
       "      <td>ev-L1-0-to-50000-LowTech-2035-Car-BEV_300</td>\n",
       "      <td>19540</td>\n",
       "      <td>19540</td>\n",
       "      <td>70.027023</td>\n",
       "      <td>70.027023</td>\n",
       "      <td>0.834113</td>\n",
       "      <td>83.953903</td>\n",
       "      <td>150.0</td>\n",
       "      <td>NaN</td>\n",
       "    </tr>\n",
       "  </tbody>\n",
       "</table>\n",
       "</div>"
      ],
      "text/plain": [
       "     time         Event  ChargingStationId VehicleId QueueOrBay  \\\n",
       "44  19663  ArrivalEvent  chargingStation-1   2921283              \n",
       "50  19663   ReparkEvent  chargingStation-1   2921283        Bay   \n",
       "58  19663  ReleaseEvent  chargingStation-1   2921283              \n",
       "\n",
       "    ChargingDesire                                VehicleType VehicleArrival  \\\n",
       "44             inf  ev-L1-0-to-50000-LowTech-2035-Car-BEV_300          19540   \n",
       "50             inf  ev-L1-0-to-50000-LowTech-2035-Car-BEV_300          19540   \n",
       "58             NaN  ev-L1-0-to-50000-LowTech-2035-Car-BEV_300          19540   \n",
       "\n",
       "   VehicleDesiredEnd  VehicleEnergy  VehicleDesiredEnergy  VehicleSoc  \\\n",
       "44             19540      70.027023             70.027023    0.834113   \n",
       "50             19540      70.027023             70.027023    0.834113   \n",
       "58             19540      70.027023             70.027023    0.834113   \n",
       "\n",
       "    VehicleMaxEnergy  VehicleMaxPower  ChargingBayMaxPower  \n",
       "44         83.953903            150.0                  NaN  \n",
       "50         83.953903            150.0                250.0  \n",
       "58         83.953903            150.0                  NaN  "
      ]
     },
     "execution_count": 13,
     "metadata": {},
     "output_type": "execute_result"
    }
   ],
   "source": [
    "VehicleEvents = ResultWriter.Events.loc[ResultWriter.Events.VehicleId == 2921283]\n",
    "VehicleEvents.head(3)"
   ]
  },
  {
   "cell_type": "code",
   "execution_count": 14,
   "metadata": {},
   "outputs": [
    {
     "data": {
      "image/png": "[encoded data removed]",
      "text/plain": [
       "<Figure size 432x288 with 1 Axes>"
      ]
     },
     "metadata": {
      "needs_background": "light"
     },
     "output_type": "display_data"
    }
   ],
   "source": [
    "df = ResultWriter.ChargingStationStates\n",
    "df1 = df.loc[df.ChargingStationID == \"chargingStation-1\"]\n",
    "#df1\n",
    "fig = plt.plot(df1.BtmsPower + df1.TotalChargingPower)"
   ]
  },
  {
   "cell_type": "code",
   "execution_count": 15,
   "metadata": {},
   "outputs": [
    {
     "data": {
      "text/html": [
       "<div>\n",
       "<style scoped>\n",
       "    .dataframe tbody tr th:only-of-type {\n",
       "        vertical-align: middle;\n",
       "    }\n",
       "\n",
       "    .dataframe tbody tr th {\n",
       "        vertical-align: top;\n",
       "    }\n",
       "\n",
       "    .dataframe thead th {\n",
       "        text-align: right;\n",
       "    }\n",
       "</style>\n",
       "<table border=\"1\" class=\"dataframe\">\n",
       "  <thead>\n",
       "    <tr style=\"text-align: right;\">\n",
       "      <th></th>\n",
       "      <th>time</th>\n",
       "      <th>ChargingStationID</th>\n",
       "      <th>BaysVehicleIds</th>\n",
       "      <th>BaysChargingPower</th>\n",
       "      <th>TotalChargingPower</th>\n",
       "      <th>BaysChargingDesire</th>\n",
       "      <th>BaysNumberOfVehicles</th>\n",
       "      <th>QueueVehicleIds</th>\n",
       "      <th>QueueChargingDesire</th>\n",
       "      <th>QueueNumberOfVehicles</th>\n",
       "      <th>BtmsPower</th>\n",
       "      <th>BtmsSoc</th>\n",
       "      <th>BtmsEnergy</th>\n",
       "      <th>TotalChargingPowerDesire</th>\n",
       "      <th>GridPowerUpper</th>\n",
       "      <th>GridPowerLower</th>\n",
       "      <th>PowerDesire</th>\n",
       "      <th>BtmsPowerDesire</th>\n",
       "      <th>EnergyLagSum</th>\n",
       "      <th>TimeLagSum</th>\n",
       "    </tr>\n",
       "  </thead>\n",
       "  <tbody>\n",
       "    <tr>\n",
       "      <th>0</th>\n",
       "      <td>18463</td>\n",
       "      <td>chargingStation-1</td>\n",
       "      <td>[5270466, 3256681, 1545605]</td>\n",
       "      <td>[0, 0, 174.49999999999997, 0, 0, 0, 0, 0, 0, 0...</td>\n",
       "      <td>174.5</td>\n",
       "      <td>[inf, inf, 0.4034682080924855, nan, nan, nan, ...</td>\n",
       "      <td>3</td>\n",
       "      <td>[]</td>\n",
       "      <td>[]</td>\n",
       "      <td>0</td>\n",
       "      <td>2621.250911</td>\n",
       "      <td>0.558250</td>\n",
       "      <td>2093.437576</td>\n",
       "      <td>0</td>\n",
       "      <td>2795.750911</td>\n",
       "      <td>-2795.750911</td>\n",
       "      <td>0</td>\n",
       "      <td>3750.0</td>\n",
       "      <td>9.125</td>\n",
       "      <td>-219</td>\n",
       "    </tr>\n",
       "    <tr>\n",
       "      <th>1</th>\n",
       "      <td>18463</td>\n",
       "      <td>chargingStation-2</td>\n",
       "      <td>[]</td>\n",
       "      <td>[0, 0, 0, 0, 0, 0, 0, 0, 0, 0, 0, 0, 0, 0, 0, ...</td>\n",
       "      <td>0.0</td>\n",
       "      <td>[nan, nan, nan, nan, nan, nan, nan, nan, nan, ...</td>\n",
       "      <td>0</td>\n",
       "      <td>[]</td>\n",
       "      <td>[]</td>\n",
       "      <td>0</td>\n",
       "      <td>2590.806034</td>\n",
       "      <td>0.557573</td>\n",
       "      <td>2090.900503</td>\n",
       "      <td>0</td>\n",
       "      <td>2590.806034</td>\n",
       "      <td>-2590.806034</td>\n",
       "      <td>0</td>\n",
       "      <td>3750.0</td>\n",
       "      <td>0.000</td>\n",
       "      <td>0</td>\n",
       "    </tr>\n",
       "    <tr>\n",
       "      <th>2</th>\n",
       "      <td>18463</td>\n",
       "      <td>chargingStation-3</td>\n",
       "      <td>[]</td>\n",
       "      <td>[0, 0, 0, 0, 0, 0, 0, 0, 0, 0, 0, 0, 0, 0, 0, ...</td>\n",
       "      <td>0.0</td>\n",
       "      <td>[nan, nan, nan, nan, nan, nan, nan, nan, nan, ...</td>\n",
       "      <td>0</td>\n",
       "      <td>[]</td>\n",
       "      <td>[]</td>\n",
       "      <td>0</td>\n",
       "      <td>2789.985208</td>\n",
       "      <td>0.562000</td>\n",
       "      <td>2107.498767</td>\n",
       "      <td>0</td>\n",
       "      <td>2789.985208</td>\n",
       "      <td>-2789.985208</td>\n",
       "      <td>0</td>\n",
       "      <td>3750.0</td>\n",
       "      <td>0.000</td>\n",
       "      <td>0</td>\n",
       "    </tr>\n",
       "    <tr>\n",
       "      <th>3</th>\n",
       "      <td>18763</td>\n",
       "      <td>chargingStation-1</td>\n",
       "      <td>[]</td>\n",
       "      <td>[0, 0, 0, 0, 0, 0, 0, 0, 0, 0, 0, 0, 0, 0, 0, ...</td>\n",
       "      <td>0.0</td>\n",
       "      <td>[nan, nan, nan, nan, nan, nan, nan, nan, nan, ...</td>\n",
       "      <td>0</td>\n",
       "      <td>[]</td>\n",
       "      <td>[]</td>\n",
       "      <td>0</td>\n",
       "      <td>2582.701127</td>\n",
       "      <td>0.615643</td>\n",
       "      <td>2308.662670</td>\n",
       "      <td>0</td>\n",
       "      <td>2582.701127</td>\n",
       "      <td>-2582.701127</td>\n",
       "      <td>0</td>\n",
       "      <td>3750.0</td>\n",
       "      <td>0.000</td>\n",
       "      <td>0</td>\n",
       "    </tr>\n",
       "    <tr>\n",
       "      <th>4</th>\n",
       "      <td>18763</td>\n",
       "      <td>chargingStation-2</td>\n",
       "      <td>[]</td>\n",
       "      <td>[0, 0, 0, 0, 0, 0, 0, 0, 0, 0, 0, 0, 0, 0, 0, ...</td>\n",
       "      <td>0.0</td>\n",
       "      <td>[nan, nan, nan, nan, nan, nan, nan, nan, nan, ...</td>\n",
       "      <td>0</td>\n",
       "      <td>[]</td>\n",
       "      <td>[]</td>\n",
       "      <td>0</td>\n",
       "      <td>2836.545418</td>\n",
       "      <td>0.620608</td>\n",
       "      <td>2327.279288</td>\n",
       "      <td>0</td>\n",
       "      <td>2836.545418</td>\n",
       "      <td>-2836.545418</td>\n",
       "      <td>0</td>\n",
       "      <td>3750.0</td>\n",
       "      <td>0.000</td>\n",
       "      <td>0</td>\n",
       "    </tr>\n",
       "  </tbody>\n",
       "</table>\n",
       "</div>"
      ],
      "text/plain": [
       "    time  ChargingStationID               BaysVehicleIds  \\\n",
       "0  18463  chargingStation-1  [5270466, 3256681, 1545605]   \n",
       "1  18463  chargingStation-2                           []   \n",
       "2  18463  chargingStation-3                           []   \n",
       "3  18763  chargingStation-1                           []   \n",
       "4  18763  chargingStation-2                           []   \n",
       "\n",
       "                                   BaysChargingPower  TotalChargingPower  \\\n",
       "0  [0, 0, 174.49999999999997, 0, 0, 0, 0, 0, 0, 0...               174.5   \n",
       "1  [0, 0, 0, 0, 0, 0, 0, 0, 0, 0, 0, 0, 0, 0, 0, ...                 0.0   \n",
       "2  [0, 0, 0, 0, 0, 0, 0, 0, 0, 0, 0, 0, 0, 0, 0, ...                 0.0   \n",
       "3  [0, 0, 0, 0, 0, 0, 0, 0, 0, 0, 0, 0, 0, 0, 0, ...                 0.0   \n",
       "4  [0, 0, 0, 0, 0, 0, 0, 0, 0, 0, 0, 0, 0, 0, 0, ...                 0.0   \n",
       "\n",
       "                                  BaysChargingDesire BaysNumberOfVehicles  \\\n",
       "0  [inf, inf, 0.4034682080924855, nan, nan, nan, ...                    3   \n",
       "1  [nan, nan, nan, nan, nan, nan, nan, nan, nan, ...                    0   \n",
       "2  [nan, nan, nan, nan, nan, nan, nan, nan, nan, ...                    0   \n",
       "3  [nan, nan, nan, nan, nan, nan, nan, nan, nan, ...                    0   \n",
       "4  [nan, nan, nan, nan, nan, nan, nan, nan, nan, ...                    0   \n",
       "\n",
       "  QueueVehicleIds QueueChargingDesire QueueNumberOfVehicles    BtmsPower  \\\n",
       "0              []                  []                     0  2621.250911   \n",
       "1              []                  []                     0  2590.806034   \n",
       "2              []                  []                     0  2789.985208   \n",
       "3              []                  []                     0  2582.701127   \n",
       "4              []                  []                     0  2836.545418   \n",
       "\n",
       "    BtmsSoc   BtmsEnergy TotalChargingPowerDesire  GridPowerUpper  \\\n",
       "0  0.558250  2093.437576                        0     2795.750911   \n",
       "1  0.557573  2090.900503                        0     2590.806034   \n",
       "2  0.562000  2107.498767                        0     2789.985208   \n",
       "3  0.615643  2308.662670                        0     2582.701127   \n",
       "4  0.620608  2327.279288                        0     2836.545418   \n",
       "\n",
       "   GridPowerLower PowerDesire  BtmsPowerDesire  EnergyLagSum TimeLagSum  \n",
       "0    -2795.750911           0           3750.0         9.125       -219  \n",
       "1    -2590.806034           0           3750.0         0.000          0  \n",
       "2    -2789.985208           0           3750.0         0.000          0  \n",
       "3    -2582.701127           0           3750.0         0.000          0  \n",
       "4    -2836.545418           0           3750.0         0.000          0  "
      ]
     },
     "execution_count": 15,
     "metadata": {},
     "output_type": "execute_result"
    }
   ],
   "source": [
    "df3 = ResultWriter.ChargingStationStates\n",
    "df3.head(5)"
   ]
  },
  {
   "cell_type": "code",
   "execution_count": 16,
   "metadata": {},
   "outputs": [
    {
     "data": {
      "text/html": [
       "<div>\n",
       "<style scoped>\n",
       "    .dataframe tbody tr th:only-of-type {\n",
       "        vertical-align: middle;\n",
       "    }\n",
       "\n",
       "    .dataframe tbody tr th {\n",
       "        vertical-align: top;\n",
       "    }\n",
       "\n",
       "    .dataframe thead th {\n",
       "        text-align: right;\n",
       "    }\n",
       "</style>\n",
       "<table border=\"1\" class=\"dataframe\">\n",
       "  <thead>\n",
       "    <tr style=\"text-align: right;\">\n",
       "      <th></th>\n",
       "      <th>time</th>\n",
       "      <th>Event</th>\n",
       "      <th>ChargingStationId</th>\n",
       "      <th>VehicleId</th>\n",
       "      <th>QueueOrBay</th>\n",
       "      <th>ChargingDesire</th>\n",
       "      <th>VehicleType</th>\n",
       "      <th>VehicleArrival</th>\n",
       "      <th>VehicleDesiredEnd</th>\n",
       "      <th>VehicleEnergy</th>\n",
       "      <th>VehicleDesiredEnergy</th>\n",
       "      <th>VehicleSoc</th>\n",
       "      <th>VehicleMaxEnergy</th>\n",
       "      <th>VehicleMaxPower</th>\n",
       "      <th>ChargingBayMaxPower</th>\n",
       "    </tr>\n",
       "  </thead>\n",
       "  <tbody>\n",
       "    <tr>\n",
       "      <th>0</th>\n",
       "      <td>18463</td>\n",
       "      <td>ArrivalEvent</td>\n",
       "      <td>chargingStation-1</td>\n",
       "      <td>5270466</td>\n",
       "      <td></td>\n",
       "      <td>inf</td>\n",
       "      <td>ev-L1-0-to-50000-LowTech-2035-SUV-BEV_300_XFC</td>\n",
       "      <td>18163</td>\n",
       "      <td>18163</td>\n",
       "      <td>70.439238</td>\n",
       "      <td>70.439238</td>\n",
       "      <td>0.839023</td>\n",
       "      <td>83.953903</td>\n",
       "      <td>400.0</td>\n",
       "      <td>NaN</td>\n",
       "    </tr>\n",
       "    <tr>\n",
       "      <th>1</th>\n",
       "      <td>18463</td>\n",
       "      <td>ArrivalEvent</td>\n",
       "      <td>chargingStation-1</td>\n",
       "      <td>3256681</td>\n",
       "      <td></td>\n",
       "      <td>inf</td>\n",
       "      <td>ev-L1-0-to-50000-LowTech-2035-Car-BEV_200</td>\n",
       "      <td>18406</td>\n",
       "      <td>18406</td>\n",
       "      <td>46.803395</td>\n",
       "      <td>46.803395</td>\n",
       "      <td>0.836234</td>\n",
       "      <td>55.969269</td>\n",
       "      <td>150.0</td>\n",
       "      <td>NaN</td>\n",
       "    </tr>\n",
       "    <tr>\n",
       "      <th>2</th>\n",
       "      <td>18463</td>\n",
       "      <td>ArrivalEvent</td>\n",
       "      <td>chargingStation-1</td>\n",
       "      <td>1545605</td>\n",
       "      <td></td>\n",
       "      <td>0.403468</td>\n",
       "      <td>ev-L1-0-to-50000-LowTech-2035-Car-BEV_300_XFC</td>\n",
       "      <td>18633</td>\n",
       "      <td>18982</td>\n",
       "      <td>32.123079</td>\n",
       "      <td>46.664746</td>\n",
       "      <td>0.382628</td>\n",
       "      <td>83.953903</td>\n",
       "      <td>400.0</td>\n",
       "      <td>NaN</td>\n",
       "    </tr>\n",
       "  </tbody>\n",
       "</table>\n",
       "</div>"
      ],
      "text/plain": [
       "    time         Event  ChargingStationId VehicleId QueueOrBay  \\\n",
       "0  18463  ArrivalEvent  chargingStation-1   5270466              \n",
       "1  18463  ArrivalEvent  chargingStation-1   3256681              \n",
       "2  18463  ArrivalEvent  chargingStation-1   1545605              \n",
       "\n",
       "   ChargingDesire                                    VehicleType  \\\n",
       "0             inf  ev-L1-0-to-50000-LowTech-2035-SUV-BEV_300_XFC   \n",
       "1             inf      ev-L1-0-to-50000-LowTech-2035-Car-BEV_200   \n",
       "2        0.403468  ev-L1-0-to-50000-LowTech-2035-Car-BEV_300_XFC   \n",
       "\n",
       "  VehicleArrival VehicleDesiredEnd  VehicleEnergy  VehicleDesiredEnergy  \\\n",
       "0          18163             18163      70.439238             70.439238   \n",
       "1          18406             18406      46.803395             46.803395   \n",
       "2          18633             18982      32.123079             46.664746   \n",
       "\n",
       "   VehicleSoc  VehicleMaxEnergy  VehicleMaxPower  ChargingBayMaxPower  \n",
       "0    0.839023         83.953903            400.0                  NaN  \n",
       "1    0.836234         55.969269            150.0                  NaN  \n",
       "2    0.382628         83.953903            400.0                  NaN  "
      ]
     },
     "execution_count": 16,
     "metadata": {},
     "output_type": "execute_result"
    }
   ],
   "source": [
    "df2=ResultWriter.Events\n",
    "df2 = df2.loc[df2.ChargingStationId =='chargingStation-1']\n",
    "df2.head(3)"
   ]
  },
  {
   "cell_type": "code",
   "execution_count": 17,
   "metadata": {},
   "outputs": [
    {
     "data": {
      "text/html": [
       "<div>\n",
       "<style scoped>\n",
       "    .dataframe tbody tr th:only-of-type {\n",
       "        vertical-align: middle;\n",
       "    }\n",
       "\n",
       "    .dataframe tbody tr th {\n",
       "        vertical-align: top;\n",
       "    }\n",
       "\n",
       "    .dataframe thead th {\n",
       "        text-align: right;\n",
       "    }\n",
       "</style>\n",
       "<table border=\"1\" class=\"dataframe\">\n",
       "  <thead>\n",
       "    <tr style=\"text-align: right;\">\n",
       "      <th></th>\n",
       "      <th>ChargingStationId</th>\n",
       "      <th>BtmsSize</th>\n",
       "      <th>BtmsC</th>\n",
       "      <th>BtmsMaxPower</th>\n",
       "      <th>BtmsMaxSoc</th>\n",
       "      <th>BtmsMinSoc</th>\n",
       "      <th>ChBaNum</th>\n",
       "      <th>ChBaMaxPower</th>\n",
       "      <th>ChBaMaxPower_abs</th>\n",
       "      <th>ChBaParkingZoneId</th>\n",
       "      <th>GridPowerMax_Nom</th>\n",
       "    </tr>\n",
       "  </thead>\n",
       "  <tbody>\n",
       "    <tr>\n",
       "      <th>0</th>\n",
       "      <td>chargingStation-1</td>\n",
       "      <td>3750.0</td>\n",
       "      <td>1</td>\n",
       "      <td>3750.0</td>\n",
       "      <td>0.8</td>\n",
       "      <td>0.2</td>\n",
       "      <td>30</td>\n",
       "      <td>[250.0, 250.0, 250.0, 250.0, 250.0, 250.0, 250...</td>\n",
       "      <td>250.0</td>\n",
       "      <td>[X-PEV-9-1, X-PEV-11-1, X-PEV-12-1, X-PEV-21-1...</td>\n",
       "      <td>2625.0</td>\n",
       "    </tr>\n",
       "    <tr>\n",
       "      <th>1</th>\n",
       "      <td>chargingStation-2</td>\n",
       "      <td>3750.0</td>\n",
       "      <td>1</td>\n",
       "      <td>3750.0</td>\n",
       "      <td>0.8</td>\n",
       "      <td>0.2</td>\n",
       "      <td>30</td>\n",
       "      <td>[250.0, 250.0, 250.0, 250.0, 250.0, 250.0, 250...</td>\n",
       "      <td>250.0</td>\n",
       "      <td>[AO-PEV-947-2425, AO-PEV-947-2426, AO-PEV-947-...</td>\n",
       "      <td>2625.0</td>\n",
       "    </tr>\n",
       "    <tr>\n",
       "      <th>2</th>\n",
       "      <td>chargingStation-3</td>\n",
       "      <td>3750.0</td>\n",
       "      <td>1</td>\n",
       "      <td>3750.0</td>\n",
       "      <td>0.8</td>\n",
       "      <td>0.2</td>\n",
       "      <td>30</td>\n",
       "      <td>[250.0, 250.0, 250.0, 250.0, 250.0, 250.0, 250...</td>\n",
       "      <td>250.0</td>\n",
       "      <td>[AO-PEV-979-8367, AO-PEV-979-8368, AO-PEV-979-...</td>\n",
       "      <td>2625.0</td>\n",
       "    </tr>\n",
       "  </tbody>\n",
       "</table>\n",
       "</div>"
      ],
      "text/plain": [
       "   ChargingStationId  BtmsSize BtmsC  BtmsMaxPower  BtmsMaxSoc  BtmsMinSoc  \\\n",
       "0  chargingStation-1    3750.0     1        3750.0         0.8         0.2   \n",
       "1  chargingStation-2    3750.0     1        3750.0         0.8         0.2   \n",
       "2  chargingStation-3    3750.0     1        3750.0         0.8         0.2   \n",
       "\n",
       "  ChBaNum                                       ChBaMaxPower  \\\n",
       "0      30  [250.0, 250.0, 250.0, 250.0, 250.0, 250.0, 250...   \n",
       "1      30  [250.0, 250.0, 250.0, 250.0, 250.0, 250.0, 250...   \n",
       "2      30  [250.0, 250.0, 250.0, 250.0, 250.0, 250.0, 250...   \n",
       "\n",
       "   ChBaMaxPower_abs                                  ChBaParkingZoneId  \\\n",
       "0             250.0  [X-PEV-9-1, X-PEV-11-1, X-PEV-12-1, X-PEV-21-1...   \n",
       "1             250.0  [AO-PEV-947-2425, AO-PEV-947-2426, AO-PEV-947-...   \n",
       "2             250.0  [AO-PEV-979-8367, AO-PEV-979-8368, AO-PEV-979-...   \n",
       "\n",
       "   GridPowerMax_Nom  \n",
       "0            2625.0  \n",
       "1            2625.0  \n",
       "2            2625.0  "
      ]
     },
     "execution_count": 17,
     "metadata": {},
     "output_type": "execute_result"
    }
   ],
   "source": [
    "ResultWriter.chargingStationProperties"
   ]
  },
  {
   "cell_type": "markdown",
   "metadata": {},
   "source": [
    "#### save results"
   ]
  },
  {
   "cell_type": "code",
   "execution_count": 18,
   "metadata": {},
   "outputs": [],
   "source": [
    "ResultWriter.save()"
   ]
  },
  {
   "cell_type": "markdown",
   "metadata": {},
   "source": [
    "#### plot results"
   ]
  },
  {
   "cell_type": "code",
   "execution_count": 19,
   "metadata": {},
   "outputs": [
    {
     "name": "stdout",
     "output_type": "stream",
     "text": [
      "delta t: 1151 delta E:10.458333333333343\n",
      "-10.458333333333343\n",
      "delta t: 940 delta E:14.166666666666668\n",
      "-14.166666666666668\n",
      "delta t: 1054 delta E:6.416666666666671\n",
      "-6.416666666666671\n",
      "delta t: 903 delta E:0.125\n",
      "-0.125\n",
      "delta t: 1172 delta E:7.166666666666671\n",
      "-7.166666666666671\n",
      "delta t: 755 delta E:6.458333333333329\n",
      "-6.458333333333329\n",
      "delta t: 1151 delta E:6.291666666666671\n",
      "-6.291666666666671\n",
      "delta t: 1202 delta E:12.583333333333336\n",
      "-12.583333333333336\n",
      "delta t: 1113 delta E:8.875\n",
      "-8.875\n",
      "delta t: 1227 delta E:13.625\n",
      "-13.625\n",
      "delta t: 1237 delta E:26.541666666666664\n",
      "-26.541666666666664\n",
      "delta t: 813 delta E:8.874999999999993\n",
      "-8.874999999999993\n",
      "delta t: 969 delta E:19.541666666666664\n",
      "-19.541666666666664\n",
      "delta t: 418 delta E:4.916666666666664\n",
      "-4.916666666666664\n",
      "delta t: 502 delta E:0.0833333333333286\n",
      "-0.0833333333333286\n",
      "delta t: 934 delta E:18.08333333333333\n",
      "-18.08333333333333\n",
      "delta t: 867 delta E:23.624999999999996\n",
      "-23.624999999999996\n",
      "delta t: 1143 delta E:35.125\n",
      "-35.125\n",
      "delta t: 662 delta E:15.083333333333329\n",
      "-15.083333333333329\n",
      "delta t: 718 delta E:4.916666666666664\n",
      "-4.916666666666664\n",
      "delta t: 516 delta E:21.500000000000007\n",
      "-21.500000000000007\n",
      "delta t: 298 delta E:12.416666666666664\n",
      "-12.416666666666664\n",
      "delta t: 982 delta E:40.91666666666666\n",
      "-40.91666666666666\n",
      "delta t: 119 delta E:4.958333333333329\n",
      "-4.958333333333329\n",
      "delta t: 919 delta E:38.29166666666667\n",
      "-38.29166666666667\n",
      "delta t: 1025 delta E:42.70833333333333\n",
      "-42.70833333333333\n",
      "delta t: 588 delta E:24.5\n",
      "-24.5\n",
      "delta t: 1263 delta E:52.625\n",
      "-52.625\n",
      "delta t: 426 delta E:17.750000000000007\n",
      "-17.750000000000007\n",
      "delta t: 79 delta E:1.75\n",
      "-1.75\n",
      "delta t: 1219 delta E:50.791666666666664\n",
      "-50.791666666666664\n",
      "delta t: 762 delta E:31.749999999999993\n",
      "-31.749999999999993\n",
      "delta t: 92 delta E:3.8333333333333335\n",
      "-3.8333333333333335\n",
      "delta t: 529 delta E:9.541666666666666\n",
      "-9.541666666666666\n",
      "delta t: 995 delta E:28.958333333333336\n",
      "-28.958333333333336\n",
      "delta t: 484 delta E:7.666666666666671\n",
      "-7.666666666666671\n",
      "delta t: 1113 delta E:33.87500000000001\n",
      "-33.87500000000001\n",
      "delta t: 491 delta E:20.45833333333333\n",
      "-20.45833333333333\n",
      "delta t: 731 delta E:30.458333333333336\n",
      "-30.458333333333336\n",
      "delta t: 720 delta E:30.000000000000007\n",
      "-30.000000000000007\n",
      "delta t: 70 delta E:2.9166666666666714\n",
      "-2.9166666666666714\n",
      "delta t: 1186 delta E:49.41666666666667\n",
      "-49.41666666666667\n",
      "delta t: 479 delta E:19.958333333333336\n",
      "-19.958333333333336\n",
      "delta t: 336 delta E:14.0\n",
      "-14.0\n",
      "delta t: 191 delta E:7.958333333333336\n",
      "-7.958333333333336\n",
      "delta t: 510 delta E:21.250000000000007\n",
      "-21.250000000000007\n",
      "delta t: 722 delta E:30.08333333333333\n",
      "-30.08333333333333\n",
      "delta t: 1122 delta E:46.75\n",
      "-46.75\n",
      "delta t: 151 delta E:6.291666666666671\n",
      "-6.291666666666671\n",
      "delta t: 689 delta E:28.708333333333332\n",
      "-28.708333333333332\n",
      "delta t: 585 delta E:11.875000000000007\n",
      "-11.875000000000007\n",
      "delta t: 468 delta E:7.0\n",
      "-7.0\n",
      "delta t: 225 delta E:9.375\n",
      "-9.375\n",
      "delta t: 920 delta E:38.33333333333333\n",
      "-38.33333333333333\n",
      "delta t: 607 delta E:25.29166666666667\n",
      "-25.29166666666667\n",
      "delta t: 1245 delta E:51.87499999999999\n",
      "-51.87499999999999\n",
      "delta t: 193 delta E:8.041666666666666\n",
      "-8.041666666666666\n",
      "delta t: 205 delta E:8.541666666666671\n",
      "-8.541666666666671\n",
      "delta t: 60 delta E:2.5\n",
      "-2.5\n",
      "delta t: 3 delta E:0.125\n",
      "-0.125\n",
      "delta t: 576 delta E:24.0\n",
      "-24.0\n",
      "delta t: 117 delta E:4.875\n",
      "-4.875\n",
      "delta t: 514 delta E:21.41666666666667\n",
      "-21.41666666666667\n",
      "delta t: 463 delta E:19.291666666666664\n",
      "-19.291666666666664\n",
      "delta t: 603 delta E:12.625\n",
      "-12.625\n",
      "delta t: 1023 delta E:42.625\n",
      "-42.625\n",
      "delta t: 339 delta E:14.125\n",
      "-14.125\n",
      "delta t: 398 delta E:16.58333333333333\n",
      "-16.58333333333333\n",
      "delta t: 108 delta E:4.5\n",
      "-4.5\n",
      "delta t: 284 delta E:11.833333333333329\n",
      "-11.833333333333329\n",
      "delta t: 466 delta E:19.416666666666664\n",
      "-19.416666666666664\n",
      "delta t: 47 delta E:1.958333333333333\n",
      "-1.958333333333333\n",
      "delta t: 21 delta E:0.875\n",
      "-0.875\n",
      "delta t: 200 delta E:8.333333333333334\n",
      "-1.8750000000000004\n"
     ]
    }
   ],
   "source": [
    "for y in chargingStations[0].Queue:\n",
    "    print(\"delta t: \" + str(y.VehicleDesEnd-y.VehicleArrival) + \" delta E:\" + str(y.VehicleDesEngy - y.VehicleEngy))\n",
    "    print(y.updateEnergyLag(SimBroker.t_act))"
   ]
  },
  {
   "cell_type": "code",
   "execution_count": 19,
   "metadata": {},
   "outputs": [
    {
     "name": "stdout",
     "output_type": "stream",
     "text": [
      "(637.4999999999999, 3330.375)\n"
     ]
    },
    {
     "data": {
      "image/png": "[encoded data removed]",
      "text/plain": [
       "<Figure size 504x720 with 6 Axes>"
      ]
     },
     "metadata": {
      "needs_background": "light"
     },
     "output_type": "display_data"
    }
   ],
   "source": [
    "import matplotlib.pyplot as plt\n",
    "loadDataFromFile = False\n",
    "plotChargingStation = 0\n",
    "\n",
    "if loadDataFromFile == True:\n",
    "    pass\n",
    "else:\n",
    "    ChSt = ResultWriter.ChargingStationStates.loc[ResultWriter.ChargingStationStates.ChargingStationID == chargingStations[plotChargingStation].ChargingStationId]\n",
    "\n",
    "fig, ax = plt.subplots(4,1, sharex=True)\n",
    "fig.suptitle(chargingStations[plotChargingStation].ChargingStationId)\n",
    "ax[0].step(ChSt.time/3600, ChSt.BaysNumberOfVehicles, label = \"#Vehicles in Charging Bays\")\n",
    "ax[0].step(ChSt.time/3600, ChSt.QueueNumberOfVehicles, label = \"#Vehicles in Queue\")\n",
    "ax[0].legend(loc= 'center left', bbox_to_anchor=(1, 0.5))\n",
    "#ax[0].grid()\n",
    "\n",
    "ax[1].step(ChSt.time/3600, ChSt.GridPowerUpper, label = \"Upper Power Limit [kW]\")\n",
    "ax[1].step(ChSt.time/3600, ChSt.TotalChargingPower, label = \"Total Charging Power [kW]\")\n",
    "ax[1].step(ChSt.time/3600, ChSt.TotalChargingPower + ChSt.BtmsPower, label = \"Net Power [kW]\")\n",
    "#ax[1].step(ChSt.time/3600, ChSt.BtmsPower, label = \"Net Power [kW]\")\n",
    "ax[1].legend(loc= 'center left', bbox_to_anchor=(1, 0.5))\n",
    "#ax[1].grid()\n",
    "\n",
    "ax[2].plot(ChSt.time/3600, ChSt.BtmsEnergy, label = \"BTMS Energy [kWh]\", color = \"blue\")\n",
    "ax[2].set_ylabel(\"BTMS Energy [kWh]\", color = \"blue\")\n",
    "\n",
    "y1=chargingStations[plotChargingStation].BtmsSize*chargingStations[plotChargingStation].BtmsMaxSoc\n",
    "ax[2].axhline(y = y1, linestyle = \"--\", color =\"black\")\n",
    "\n",
    "y2=chargingStations[plotChargingStation].BtmsSize*chargingStations[plotChargingStation].BtmsMinSoc\n",
    "ax[2].axhline(y = y2, linestyle = \"--\", color =\"black\")\n",
    "#ax[2].grid()\n",
    "\n",
    "ylim = ax[2].get_ylim()\n",
    "ax[2].set_ylim([ylim[0], 1.07*ylim[1]])\n",
    "ylim = ax[2].get_ylim()\n",
    "print(ylim)\n",
    "dy = ylim[1]-ylim[0]\n",
    "xlim = ax[2].get_xlim()\n",
    "x = xlim[0]\n",
    "dx = xlim[1]-xlim[0]\n",
    "ax[2].text(x+0.02*dx, y1+0.03*dy, \"max. SOC\")\n",
    "ax[2].text(x+0.02*dx, y2+0.03*dy, \"min. SOC\")\n",
    "\n",
    "ax1 = ax[2].twinx()\n",
    "ax1.step(ChSt.time/3600, ChSt.BtmsPower, label = \"BTMS Power [kW]\", color = \"red\")\n",
    "ax1.set_ylabel(\"BTMS Power [kW]\", color = \"red\")\n",
    "ax1.set_ylim([-chargingStations[plotChargingStation].GridPowerMax_Nom, chargingStations[plotChargingStation].GridPowerMax_Nom])\n",
    "\n",
    "\n",
    "ax[3].plot(ChSt.time/3600, ChSt.EnergyLagSum, label = \"Sum of Energy Lags [kWh]\", color =\"blue\")\n",
    "ax[3].axhline(y = 0, color=\"black\")\n",
    "ax[3].set_ylabel(\"Sum of Energy Lags [kWh]\", color = \"blue\")\n",
    "#ax[3].legend(loc= 'center left', bbox_to_anchor=(1, 0.5))\n",
    "\n",
    "ax2 = ax[3].twinx()\n",
    "ax2.plot(ChSt.time/3600, ChSt.TimeLagSum/60, label= \"Sum of Time Lags [min]\", color = \"red\")\n",
    "ax2.set_ylabel(\"Sum of Time Lags [min]\", color =\"red\")\n",
    "\n",
    "ax[3].set_xlabel(\"time [h]\")\n",
    "\n",
    "fig.set_size_inches(7, 10)\n"
   ]
  }
 ],
 "metadata": {
  "interpreter": {
   "hash": "85c0dbb8a8370b12144789c1d52a926d4fc5a933acd5ac3a4d5d32d721e57c89"
  },
  "kernelspec": {
   "display_name": "Python 3.7.11 ('py_btms_controller')",
   "language": "python",
   "name": "python3"
  },
  "language_info": {
   "codemirror_mode": {
    "name": "ipython",
    "version": 3
   },
   "file_extension": ".py",
   "mimetype": "text/x-python",
   "name": "python",
   "nbconvert_exporter": "python",
   "pygments_lexer": "ipython3",
   "version": "3.7.11"
  },
  "orig_nbformat": 4
 },
 "nbformat": 4,
 "nbformat_minor": 2
}
