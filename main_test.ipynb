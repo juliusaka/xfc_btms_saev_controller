{
 "cells": [
  {
   "cell_type": "code",
   "execution_count": null,
   "metadata": {},
   "outputs": [],
   "source": [
    "import components\n",
    "\n",
    "\n",
    "## initialize charging station (start with one)\n",
    "    \n",
    "\n",
    "## initialize simulation broker\n",
    "\n",
    "\n",
    "## initialize result writer\n",
    "\n",
    "\n",
    "## initialize DERMS\n",
    "\n",
    "\n",
    "## initialize GRID/BTMS"
   ]
  }
 ],
 "metadata": {
  "language_info": {
   "name": "python"
  },
  "orig_nbformat": 4
 },
 "nbformat": 4,
 "nbformat_minor": 2
}
