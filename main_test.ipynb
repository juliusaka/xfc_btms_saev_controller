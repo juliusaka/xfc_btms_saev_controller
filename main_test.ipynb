{
 "cells": [
  {
   "cell_type": "code",
   "execution_count": 1,
   "metadata": {},
   "outputs": [],
   "source": [
    "import components\n",
    "## main parameters\n",
    "ts = 5 * 60         #timestep is 5min\n",
    "\n",
    "## initialize charging station (start with one)\n",
    "    \n",
    "\n",
    "## initialize simulation broker\n",
    "path_Sim = \"test_data/beam1/beam1-0.csv\"\n",
    "dtype_Sim = {\n",
    "       'time': 'int64', 'type': 'category', 'vehicle': 'int64', 'parkingTaz': 'category','chargingPointType': 'category', \n",
    "       'primaryFuelLevel': 'float64', 'mode': 'category', 'currentTourMode': 'category', 'vehicleType': 'category', \n",
    "       'arrivalTime': 'float64', 'departureTime': 'float64', 'linkTravelTime': 'string', 'primaryFuelType': 'category', \n",
    "       'parkingZoneId': 'category','duration': 'float64' \n",
    "        }\n",
    "path_DataBase = \"test_data/vehicleFiles/vehicletypes-Base_2035_20210204_updated.csv\"\n",
    "\n",
    "VehicleGenerator = components.VehicleGenerator(path_Sim, dtype_Sim, path_DataBase)\n",
    "SimBroker = components.SimBroker(path_Sim, dtype_Sim)\n",
    "\n",
    "## initialize result writer\n",
    "\n",
    "## initialize DERMS\n",
    "\n",
    "\n",
    "## initialize GRID/BTMS"
   ]
  },
  {
   "cell_type": "markdown",
   "metadata": {},
   "source": [
    "#### print different dataframes out"
   ]
  },
  {
   "cell_type": "code",
   "execution_count": 4,
   "metadata": {},
   "outputs": [
    {
     "data": {
      "text/plain": [
       "primaryFuelConsumptionInJoulePerMeter      23858.01301\n",
       "primaryFuelCapacityInJoule               30000000000.0\n",
       "chargingCapability                                 NaN\n",
       "Name: BUS-VC, dtype: object"
      ]
     },
     "execution_count": 4,
     "metadata": {},
     "output_type": "execute_result"
    }
   ],
   "source": [
    "df2 = VehicleGenerator.DataBase\n",
    "df2.loc[\"BUS-VC\"]"
   ]
  },
  {
   "cell_type": "code",
   "execution_count": 5,
   "metadata": {},
   "outputs": [
    {
     "data": {
      "text/plain": [
       "'ev-L1-0-to-50000-LowTech-2035-Midsize-BEV_300_XFC'"
      ]
     },
     "execution_count": 5,
     "metadata": {},
     "output_type": "execute_result"
    }
   ],
   "source": [
    "df3 = VehicleGenerator.vehicles\n",
    "df3.loc[2517, \"vehicleType\"]"
   ]
  },
  {
   "cell_type": "code",
   "execution_count": 2,
   "metadata": {},
   "outputs": [
    {
     "data": {
      "text/html": [
       "<div>\n",
       "<style scoped>\n",
       "    .dataframe tbody tr th:only-of-type {\n",
       "        vertical-align: middle;\n",
       "    }\n",
       "\n",
       "    .dataframe tbody tr th {\n",
       "        vertical-align: top;\n",
       "    }\n",
       "\n",
       "    .dataframe thead th {\n",
       "        text-align: right;\n",
       "    }\n",
       "</style>\n",
       "<table border=\"1\" class=\"dataframe\">\n",
       "  <thead>\n",
       "    <tr style=\"text-align: right;\">\n",
       "      <th></th>\n",
       "      <th>type</th>\n",
       "      <th>vehicle</th>\n",
       "      <th>parkingTaz</th>\n",
       "      <th>chargingPointType</th>\n",
       "      <th>primaryFuelLevel</th>\n",
       "      <th>mode</th>\n",
       "      <th>currentTourMode</th>\n",
       "      <th>vehicleType</th>\n",
       "      <th>arrivalTime</th>\n",
       "      <th>departureTime</th>\n",
       "      <th>linkTravelTime</th>\n",
       "      <th>primaryFuelType</th>\n",
       "      <th>parkingZoneId</th>\n",
       "      <th>fuel</th>\n",
       "      <th>duration</th>\n",
       "    </tr>\n",
       "    <tr>\n",
       "      <th>time</th>\n",
       "      <th></th>\n",
       "      <th></th>\n",
       "      <th></th>\n",
       "      <th></th>\n",
       "      <th></th>\n",
       "      <th></th>\n",
       "      <th></th>\n",
       "      <th></th>\n",
       "      <th></th>\n",
       "      <th></th>\n",
       "      <th></th>\n",
       "      <th></th>\n",
       "      <th></th>\n",
       "      <th></th>\n",
       "      <th></th>\n",
       "    </tr>\n",
       "  </thead>\n",
       "  <tbody>\n",
       "    <tr>\n",
       "      <th>18163</th>\n",
       "      <td>RefuelSessionEvent</td>\n",
       "      <td>5270466</td>\n",
       "      <td>530</td>\n",
       "      <td>publicfc(150.0|DC)</td>\n",
       "      <td>NaN</td>\n",
       "      <td>NaN</td>\n",
       "      <td>NaN</td>\n",
       "      <td>ev-L1-0-to-50000-LowTech-2035-SUV-BEV_300_XFC</td>\n",
       "      <td>NaN</td>\n",
       "      <td>NaN</td>\n",
       "      <td>&lt;NA&gt;</td>\n",
       "      <td>NaN</td>\n",
       "      <td>X-PEV-530-1</td>\n",
       "      <td>0.0</td>\n",
       "      <td>0.0</td>\n",
       "    </tr>\n",
       "    <tr>\n",
       "      <th>18163</th>\n",
       "      <td>ChargingPlugOutEvent</td>\n",
       "      <td>5270466</td>\n",
       "      <td>530</td>\n",
       "      <td>publicfc(150.0|DC)</td>\n",
       "      <td>2.535813e+08</td>\n",
       "      <td>NaN</td>\n",
       "      <td>NaN</td>\n",
       "      <td>NaN</td>\n",
       "      <td>NaN</td>\n",
       "      <td>NaN</td>\n",
       "      <td>&lt;NA&gt;</td>\n",
       "      <td>NaN</td>\n",
       "      <td>NaN</td>\n",
       "      <td>NaN</td>\n",
       "      <td>NaN</td>\n",
       "    </tr>\n",
       "    <tr>\n",
       "      <th>18406</th>\n",
       "      <td>ChargingPlugInEvent</td>\n",
       "      <td>3256681</td>\n",
       "      <td>687</td>\n",
       "      <td>publicfc(150.0|DC)</td>\n",
       "      <td>1.684922e+08</td>\n",
       "      <td>NaN</td>\n",
       "      <td>NaN</td>\n",
       "      <td>NaN</td>\n",
       "      <td>NaN</td>\n",
       "      <td>NaN</td>\n",
       "      <td>&lt;NA&gt;</td>\n",
       "      <td>NaN</td>\n",
       "      <td>NaN</td>\n",
       "      <td>NaN</td>\n",
       "      <td>NaN</td>\n",
       "    </tr>\n",
       "    <tr>\n",
       "      <th>18406</th>\n",
       "      <td>RefuelSessionEvent</td>\n",
       "      <td>3256681</td>\n",
       "      <td>687</td>\n",
       "      <td>publicfc(150.0|DC)</td>\n",
       "      <td>NaN</td>\n",
       "      <td>NaN</td>\n",
       "      <td>NaN</td>\n",
       "      <td>ev-L1-0-to-50000-LowTech-2035-Car-BEV_200</td>\n",
       "      <td>NaN</td>\n",
       "      <td>NaN</td>\n",
       "      <td>&lt;NA&gt;</td>\n",
       "      <td>NaN</td>\n",
       "      <td>X-PEV-687-1</td>\n",
       "      <td>0.0</td>\n",
       "      <td>0.0</td>\n",
       "    </tr>\n",
       "    <tr>\n",
       "      <th>18406</th>\n",
       "      <td>ChargingPlugOutEvent</td>\n",
       "      <td>3256681</td>\n",
       "      <td>687</td>\n",
       "      <td>publicfc(150.0|DC)</td>\n",
       "      <td>1.684922e+08</td>\n",
       "      <td>NaN</td>\n",
       "      <td>NaN</td>\n",
       "      <td>NaN</td>\n",
       "      <td>NaN</td>\n",
       "      <td>NaN</td>\n",
       "      <td>&lt;NA&gt;</td>\n",
       "      <td>NaN</td>\n",
       "      <td>NaN</td>\n",
       "      <td>NaN</td>\n",
       "      <td>NaN</td>\n",
       "    </tr>\n",
       "  </tbody>\n",
       "</table>\n",
       "</div>"
      ],
      "text/plain": [
       "                       type  vehicle parkingTaz   chargingPointType  \\\n",
       "time                                                                  \n",
       "18163    RefuelSessionEvent  5270466        530  publicfc(150.0|DC)   \n",
       "18163  ChargingPlugOutEvent  5270466        530  publicfc(150.0|DC)   \n",
       "18406   ChargingPlugInEvent  3256681        687  publicfc(150.0|DC)   \n",
       "18406    RefuelSessionEvent  3256681        687  publicfc(150.0|DC)   \n",
       "18406  ChargingPlugOutEvent  3256681        687  publicfc(150.0|DC)   \n",
       "\n",
       "       primaryFuelLevel mode currentTourMode  \\\n",
       "time                                           \n",
       "18163               NaN  NaN             NaN   \n",
       "18163      2.535813e+08  NaN             NaN   \n",
       "18406      1.684922e+08  NaN             NaN   \n",
       "18406               NaN  NaN             NaN   \n",
       "18406      1.684922e+08  NaN             NaN   \n",
       "\n",
       "                                         vehicleType  arrivalTime  \\\n",
       "time                                                                \n",
       "18163  ev-L1-0-to-50000-LowTech-2035-SUV-BEV_300_XFC          NaN   \n",
       "18163                                            NaN          NaN   \n",
       "18406                                            NaN          NaN   \n",
       "18406      ev-L1-0-to-50000-LowTech-2035-Car-BEV_200          NaN   \n",
       "18406                                            NaN          NaN   \n",
       "\n",
       "       departureTime linkTravelTime primaryFuelType parkingZoneId  fuel  \\\n",
       "time                                                                      \n",
       "18163            NaN           <NA>             NaN   X-PEV-530-1   0.0   \n",
       "18163            NaN           <NA>             NaN           NaN   NaN   \n",
       "18406            NaN           <NA>             NaN           NaN   NaN   \n",
       "18406            NaN           <NA>             NaN   X-PEV-687-1   0.0   \n",
       "18406            NaN           <NA>             NaN           NaN   NaN   \n",
       "\n",
       "       duration  \n",
       "time             \n",
       "18163       0.0  \n",
       "18163       NaN  \n",
       "18406       NaN  \n",
       "18406       0.0  \n",
       "18406       NaN  "
      ]
     },
     "execution_count": 2,
     "metadata": {},
     "output_type": "execute_result"
    }
   ],
   "source": [
    "df1 = SimBroker.step(ts)\n",
    "df1"
   ]
  },
  {
   "cell_type": "code",
   "execution_count": 5,
   "metadata": {},
   "outputs": [
    {
     "name": "stdout",
     "output_type": "stream",
     "text": [
      "Vehicle with the following properties: \n",
      " VehicleId: 3256681 VehicleType: ev-L1-0-to-50000-LowTech-2035-Car-BEV_200 Arrival: 18406 Desired End Time: 0 Vehicle Energy: 46.80339477999824 Desired Energy: 0.0 SOC: 0.8362338066790386 Maximal Energy: 55.96926888888889\n"
     ]
    }
   ],
   "source": [
    "test = df1.iloc[2]\n",
    "\n",
    "v1 = VehicleGenerator.generateVehicle(test)\n",
    "print(v1)"
   ]
  },
  {
   "cell_type": "markdown",
   "metadata": {},
   "source": [
    "#### perform step"
   ]
  },
  {
   "cell_type": "code",
   "execution_count": null,
   "metadata": {},
   "outputs": [],
   "source": [
    "# take df_slice and add all the actions to Beam\n",
    "\n"
   ]
  }
 ],
 "metadata": {
  "interpreter": {
   "hash": "85c0dbb8a8370b12144789c1d52a926d4fc5a933acd5ac3a4d5d32d721e57c89"
  },
  "kernelspec": {
   "display_name": "Python 3.7.11 ('py_btms_controller')",
   "language": "python",
   "name": "python3"
  },
  "language_info": {
   "codemirror_mode": {
    "name": "ipython",
    "version": 3
   },
   "file_extension": ".py",
   "mimetype": "text/x-python",
   "name": "python",
   "nbconvert_exporter": "python",
   "pygments_lexer": "ipython3",
   "version": "3.7.11"
  },
  "orig_nbformat": 4
 },
 "nbformat": 4,
 "nbformat_minor": 2
}
