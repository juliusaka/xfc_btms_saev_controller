{
 "cells": [
  {
   "cell_type": "code",
   "execution_count": 15,
   "metadata": {},
   "outputs": [
    {
     "data": {
      "text/plain": [
       "'c:\\\\Users\\\\akaju\\\\Documents\\\\GitHub\\\\xfc-btms-saev-controller\\\\examples'"
      ]
     },
     "execution_count": 15,
     "metadata": {},
     "output_type": "execute_result"
    }
   ],
   "source": [
    "os.getcwd()"
   ]
  },
  {
   "cell_type": "markdown",
   "metadata": {},
   "source": [
    "import simulation broker and vehicle generator"
   ]
  },
  {
   "cell_type": "code",
   "execution_count": 18,
   "metadata": {},
   "outputs": [],
   "source": [
    "import sys\n",
    "sys.path.append('../')\n",
    "import components\n",
    "import matplotlib.pyplot as plt\n",
    "\n",
    "# simulation broker\n",
    "path_Sim = \"../test_data/beam1/beam1-0.csv\"\n",
    "dtype_Sim = {\n",
    "       'time': 'int64', 'type': 'category', 'vehicle': 'int64', 'parkingTaz': 'category','chargingPointType': 'category', \n",
    "       'primaryFuelLevel': 'float64', 'mode': 'category', 'currentTourMode': 'category', 'vehicleType': 'category', \n",
    "       'arrivalTime': 'float64', 'departureTime': 'float64', 'linkTravelTime': 'string', 'primaryFuelType': 'category', \n",
    "       'parkingZoneId': 'category','duration': 'float64' \n",
    "        }\n",
    "SimBroker = components.SimBroker(path_Sim, dtype_Sim)\n",
    "\n",
    "# vehicle generator\n",
    "path_DataBase = \"../test_data/vehicleFiles/vehicletypes-Base_2035_20210204_updated.csv\"\n",
    "VehicleGenerator = components.VehicleGenerator(path_Sim, dtype_Sim, path_DataBase)"
   ]
  },
  {
   "cell_type": "markdown",
   "metadata": {},
   "source": [
    "set up simulation"
   ]
  },
  {
   "cell_type": "code",
   "execution_count": 65,
   "metadata": {},
   "outputs": [],
   "source": [
    "timestep = 5* 60\n",
    "N = 10\n",
    "SimBroker.reset()\n",
    "i = 0"
   ]
  },
  {
   "cell_type": "markdown",
   "metadata": {},
   "source": [
    "press this to load new timestep"
   ]
  },
  {
   "cell_type": "code",
   "execution_count": 142,
   "metadata": {},
   "outputs": [
    {
     "name": "stdout",
     "output_type": "stream",
     "text": [
      "actual time:  21163\n",
      "Vehicle with the following properties: \n",
      "VehicleId: 6380476 VehicleType: phev-L1-0-to-50000-LowTech-2035-Car-PHEV_25 Arrival: 20935 Desired End Time: 21051 Vehicle Energy: 0.7796114333229484 Desired Energy: 5.612944766656281 SOC: 0.11143421363900904 Maximal Energy: 6.996158611111111 Max Charging Power: 150.0\n"
     ]
    },
    {
     "data": {
      "image/png": "[encoded data removed]",
      "text/plain": [
       "<Figure size 432x288 with 1 Axes>"
      ]
     },
     "metadata": {
      "needs_background": "light"
     },
     "output_type": "display_data"
    }
   ],
   "source": [
    "again = True\n",
    "while again and i< len(slice):\n",
    "    if slice.iloc[i][\"type\"] == \"ChargingPlugInEvent\":\n",
    "        print('actual time: ', SimBroker.t_act)\n",
    "        vehicle = VehicleGenerator.generateVehicleSO(slice.iloc[i])\n",
    "        print(vehicle)\n",
    "        again = False\n",
    "\n",
    "        traj_lower, traj_upper = vehicle.getChargingTrajectoryLower(SimBroker.t_act, timestep, N=N)\n",
    "        plt.plot(traj_lower, label = \"lower\")\n",
    "        plt.plot(traj_upper, label = \"upper\")\n",
    "        plt.legend()\n",
    "    i+=1\n",
    "if i >= len(slice):\n",
    "    slice = SimBroker.step(timestep)\n",
    "    i = 0\n",
    "    print(\"loaded new slice\")\n",
    "    print('actual time: ', SimBroker.t_act)\n",
    "# calculate trajectory"
   ]
  }
 ],
 "metadata": {
  "interpreter": {
   "hash": "9478aa59fb21f09a65f1f155627aebe0f290791ff3152ffe0eaa81705a6b9515"
  },
  "kernelspec": {
   "display_name": "Python 3.7.12 ('py_btms_controller')",
   "language": "python",
   "name": "python3"
  },
  "language_info": {
   "codemirror_mode": {
    "name": "ipython",
    "version": 3
   },
   "file_extension": ".py",
   "mimetype": "text/x-python",
   "name": "python",
   "nbconvert_exporter": "python",
   "pygments_lexer": "ipython3",
   "version": "3.7.12"
  },
  "orig_nbformat": 4
 },
 "nbformat": 4,
 "nbformat_minor": 2
}
